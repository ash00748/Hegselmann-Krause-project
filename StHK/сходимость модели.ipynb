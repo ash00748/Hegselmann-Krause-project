{
 "cells": [
  {
   "cell_type": "code",
   "execution_count": 1,
   "id": "d0b289f7",
   "metadata": {},
   "outputs": [],
   "source": [
    "import numpy as np\n",
    "import math\n",
    "import matplotlib.pyplot as plt\n",
    "import pylab\n",
    "from tqdm import trange\n",
    "import scipy\n",
    "from scipy.stats import bernoulli"
   ]
  },
  {
   "cell_type": "code",
   "execution_count": 2,
   "id": "eb83b213",
   "metadata": {},
   "outputs": [],
   "source": [
    "def is_consensus(x, fix):\n",
    "    res = True\n",
    "    count = 0\n",
    "    for i in range(1, len(x)):\n",
    "        if x[i-1] != x[i]:\n",
    "            count += 1\n",
    "    if count > 2:\n",
    "        res = False\n",
    "    return res\n",
    "def clusters(x0,eps2, fix = {}):\n",
    "    count = [x0[0]]\n",
    "    l=0\n",
    "    for i in range(1,len(x0)):\n",
    "        if i not in fix:\n",
    "            for j in range (len(count)):\n",
    "                if np.abs(x0[i] - count[j])<eps2:\n",
    "                    l+=1\n",
    "            if l==0:\n",
    "                count.append(x0[i])\n",
    "            l=0\n",
    "    return np.array(count)"
   ]
  },
  {
   "cell_type": "code",
   "execution_count": 3,
   "id": "c450994b",
   "metadata": {},
   "outputs": [],
   "source": [
    "def compare (x ,y, eps):\n",
    "    result = 1\n",
    "    for k in range(len(x)):\n",
    "        if abs(x[k] - y[k]) >= eps:\n",
    "            result = 0\n",
    "    return bool(result)\n",
    "\n",
    "def insert_agent(x, ind):\n",
    "    if  ind != 0:\n",
    "        opinion = (x[ind]+x[ind-1])/2\n",
    "    else:\n",
    "        opinion = x[ind]\n",
    "    _X = np.insert(x,ind,opinion)\n",
    "    return _X\n",
    "\n",
    "def new_op(x, i, eps):\n",
    "    count = 1\n",
    "    summ = x[i]\n",
    "    for k in range(len(x)):\n",
    "        if (abs(x[i] - x[k]) < eps) and (i != k):\n",
    "            #print(i, j, x[i], x[j])\n",
    "            summ += x[k]\n",
    "            count += 1\n",
    "    #print(summ, count)\n",
    "    return summ/count\n",
    "\n",
    "def pair_count (x0, fix = {}):\n",
    "    count = [0, 0]\n",
    "    for i in range(len(x0)):\n",
    "        if i not in fix:\n",
    "            if x0[i] >= 0.5:\n",
    "                count[0] += 1\n",
    "            else:\n",
    "                count[1] += 1\n",
    "    #count[0] = count[0]/len(x0)\n",
    "    #count[1] = count[1] / len(x0)\n",
    "    return count\n",
    "\n",
    "def Hen_Kr (x0, eps, eps2,fix, v):\n",
    "    X = [np.array(x0)]\n",
    "    t = 0\n",
    "    while True:\n",
    "        X.append(np.zeros(len(x0)))\n",
    "        t += 1\n",
    "        for j in range(len(x0)):\n",
    "            if j not in fix:\n",
    "                X[t][j] = new_op(X[t - 1], j, eps)\n",
    "            else:\n",
    "                if X[t - 1][j] + v <= 1:\n",
    "                    X[t][j] = X[t - 1][j] + v\n",
    "                else:\n",
    "                    X[t][j] = 1\n",
    "        if compare(X[t], X[t - 1], eps2):\n",
    "            break\n",
    "    return X, t\n",
    "\n",
    "def find_fix(x0):\n",
    "    diff = 1\n",
    "    ind = 0\n",
    "    for j in range (len(x0)):\n",
    "        if (x0[j] - 0.5 < diff) and (x0[j] - 0.5 >= 0):\n",
    "            ind = j\n",
    "            diff = abs(0.5 - x0[j])\n",
    "    return ind"
   ]
  },
  {
   "cell_type": "code",
   "execution_count": 4,
   "id": "daf8bc37",
   "metadata": {},
   "outputs": [],
   "source": [
    "\n",
    "def Hen_Kr_actm2_statistics (x0, eps, eps2,fix, v, prob):\n",
    "    X = [np.array(x0)]\n",
    "    t = 0\n",
    "    consensus_value = 0\n",
    "    consensus_time = 0\n",
    "    consensus_flag = True\n",
    "    pos0_6_time = 0\n",
    "    pos0_6_flag = True\n",
    "    while True:\n",
    "        X.append(np.zeros(len(x0)))\n",
    "        active_mask = bernoulli.rvs(p=prob, size=n)\n",
    "        t += 1\n",
    "        for j in range(len(x0)):\n",
    "            if j not in fix and active_mask[j]==1:\n",
    "                X_prev = np.copy(X[t -1])\n",
    "                X_prev[active_mask==0]=0-2*eps - 2*eps2 \n",
    "                X[t][j] = new_op(X_prev, j, eps)\n",
    "                X[t][active_mask==0]=X[t-1][active_mask==0]\n",
    "            else:\n",
    "                if X[t - 1][j] + v <= 1:\n",
    "                    X[t][j] = X[t - 1][j] + v\n",
    "                else:\n",
    "                    X[t][j] = 1\n",
    "        if consensus_flag:\n",
    "            ctrs = clusters(X[t],eps,fix_control)\n",
    "            if len(ctrs) ==1:\n",
    "                consensus_flag = False\n",
    "                consensus_time = t\n",
    "                consensus_value = X[t][0]\n",
    "        if pos0_6_flag and np.all(X[t]>= 0.6):\n",
    "            pos0_6_time = t\n",
    "            pos0_6_flag = False\n",
    "        if compare(X[t], X[t - 1], eps2):\n",
    "            break\n",
    "    return X, t, consensus_value, consensus_time, pos0_6_time"
   ]
  },
  {
   "cell_type": "code",
   "execution_count": 6,
   "id": "ed4ed49e",
   "metadata": {},
   "outputs": [],
   "source": [
    "eps = 0.2\n",
    "eps2 = 0.001\n",
    "n = 50\n",
    "p = 1"
   ]
  },
  {
   "cell_type": "code",
   "execution_count": 32,
   "id": "2f5f8ced",
   "metadata": {},
   "outputs": [],
   "source": [
    "cons_value_data = np.asarray([])\n",
    "cons_time_data = np.asarray([])\n",
    "positive_time_data = np.asarray([])\n",
    "stop_time_data = np.asarray([])\n",
    "\n",
    "cluster_numbers = np.zeros(n)\n",
    "\n",
    "\n",
    "#cl_rs = np.zeros(n, dtype=object)\n",
    "cl_rs = np.zeros(n, dtype=list)\n",
    "\n",
    "count_experiments = 80000\n",
    "\n",
    "\n",
    "prob=1\n",
    "\n",
    "fix_control = set({})\n",
    "v_c = 0"
   ]
  },
  {
   "cell_type": "code",
   "execution_count": 33,
   "id": "a9cca85b",
   "metadata": {},
   "outputs": [
    {
     "name": "stderr",
     "output_type": "stream",
     "text": [
      "100%|██████████████████████████████████████████████████████████████████████████████| 1000/1000 [00:38<00:00, 25.76it/s]"
     ]
    },
    {
     "name": "stdout",
     "output_type": "stream",
     "text": [
      "Average consensus time: 3.767\n",
      "Average consensus value in consensus time: 0.3578681102039066\n",
      "Average time when consensus reached 0.6: 0.14\n",
      "Average stop time: 6.063\n",
      "Average number of clusters: 20.0\n",
      "[895. 105.   0.   0.   0.   0.   0.   0.   0.   0.   0.   0.   0.   0.\n",
      "   0.   0.   0.   0.   0.   0.   0.   0.   0.   0.   0.   0.   0.   0.\n",
      "   0.   0.   0.   0.   0.   0.   0.   0.   0.   0.   0.   0.   0.   0.\n",
      "   0.   0.   0.   0.   0.   0.   0.   0.]\n",
      "[array([0.        , 0.4785616 , 0.45591218, 0.45969966, 0.42206802,\n",
      "        0.54001042, 0.5305945 , 0.40150191, 0.50571244, 0.56246152,\n",
      "        0.49531779, 0.43907849, 0.57606875, 0.45795856, 0.51363675,\n",
      "        0.54107514, 0.53029869, 0.57745591, 0.40676614, 0.49329447,\n",
      "        0.59356219, 0.49548779, 0.44397363, 0.40311408, 0.50323042,\n",
      "        0.48026045, 0.42643399, 0.48836785, 0.46892246, 0.51279254,\n",
      "        0.48956034, 0.51554701, 0.55737211, 0.38866292, 0.51457921,\n",
      "        0.44380173, 0.45783901, 0.49198662, 0.55122391, 0.5497715 ,\n",
      "        0.50587015, 0.54946083, 0.47702929, 0.4695118 , 0.58295665,\n",
      "        0.46051276, 0.46038103, 0.44887593, 0.54196916, 0.53066718,\n",
      "        0.53998406, 0.42627314, 0.52117638, 0.52734751, 0.51045225,\n",
      "        0.45764057, 0.49560239, 0.46882403, 0.49426633, 0.4325267 ,\n",
      "        0.48574759, 0.53681789, 0.54870734, 0.51724825, 0.58636348,\n",
      "        0.52336041, 0.5235194 , 0.43397657, 0.47886152, 0.4283059 ,\n",
      "        0.47350925, 0.56298417, 0.52314174, 0.5410711 , 0.43187831,\n",
      "        0.55908628, 0.45428774, 0.58472495, 0.57814922, 0.51575846,\n",
      "        0.38892625, 0.48382919, 0.49633784, 0.44316905, 0.527405  ,\n",
      "        0.53949416, 0.53419585, 0.58663473, 0.53873771, 0.54183056,\n",
      "        0.50929467, 0.47570004, 0.47933452, 0.4854569 , 0.52218578,\n",
      "        0.536919  , 0.49011298, 0.52557758, 0.55021849, 0.49794063,\n",
      "        0.48389466, 0.44848496, 0.63832022, 0.53417502, 0.5341275 ,\n",
      "        0.48158438, 0.55394541, 0.46295619, 0.49179279, 0.49306548,\n",
      "        0.55286108, 0.44644196, 0.44111319, 0.48899065, 0.5692498 ,\n",
      "        0.39178278, 0.56740327, 0.47334203, 0.44802294, 0.47664233,\n",
      "        0.48647546, 0.48196867, 0.53201993, 0.51576386, 0.49585405,\n",
      "        0.41649267, 0.53303138, 0.49506172, 0.50711196, 0.37278011,\n",
      "        0.41663879, 0.489288  , 0.45913726, 0.38886127, 0.48267162,\n",
      "        0.47812017, 0.51438154, 0.48511058, 0.56084029, 0.56719237,\n",
      "        0.48286501, 0.45895871, 0.49239216, 0.47909123, 0.50205914,\n",
      "        0.51564193, 0.47567983, 0.54891369, 0.44974811, 0.46630528,\n",
      "        0.46715   , 0.43402497, 0.5232803 , 0.58423809, 0.459236  ,\n",
      "        0.50992359, 0.5056941 , 0.46907778, 0.51347816, 0.45845987,\n",
      "        0.44320527, 0.54425689, 0.60857598, 0.46570949, 0.61999164,\n",
      "        0.49805721, 0.48709865, 0.52609813, 0.58562533, 0.44860215,\n",
      "        0.49526656, 0.47838569, 0.52534499, 0.47695039, 0.59156385,\n",
      "        0.47379541, 0.4792945 , 0.46375842, 0.4885613 , 0.51570606,\n",
      "        0.55209794, 0.51421561, 0.49079459, 0.5062269 , 0.54112102,\n",
      "        0.47629812, 0.46405785, 0.58409153, 0.55953171, 0.51758128,\n",
      "        0.50552815, 0.53601146, 0.47846187, 0.5286349 , 0.46746248,\n",
      "        0.51274177, 0.45585548, 0.62957042, 0.48896588, 0.43859988,\n",
      "        0.52141187, 0.56812293, 0.53454895, 0.51118946, 0.51345608,\n",
      "        0.47766857, 0.58578716, 0.48180548, 0.47703559, 0.49323023,\n",
      "        0.59999229, 0.35127373, 0.57150557, 0.60483544, 0.50647291,\n",
      "        0.52526374, 0.50652731, 0.48536046, 0.57366411, 0.47669734,\n",
      "        0.50570257, 0.50530191, 0.58131414, 0.57158224, 0.49982075,\n",
      "        0.52318157, 0.546994  , 0.493604  , 0.56168671, 0.43915797,\n",
      "        0.49273406, 0.4822927 , 0.5932817 , 0.55449546, 0.48392527,\n",
      "        0.60053529, 0.43126389, 0.50497762, 0.52640461, 0.54137904,\n",
      "        0.55994913, 0.57506727, 0.60391736, 0.45246082, 0.53003276,\n",
      "        0.50718459, 0.47938705, 0.56541816, 0.45307916, 0.52202784,\n",
      "        0.44413772, 0.54026153, 0.47531814, 0.46795873, 0.50031816,\n",
      "        0.59758877, 0.57379848, 0.51255071, 0.53536598, 0.4474986 ,\n",
      "        0.51978576, 0.56441314, 0.51994183, 0.60836261, 0.55284655,\n",
      "        0.53016417, 0.44618138, 0.49181724, 0.58562633, 0.53624739,\n",
      "        0.51773839, 0.50968257, 0.46354911, 0.58015164, 0.45062512,\n",
      "        0.55347196, 0.47755588, 0.43878817, 0.51664032, 0.55175567,\n",
      "        0.52695812, 0.38759533, 0.48970395, 0.50129505, 0.45819746,\n",
      "        0.46296349, 0.41445474, 0.53684298, 0.45540653, 0.49651614,\n",
      "        0.55178394, 0.55786618, 0.48413364, 0.53256987, 0.53377119,\n",
      "        0.48911031, 0.50417488, 0.4823824 , 0.53448298, 0.56177475,\n",
      "        0.49591707, 0.42912412, 0.49853194, 0.49114862, 0.45630544,\n",
      "        0.54997417, 0.52623491, 0.47771939, 0.51981597, 0.54287885,\n",
      "        0.5771591 , 0.54970704, 0.48933012, 0.46822301, 0.56487436,\n",
      "        0.56141464, 0.51473128, 0.51105769, 0.38060128, 0.48170884,\n",
      "        0.54258426, 0.40372967, 0.48706675, 0.55472851, 0.51282999,\n",
      "        0.57614072, 0.48146358, 0.60300652, 0.44083042, 0.48191986,\n",
      "        0.44806806, 0.61540824, 0.51785991, 0.51001406, 0.51147383,\n",
      "        0.46556894, 0.47589468, 0.52244077, 0.4893514 , 0.48797876,\n",
      "        0.45900772, 0.49339408, 0.58295731, 0.48862825, 0.49867507,\n",
      "        0.61672331, 0.57640633, 0.45958017, 0.48103059, 0.52635977,\n",
      "        0.54873774, 0.41941538, 0.50789199, 0.45160901, 0.53064259,\n",
      "        0.55278064, 0.47040165, 0.56522293, 0.54131592, 0.4651346 ,\n",
      "        0.63653339, 0.56476588, 0.49711849, 0.51421318, 0.45322878,\n",
      "        0.48348146, 0.5253087 , 0.45605728, 0.4641605 , 0.57121269,\n",
      "        0.50196748, 0.50136693, 0.44220952, 0.53209682, 0.6016589 ,\n",
      "        0.46231446, 0.52597126, 0.48702809, 0.45490285, 0.45370309,\n",
      "        0.55585894, 0.39988695, 0.49073509, 0.52926099, 0.57484497,\n",
      "        0.50345022, 0.59870793, 0.56505095, 0.45575562, 0.5209207 ,\n",
      "        0.49881269, 0.47842746, 0.52007099, 0.49486825, 0.45144909,\n",
      "        0.43247964, 0.49879043, 0.55665349, 0.45808002, 0.5017227 ,\n",
      "        0.62416978, 0.52824114, 0.48869029, 0.49247471, 0.4994177 ,\n",
      "        0.47929191, 0.48593766, 0.47540754, 0.49106882, 0.44185873,\n",
      "        0.48379211, 0.5417892 , 0.55493531, 0.46342236, 0.52776254,\n",
      "        0.52708123, 0.51500241, 0.43385865, 0.49581791, 0.51144332,\n",
      "        0.51747021, 0.4760599 , 0.55036379, 0.48611123, 0.56116098,\n",
      "        0.55278894, 0.5379924 , 0.42518956, 0.49460439, 0.59590137,\n",
      "        0.51575189, 0.42973481, 0.56349176, 0.56534094, 0.48610131,\n",
      "        0.43092058, 0.46154999, 0.54322306, 0.40485622, 0.46502952,\n",
      "        0.56683518, 0.49496114, 0.5139807 , 0.57262704, 0.51614427,\n",
      "        0.49020086, 0.42314498, 0.53664376, 0.51986766, 0.4726963 ,\n",
      "        0.46101005, 0.48400103, 0.48272877, 0.43506336, 0.51337598,\n",
      "        0.55181934, 0.55857334, 0.46834419, 0.52437766, 0.43981656,\n",
      "        0.48438623, 0.46499129, 0.4935538 , 0.47866229, 0.50731648,\n",
      "        0.54386447, 0.48451726, 0.42645144, 0.40632797, 0.50322939,\n",
      "        0.45749339, 0.5518172 , 0.4635428 , 0.56924355, 0.44816839,\n",
      "        0.3737522 , 0.54639892, 0.5476997 , 0.50496455, 0.47059163,\n",
      "        0.55452693, 0.49499714, 0.51782605, 0.54051892, 0.51568036,\n",
      "        0.5247578 , 0.41349863, 0.60125556, 0.48551868, 0.46321043,\n",
      "        0.50562074, 0.48850925, 0.62057783, 0.52359101, 0.53215893,\n",
      "        0.58655285, 0.48266815, 0.433821  , 0.47500413, 0.51404842,\n",
      "        0.5315414 , 0.47611376, 0.4671202 , 0.45131529, 0.50896042,\n",
      "        0.61021004, 0.51849415, 0.5153968 , 0.58080834, 0.51106685,\n",
      "        0.54775372, 0.59018379, 0.51828548, 0.60163122, 0.44928745,\n",
      "        0.49472739, 0.39862317, 0.46585412, 0.42897151, 0.56799928,\n",
      "        0.53708545, 0.50424747, 0.50592737, 0.5487725 , 0.5421686 ,\n",
      "        0.50127114, 0.4473377 , 0.49788159, 0.44806327, 0.52261105,\n",
      "        0.54144928, 0.48208225, 0.44434784, 0.45757095, 0.42107935,\n",
      "        0.51325736, 0.54079178, 0.50044771, 0.46921145, 0.50666041,\n",
      "        0.46358236, 0.48862291, 0.56984278, 0.51348777, 0.50627119,\n",
      "        0.54705709, 0.41391663, 0.55405482, 0.49630398, 0.45976203,\n",
      "        0.54519318, 0.5216848 , 0.6334776 , 0.55760138, 0.51020657,\n",
      "        0.51561944, 0.56285214, 0.46766139, 0.52220331, 0.51328045,\n",
      "        0.53902164, 0.60298262, 0.47024516, 0.50362738, 0.48295348,\n",
      "        0.47485398, 0.51370802, 0.44947027, 0.49634897, 0.51189865,\n",
      "        0.51724572, 0.46635445, 0.54522298, 0.54424297, 0.51195838,\n",
      "        0.53199644, 0.43226668, 0.51717371, 0.4553337 , 0.41578266,\n",
      "        0.54697179, 0.51871232, 0.47345185, 0.53687787, 0.44877928,\n",
      "        0.48419199, 0.42522572, 0.50830799, 0.54365137, 0.57472477,\n",
      "        0.50313121, 0.46807397, 0.51327752, 0.43271162, 0.51156922,\n",
      "        0.39778463, 0.5208597 , 0.4803349 , 0.44443827, 0.45834769,\n",
      "        0.45273805, 0.50485243, 0.61687361, 0.45672421, 0.42036164,\n",
      "        0.45423528, 0.58418029, 0.60992324, 0.47487473, 0.50392352,\n",
      "        0.53863971, 0.49281702, 0.52098699, 0.54817948, 0.54408858,\n",
      "        0.56596963, 0.51793787, 0.58265313, 0.47295466, 0.49451402,\n",
      "        0.4905854 , 0.50462173, 0.50614271, 0.61408514, 0.38834103,\n",
      "        0.52298921, 0.52000538, 0.43317239, 0.57770507, 0.56181721,\n",
      "        0.48483102, 0.45034703, 0.6102107 , 0.44539837, 0.4584994 ,\n",
      "        0.46716588, 0.56372542, 0.53520258, 0.55272833, 0.50899218,\n",
      "        0.56385629, 0.59177186, 0.68807728, 0.41840691, 0.49804174,\n",
      "        0.5421847 , 0.47755702, 0.40831439, 0.5135478 , 0.55364619,\n",
      "        0.44013872, 0.46936693, 0.5370198 , 0.47820611, 0.48755686,\n",
      "        0.53914046, 0.51668073, 0.44621121, 0.4718988 , 0.49049184,\n",
      "        0.5165472 , 0.48805239, 0.5087929 , 0.57607919, 0.48592538,\n",
      "        0.53264852, 0.60791664, 0.48753957, 0.52166313, 0.42320107,\n",
      "        0.49544516, 0.51616424, 0.47915498, 0.47263221, 0.44736141,\n",
      "        0.50850117, 0.51600152, 0.53994942, 0.48373279, 0.59034307,\n",
      "        0.48650642, 0.50237153, 0.57036943, 0.42591898, 0.50075955,\n",
      "        0.54148525, 0.47415382, 0.431422  , 0.53506357, 0.4799926 ,\n",
      "        0.56489685, 0.566518  , 0.52079859, 0.46804241, 0.46601177,\n",
      "        0.4890638 , 0.51168476, 0.44609281, 0.46510401, 0.50601213,\n",
      "        0.46270546, 0.50992685, 0.42861459, 0.51291249, 0.51135075,\n",
      "        0.52558313, 0.55801033, 0.4778808 , 0.54367534, 0.52354543,\n",
      "        0.50472789, 0.47801752, 0.54552398, 0.49365726, 0.52622974,\n",
      "        0.54256543, 0.54781316, 0.46425572, 0.4981846 , 0.54505163,\n",
      "        0.55725835, 0.48071678, 0.53910817, 0.52455046, 0.58319733,\n",
      "        0.46582834, 0.50089681, 0.44992401, 0.52190498, 0.56733003,\n",
      "        0.53447271, 0.42887935, 0.48102169, 0.44259206, 0.49357114,\n",
      "        0.47398915, 0.50798699, 0.54937664, 0.50865168, 0.48681271,\n",
      "        0.49784765, 0.50042765, 0.51571273, 0.49696386, 0.5705017 ,\n",
      "        0.5121716 , 0.42292019, 0.44693546, 0.47340329, 0.41460927,\n",
      "        0.48364603, 0.46506082, 0.41301558, 0.48038647, 0.45525503,\n",
      "        0.48879369, 0.53670347, 0.46902148, 0.51113708, 0.52645302,\n",
      "        0.46607252, 0.40978388, 0.48802167, 0.50675175, 0.52051419,\n",
      "        0.43813518, 0.46322388, 0.49191692, 0.50584881, 0.50961318,\n",
      "        0.49977672, 0.46691902, 0.53522289, 0.43200667, 0.55428633,\n",
      "        0.4853145 , 0.57040433, 0.57394568, 0.49435307, 0.54100866,\n",
      "        0.55272292, 0.50072092, 0.51849439, 0.56455946, 0.56867985,\n",
      "        0.56463921, 0.47400989, 0.579842  , 0.45832101, 0.5452969 ,\n",
      "        0.4775941 , 0.49630138, 0.47279206, 0.48982541, 0.54039479,\n",
      "        0.46185442, 0.53386714, 0.5048025 , 0.4915197 , 0.46677271,\n",
      "        0.50115631, 0.42349244, 0.59530955, 0.47719829, 0.52163106,\n",
      "        0.43912825, 0.44938257, 0.47360519, 0.51657213, 0.52716515,\n",
      "        0.46674068, 0.46311148, 0.44965289, 0.51036424, 0.50206983,\n",
      "        0.53590528, 0.58946462, 0.4678543 , 0.43127046, 0.49936939,\n",
      "        0.50042852, 0.45740284, 0.45165546, 0.51419265, 0.49339777,\n",
      "        0.46553477, 0.45938238, 0.47322855, 0.51219441, 0.48652697,\n",
      "        0.46401069, 0.43450536, 0.48183187, 0.52138948, 0.46150319,\n",
      "        0.42173293, 0.5165891 , 0.54453843, 0.4506487 , 0.52835497,\n",
      "        0.47739095, 0.4782958 , 0.59032245, 0.5325499 , 0.48888814,\n",
      "        0.47083477, 0.5366765 , 0.48839807, 0.54013489, 0.53549056,\n",
      "        0.39115643, 0.53418832, 0.52792723, 0.5537945 , 0.54734377,\n",
      "        0.55931765, 0.52559664, 0.40420119, 0.50289988, 0.47377366,\n",
      "        0.50751278, 0.47891126, 0.48797761, 0.51088042, 0.63317559,\n",
      "        0.45223391, 0.55221318, 0.40391331, 0.56561649, 0.43672985,\n",
      "        0.448735  , 0.62983905, 0.4974524 , 0.51052589, 0.45733685,\n",
      "        0.5692062 , 0.48395451, 0.51920494, 0.49945804, 0.61011085,\n",
      "        0.47459178, 0.52943488, 0.52814889, 0.48504489, 0.52331393,\n",
      "        0.51475235, 0.42155938, 0.53523532, 0.54093265, 0.54863871,\n",
      "        0.47315467, 0.51380827, 0.57108941, 0.58341879, 0.46804306,\n",
      "        0.45484543])\n",
      " array([0.        , 0.2315871 , 0.76015879, 0.27223165, 0.74014967,\n",
      "        0.30744124, 0.71867529, 0.26305738, 0.77632459, 0.2099542 ,\n",
      "        0.71070028, 0.22361954, 0.76730382, 0.29755844, 0.79563475,\n",
      "        0.18509619, 0.73139884, 0.25142616, 0.71706065, 0.28798116,\n",
      "        0.71708291, 0.23611653, 0.71705073, 0.2607893 , 0.7827414 ,\n",
      "        0.28996366, 0.73140474, 0.27441611, 0.75056716, 0.22994014,\n",
      "        0.6948413 , 0.25874601, 0.64237751, 0.20089606, 0.70856526,\n",
      "        0.28358534, 0.7935319 , 0.26103474, 0.73329093, 0.2363787 ,\n",
      "        0.76336726, 0.34398142, 0.80826658, 0.38194585, 0.79724588,\n",
      "        0.2675851 , 0.71685743, 0.27293085, 0.70548435, 0.2560714 ,\n",
      "        0.71594137, 0.24048304, 0.68867903, 0.30359211, 0.75023971,\n",
      "        0.31058737, 0.7929652 , 0.18474837, 0.74355614, 0.17533186,\n",
      "        0.71500187, 0.22210772, 0.67086698, 0.17557704, 0.73792901,\n",
      "        0.26500858, 0.7986109 , 0.25652459, 0.68004397, 0.20618395,\n",
      "        0.69621507, 0.31981396, 0.76705269, 0.37389281, 0.77493081,\n",
      "        0.28767373, 0.76384736, 0.28027094, 0.73797365, 0.27402017,\n",
      "        0.69411375, 0.31384743, 0.73518823, 0.29771749, 0.72445578,\n",
      "        0.25435312, 0.73900946, 0.2429613 , 0.6946093 , 0.23976158,\n",
      "        0.73814521, 0.20763057, 0.69869768, 0.30207182, 0.7058218 ,\n",
      "        0.36106786, 0.78668773, 0.31158087, 0.75777965, 0.3023356 ,\n",
      "        0.7597876 , 0.28920631, 0.87474069, 0.31745329, 0.82275488,\n",
      "        0.33837207, 0.75131457, 0.26255472, 0.67689238, 0.23293139,\n",
      "        0.79601932, 0.26758282, 0.82657607, 0.28416432, 0.72352974,\n",
      "        0.28408841, 0.78341627, 0.29894096, 0.79869358, 0.27626127,\n",
      "        0.68201606, 0.27583978, 0.68056294, 0.27141157, 0.75576948,\n",
      "        0.25869817, 0.82215109, 0.22377531, 0.75451673, 0.20548833,\n",
      "        0.70227417, 0.26975096, 0.70347122, 0.30618758, 0.76459729,\n",
      "        0.29527584, 0.74230522, 0.26912864, 0.78186367, 0.29044888,\n",
      "        0.70161559, 0.30590697, 0.73908462, 0.38011256, 0.76061915,\n",
      "        0.22957872, 0.77003986, 0.25836428, 0.7973666 , 0.25012294,\n",
      "        0.70550151, 0.26616611, 0.740043  , 0.23535788, 0.69285101,\n",
      "        0.25633969, 0.69331375, 0.25519711, 0.72902231, 0.24923527,\n",
      "        0.68915828, 0.25950112, 0.75791192, 0.24606502, 0.81193688,\n",
      "        0.28794678, 0.75240044, 0.24906597, 0.73881153, 0.26410603,\n",
      "        0.70093554, 0.21289988, 0.68874317, 0.19686282, 0.73867908,\n",
      "        0.27392374, 0.70296111, 0.17068447, 0.71096924, 0.20915391,\n",
      "        0.71841546, 0.2284493 , 0.68134615, 0.22919244, 0.8006189 ,\n",
      "        0.32892434, 0.74044822, 0.32806439, 0.79897964, 0.32907653,\n",
      "        0.72846389, 0.33224935, 0.76728768, 0.23309816, 0.7887137 ,\n",
      "        0.2446276 , 0.76096034, 0.23095665, 0.70706245, 0.234939  ,\n",
      "        0.76730273, 0.21687948, 0.71679219, 0.26837478, 0.74706414,\n",
      "        0.23517319, 0.72049329, 0.29999364, 0.76375571, 0.28679278,\n",
      "        0.70313717])                                                0 0 0\n",
      " 0 0 0 0 0 0 0 0 0 0 0 0 0 0 0 0 0 0 0 0 0 0 0 0 0 0 0 0 0 0 0 0 0 0 0 0 0\n",
      " 0 0 0 0 0 0 0 0]\n",
      "0.0 895.0\n",
      "Percentage of consensus formation with value above 0.6: 0.0\n"
     ]
    },
    {
     "name": "stderr",
     "output_type": "stream",
     "text": [
      "\n"
     ]
    }
   ],
   "source": [
    "for i in trange(count_experiments):\n",
    "    \n",
    "    x0 = np.random.sample(n)\n",
    "    x0.sort()\n",
    "        \n",
    "    X, t, cons_value, cons_time, positive_time = Hen_Kr_actm2_statistics(x0, eps, eps2, fix_control,v_c, prob)\n",
    "    cltrs = clusters(X[t],eps,fix_control)\n",
    "    \n",
    "    cons_value_data = np.append(cons_value_data, cons_value)\n",
    "    cons_time_data = np.append(cons_time_data, cons_time)\n",
    "    positive_time_data = np.append(positive_time_data, positive_time)\n",
    "    stop_time_data = np.append(stop_time_data, t)\n",
    "    cluster_numbers[len(cltrs)-1] +=1\n",
    "    \n",
    "    cl_rs[len(cltrs)-1] = np.append(cl_rs[len(cltrs)-1], cltrs)\n",
    "        \n",
    "\n"
   ]
  },
  {
   "cell_type": "code",
   "execution_count": 143,
   "id": "7fdc7bf4",
   "metadata": {},
   "outputs": [],
   "source": [
    "import scipy\n",
    "import scipy.stats as stats\n",
    "from scipy.stats import bernoulli"
   ]
  },
  {
   "cell_type": "code",
   "execution_count": null,
   "id": "6ec5feaf",
   "metadata": {},
   "outputs": [],
   "source": [
    "st, pv=stats.ks_2samp(stats.norm.rvs(0.5,0.01, size=len(np.array(clv0))),np.array(clv0), mode='auto')\n",
    "fig = plt.figure(facecolor='white', figsize=(8, 8))\n",
    "hist = plt.hist(np.array(clv0), density = True, bins=100, stacked = True, color = '#138808')\n",
    "x = np.linspace(hist[1].min(), hist[1].max(), num=100)\n",
    "\n",
    "plt.plot(x, stats.norm.pdf(x,0.5,0.01), color =\"orange\", label='norm')\n",
    "plt.xlabel('opinion')\n",
    "plt.ylabel('frequency')\n",
    "plt.title(f'consensus, Kolmogorov–Smirnov test: statistic={st:.3}, pvalue={pv:.3}')\n",
    "plt.legend()\n",
    "\n",
    "plt.show()"
   ]
  },
  {
   "cell_type": "code",
   "execution_count": 294,
   "id": "53dfb986",
   "metadata": {},
   "outputs": [
    {
     "data": {
      "image/png": "[encoded data removed]",
      "text/plain": [
       "<Figure size 576x576 with 1 Axes>"
      ]
     },
     "metadata": {},
     "output_type": "display_data"
    },
    {
     "data": {
      "text/plain": [
       "KstestResult(statistic=0.013086642599277979, pvalue=0.9913886879947673)"
      ]
     },
     "execution_count": 294,
     "metadata": {},
     "output_type": "execute_result"
    }
   ],
   "source": [
    "fig = plt.figure(facecolor='white', figsize=(8, 8))\n",
    "hist = plt.hist(np.array(cl_rs[0][1:]), density = True, bins=60, stacked = True, color = '#138808')\n",
    "x = np.linspace(hist[1].min(), hist[1].max(), num=100)\n",
    "plt.plot(x, stats.norm.pdf(x,0.5,0.045), color =\"orange\")\n",
    "plt.xlabel('opinion')\n",
    "plt.ylabel('frequency')\n",
    "plt.show()\n",
    "stats.ks_2samp(stats.norm.rvs(0.5,0.045, size=len(np.array(cl_rs[0][1:]))),np.array(cl_rs[0][1:]), mode='auto')"
   ]
  },
  {
   "cell_type": "code",
   "execution_count": 20,
   "id": "3385b7c4",
   "metadata": {},
   "outputs": [
    {
     "data": {
      "text/plain": [
       "(0.002093060761813041, 0.0020587482903079092)"
      ]
     },
     "execution_count": 20,
     "metadata": {},
     "output_type": "execute_result"
    }
   ],
   "source": [
    "import statistics\n",
    "\n",
    "statistics.variance(cl_rs[0][1:]), statistics.pvariance(cl_rs[0][1:])"
   ]
  },
  {
   "cell_type": "code",
   "execution_count": 34,
   "id": "b1815483",
   "metadata": {},
   "outputs": [
    {
     "name": "stdout",
     "output_type": "stream",
     "text": [
      "[895. 105.   0.   0.] 1000.0 0.895\n"
     ]
    }
   ],
   "source": [
    "print(cluster_numbers[:4], np.sum(cluster_numbers[:4]), cluster_numbers[0]/np.sum(cluster_numbers[:4]))"
   ]
  },
  {
   "cell_type": "code",
   "execution_count": 304,
   "id": "e2c30e19",
   "metadata": {},
   "outputs": [
    {
     "data": {
      "image/png": "[encoded data removed]",
      "text/plain": [
       "<Figure size 576x576 with 1 Axes>"
      ]
     },
     "metadata": {},
     "output_type": "display_data"
    },
    {
     "data": {
      "text/plain": [
       "KstestResult(statistic=0.01204796272959864, pvalue=4.944399743074684e-07)"
      ]
     },
     "execution_count": 304,
     "metadata": {},
     "output_type": "execute_result"
    }
   ],
   "source": [
    "fig = plt.figure(facecolor='white', figsize=(8, 8))\n",
    "hist = plt.hist(np.array(cl_rs[1][1:]), density = True, bins=150, stacked = True, color = '#138808')\n",
    "x = np.linspace(hist[1].min(), hist[1].max(), num=100)\n",
    "\n",
    "pdf = stats.norm.pdf\n",
    "rvs = stats.norm.rvs\n",
    "bimodal_pdf = pdf(x, loc=0.27, scale=0.075) * (float(0.48)) + \\\n",
    "              pdf(x, loc=0.73, scale=0.075) * (float(0.48))\n",
    "\n",
    "bimodal_rvs = rvs(loc=0.27, scale=0.075, size=int((cl_rs[1][1:].shape[0])/2))\n",
    "bimodal_rvs = np.append(bimodal_rvs, rvs(loc=0.73, scale=0.075, size=int((cl_rs[1][1:].shape[0])/2)))\n",
    "\n",
    "plt.plot(x, bimodal_pdf, color =\"orange\")\n",
    "plt.show()\n",
    "\n",
    "stats.ks_2samp(bimodal_rvs,np.array(cl_rs[1][1:]), mode='auto')"
   ]
  },
  {
   "cell_type": "code",
   "execution_count": 306,
   "id": "fd5974d3",
   "metadata": {},
   "outputs": [
    {
     "data": {
      "image/png": "[encoded data removed]",
      "text/plain": [
       "<Figure size 576x576 with 1 Axes>"
      ]
     },
     "metadata": {},
     "output_type": "display_data"
    }
   ],
   "source": [
    "fig = plt.figure(facecolor='white', figsize=(8, 8))\n",
    "hist = plt.hist(np.array(cl_rs[2][1:]), density = True, bins=140, stacked = True, color = '#138808')"
   ]
  },
  {
   "cell_type": "code",
   "execution_count": 307,
   "id": "780f7da3",
   "metadata": {},
   "outputs": [
    {
     "data": {
      "image/png": "[encoded data removed]",
      "text/plain": [
       "<Figure size 576x576 with 1 Axes>"
      ]
     },
     "metadata": {},
     "output_type": "display_data"
    }
   ],
   "source": [
    "fig = plt.figure(facecolor='white', figsize=(8, 8))\n",
    "hist = plt.hist(np.array(cl_rs[3][1:]), density = True, bins=140, stacked = True, color = '#138808')"
   ]
  },
  {
   "cell_type": "code",
   "execution_count": 310,
   "id": "5c299989",
   "metadata": {},
   "outputs": [],
   "source": [
    "np.save('cluster_n.npy', cluster_numbers)\n",
    "np.save('cluster_v_0.npy', cl_rs[0])\n",
    "np.save('cluster_v_1.npy', cl_rs[1])\n",
    "np.save('cluster_v_2.npy', cl_rs[2])\n",
    "np.save('cluster_v_3.npy', cl_rs[3])"
   ]
  },
  {
   "cell_type": "code",
   "execution_count": 131,
   "id": "70d9e912",
   "metadata": {},
   "outputs": [
    {
     "data": {
      "text/plain": [
       "array([ True,  True,  True,  True,  True,  True,  True,  True,  True,\n",
       "        True,  True,  True,  True,  True,  True,  True,  True,  True,\n",
       "        True,  True,  True,  True,  True,  True,  True,  True,  True,\n",
       "        True,  True,  True,  True,  True,  True,  True,  True,  True,\n",
       "        True,  True,  True,  True,  True,  True,  True,  True,  True,\n",
       "        True,  True,  True,  True,  True])"
      ]
     },
     "execution_count": 131,
     "metadata": {},
     "output_type": "execute_result"
    }
   ],
   "source": [
    "cln = np.load('cluster_num.npy', mmap_mode = 'r')\n",
    "cln==cluster_numbers"
   ]
  },
  {
   "cell_type": "code",
   "execution_count": 137,
   "id": "21f2c701",
   "metadata": {},
   "outputs": [
    {
     "data": {
      "text/plain": [
       "array([ True,  True,  True, ...,  True,  True,  True])"
      ]
     },
     "execution_count": 137,
     "metadata": {},
     "output_type": "execute_result"
    }
   ],
   "source": [
    "clv0 = np.load('cluster_val_0.npy', mmap_mode = 'r')\n",
    "clv0==cl_rs[0]"
   ]
  },
  {
   "cell_type": "code",
   "execution_count": 139,
   "id": "d1b6effd",
   "metadata": {},
   "outputs": [
    {
     "data": {
      "text/plain": [
       "array([ True,  True,  True, ...,  True,  True,  True])"
      ]
     },
     "execution_count": 139,
     "metadata": {},
     "output_type": "execute_result"
    }
   ],
   "source": [
    "clv1 = np.load('cluster_val_1.npy', mmap_mode = 'r')\n",
    "clv1==cl_rs[1]"
   ]
  },
  {
   "cell_type": "code",
   "execution_count": 140,
   "id": "c70e3a59",
   "metadata": {},
   "outputs": [
    {
     "data": {
      "text/plain": [
       "array([ True,  True,  True, ...,  True,  True,  True])"
      ]
     },
     "execution_count": 140,
     "metadata": {},
     "output_type": "execute_result"
    }
   ],
   "source": [
    "clv2= np.load('cluster_val_2.npy', mmap_mode = 'r')\n",
    "clv2==cl_rs[2]"
   ]
  },
  {
   "cell_type": "code",
   "execution_count": 141,
   "id": "db649ebe",
   "metadata": {},
   "outputs": [
    {
     "data": {
      "text/plain": [
       "array([ True,  True,  True,  True,  True,  True,  True,  True,  True,\n",
       "        True,  True,  True,  True,  True,  True,  True,  True,  True,\n",
       "        True,  True,  True,  True,  True,  True,  True,  True,  True,\n",
       "        True,  True,  True,  True,  True,  True,  True,  True,  True,\n",
       "        True,  True,  True,  True,  True,  True,  True,  True,  True,\n",
       "        True,  True,  True,  True,  True,  True,  True,  True,  True,\n",
       "        True,  True,  True,  True,  True,  True,  True,  True,  True,\n",
       "        True,  True,  True,  True,  True,  True,  True,  True,  True,\n",
       "        True,  True,  True,  True,  True,  True,  True,  True,  True,\n",
       "        True,  True,  True,  True,  True,  True,  True,  True,  True,\n",
       "        True,  True,  True,  True,  True,  True,  True,  True,  True,\n",
       "        True,  True,  True,  True,  True,  True,  True,  True,  True,\n",
       "        True,  True,  True,  True,  True,  True,  True,  True,  True,\n",
       "        True,  True,  True,  True,  True,  True,  True,  True,  True,\n",
       "        True,  True,  True,  True,  True,  True,  True,  True,  True,\n",
       "        True,  True,  True,  True,  True,  True,  True,  True,  True,\n",
       "        True,  True,  True,  True,  True,  True,  True,  True,  True,\n",
       "        True,  True,  True,  True,  True,  True,  True,  True,  True,\n",
       "        True,  True,  True,  True,  True,  True,  True,  True,  True,\n",
       "        True,  True,  True,  True,  True,  True,  True,  True,  True,\n",
       "        True,  True,  True,  True,  True,  True,  True,  True,  True,\n",
       "        True,  True,  True,  True,  True,  True,  True,  True,  True,\n",
       "        True,  True,  True,  True,  True,  True,  True,  True,  True,\n",
       "        True,  True,  True,  True,  True,  True,  True,  True,  True,\n",
       "        True,  True,  True,  True,  True,  True,  True,  True,  True,\n",
       "        True,  True,  True,  True,  True,  True,  True,  True,  True,\n",
       "        True,  True,  True,  True,  True,  True,  True,  True,  True,\n",
       "        True,  True,  True,  True,  True,  True,  True,  True,  True,\n",
       "        True,  True,  True,  True,  True,  True,  True,  True,  True,\n",
       "        True,  True,  True,  True,  True,  True,  True,  True,  True,\n",
       "        True,  True,  True,  True,  True,  True,  True,  True,  True,\n",
       "        True,  True,  True,  True,  True,  True,  True,  True,  True,\n",
       "        True,  True,  True,  True,  True,  True,  True,  True,  True,\n",
       "        True,  True,  True,  True,  True,  True,  True,  True,  True,\n",
       "        True,  True,  True,  True,  True,  True,  True,  True,  True,\n",
       "        True,  True,  True,  True,  True,  True,  True,  True,  True,\n",
       "        True,  True,  True,  True,  True,  True,  True,  True,  True,\n",
       "        True,  True,  True,  True,  True,  True,  True,  True,  True,\n",
       "        True,  True,  True,  True,  True,  True,  True,  True,  True,\n",
       "        True,  True,  True,  True,  True,  True,  True,  True,  True,\n",
       "        True,  True,  True,  True,  True,  True,  True,  True,  True,\n",
       "        True,  True,  True,  True,  True,  True,  True,  True,  True,\n",
       "        True,  True,  True,  True,  True,  True,  True,  True,  True,\n",
       "        True,  True,  True,  True,  True,  True,  True,  True,  True,\n",
       "        True,  True,  True,  True,  True,  True,  True,  True,  True,\n",
       "        True,  True,  True,  True,  True,  True,  True,  True,  True,\n",
       "        True,  True,  True,  True,  True,  True,  True,  True,  True,\n",
       "        True,  True,  True,  True,  True,  True,  True,  True,  True,\n",
       "        True,  True,  True,  True,  True,  True,  True,  True,  True,\n",
       "        True,  True,  True,  True,  True,  True,  True,  True,  True,\n",
       "        True,  True,  True,  True,  True,  True,  True,  True,  True,\n",
       "        True,  True,  True,  True,  True,  True,  True,  True,  True,\n",
       "        True,  True,  True,  True,  True,  True,  True,  True,  True,\n",
       "        True,  True,  True,  True,  True,  True,  True,  True,  True,\n",
       "        True,  True,  True,  True,  True,  True,  True,  True,  True,\n",
       "        True,  True,  True,  True,  True,  True,  True,  True,  True,\n",
       "        True,  True,  True,  True,  True,  True,  True,  True,  True,\n",
       "        True,  True,  True,  True,  True,  True,  True,  True,  True,\n",
       "        True,  True,  True,  True,  True,  True,  True,  True,  True,\n",
       "        True,  True,  True,  True,  True,  True,  True,  True,  True,\n",
       "        True,  True,  True,  True,  True,  True,  True,  True,  True,\n",
       "        True,  True,  True,  True,  True,  True,  True,  True,  True,\n",
       "        True,  True,  True,  True,  True,  True,  True,  True,  True,\n",
       "        True,  True,  True,  True,  True,  True,  True,  True,  True,\n",
       "        True,  True,  True,  True,  True,  True,  True,  True,  True,\n",
       "        True,  True,  True,  True,  True,  True,  True,  True,  True,\n",
       "        True,  True,  True,  True,  True,  True,  True,  True,  True,\n",
       "        True,  True,  True,  True,  True,  True,  True,  True,  True,\n",
       "        True,  True,  True,  True,  True,  True,  True,  True,  True,\n",
       "        True,  True,  True,  True,  True,  True,  True,  True,  True,\n",
       "        True,  True,  True,  True,  True,  True,  True,  True,  True,\n",
       "        True,  True,  True,  True,  True,  True,  True,  True,  True,\n",
       "        True,  True,  True,  True,  True,  True,  True,  True,  True,\n",
       "        True,  True,  True,  True,  True,  True,  True,  True,  True,\n",
       "        True,  True,  True,  True,  True,  True,  True,  True,  True,\n",
       "        True,  True,  True,  True,  True,  True,  True,  True,  True,\n",
       "        True,  True,  True,  True,  True,  True,  True,  True,  True,\n",
       "        True,  True,  True,  True,  True,  True,  True,  True,  True,\n",
       "        True,  True,  True,  True,  True,  True,  True,  True,  True,\n",
       "        True,  True,  True,  True,  True,  True,  True,  True,  True,\n",
       "        True,  True,  True,  True,  True,  True,  True,  True,  True,\n",
       "        True,  True,  True,  True,  True,  True,  True,  True,  True,\n",
       "        True,  True,  True,  True,  True,  True,  True,  True,  True,\n",
       "        True,  True,  True,  True,  True,  True,  True,  True,  True,\n",
       "        True,  True,  True,  True,  True,  True,  True,  True,  True,\n",
       "        True,  True,  True,  True,  True,  True,  True,  True,  True,\n",
       "        True,  True,  True,  True,  True,  True,  True,  True,  True,\n",
       "        True,  True,  True,  True,  True,  True,  True,  True,  True,\n",
       "        True,  True,  True,  True,  True,  True,  True,  True,  True,\n",
       "        True,  True,  True,  True,  True,  True,  True,  True,  True,\n",
       "        True,  True,  True,  True,  True,  True,  True,  True,  True,\n",
       "        True,  True,  True,  True,  True,  True,  True,  True,  True,\n",
       "        True,  True,  True,  True,  True,  True,  True,  True,  True,\n",
       "        True,  True,  True,  True,  True,  True,  True,  True,  True,\n",
       "        True,  True,  True,  True,  True,  True,  True,  True,  True,\n",
       "        True,  True,  True,  True,  True,  True,  True,  True,  True,\n",
       "        True,  True,  True,  True,  True,  True,  True,  True,  True])"
      ]
     },
     "execution_count": 141,
     "metadata": {},
     "output_type": "execute_result"
    }
   ],
   "source": [
    "clv3 = np.load('cluster_val_3.npy', mmap_mode = 'r')\n",
    "clv3==cl_rs[3]"
   ]
  },
  {
   "cell_type": "code",
   "execution_count": null,
   "id": "e19a7214",
   "metadata": {},
   "outputs": [],
   "source": []
  }
 ],
 "metadata": {
  "kernelspec": {
   "display_name": "Python 3 (ipykernel)",
   "language": "python",
   "name": "python3"
  },
  "language_info": {
   "codemirror_mode": {
    "name": "ipython",
    "version": 3
   },
   "file_extension": ".py",
   "mimetype": "text/x-python",
   "name": "python",
   "nbconvert_exporter": "python",
   "pygments_lexer": "ipython3",
   "version": "3.9.13"
  }
 },
 "nbformat": 4,
 "nbformat_minor": 5
}
