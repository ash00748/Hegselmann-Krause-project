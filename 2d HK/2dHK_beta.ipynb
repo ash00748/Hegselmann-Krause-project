{
 "cells": [
  {
   "cell_type": "code",
   "execution_count": 1,
   "metadata": {},
   "outputs": [],
   "source": [
    "import sys\n",
    "sys.path.append(\"../source\")"
   ]
  },
  {
   "cell_type": "code",
   "execution_count": 2,
   "metadata": {},
   "outputs": [],
   "source": [
    "import numpy as np\n",
    "import math\n",
    "import matplotlib.pyplot as plt\n",
    "import pylab\n",
    "from tqdm import trange\n",
    "import scipy\n",
    "import scipy.stats as stats\n",
    "from scipy.stats import bernoulli\n",
    "import matplotlib as mp\n",
    "from numba import njit\n",
    "from project_lib import *\n",
    "import pandas as pd"
   ]
  },
  {
   "cell_type": "code",
   "execution_count": 94,
   "metadata": {},
   "outputs": [],
   "source": [
    "def init_beta_distrib_consensus_data(beta_distib_consensus_data, experiment, N, alpha, beta, R):\n",
    "    if not ((beta_distib_consensus_data['N'] == N) \n",
    "            & (beta_distib_consensus_data['alpha'] == alpha) \n",
    "            & (beta_distib_consensus_data['beta'] == beta) \n",
    "            & (beta_distib_consensus_data['eps'] == R)\n",
    "            ).any():\n",
    "        beta_distib_consensus_data.at[experiment, \"N\"] = N\n",
    "        beta_distib_consensus_data.at[experiment, \"alpha\"] = alpha\n",
    "        beta_distib_consensus_data.at[experiment, \"beta\"] = beta\n",
    "        beta_distib_consensus_data.at[experiment, \"eps\"] = R\n",
    "        beta_distib_consensus_data.at[experiment, \"consensus_x\"] = 0\n",
    "        beta_distib_consensus_data.at[experiment, \"consensus_y\"] = 0\n",
    "        beta_distib_consensus_data.at[experiment, \"consensus_probabity\"] =0\n",
    "        beta_distib_consensus_data.at[experiment, \"simulation_time\"] =0\n",
    "        beta_distib_consensus_data.at[experiment, \"simulation_count\"] = 0\n",
    "\n",
    "def update_beta_distrib_consensus_data(beta_distib_consensus_data, experiment, res_arr_fast):\n",
    "    beta_distib_consensus_data.at[experiment, \"consensus_x\"] += res_arr_fast[-1, 0, 0]\n",
    "    beta_distib_consensus_data.at[experiment, \"consensus_y\"] += res_arr_fast[-1, 0, 1]\n",
    "    beta_distib_consensus_data.at[experiment, \"consensus_probabity\"] +=1\n",
    "    beta_distib_consensus_data.at[experiment, \"simulation_time\"] +=res_arr_fast.shape[0]\n",
    "    \n",
    "\n",
    "\n",
    "dtypes = {\n",
    "    'N': np.int64,\n",
    "    'alpha': np.float64,\n",
    "    'beta': np.float64,\n",
    "    'eps': np.float64,\n",
    "    'consensus_x': np.float64,\n",
    "    'consensus_y': np.float64,\n",
    "    'consensus_probabity': np.float64,\n",
    "    'simulation_time': np.int64,\n",
    "    'simulation_count': np.int64\n",
    "}\n",
    "# beta_distib_consensus_data = pd.DataFrame(columns=[\"N\", \"alpha\", \"beta\", \"eps\", \"consensus_x\", \"consensus_y\",\"consensus_probabity\", \"simulation_time\"], dtype=object)\n",
    "# beta_distib_consensus_data"
   ]
  },
  {
   "cell_type": "code",
   "execution_count": 120,
   "metadata": {},
   "outputs": [
    {
     "data": {
      "text/html": [
       "<div>\n",
       "<style scoped>\n",
       "    .dataframe tbody tr th:only-of-type {\n",
       "        vertical-align: middle;\n",
       "    }\n",
       "\n",
       "    .dataframe tbody tr th {\n",
       "        vertical-align: top;\n",
       "    }\n",
       "\n",
       "    .dataframe thead th {\n",
       "        text-align: right;\n",
       "    }\n",
       "</style>\n",
       "<table border=\"1\" class=\"dataframe\">\n",
       "  <thead>\n",
       "    <tr style=\"text-align: right;\">\n",
       "      <th></th>\n",
       "      <th>N</th>\n",
       "      <th>alpha</th>\n",
       "      <th>beta</th>\n",
       "      <th>eps</th>\n",
       "      <th>consensus_x</th>\n",
       "      <th>consensus_y</th>\n",
       "      <th>consensus_probabity</th>\n",
       "      <th>simulation_time</th>\n",
       "      <th>simulation_count</th>\n",
       "    </tr>\n",
       "  </thead>\n",
       "  <tbody>\n",
       "    <tr>\n",
       "      <th>0</th>\n",
       "      <td>2500</td>\n",
       "      <td>0.5</td>\n",
       "      <td>0.5</td>\n",
       "      <td>0.15</td>\n",
       "      <td>0.000000</td>\n",
       "      <td>0.000000</td>\n",
       "      <td>0.0</td>\n",
       "      <td>0</td>\n",
       "      <td>10</td>\n",
       "    </tr>\n",
       "    <tr>\n",
       "      <th>1</th>\n",
       "      <td>2500</td>\n",
       "      <td>1.0</td>\n",
       "      <td>1.0</td>\n",
       "      <td>0.15</td>\n",
       "      <td>0.000000</td>\n",
       "      <td>0.000000</td>\n",
       "      <td>0.0</td>\n",
       "      <td>0</td>\n",
       "      <td>10</td>\n",
       "    </tr>\n",
       "    <tr>\n",
       "      <th>2</th>\n",
       "      <td>2500</td>\n",
       "      <td>1.5</td>\n",
       "      <td>1.5</td>\n",
       "      <td>0.15</td>\n",
       "      <td>0.000000</td>\n",
       "      <td>0.000000</td>\n",
       "      <td>0.0</td>\n",
       "      <td>0</td>\n",
       "      <td>10</td>\n",
       "    </tr>\n",
       "    <tr>\n",
       "      <th>3</th>\n",
       "      <td>2500</td>\n",
       "      <td>2.0</td>\n",
       "      <td>2.0</td>\n",
       "      <td>0.15</td>\n",
       "      <td>0.000000</td>\n",
       "      <td>0.000000</td>\n",
       "      <td>0.0</td>\n",
       "      <td>0</td>\n",
       "      <td>10</td>\n",
       "    </tr>\n",
       "    <tr>\n",
       "      <th>4</th>\n",
       "      <td>2500</td>\n",
       "      <td>2.5</td>\n",
       "      <td>2.5</td>\n",
       "      <td>0.15</td>\n",
       "      <td>4.003755</td>\n",
       "      <td>3.964977</td>\n",
       "      <td>8.0</td>\n",
       "      <td>153</td>\n",
       "      <td>10</td>\n",
       "    </tr>\n",
       "    <tr>\n",
       "      <th>...</th>\n",
       "      <td>...</td>\n",
       "      <td>...</td>\n",
       "      <td>...</td>\n",
       "      <td>...</td>\n",
       "      <td>...</td>\n",
       "      <td>...</td>\n",
       "      <td>...</td>\n",
       "      <td>...</td>\n",
       "      <td>...</td>\n",
       "    </tr>\n",
       "    <tr>\n",
       "      <th>255</th>\n",
       "      <td>50</td>\n",
       "      <td>3.0</td>\n",
       "      <td>3.0</td>\n",
       "      <td>1.00</td>\n",
       "      <td>99.779841</td>\n",
       "      <td>99.594450</td>\n",
       "      <td>200.0</td>\n",
       "      <td>410</td>\n",
       "      <td>200</td>\n",
       "    </tr>\n",
       "    <tr>\n",
       "      <th>256</th>\n",
       "      <td>50</td>\n",
       "      <td>3.5</td>\n",
       "      <td>3.5</td>\n",
       "      <td>1.00</td>\n",
       "      <td>99.501094</td>\n",
       "      <td>100.260732</td>\n",
       "      <td>200.0</td>\n",
       "      <td>403</td>\n",
       "      <td>200</td>\n",
       "    </tr>\n",
       "    <tr>\n",
       "      <th>257</th>\n",
       "      <td>50</td>\n",
       "      <td>4.0</td>\n",
       "      <td>4.0</td>\n",
       "      <td>1.00</td>\n",
       "      <td>99.754001</td>\n",
       "      <td>100.191540</td>\n",
       "      <td>200.0</td>\n",
       "      <td>400</td>\n",
       "      <td>200</td>\n",
       "    </tr>\n",
       "    <tr>\n",
       "      <th>258</th>\n",
       "      <td>50</td>\n",
       "      <td>4.5</td>\n",
       "      <td>4.5</td>\n",
       "      <td>1.00</td>\n",
       "      <td>100.258023</td>\n",
       "      <td>99.852555</td>\n",
       "      <td>200.0</td>\n",
       "      <td>400</td>\n",
       "      <td>200</td>\n",
       "    </tr>\n",
       "    <tr>\n",
       "      <th>259</th>\n",
       "      <td>50</td>\n",
       "      <td>5.0</td>\n",
       "      <td>5.0</td>\n",
       "      <td>1.00</td>\n",
       "      <td>99.895564</td>\n",
       "      <td>99.673180</td>\n",
       "      <td>200.0</td>\n",
       "      <td>400</td>\n",
       "      <td>200</td>\n",
       "    </tr>\n",
       "  </tbody>\n",
       "</table>\n",
       "<p>260 rows × 9 columns</p>\n",
       "</div>"
      ],
      "text/plain": [
       "        N  alpha  beta   eps  consensus_x  consensus_y  consensus_probabity  \\\n",
       "0    2500    0.5   0.5  0.15     0.000000     0.000000                  0.0   \n",
       "1    2500    1.0   1.0  0.15     0.000000     0.000000                  0.0   \n",
       "2    2500    1.5   1.5  0.15     0.000000     0.000000                  0.0   \n",
       "3    2500    2.0   2.0  0.15     0.000000     0.000000                  0.0   \n",
       "4    2500    2.5   2.5  0.15     4.003755     3.964977                  8.0   \n",
       "..    ...    ...   ...   ...          ...          ...                  ...   \n",
       "255    50    3.0   3.0  1.00    99.779841    99.594450                200.0   \n",
       "256    50    3.5   3.5  1.00    99.501094   100.260732                200.0   \n",
       "257    50    4.0   4.0  1.00    99.754001   100.191540                200.0   \n",
       "258    50    4.5   4.5  1.00   100.258023    99.852555                200.0   \n",
       "259    50    5.0   5.0  1.00    99.895564    99.673180                200.0   \n",
       "\n",
       "     simulation_time  simulation_count  \n",
       "0                  0                10  \n",
       "1                  0                10  \n",
       "2                  0                10  \n",
       "3                  0                10  \n",
       "4                153                10  \n",
       "..               ...               ...  \n",
       "255              410               200  \n",
       "256              403               200  \n",
       "257              400               200  \n",
       "258              400               200  \n",
       "259              400               200  \n",
       "\n",
       "[260 rows x 9 columns]"
      ]
     },
     "execution_count": 120,
     "metadata": {},
     "output_type": "execute_result"
    }
   ],
   "source": [
    "beta_distib_consensus_data = pd.read_csv('beta_distib_consensus_data.csv', sep=\";\", dtype=dtypes)\n",
    "beta_distib_consensus_data"
   ]
  },
  {
   "cell_type": "code",
   "execution_count": 117,
   "metadata": {},
   "outputs": [],
   "source": [
    "beta_distib_consensus_data.to_csv('beta_distib_consensus_data.csv',sep=\";\", index=False)"
   ]
  },
  {
   "cell_type": "code",
   "execution_count": 11,
   "metadata": {},
   "outputs": [],
   "source": [
    "R = 0.2  # радиус доверия\n",
    "eps = 1e-4  # допустимая точность\n",
    "n = 50  # количество агентов по одной оси\n",
    "N = n"
   ]
  },
  {
   "cell_type": "code",
   "execution_count": 112,
   "metadata": {},
   "outputs": [
    {
     "data": {
      "text/plain": [
       "array([0.5, 1. , 1.5, 2. , 2.5, 3. , 3.5, 4. , 4.5, 5. ])"
      ]
     },
     "execution_count": 112,
     "metadata": {},
     "output_type": "execute_result"
    }
   ],
   "source": [
    "experiments = 100\n",
    "R_array = np.arange(0.15, 1.01, 0.05)\n",
    "beta_params_array =  np.arange(0.5, 5.1, 0.5)\n",
    "beta_params_array"
   ]
  },
  {
   "cell_type": "code",
   "execution_count": null,
   "metadata": {},
   "outputs": [],
   "source": [
    "experiment = beta_distib_consensus_data.index[-1] +1\n",
    "\n",
    "simulation_func = HK_2D_sim_fast\n",
    "count_consensus = 0\n",
    "CONSENSUS_BORDER = 5\n",
    "for R in R_array:\n",
    "    for beta in beta_params_array:\n",
    "        alpha = beta\n",
    "        init_beta_distrib_consensus_data(beta_distib_consensus_data, experiment, N, alpha, beta, R)\n",
    "        if count_consensus>=CONSENSUS_BORDER: simulation_func=HK_2D_sim\n",
    "        print(f\"N:{N} R:{R} a:{alpha} b:{beta} func:{simulation_func.__name__} count:{count_consensus}\")\n",
    "\n",
    "        for i in trange(experiments):\n",
    "            x0 = np.random.beta(alpha, beta, (N,2))\n",
    "            res_arr_fast, check_fast = simulation_func(x0, R, R * 1e-3, 1000)\n",
    "            if check_fast:\n",
    "                cluster_of_agent, cluster_sizes = caln_n_clusters(res_arr_fast[-1, :, :], R)\n",
    "                experiment = beta_distib_consensus_data[\n",
    "                    ((beta_distib_consensus_data['N'] == N) \n",
    "                     & (beta_distib_consensus_data['alpha'] == alpha) \n",
    "                     & (beta_distib_consensus_data['beta'] == beta) \n",
    "                     & (beta_distib_consensus_data['eps'] == R))].index[0]\n",
    "                beta_distib_consensus_data.at[experiment, \"simulation_count\"] +=1\n",
    "                if len(cluster_sizes)==1:\n",
    "                    # we have consensus\n",
    "                    count_consensus+=1\n",
    "                    update_beta_distrib_consensus_data(beta_distib_consensus_data, experiment, res_arr_fast)\n",
    "            else:\n",
    "                draw_HK_2D_simulation(res_arr_fast, 'plasma')\n",
    "        experiment = beta_distib_consensus_data.index[-1] +1"
   ]
  },
  {
   "cell_type": "code",
   "execution_count": 113,
   "metadata": {},
   "outputs": [
    {
     "name": "stdout",
     "output_type": "stream",
     "text": [
      "N:50 R:0.15 a:0.5 b:0.5 func:HK_2D_sim_fast count:0\n"
     ]
    },
    {
     "name": "stderr",
     "output_type": "stream",
     "text": [
      "100%|██████████| 100/100 [00:00<00:00, 305.83it/s]\n"
     ]
    },
    {
     "name": "stdout",
     "output_type": "stream",
     "text": [
      "N:50 R:0.15 a:1.0 b:1.0 func:HK_2D_sim_fast count:0\n"
     ]
    },
    {
     "name": "stderr",
     "output_type": "stream",
     "text": [
      "100%|██████████| 100/100 [00:00<00:00, 299.40it/s]\n"
     ]
    },
    {
     "name": "stdout",
     "output_type": "stream",
     "text": [
      "N:50 R:0.15 a:1.5 b:1.5 func:HK_2D_sim_fast count:0\n"
     ]
    },
    {
     "name": "stderr",
     "output_type": "stream",
     "text": [
      "100%|██████████| 100/100 [00:00<00:00, 253.08it/s]\n"
     ]
    },
    {
     "name": "stdout",
     "output_type": "stream",
     "text": [
      "N:50 R:0.15 a:2.0 b:2.0 func:HK_2D_sim_fast count:0\n"
     ]
    },
    {
     "name": "stderr",
     "output_type": "stream",
     "text": [
      "100%|██████████| 100/100 [00:00<00:00, 213.68it/s]\n"
     ]
    },
    {
     "name": "stdout",
     "output_type": "stream",
     "text": [
      "N:50 R:0.15 a:2.5 b:2.5 func:HK_2D_sim_fast count:0\n"
     ]
    },
    {
     "name": "stderr",
     "output_type": "stream",
     "text": [
      "100%|██████████| 100/100 [00:00<00:00, 192.64it/s]\n"
     ]
    },
    {
     "name": "stdout",
     "output_type": "stream",
     "text": [
      "N:50 R:0.15 a:3.0 b:3.0 func:HK_2D_sim_fast count:0\n"
     ]
    },
    {
     "name": "stderr",
     "output_type": "stream",
     "text": [
      "100%|██████████| 100/100 [00:00<00:00, 173.01it/s]\n"
     ]
    },
    {
     "name": "stdout",
     "output_type": "stream",
     "text": [
      "N:50 R:0.15 a:3.5 b:3.5 func:HK_2D_sim_fast count:0\n"
     ]
    },
    {
     "name": "stderr",
     "output_type": "stream",
     "text": [
      "100%|██████████| 100/100 [00:00<00:00, 155.74it/s]\n"
     ]
    },
    {
     "name": "stdout",
     "output_type": "stream",
     "text": [
      "N:50 R:0.15 a:4.0 b:4.0 func:HK_2D_sim_fast count:0\n"
     ]
    },
    {
     "name": "stderr",
     "output_type": "stream",
     "text": [
      "100%|██████████| 100/100 [00:00<00:00, 139.64it/s]\n"
     ]
    },
    {
     "name": "stdout",
     "output_type": "stream",
     "text": [
      "N:50 R:0.15 a:4.5 b:4.5 func:HK_2D_sim_fast count:0\n"
     ]
    },
    {
     "name": "stderr",
     "output_type": "stream",
     "text": [
      "100%|██████████| 100/100 [00:00<00:00, 126.26it/s]\n"
     ]
    },
    {
     "name": "stdout",
     "output_type": "stream",
     "text": [
      "N:50 R:0.15 a:5.0 b:5.0 func:HK_2D_sim count:7\n"
     ]
    },
    {
     "name": "stderr",
     "output_type": "stream",
     "text": [
      "100%|██████████| 100/100 [00:00<00:00, 123.76it/s]\n"
     ]
    },
    {
     "name": "stdout",
     "output_type": "stream",
     "text": [
      "N:50 R:0.2 a:0.5 b:0.5 func:HK_2D_sim count:12\n"
     ]
    },
    {
     "name": "stderr",
     "output_type": "stream",
     "text": [
      "100%|██████████| 100/100 [00:00<00:00, 137.42it/s]\n"
     ]
    },
    {
     "name": "stdout",
     "output_type": "stream",
     "text": [
      "N:50 R:0.2 a:1.0 b:1.0 func:HK_2D_sim count:12\n"
     ]
    },
    {
     "name": "stderr",
     "output_type": "stream",
     "text": [
      "100%|██████████| 100/100 [00:00<00:00, 120.58it/s]\n"
     ]
    },
    {
     "name": "stdout",
     "output_type": "stream",
     "text": [
      "N:50 R:0.2 a:1.5 b:1.5 func:HK_2D_sim count:12\n"
     ]
    },
    {
     "name": "stderr",
     "output_type": "stream",
     "text": [
      "100%|██████████| 100/100 [00:00<00:00, 115.10it/s]\n"
     ]
    },
    {
     "name": "stdout",
     "output_type": "stream",
     "text": [
      "N:50 R:0.2 a:2.0 b:2.0 func:HK_2D_sim count:12\n"
     ]
    },
    {
     "name": "stderr",
     "output_type": "stream",
     "text": [
      "100%|██████████| 100/100 [00:00<00:00, 116.29it/s]\n"
     ]
    },
    {
     "name": "stdout",
     "output_type": "stream",
     "text": [
      "N:50 R:0.2 a:2.5 b:2.5 func:HK_2D_sim count:15\n"
     ]
    },
    {
     "name": "stderr",
     "output_type": "stream",
     "text": [
      "100%|██████████| 100/100 [00:00<00:00, 116.14it/s]\n"
     ]
    },
    {
     "name": "stdout",
     "output_type": "stream",
     "text": [
      "N:50 R:0.2 a:3.0 b:3.0 func:HK_2D_sim count:23\n"
     ]
    },
    {
     "name": "stderr",
     "output_type": "stream",
     "text": [
      "100%|██████████| 100/100 [00:00<00:00, 124.49it/s]\n"
     ]
    },
    {
     "name": "stdout",
     "output_type": "stream",
     "text": [
      "N:50 R:0.2 a:3.5 b:3.5 func:HK_2D_sim count:46\n"
     ]
    },
    {
     "name": "stderr",
     "output_type": "stream",
     "text": [
      "100%|██████████| 100/100 [00:00<00:00, 135.09it/s]\n"
     ]
    },
    {
     "name": "stdout",
     "output_type": "stream",
     "text": [
      "N:50 R:0.2 a:4.0 b:4.0 func:HK_2D_sim count:89\n"
     ]
    },
    {
     "name": "stderr",
     "output_type": "stream",
     "text": [
      "100%|██████████| 100/100 [00:00<00:00, 145.91it/s]\n"
     ]
    },
    {
     "name": "stdout",
     "output_type": "stream",
     "text": [
      "N:50 R:0.2 a:4.5 b:4.5 func:HK_2D_sim count:144\n"
     ]
    },
    {
     "name": "stderr",
     "output_type": "stream",
     "text": [
      "100%|██████████| 100/100 [00:00<00:00, 158.98it/s]\n"
     ]
    },
    {
     "name": "stdout",
     "output_type": "stream",
     "text": [
      "N:50 R:0.2 a:5.0 b:5.0 func:HK_2D_sim count:219\n"
     ]
    },
    {
     "name": "stderr",
     "output_type": "stream",
     "text": [
      "100%|██████████| 100/100 [00:00<00:00, 154.89it/s]\n"
     ]
    },
    {
     "name": "stdout",
     "output_type": "stream",
     "text": [
      "N:50 R:0.25 a:0.5 b:0.5 func:HK_2D_sim count:285\n"
     ]
    },
    {
     "name": "stderr",
     "output_type": "stream",
     "text": [
      "100%|██████████| 100/100 [00:00<00:00, 127.36it/s]\n"
     ]
    },
    {
     "name": "stdout",
     "output_type": "stream",
     "text": [
      "N:50 R:0.25 a:1.0 b:1.0 func:HK_2D_sim count:285\n"
     ]
    },
    {
     "name": "stderr",
     "output_type": "stream",
     "text": [
      "100%|██████████| 100/100 [00:00<00:00, 124.91it/s]\n"
     ]
    },
    {
     "name": "stdout",
     "output_type": "stream",
     "text": [
      "N:50 R:0.25 a:1.5 b:1.5 func:HK_2D_sim count:285\n"
     ]
    },
    {
     "name": "stderr",
     "output_type": "stream",
     "text": [
      "100%|██████████| 100/100 [00:00<00:00, 120.81it/s]\n"
     ]
    },
    {
     "name": "stdout",
     "output_type": "stream",
     "text": [
      "N:50 R:0.25 a:2.0 b:2.0 func:HK_2D_sim count:306\n"
     ]
    },
    {
     "name": "stderr",
     "output_type": "stream",
     "text": [
      "100%|██████████| 100/100 [00:00<00:00, 132.07it/s]\n"
     ]
    },
    {
     "name": "stdout",
     "output_type": "stream",
     "text": [
      "N:50 R:0.25 a:2.5 b:2.5 func:HK_2D_sim count:366\n"
     ]
    },
    {
     "name": "stderr",
     "output_type": "stream",
     "text": [
      "100%|██████████| 100/100 [00:00<00:00, 147.45it/s]\n"
     ]
    },
    {
     "name": "stdout",
     "output_type": "stream",
     "text": [
      "N:50 R:0.25 a:3.0 b:3.0 func:HK_2D_sim count:435\n"
     ]
    },
    {
     "name": "stderr",
     "output_type": "stream",
     "text": [
      "100%|██████████| 100/100 [00:00<00:00, 158.22it/s]\n"
     ]
    },
    {
     "name": "stdout",
     "output_type": "stream",
     "text": [
      "N:50 R:0.25 a:3.5 b:3.5 func:HK_2D_sim count:519\n"
     ]
    },
    {
     "name": "stderr",
     "output_type": "stream",
     "text": [
      "100%|██████████| 100/100 [00:00<00:00, 175.31it/s]\n"
     ]
    },
    {
     "name": "stdout",
     "output_type": "stream",
     "text": [
      "N:50 R:0.25 a:4.0 b:4.0 func:HK_2D_sim count:608\n"
     ]
    },
    {
     "name": "stderr",
     "output_type": "stream",
     "text": [
      "100%|██████████| 100/100 [00:00<00:00, 183.98it/s]\n"
     ]
    },
    {
     "name": "stdout",
     "output_type": "stream",
     "text": [
      "N:50 R:0.25 a:4.5 b:4.5 func:HK_2D_sim count:695\n"
     ]
    },
    {
     "name": "stderr",
     "output_type": "stream",
     "text": [
      "100%|██████████| 100/100 [00:00<00:00, 191.72it/s]\n"
     ]
    },
    {
     "name": "stdout",
     "output_type": "stream",
     "text": [
      "N:50 R:0.25 a:5.0 b:5.0 func:HK_2D_sim count:788\n"
     ]
    },
    {
     "name": "stderr",
     "output_type": "stream",
     "text": [
      "100%|██████████| 100/100 [00:00<00:00, 203.95it/s]\n"
     ]
    },
    {
     "name": "stdout",
     "output_type": "stream",
     "text": [
      "N:50 R:0.30000000000000004 a:0.5 b:0.5 func:HK_2D_sim count:885\n"
     ]
    },
    {
     "name": "stderr",
     "output_type": "stream",
     "text": [
      "100%|██████████| 100/100 [00:00<00:00, 132.28it/s]\n"
     ]
    },
    {
     "name": "stdout",
     "output_type": "stream",
     "text": [
      "N:50 R:0.30000000000000004 a:1.0 b:1.0 func:HK_2D_sim count:885\n"
     ]
    },
    {
     "name": "stderr",
     "output_type": "stream",
     "text": [
      "100%|██████████| 100/100 [00:00<00:00, 116.09it/s]\n"
     ]
    },
    {
     "name": "stdout",
     "output_type": "stream",
     "text": [
      "N:50 R:0.30000000000000004 a:1.5 b:1.5 func:HK_2D_sim count:910\n"
     ]
    },
    {
     "name": "stderr",
     "output_type": "stream",
     "text": [
      "100%|██████████| 100/100 [00:00<00:00, 140.45it/s]\n"
     ]
    },
    {
     "name": "stdout",
     "output_type": "stream",
     "text": [
      "N:50 R:0.30000000000000004 a:2.0 b:2.0 func:HK_2D_sim count:990\n"
     ]
    },
    {
     "name": "stderr",
     "output_type": "stream",
     "text": [
      "100%|██████████| 100/100 [00:00<00:00, 169.34it/s]\n"
     ]
    },
    {
     "name": "stdout",
     "output_type": "stream",
     "text": [
      "N:50 R:0.30000000000000004 a:2.5 b:2.5 func:HK_2D_sim count:1083\n"
     ]
    },
    {
     "name": "stderr",
     "output_type": "stream",
     "text": [
      "100%|██████████| 100/100 [00:00<00:00, 182.64it/s]\n"
     ]
    },
    {
     "name": "stdout",
     "output_type": "stream",
     "text": [
      "N:50 R:0.30000000000000004 a:3.0 b:3.0 func:HK_2D_sim count:1182\n"
     ]
    },
    {
     "name": "stderr",
     "output_type": "stream",
     "text": [
      "100%|██████████| 100/100 [00:00<00:00, 196.26it/s]\n"
     ]
    },
    {
     "name": "stdout",
     "output_type": "stream",
     "text": [
      "N:50 R:0.30000000000000004 a:3.5 b:3.5 func:HK_2D_sim count:1280\n"
     ]
    },
    {
     "name": "stderr",
     "output_type": "stream",
     "text": [
      "100%|██████████| 100/100 [00:00<00:00, 208.96it/s]\n"
     ]
    },
    {
     "name": "stdout",
     "output_type": "stream",
     "text": [
      "N:50 R:0.30000000000000004 a:4.0 b:4.0 func:HK_2D_sim count:1378\n"
     ]
    },
    {
     "name": "stderr",
     "output_type": "stream",
     "text": [
      "100%|██████████| 100/100 [00:00<00:00, 198.95it/s]\n"
     ]
    },
    {
     "name": "stdout",
     "output_type": "stream",
     "text": [
      "N:50 R:0.30000000000000004 a:4.5 b:4.5 func:HK_2D_sim count:1478\n"
     ]
    },
    {
     "name": "stderr",
     "output_type": "stream",
     "text": [
      "100%|██████████| 100/100 [00:00<00:00, 202.24it/s]\n"
     ]
    },
    {
     "name": "stdout",
     "output_type": "stream",
     "text": [
      "N:50 R:0.30000000000000004 a:5.0 b:5.0 func:HK_2D_sim count:1578\n"
     ]
    },
    {
     "name": "stderr",
     "output_type": "stream",
     "text": [
      "100%|██████████| 100/100 [00:00<00:00, 216.51it/s]\n"
     ]
    },
    {
     "name": "stdout",
     "output_type": "stream",
     "text": [
      "N:50 R:0.3500000000000001 a:0.5 b:0.5 func:HK_2D_sim count:1678\n"
     ]
    },
    {
     "name": "stderr",
     "output_type": "stream",
     "text": [
      "100%|██████████| 100/100 [00:00<00:00, 133.00it/s]\n"
     ]
    },
    {
     "name": "stdout",
     "output_type": "stream",
     "text": [
      "N:50 R:0.3500000000000001 a:1.0 b:1.0 func:HK_2D_sim count:1679\n"
     ]
    },
    {
     "name": "stderr",
     "output_type": "stream",
     "text": [
      "100%|██████████| 100/100 [00:00<00:00, 138.00it/s]\n"
     ]
    },
    {
     "name": "stdout",
     "output_type": "stream",
     "text": [
      "N:50 R:0.3500000000000001 a:1.5 b:1.5 func:HK_2D_sim count:1761\n"
     ]
    },
    {
     "name": "stderr",
     "output_type": "stream",
     "text": [
      "100%|██████████| 100/100 [00:00<00:00, 172.93it/s]\n"
     ]
    },
    {
     "name": "stdout",
     "output_type": "stream",
     "text": [
      "N:50 R:0.3500000000000001 a:2.0 b:2.0 func:HK_2D_sim count:1860\n"
     ]
    },
    {
     "name": "stderr",
     "output_type": "stream",
     "text": [
      "100%|██████████| 100/100 [00:00<00:00, 186.22it/s]\n"
     ]
    },
    {
     "name": "stdout",
     "output_type": "stream",
     "text": [
      "N:50 R:0.3500000000000001 a:2.5 b:2.5 func:HK_2D_sim count:1960\n"
     ]
    },
    {
     "name": "stderr",
     "output_type": "stream",
     "text": [
      "100%|██████████| 100/100 [00:00<00:00, 204.81it/s]\n"
     ]
    },
    {
     "name": "stdout",
     "output_type": "stream",
     "text": [
      "N:50 R:0.3500000000000001 a:3.0 b:3.0 func:HK_2D_sim count:2060\n"
     ]
    },
    {
     "name": "stderr",
     "output_type": "stream",
     "text": [
      "100%|██████████| 100/100 [00:00<00:00, 209.64it/s]\n"
     ]
    },
    {
     "name": "stdout",
     "output_type": "stream",
     "text": [
      "N:50 R:0.3500000000000001 a:3.5 b:3.5 func:HK_2D_sim count:2160\n"
     ]
    },
    {
     "name": "stderr",
     "output_type": "stream",
     "text": [
      "100%|██████████| 100/100 [00:00<00:00, 210.59it/s]\n"
     ]
    },
    {
     "name": "stdout",
     "output_type": "stream",
     "text": [
      "N:50 R:0.3500000000000001 a:4.0 b:4.0 func:HK_2D_sim count:2260\n"
     ]
    },
    {
     "name": "stderr",
     "output_type": "stream",
     "text": [
      "100%|██████████| 100/100 [00:00<00:00, 219.96it/s]\n"
     ]
    },
    {
     "name": "stdout",
     "output_type": "stream",
     "text": [
      "N:50 R:0.3500000000000001 a:4.5 b:4.5 func:HK_2D_sim count:2360\n"
     ]
    },
    {
     "name": "stderr",
     "output_type": "stream",
     "text": [
      "100%|██████████| 100/100 [00:00<00:00, 227.80it/s]\n"
     ]
    },
    {
     "name": "stdout",
     "output_type": "stream",
     "text": [
      "N:50 R:0.3500000000000001 a:5.0 b:5.0 func:HK_2D_sim count:2460\n"
     ]
    },
    {
     "name": "stderr",
     "output_type": "stream",
     "text": [
      "100%|██████████| 100/100 [00:00<00:00, 229.23it/s]\n"
     ]
    },
    {
     "name": "stdout",
     "output_type": "stream",
     "text": [
      "N:50 R:0.40000000000000013 a:0.5 b:0.5 func:HK_2D_sim count:2560\n"
     ]
    },
    {
     "name": "stderr",
     "output_type": "stream",
     "text": [
      "100%|██████████| 100/100 [00:00<00:00, 117.47it/s]\n"
     ]
    },
    {
     "name": "stdout",
     "output_type": "stream",
     "text": [
      "N:50 R:0.40000000000000013 a:1.0 b:1.0 func:HK_2D_sim count:2594\n"
     ]
    },
    {
     "name": "stderr",
     "output_type": "stream",
     "text": [
      "100%|██████████| 100/100 [00:00<00:00, 169.74it/s]\n"
     ]
    },
    {
     "name": "stdout",
     "output_type": "stream",
     "text": [
      "N:50 R:0.40000000000000013 a:1.5 b:1.5 func:HK_2D_sim count:2691\n"
     ]
    },
    {
     "name": "stderr",
     "output_type": "stream",
     "text": [
      "100%|██████████| 100/100 [00:00<00:00, 199.09it/s]\n"
     ]
    },
    {
     "name": "stdout",
     "output_type": "stream",
     "text": [
      "N:50 R:0.40000000000000013 a:2.0 b:2.0 func:HK_2D_sim count:2791\n"
     ]
    },
    {
     "name": "stderr",
     "output_type": "stream",
     "text": [
      "100%|██████████| 100/100 [00:00<00:00, 214.59it/s]\n"
     ]
    },
    {
     "name": "stdout",
     "output_type": "stream",
     "text": [
      "N:50 R:0.40000000000000013 a:2.5 b:2.5 func:HK_2D_sim count:2891\n"
     ]
    },
    {
     "name": "stderr",
     "output_type": "stream",
     "text": [
      "100%|██████████| 100/100 [00:00<00:00, 213.96it/s]\n"
     ]
    },
    {
     "name": "stdout",
     "output_type": "stream",
     "text": [
      "N:50 R:0.40000000000000013 a:3.0 b:3.0 func:HK_2D_sim count:2991\n"
     ]
    },
    {
     "name": "stderr",
     "output_type": "stream",
     "text": [
      "100%|██████████| 100/100 [00:00<00:00, 227.67it/s]\n"
     ]
    },
    {
     "name": "stdout",
     "output_type": "stream",
     "text": [
      "N:50 R:0.40000000000000013 a:3.5 b:3.5 func:HK_2D_sim count:3091\n"
     ]
    },
    {
     "name": "stderr",
     "output_type": "stream",
     "text": [
      "100%|██████████| 100/100 [00:00<00:00, 230.77it/s]\n"
     ]
    },
    {
     "name": "stdout",
     "output_type": "stream",
     "text": [
      "N:50 R:0.40000000000000013 a:4.0 b:4.0 func:HK_2D_sim count:3191\n"
     ]
    },
    {
     "name": "stderr",
     "output_type": "stream",
     "text": [
      "100%|██████████| 100/100 [00:00<00:00, 261.75it/s]\n"
     ]
    },
    {
     "name": "stdout",
     "output_type": "stream",
     "text": [
      "N:50 R:0.40000000000000013 a:4.5 b:4.5 func:HK_2D_sim count:3291\n"
     ]
    },
    {
     "name": "stderr",
     "output_type": "stream",
     "text": [
      "100%|██████████| 100/100 [00:00<00:00, 270.24it/s]\n"
     ]
    },
    {
     "name": "stdout",
     "output_type": "stream",
     "text": [
      "N:50 R:0.40000000000000013 a:5.0 b:5.0 func:HK_2D_sim count:3391\n"
     ]
    },
    {
     "name": "stderr",
     "output_type": "stream",
     "text": [
      "100%|██████████| 100/100 [00:00<00:00, 269.35it/s]\n"
     ]
    },
    {
     "name": "stdout",
     "output_type": "stream",
     "text": [
      "N:50 R:0.45000000000000007 a:0.5 b:0.5 func:HK_2D_sim count:3491\n"
     ]
    },
    {
     "name": "stderr",
     "output_type": "stream",
     "text": [
      "100%|██████████| 100/100 [00:00<00:00, 136.87it/s]\n"
     ]
    },
    {
     "name": "stdout",
     "output_type": "stream",
     "text": [
      "N:50 R:0.45000000000000007 a:1.0 b:1.0 func:HK_2D_sim count:3567\n"
     ]
    },
    {
     "name": "stderr",
     "output_type": "stream",
     "text": [
      "100%|██████████| 100/100 [00:00<00:00, 198.56it/s]\n"
     ]
    },
    {
     "name": "stdout",
     "output_type": "stream",
     "text": [
      "N:50 R:0.45000000000000007 a:1.5 b:1.5 func:HK_2D_sim count:3667\n"
     ]
    },
    {
     "name": "stderr",
     "output_type": "stream",
     "text": [
      "100%|██████████| 100/100 [00:00<00:00, 204.49it/s]\n"
     ]
    },
    {
     "name": "stdout",
     "output_type": "stream",
     "text": [
      "N:50 R:0.45000000000000007 a:2.0 b:2.0 func:HK_2D_sim count:3767\n"
     ]
    },
    {
     "name": "stderr",
     "output_type": "stream",
     "text": [
      "100%|██████████| 100/100 [00:00<00:00, 217.72it/s]\n"
     ]
    },
    {
     "name": "stdout",
     "output_type": "stream",
     "text": [
      "N:50 R:0.45000000000000007 a:2.5 b:2.5 func:HK_2D_sim count:3867\n"
     ]
    },
    {
     "name": "stderr",
     "output_type": "stream",
     "text": [
      "100%|██████████| 100/100 [00:00<00:00, 248.12it/s]\n"
     ]
    },
    {
     "name": "stdout",
     "output_type": "stream",
     "text": [
      "N:50 R:0.45000000000000007 a:3.0 b:3.0 func:HK_2D_sim count:3967\n"
     ]
    },
    {
     "name": "stderr",
     "output_type": "stream",
     "text": [
      "100%|██████████| 100/100 [00:00<00:00, 256.25it/s]\n"
     ]
    },
    {
     "name": "stdout",
     "output_type": "stream",
     "text": [
      "N:50 R:0.45000000000000007 a:3.5 b:3.5 func:HK_2D_sim count:4067\n"
     ]
    },
    {
     "name": "stderr",
     "output_type": "stream",
     "text": [
      "100%|██████████| 100/100 [00:00<00:00, 269.52it/s]\n"
     ]
    },
    {
     "name": "stdout",
     "output_type": "stream",
     "text": [
      "N:50 R:0.45000000000000007 a:4.0 b:4.0 func:HK_2D_sim count:4167\n"
     ]
    },
    {
     "name": "stderr",
     "output_type": "stream",
     "text": [
      "100%|██████████| 100/100 [00:00<00:00, 271.57it/s]\n"
     ]
    },
    {
     "name": "stdout",
     "output_type": "stream",
     "text": [
      "N:50 R:0.45000000000000007 a:4.5 b:4.5 func:HK_2D_sim count:4267\n"
     ]
    },
    {
     "name": "stderr",
     "output_type": "stream",
     "text": [
      "100%|██████████| 100/100 [00:00<00:00, 266.67it/s]\n"
     ]
    },
    {
     "name": "stdout",
     "output_type": "stream",
     "text": [
      "N:50 R:0.45000000000000007 a:5.0 b:5.0 func:HK_2D_sim count:4367\n"
     ]
    },
    {
     "name": "stderr",
     "output_type": "stream",
     "text": [
      "100%|██████████| 100/100 [00:00<00:00, 268.81it/s]\n"
     ]
    },
    {
     "name": "stdout",
     "output_type": "stream",
     "text": [
      "N:50 R:0.5000000000000001 a:0.5 b:0.5 func:HK_2D_sim count:4467\n"
     ]
    },
    {
     "name": "stderr",
     "output_type": "stream",
     "text": [
      "100%|██████████| 100/100 [00:00<00:00, 157.14it/s]\n"
     ]
    },
    {
     "name": "stdout",
     "output_type": "stream",
     "text": [
      "N:50 R:0.5000000000000001 a:1.0 b:1.0 func:HK_2D_sim count:4565\n"
     ]
    },
    {
     "name": "stderr",
     "output_type": "stream",
     "text": [
      "100%|██████████| 100/100 [00:00<00:00, 212.71it/s]\n"
     ]
    },
    {
     "name": "stdout",
     "output_type": "stream",
     "text": [
      "N:50 R:0.5000000000000001 a:1.5 b:1.5 func:HK_2D_sim count:4665\n"
     ]
    },
    {
     "name": "stderr",
     "output_type": "stream",
     "text": [
      "100%|██████████| 100/100 [00:00<00:00, 219.64it/s]\n"
     ]
    },
    {
     "name": "stdout",
     "output_type": "stream",
     "text": [
      "N:50 R:0.5000000000000001 a:2.0 b:2.0 func:HK_2D_sim count:4765\n"
     ]
    },
    {
     "name": "stderr",
     "output_type": "stream",
     "text": [
      "100%|██████████| 100/100 [00:00<00:00, 249.36it/s]\n"
     ]
    },
    {
     "name": "stdout",
     "output_type": "stream",
     "text": [
      "N:50 R:0.5000000000000001 a:2.5 b:2.5 func:HK_2D_sim count:4865\n"
     ]
    },
    {
     "name": "stderr",
     "output_type": "stream",
     "text": [
      "100%|██████████| 100/100 [00:00<00:00, 267.78it/s]\n"
     ]
    },
    {
     "name": "stdout",
     "output_type": "stream",
     "text": [
      "N:50 R:0.5000000000000001 a:3.0 b:3.0 func:HK_2D_sim count:4965\n"
     ]
    },
    {
     "name": "stderr",
     "output_type": "stream",
     "text": [
      "100%|██████████| 100/100 [00:00<00:00, 268.53it/s]\n"
     ]
    },
    {
     "name": "stdout",
     "output_type": "stream",
     "text": [
      "N:50 R:0.5000000000000001 a:3.5 b:3.5 func:HK_2D_sim count:5065\n"
     ]
    },
    {
     "name": "stderr",
     "output_type": "stream",
     "text": [
      "100%|██████████| 100/100 [00:00<00:00, 271.71it/s]\n"
     ]
    },
    {
     "name": "stdout",
     "output_type": "stream",
     "text": [
      "N:50 R:0.5000000000000001 a:4.0 b:4.0 func:HK_2D_sim count:5165\n"
     ]
    },
    {
     "name": "stderr",
     "output_type": "stream",
     "text": [
      "100%|██████████| 100/100 [00:00<00:00, 252.38it/s]\n"
     ]
    },
    {
     "name": "stdout",
     "output_type": "stream",
     "text": [
      "N:50 R:0.5000000000000001 a:4.5 b:4.5 func:HK_2D_sim count:5265\n"
     ]
    },
    {
     "name": "stderr",
     "output_type": "stream",
     "text": [
      "100%|██████████| 100/100 [00:00<00:00, 268.82it/s]\n"
     ]
    },
    {
     "name": "stdout",
     "output_type": "stream",
     "text": [
      "N:50 R:0.5000000000000001 a:5.0 b:5.0 func:HK_2D_sim count:5365\n"
     ]
    },
    {
     "name": "stderr",
     "output_type": "stream",
     "text": [
      "100%|██████████| 100/100 [00:00<00:00, 266.45it/s]\n"
     ]
    },
    {
     "name": "stdout",
     "output_type": "stream",
     "text": [
      "N:50 R:0.5500000000000002 a:0.5 b:0.5 func:HK_2D_sim count:5465\n"
     ]
    },
    {
     "name": "stderr",
     "output_type": "stream",
     "text": [
      "100%|██████████| 100/100 [00:00<00:00, 188.69it/s]\n"
     ]
    },
    {
     "name": "stdout",
     "output_type": "stream",
     "text": [
      "N:50 R:0.5500000000000002 a:1.0 b:1.0 func:HK_2D_sim count:5565\n"
     ]
    },
    {
     "name": "stderr",
     "output_type": "stream",
     "text": [
      "100%|██████████| 100/100 [00:00<00:00, 216.81it/s]\n"
     ]
    },
    {
     "name": "stdout",
     "output_type": "stream",
     "text": [
      "N:50 R:0.5500000000000002 a:1.5 b:1.5 func:HK_2D_sim count:5665\n"
     ]
    },
    {
     "name": "stderr",
     "output_type": "stream",
     "text": [
      "100%|██████████| 100/100 [00:00<00:00, 243.20it/s]\n"
     ]
    },
    {
     "name": "stdout",
     "output_type": "stream",
     "text": [
      "N:50 R:0.5500000000000002 a:2.0 b:2.0 func:HK_2D_sim count:5765\n"
     ]
    },
    {
     "name": "stderr",
     "output_type": "stream",
     "text": [
      "100%|██████████| 100/100 [00:00<00:00, 262.20it/s]\n"
     ]
    },
    {
     "name": "stdout",
     "output_type": "stream",
     "text": [
      "N:50 R:0.5500000000000002 a:2.5 b:2.5 func:HK_2D_sim count:5865\n"
     ]
    },
    {
     "name": "stderr",
     "output_type": "stream",
     "text": [
      "100%|██████████| 100/100 [00:00<00:00, 246.10it/s]\n"
     ]
    },
    {
     "name": "stdout",
     "output_type": "stream",
     "text": [
      "N:50 R:0.5500000000000002 a:3.0 b:3.0 func:HK_2D_sim count:5965\n"
     ]
    },
    {
     "name": "stderr",
     "output_type": "stream",
     "text": [
      "100%|██████████| 100/100 [00:00<00:00, 271.74it/s]\n"
     ]
    },
    {
     "name": "stdout",
     "output_type": "stream",
     "text": [
      "N:50 R:0.5500000000000002 a:3.5 b:3.5 func:HK_2D_sim count:6065\n"
     ]
    },
    {
     "name": "stderr",
     "output_type": "stream",
     "text": [
      "100%|██████████| 100/100 [00:00<00:00, 269.53it/s]\n"
     ]
    },
    {
     "name": "stdout",
     "output_type": "stream",
     "text": [
      "N:50 R:0.5500000000000002 a:4.0 b:4.0 func:HK_2D_sim count:6165\n"
     ]
    },
    {
     "name": "stderr",
     "output_type": "stream",
     "text": [
      "100%|██████████| 100/100 [00:00<00:00, 266.29it/s]\n"
     ]
    },
    {
     "name": "stdout",
     "output_type": "stream",
     "text": [
      "N:50 R:0.5500000000000002 a:4.5 b:4.5 func:HK_2D_sim count:6265\n"
     ]
    },
    {
     "name": "stderr",
     "output_type": "stream",
     "text": [
      "100%|██████████| 100/100 [00:00<00:00, 271.75it/s]\n"
     ]
    },
    {
     "name": "stdout",
     "output_type": "stream",
     "text": [
      "N:50 R:0.5500000000000002 a:5.0 b:5.0 func:HK_2D_sim count:6365\n"
     ]
    },
    {
     "name": "stderr",
     "output_type": "stream",
     "text": [
      "100%|██████████| 100/100 [00:00<00:00, 258.22it/s]\n"
     ]
    },
    {
     "name": "stdout",
     "output_type": "stream",
     "text": [
      "N:50 R:0.6000000000000002 a:0.5 b:0.5 func:HK_2D_sim count:6465\n"
     ]
    },
    {
     "name": "stderr",
     "output_type": "stream",
     "text": [
      "100%|██████████| 100/100 [00:00<00:00, 210.96it/s]\n"
     ]
    },
    {
     "name": "stdout",
     "output_type": "stream",
     "text": [
      "N:50 R:0.6000000000000002 a:1.0 b:1.0 func:HK_2D_sim count:6565\n"
     ]
    },
    {
     "name": "stderr",
     "output_type": "stream",
     "text": [
      "100%|██████████| 100/100 [00:00<00:00, 220.12it/s]\n"
     ]
    },
    {
     "name": "stdout",
     "output_type": "stream",
     "text": [
      "N:50 R:0.6000000000000002 a:1.5 b:1.5 func:HK_2D_sim count:6665\n"
     ]
    },
    {
     "name": "stderr",
     "output_type": "stream",
     "text": [
      "100%|██████████| 100/100 [00:00<00:00, 264.55it/s]\n"
     ]
    },
    {
     "name": "stdout",
     "output_type": "stream",
     "text": [
      "N:50 R:0.6000000000000002 a:2.0 b:2.0 func:HK_2D_sim count:6765\n"
     ]
    },
    {
     "name": "stderr",
     "output_type": "stream",
     "text": [
      "100%|██████████| 100/100 [00:00<00:00, 268.80it/s]\n"
     ]
    },
    {
     "name": "stdout",
     "output_type": "stream",
     "text": [
      "N:50 R:0.6000000000000002 a:2.5 b:2.5 func:HK_2D_sim count:6865\n"
     ]
    },
    {
     "name": "stderr",
     "output_type": "stream",
     "text": [
      "100%|██████████| 100/100 [00:00<00:00, 267.20it/s]\n"
     ]
    },
    {
     "name": "stdout",
     "output_type": "stream",
     "text": [
      "N:50 R:0.6000000000000002 a:3.0 b:3.0 func:HK_2D_sim count:6965\n"
     ]
    },
    {
     "name": "stderr",
     "output_type": "stream",
     "text": [
      "100%|██████████| 100/100 [00:00<00:00, 270.29it/s]\n"
     ]
    },
    {
     "name": "stdout",
     "output_type": "stream",
     "text": [
      "N:50 R:0.6000000000000002 a:3.5 b:3.5 func:HK_2D_sim count:7065\n"
     ]
    },
    {
     "name": "stderr",
     "output_type": "stream",
     "text": [
      "100%|██████████| 100/100 [00:00<00:00, 267.50it/s]\n"
     ]
    },
    {
     "name": "stdout",
     "output_type": "stream",
     "text": [
      "N:50 R:0.6000000000000002 a:4.0 b:4.0 func:HK_2D_sim count:7165\n"
     ]
    },
    {
     "name": "stderr",
     "output_type": "stream",
     "text": [
      "100%|██████████| 100/100 [00:00<00:00, 265.60it/s]\n"
     ]
    },
    {
     "name": "stdout",
     "output_type": "stream",
     "text": [
      "N:50 R:0.6000000000000002 a:4.5 b:4.5 func:HK_2D_sim count:7265\n"
     ]
    },
    {
     "name": "stderr",
     "output_type": "stream",
     "text": [
      "100%|██████████| 100/100 [00:00<00:00, 257.06it/s]\n"
     ]
    },
    {
     "name": "stdout",
     "output_type": "stream",
     "text": [
      "N:50 R:0.6000000000000002 a:5.0 b:5.0 func:HK_2D_sim count:7365\n"
     ]
    },
    {
     "name": "stderr",
     "output_type": "stream",
     "text": [
      "100%|██████████| 100/100 [00:00<00:00, 272.95it/s]\n"
     ]
    },
    {
     "name": "stdout",
     "output_type": "stream",
     "text": [
      "N:50 R:0.6500000000000002 a:0.5 b:0.5 func:HK_2D_sim count:7465\n"
     ]
    },
    {
     "name": "stderr",
     "output_type": "stream",
     "text": [
      "100%|██████████| 100/100 [00:00<00:00, 211.85it/s]\n"
     ]
    },
    {
     "name": "stdout",
     "output_type": "stream",
     "text": [
      "N:50 R:0.6500000000000002 a:1.0 b:1.0 func:HK_2D_sim count:7565\n"
     ]
    },
    {
     "name": "stderr",
     "output_type": "stream",
     "text": [
      "100%|██████████| 100/100 [00:00<00:00, 260.67it/s]\n"
     ]
    },
    {
     "name": "stdout",
     "output_type": "stream",
     "text": [
      "N:50 R:0.6500000000000002 a:1.5 b:1.5 func:HK_2D_sim count:7665\n"
     ]
    },
    {
     "name": "stderr",
     "output_type": "stream",
     "text": [
      "100%|██████████| 100/100 [00:00<00:00, 264.48it/s]\n"
     ]
    },
    {
     "name": "stdout",
     "output_type": "stream",
     "text": [
      "N:50 R:0.6500000000000002 a:2.0 b:2.0 func:HK_2D_sim count:7765\n"
     ]
    },
    {
     "name": "stderr",
     "output_type": "stream",
     "text": [
      "100%|██████████| 100/100 [00:00<00:00, 266.06it/s]\n"
     ]
    },
    {
     "name": "stdout",
     "output_type": "stream",
     "text": [
      "N:50 R:0.6500000000000002 a:2.5 b:2.5 func:HK_2D_sim count:7865\n"
     ]
    },
    {
     "name": "stderr",
     "output_type": "stream",
     "text": [
      "100%|██████████| 100/100 [00:00<00:00, 270.78it/s]\n"
     ]
    },
    {
     "name": "stdout",
     "output_type": "stream",
     "text": [
      "N:50 R:0.6500000000000002 a:3.0 b:3.0 func:HK_2D_sim count:7965\n"
     ]
    },
    {
     "name": "stderr",
     "output_type": "stream",
     "text": [
      "100%|██████████| 100/100 [00:00<00:00, 251.87it/s]\n"
     ]
    },
    {
     "name": "stdout",
     "output_type": "stream",
     "text": [
      "N:50 R:0.6500000000000002 a:3.5 b:3.5 func:HK_2D_sim count:8065\n"
     ]
    },
    {
     "name": "stderr",
     "output_type": "stream",
     "text": [
      "100%|██████████| 100/100 [00:00<00:00, 273.02it/s]\n"
     ]
    },
    {
     "name": "stdout",
     "output_type": "stream",
     "text": [
      "N:50 R:0.6500000000000002 a:4.0 b:4.0 func:HK_2D_sim count:8165\n"
     ]
    },
    {
     "name": "stderr",
     "output_type": "stream",
     "text": [
      "100%|██████████| 100/100 [00:00<00:00, 265.77it/s]\n"
     ]
    },
    {
     "name": "stdout",
     "output_type": "stream",
     "text": [
      "N:50 R:0.6500000000000002 a:4.5 b:4.5 func:HK_2D_sim count:8265\n"
     ]
    },
    {
     "name": "stderr",
     "output_type": "stream",
     "text": [
      "100%|██████████| 100/100 [00:00<00:00, 275.38it/s]\n"
     ]
    },
    {
     "name": "stdout",
     "output_type": "stream",
     "text": [
      "N:50 R:0.6500000000000002 a:5.0 b:5.0 func:HK_2D_sim count:8365\n"
     ]
    },
    {
     "name": "stderr",
     "output_type": "stream",
     "text": [
      "100%|██████████| 100/100 [00:00<00:00, 270.55it/s]\n"
     ]
    },
    {
     "name": "stdout",
     "output_type": "stream",
     "text": [
      "N:50 R:0.7000000000000002 a:0.5 b:0.5 func:HK_2D_sim count:8465\n"
     ]
    },
    {
     "name": "stderr",
     "output_type": "stream",
     "text": [
      "100%|██████████| 100/100 [00:00<00:00, 213.87it/s]\n"
     ]
    },
    {
     "name": "stdout",
     "output_type": "stream",
     "text": [
      "N:50 R:0.7000000000000002 a:1.0 b:1.0 func:HK_2D_sim count:8565\n"
     ]
    },
    {
     "name": "stderr",
     "output_type": "stream",
     "text": [
      "100%|██████████| 100/100 [00:00<00:00, 265.76it/s]\n"
     ]
    },
    {
     "name": "stdout",
     "output_type": "stream",
     "text": [
      "N:50 R:0.7000000000000002 a:1.5 b:1.5 func:HK_2D_sim count:8665\n"
     ]
    },
    {
     "name": "stderr",
     "output_type": "stream",
     "text": [
      "100%|██████████| 100/100 [00:00<00:00, 230.82it/s]\n"
     ]
    },
    {
     "name": "stdout",
     "output_type": "stream",
     "text": [
      "N:50 R:0.7000000000000002 a:2.0 b:2.0 func:HK_2D_sim count:8765\n"
     ]
    },
    {
     "name": "stderr",
     "output_type": "stream",
     "text": [
      "100%|██████████| 100/100 [00:00<00:00, 264.53it/s]\n"
     ]
    },
    {
     "name": "stdout",
     "output_type": "stream",
     "text": [
      "N:50 R:0.7000000000000002 a:2.5 b:2.5 func:HK_2D_sim count:8865\n"
     ]
    },
    {
     "name": "stderr",
     "output_type": "stream",
     "text": [
      "100%|██████████| 100/100 [00:00<00:00, 263.54it/s]\n"
     ]
    },
    {
     "name": "stdout",
     "output_type": "stream",
     "text": [
      "N:50 R:0.7000000000000002 a:3.0 b:3.0 func:HK_2D_sim count:8965\n"
     ]
    },
    {
     "name": "stderr",
     "output_type": "stream",
     "text": [
      "100%|██████████| 100/100 [00:00<00:00, 268.08it/s]\n"
     ]
    },
    {
     "name": "stdout",
     "output_type": "stream",
     "text": [
      "N:50 R:0.7000000000000002 a:3.5 b:3.5 func:HK_2D_sim count:9065\n"
     ]
    },
    {
     "name": "stderr",
     "output_type": "stream",
     "text": [
      "100%|██████████| 100/100 [00:00<00:00, 271.71it/s]\n"
     ]
    },
    {
     "name": "stdout",
     "output_type": "stream",
     "text": [
      "N:50 R:0.7000000000000002 a:4.0 b:4.0 func:HK_2D_sim count:9165\n"
     ]
    },
    {
     "name": "stderr",
     "output_type": "stream",
     "text": [
      "100%|██████████| 100/100 [00:00<00:00, 272.22it/s]\n"
     ]
    },
    {
     "name": "stdout",
     "output_type": "stream",
     "text": [
      "N:50 R:0.7000000000000002 a:4.5 b:4.5 func:HK_2D_sim count:9265\n"
     ]
    },
    {
     "name": "stderr",
     "output_type": "stream",
     "text": [
      "100%|██████████| 100/100 [00:00<00:00, 276.22it/s]\n"
     ]
    },
    {
     "name": "stdout",
     "output_type": "stream",
     "text": [
      "N:50 R:0.7000000000000002 a:5.0 b:5.0 func:HK_2D_sim count:9365\n"
     ]
    },
    {
     "name": "stderr",
     "output_type": "stream",
     "text": [
      "100%|██████████| 100/100 [00:00<00:00, 268.07it/s]\n"
     ]
    },
    {
     "name": "stdout",
     "output_type": "stream",
     "text": [
      "N:50 R:0.7500000000000002 a:0.5 b:0.5 func:HK_2D_sim count:9465\n"
     ]
    },
    {
     "name": "stderr",
     "output_type": "stream",
     "text": [
      "100%|██████████| 100/100 [00:00<00:00, 254.92it/s]\n"
     ]
    },
    {
     "name": "stdout",
     "output_type": "stream",
     "text": [
      "N:50 R:0.7500000000000002 a:1.0 b:1.0 func:HK_2D_sim count:9565\n"
     ]
    },
    {
     "name": "stderr",
     "output_type": "stream",
     "text": [
      "100%|██████████| 100/100 [00:00<00:00, 268.10it/s]\n"
     ]
    },
    {
     "name": "stdout",
     "output_type": "stream",
     "text": [
      "N:50 R:0.7500000000000002 a:1.5 b:1.5 func:HK_2D_sim count:9665\n"
     ]
    },
    {
     "name": "stderr",
     "output_type": "stream",
     "text": [
      "100%|██████████| 100/100 [00:00<00:00, 268.94it/s]\n"
     ]
    },
    {
     "name": "stdout",
     "output_type": "stream",
     "text": [
      "N:50 R:0.7500000000000002 a:2.0 b:2.0 func:HK_2D_sim count:9765\n"
     ]
    },
    {
     "name": "stderr",
     "output_type": "stream",
     "text": [
      "100%|██████████| 100/100 [00:00<00:00, 266.22it/s]\n"
     ]
    },
    {
     "name": "stdout",
     "output_type": "stream",
     "text": [
      "N:50 R:0.7500000000000002 a:2.5 b:2.5 func:HK_2D_sim count:9865\n"
     ]
    },
    {
     "name": "stderr",
     "output_type": "stream",
     "text": [
      "100%|██████████| 100/100 [00:00<00:00, 268.80it/s]\n"
     ]
    },
    {
     "name": "stdout",
     "output_type": "stream",
     "text": [
      "N:50 R:0.7500000000000002 a:3.0 b:3.0 func:HK_2D_sim count:9965\n"
     ]
    },
    {
     "name": "stderr",
     "output_type": "stream",
     "text": [
      "100%|██████████| 100/100 [00:00<00:00, 270.76it/s]\n"
     ]
    },
    {
     "name": "stdout",
     "output_type": "stream",
     "text": [
      "N:50 R:0.7500000000000002 a:3.5 b:3.5 func:HK_2D_sim count:10065\n"
     ]
    },
    {
     "name": "stderr",
     "output_type": "stream",
     "text": [
      "100%|██████████| 100/100 [00:00<00:00, 251.26it/s]\n"
     ]
    },
    {
     "name": "stdout",
     "output_type": "stream",
     "text": [
      "N:50 R:0.7500000000000002 a:4.0 b:4.0 func:HK_2D_sim count:10165\n"
     ]
    },
    {
     "name": "stderr",
     "output_type": "stream",
     "text": [
      "100%|██████████| 100/100 [00:00<00:00, 288.16it/s]\n"
     ]
    },
    {
     "name": "stdout",
     "output_type": "stream",
     "text": [
      "N:50 R:0.7500000000000002 a:4.5 b:4.5 func:HK_2D_sim count:10265\n"
     ]
    },
    {
     "name": "stderr",
     "output_type": "stream",
     "text": [
      "100%|██████████| 100/100 [00:00<00:00, 305.55it/s]\n"
     ]
    },
    {
     "name": "stdout",
     "output_type": "stream",
     "text": [
      "N:50 R:0.7500000000000002 a:5.0 b:5.0 func:HK_2D_sim count:10365\n"
     ]
    },
    {
     "name": "stderr",
     "output_type": "stream",
     "text": [
      "100%|██████████| 100/100 [00:00<00:00, 303.95it/s]\n"
     ]
    },
    {
     "name": "stdout",
     "output_type": "stream",
     "text": [
      "N:50 R:0.8000000000000003 a:0.5 b:0.5 func:HK_2D_sim count:10465\n"
     ]
    },
    {
     "name": "stderr",
     "output_type": "stream",
     "text": [
      "100%|██████████| 100/100 [00:00<00:00, 262.33it/s]\n"
     ]
    },
    {
     "name": "stdout",
     "output_type": "stream",
     "text": [
      "N:50 R:0.8000000000000003 a:1.0 b:1.0 func:HK_2D_sim count:10565\n"
     ]
    },
    {
     "name": "stderr",
     "output_type": "stream",
     "text": [
      "100%|██████████| 100/100 [00:00<00:00, 258.36it/s]\n"
     ]
    },
    {
     "name": "stdout",
     "output_type": "stream",
     "text": [
      "N:50 R:0.8000000000000003 a:1.5 b:1.5 func:HK_2D_sim count:10665\n"
     ]
    },
    {
     "name": "stderr",
     "output_type": "stream",
     "text": [
      "100%|██████████| 100/100 [00:00<00:00, 267.63it/s]\n"
     ]
    },
    {
     "name": "stdout",
     "output_type": "stream",
     "text": [
      "N:50 R:0.8000000000000003 a:2.0 b:2.0 func:HK_2D_sim count:10765\n"
     ]
    },
    {
     "name": "stderr",
     "output_type": "stream",
     "text": [
      "100%|██████████| 100/100 [00:00<00:00, 249.75it/s]\n"
     ]
    },
    {
     "name": "stdout",
     "output_type": "stream",
     "text": [
      "N:50 R:0.8000000000000003 a:2.5 b:2.5 func:HK_2D_sim count:10865\n"
     ]
    },
    {
     "name": "stderr",
     "output_type": "stream",
     "text": [
      "100%|██████████| 100/100 [00:00<00:00, 261.77it/s]\n"
     ]
    },
    {
     "name": "stdout",
     "output_type": "stream",
     "text": [
      "N:50 R:0.8000000000000003 a:3.0 b:3.0 func:HK_2D_sim count:10965\n"
     ]
    },
    {
     "name": "stderr",
     "output_type": "stream",
     "text": [
      "100%|██████████| 100/100 [00:00<00:00, 273.21it/s]\n"
     ]
    },
    {
     "name": "stdout",
     "output_type": "stream",
     "text": [
      "N:50 R:0.8000000000000003 a:3.5 b:3.5 func:HK_2D_sim count:11065\n"
     ]
    },
    {
     "name": "stderr",
     "output_type": "stream",
     "text": [
      "100%|██████████| 100/100 [00:00<00:00, 289.64it/s]\n"
     ]
    },
    {
     "name": "stdout",
     "output_type": "stream",
     "text": [
      "N:50 R:0.8000000000000003 a:4.0 b:4.0 func:HK_2D_sim count:11165\n"
     ]
    },
    {
     "name": "stderr",
     "output_type": "stream",
     "text": [
      "100%|██████████| 100/100 [00:00<00:00, 309.37it/s]\n"
     ]
    },
    {
     "name": "stdout",
     "output_type": "stream",
     "text": [
      "N:50 R:0.8000000000000003 a:4.5 b:4.5 func:HK_2D_sim count:11265\n"
     ]
    },
    {
     "name": "stderr",
     "output_type": "stream",
     "text": [
      "100%|██████████| 100/100 [00:00<00:00, 332.11it/s]\n"
     ]
    },
    {
     "name": "stdout",
     "output_type": "stream",
     "text": [
      "N:50 R:0.8000000000000003 a:5.0 b:5.0 func:HK_2D_sim count:11365\n"
     ]
    },
    {
     "name": "stderr",
     "output_type": "stream",
     "text": [
      "100%|██████████| 100/100 [00:00<00:00, 346.91it/s]\n"
     ]
    },
    {
     "name": "stdout",
     "output_type": "stream",
     "text": [
      "N:50 R:0.8500000000000002 a:0.5 b:0.5 func:HK_2D_sim count:11465\n"
     ]
    },
    {
     "name": "stderr",
     "output_type": "stream",
     "text": [
      "100%|██████████| 100/100 [00:00<00:00, 263.16it/s]\n"
     ]
    },
    {
     "name": "stdout",
     "output_type": "stream",
     "text": [
      "N:50 R:0.8500000000000002 a:1.0 b:1.0 func:HK_2D_sim count:11565\n"
     ]
    },
    {
     "name": "stderr",
     "output_type": "stream",
     "text": [
      "100%|██████████| 100/100 [00:00<00:00, 239.00it/s]\n"
     ]
    },
    {
     "name": "stdout",
     "output_type": "stream",
     "text": [
      "N:50 R:0.8500000000000002 a:1.5 b:1.5 func:HK_2D_sim count:11665\n"
     ]
    },
    {
     "name": "stderr",
     "output_type": "stream",
     "text": [
      "100%|██████████| 100/100 [00:00<00:00, 267.66it/s]\n"
     ]
    },
    {
     "name": "stdout",
     "output_type": "stream",
     "text": [
      "N:50 R:0.8500000000000002 a:2.0 b:2.0 func:HK_2D_sim count:11765\n"
     ]
    },
    {
     "name": "stderr",
     "output_type": "stream",
     "text": [
      "100%|██████████| 100/100 [00:00<00:00, 261.10it/s]\n"
     ]
    },
    {
     "name": "stdout",
     "output_type": "stream",
     "text": [
      "N:50 R:0.8500000000000002 a:2.5 b:2.5 func:HK_2D_sim count:11865\n"
     ]
    },
    {
     "name": "stderr",
     "output_type": "stream",
     "text": [
      "100%|██████████| 100/100 [00:00<00:00, 239.74it/s]\n"
     ]
    },
    {
     "name": "stdout",
     "output_type": "stream",
     "text": [
      "N:50 R:0.8500000000000002 a:3.0 b:3.0 func:HK_2D_sim count:11965\n"
     ]
    },
    {
     "name": "stderr",
     "output_type": "stream",
     "text": [
      "100%|██████████| 100/100 [00:00<00:00, 286.66it/s]\n"
     ]
    },
    {
     "name": "stdout",
     "output_type": "stream",
     "text": [
      "N:50 R:0.8500000000000002 a:3.5 b:3.5 func:HK_2D_sim count:12065\n"
     ]
    },
    {
     "name": "stderr",
     "output_type": "stream",
     "text": [
      "100%|██████████| 100/100 [00:00<00:00, 329.66it/s]\n"
     ]
    },
    {
     "name": "stdout",
     "output_type": "stream",
     "text": [
      "N:50 R:0.8500000000000002 a:4.0 b:4.0 func:HK_2D_sim count:12165\n"
     ]
    },
    {
     "name": "stderr",
     "output_type": "stream",
     "text": [
      "100%|██████████| 100/100 [00:00<00:00, 336.36it/s]\n"
     ]
    },
    {
     "name": "stdout",
     "output_type": "stream",
     "text": [
      "N:50 R:0.8500000000000002 a:4.5 b:4.5 func:HK_2D_sim count:12265\n"
     ]
    },
    {
     "name": "stderr",
     "output_type": "stream",
     "text": [
      "100%|██████████| 100/100 [00:00<00:00, 301.21it/s]\n"
     ]
    },
    {
     "name": "stdout",
     "output_type": "stream",
     "text": [
      "N:50 R:0.8500000000000002 a:5.0 b:5.0 func:HK_2D_sim count:12365\n"
     ]
    },
    {
     "name": "stderr",
     "output_type": "stream",
     "text": [
      "100%|██████████| 100/100 [00:00<00:00, 348.92it/s]\n"
     ]
    },
    {
     "name": "stdout",
     "output_type": "stream",
     "text": [
      "N:50 R:0.9000000000000002 a:0.5 b:0.5 func:HK_2D_sim count:12465\n"
     ]
    },
    {
     "name": "stderr",
     "output_type": "stream",
     "text": [
      "100%|██████████| 100/100 [00:00<00:00, 255.25it/s]\n"
     ]
    },
    {
     "name": "stdout",
     "output_type": "stream",
     "text": [
      "N:50 R:0.9000000000000002 a:1.0 b:1.0 func:HK_2D_sim count:12565\n"
     ]
    },
    {
     "name": "stderr",
     "output_type": "stream",
     "text": [
      "100%|██████████| 100/100 [00:00<00:00, 250.41it/s]\n"
     ]
    },
    {
     "name": "stdout",
     "output_type": "stream",
     "text": [
      "N:50 R:0.9000000000000002 a:1.5 b:1.5 func:HK_2D_sim count:12665\n"
     ]
    },
    {
     "name": "stderr",
     "output_type": "stream",
     "text": [
      "100%|██████████| 100/100 [00:00<00:00, 233.84it/s]\n"
     ]
    },
    {
     "name": "stdout",
     "output_type": "stream",
     "text": [
      "N:50 R:0.9000000000000002 a:2.0 b:2.0 func:HK_2D_sim count:12765\n"
     ]
    },
    {
     "name": "stderr",
     "output_type": "stream",
     "text": [
      "100%|██████████| 100/100 [00:00<00:00, 261.29it/s]\n"
     ]
    },
    {
     "name": "stdout",
     "output_type": "stream",
     "text": [
      "N:50 R:0.9000000000000002 a:2.5 b:2.5 func:HK_2D_sim count:12865\n"
     ]
    },
    {
     "name": "stderr",
     "output_type": "stream",
     "text": [
      "100%|██████████| 100/100 [00:00<00:00, 270.30it/s]\n"
     ]
    },
    {
     "name": "stdout",
     "output_type": "stream",
     "text": [
      "N:50 R:0.9000000000000002 a:3.0 b:3.0 func:HK_2D_sim count:12965\n"
     ]
    },
    {
     "name": "stderr",
     "output_type": "stream",
     "text": [
      "100%|██████████| 100/100 [00:00<00:00, 314.21it/s]\n"
     ]
    },
    {
     "name": "stdout",
     "output_type": "stream",
     "text": [
      "N:50 R:0.9000000000000002 a:3.5 b:3.5 func:HK_2D_sim count:13065\n"
     ]
    },
    {
     "name": "stderr",
     "output_type": "stream",
     "text": [
      "100%|██████████| 100/100 [00:00<00:00, 343.60it/s]\n"
     ]
    },
    {
     "name": "stdout",
     "output_type": "stream",
     "text": [
      "N:50 R:0.9000000000000002 a:4.0 b:4.0 func:HK_2D_sim count:13165\n"
     ]
    },
    {
     "name": "stderr",
     "output_type": "stream",
     "text": [
      "100%|██████████| 100/100 [00:00<00:00, 347.08it/s]\n"
     ]
    },
    {
     "name": "stdout",
     "output_type": "stream",
     "text": [
      "N:50 R:0.9000000000000002 a:4.5 b:4.5 func:HK_2D_sim count:13265\n"
     ]
    },
    {
     "name": "stderr",
     "output_type": "stream",
     "text": [
      "100%|██████████| 100/100 [00:00<00:00, 367.75it/s]\n"
     ]
    },
    {
     "name": "stdout",
     "output_type": "stream",
     "text": [
      "N:50 R:0.9000000000000002 a:5.0 b:5.0 func:HK_2D_sim count:13365\n"
     ]
    },
    {
     "name": "stderr",
     "output_type": "stream",
     "text": [
      "100%|██████████| 100/100 [00:00<00:00, 372.72it/s]\n"
     ]
    },
    {
     "name": "stdout",
     "output_type": "stream",
     "text": [
      "N:50 R:0.9500000000000003 a:0.5 b:0.5 func:HK_2D_sim count:13465\n"
     ]
    },
    {
     "name": "stderr",
     "output_type": "stream",
     "text": [
      "100%|██████████| 100/100 [00:00<00:00, 271.82it/s]\n"
     ]
    },
    {
     "name": "stdout",
     "output_type": "stream",
     "text": [
      "N:50 R:0.9500000000000003 a:1.0 b:1.0 func:HK_2D_sim count:13565\n"
     ]
    },
    {
     "name": "stderr",
     "output_type": "stream",
     "text": [
      "100%|██████████| 100/100 [00:00<00:00, 259.61it/s]\n"
     ]
    },
    {
     "name": "stdout",
     "output_type": "stream",
     "text": [
      "N:50 R:0.9500000000000003 a:1.5 b:1.5 func:HK_2D_sim count:13665\n"
     ]
    },
    {
     "name": "stderr",
     "output_type": "stream",
     "text": [
      "100%|██████████| 100/100 [00:00<00:00, 276.49it/s]\n"
     ]
    },
    {
     "name": "stdout",
     "output_type": "stream",
     "text": [
      "N:50 R:0.9500000000000003 a:2.0 b:2.0 func:HK_2D_sim count:13765\n"
     ]
    },
    {
     "name": "stderr",
     "output_type": "stream",
     "text": [
      "100%|██████████| 100/100 [00:00<00:00, 291.54it/s]\n"
     ]
    },
    {
     "name": "stdout",
     "output_type": "stream",
     "text": [
      "N:50 R:0.9500000000000003 a:2.5 b:2.5 func:HK_2D_sim count:13865\n"
     ]
    },
    {
     "name": "stderr",
     "output_type": "stream",
     "text": [
      "100%|██████████| 100/100 [00:00<00:00, 317.81it/s]\n"
     ]
    },
    {
     "name": "stdout",
     "output_type": "stream",
     "text": [
      "N:50 R:0.9500000000000003 a:3.0 b:3.0 func:HK_2D_sim count:13965\n"
     ]
    },
    {
     "name": "stderr",
     "output_type": "stream",
     "text": [
      "100%|██████████| 100/100 [00:00<00:00, 347.23it/s]\n"
     ]
    },
    {
     "name": "stdout",
     "output_type": "stream",
     "text": [
      "N:50 R:0.9500000000000003 a:3.5 b:3.5 func:HK_2D_sim count:14065\n"
     ]
    },
    {
     "name": "stderr",
     "output_type": "stream",
     "text": [
      "100%|██████████| 100/100 [00:00<00:00, 360.96it/s]\n"
     ]
    },
    {
     "name": "stdout",
     "output_type": "stream",
     "text": [
      "N:50 R:0.9500000000000003 a:4.0 b:4.0 func:HK_2D_sim count:14165\n"
     ]
    },
    {
     "name": "stderr",
     "output_type": "stream",
     "text": [
      "100%|██████████| 100/100 [00:00<00:00, 368.98it/s]\n"
     ]
    },
    {
     "name": "stdout",
     "output_type": "stream",
     "text": [
      "N:50 R:0.9500000000000003 a:4.5 b:4.5 func:HK_2D_sim count:14265\n"
     ]
    },
    {
     "name": "stderr",
     "output_type": "stream",
     "text": [
      "100%|██████████| 100/100 [00:00<00:00, 371.31it/s]\n"
     ]
    },
    {
     "name": "stdout",
     "output_type": "stream",
     "text": [
      "N:50 R:0.9500000000000003 a:5.0 b:5.0 func:HK_2D_sim count:14365\n"
     ]
    },
    {
     "name": "stderr",
     "output_type": "stream",
     "text": [
      "100%|██████████| 100/100 [00:00<00:00, 375.89it/s]\n"
     ]
    },
    {
     "name": "stdout",
     "output_type": "stream",
     "text": [
      "N:50 R:1.0000000000000002 a:0.5 b:0.5 func:HK_2D_sim count:14465\n"
     ]
    },
    {
     "name": "stderr",
     "output_type": "stream",
     "text": [
      "100%|██████████| 100/100 [00:00<00:00, 268.07it/s]\n"
     ]
    },
    {
     "name": "stdout",
     "output_type": "stream",
     "text": [
      "N:50 R:1.0000000000000002 a:1.0 b:1.0 func:HK_2D_sim count:14565\n"
     ]
    },
    {
     "name": "stderr",
     "output_type": "stream",
     "text": [
      "100%|██████████| 100/100 [00:00<00:00, 272.23it/s]\n"
     ]
    },
    {
     "name": "stdout",
     "output_type": "stream",
     "text": [
      "N:50 R:1.0000000000000002 a:1.5 b:1.5 func:HK_2D_sim count:14665\n"
     ]
    },
    {
     "name": "stderr",
     "output_type": "stream",
     "text": [
      "100%|██████████| 100/100 [00:00<00:00, 270.28it/s]\n"
     ]
    },
    {
     "name": "stdout",
     "output_type": "stream",
     "text": [
      "N:50 R:1.0000000000000002 a:2.0 b:2.0 func:HK_2D_sim count:14765\n"
     ]
    },
    {
     "name": "stderr",
     "output_type": "stream",
     "text": [
      "100%|██████████| 100/100 [00:00<00:00, 308.61it/s]\n"
     ]
    },
    {
     "name": "stdout",
     "output_type": "stream",
     "text": [
      "N:50 R:1.0000000000000002 a:2.5 b:2.5 func:HK_2D_sim count:14865\n"
     ]
    },
    {
     "name": "stderr",
     "output_type": "stream",
     "text": [
      "100%|██████████| 100/100 [00:00<00:00, 343.36it/s]\n"
     ]
    },
    {
     "name": "stdout",
     "output_type": "stream",
     "text": [
      "N:50 R:1.0000000000000002 a:3.0 b:3.0 func:HK_2D_sim count:14965\n"
     ]
    },
    {
     "name": "stderr",
     "output_type": "stream",
     "text": [
      "100%|██████████| 100/100 [00:00<00:00, 355.83it/s]\n"
     ]
    },
    {
     "name": "stdout",
     "output_type": "stream",
     "text": [
      "N:50 R:1.0000000000000002 a:3.5 b:3.5 func:HK_2D_sim count:15065\n"
     ]
    },
    {
     "name": "stderr",
     "output_type": "stream",
     "text": [
      "100%|██████████| 100/100 [00:00<00:00, 335.78it/s]\n"
     ]
    },
    {
     "name": "stdout",
     "output_type": "stream",
     "text": [
      "N:50 R:1.0000000000000002 a:4.0 b:4.0 func:HK_2D_sim count:15165\n"
     ]
    },
    {
     "name": "stderr",
     "output_type": "stream",
     "text": [
      "100%|██████████| 100/100 [00:00<00:00, 370.96it/s]\n"
     ]
    },
    {
     "name": "stdout",
     "output_type": "stream",
     "text": [
      "N:50 R:1.0000000000000002 a:4.5 b:4.5 func:HK_2D_sim count:15265\n"
     ]
    },
    {
     "name": "stderr",
     "output_type": "stream",
     "text": [
      "100%|██████████| 100/100 [00:00<00:00, 376.67it/s]\n"
     ]
    },
    {
     "name": "stdout",
     "output_type": "stream",
     "text": [
      "N:50 R:1.0000000000000002 a:5.0 b:5.0 func:HK_2D_sim count:15365\n"
     ]
    },
    {
     "name": "stderr",
     "output_type": "stream",
     "text": [
      "100%|██████████| 100/100 [00:00<00:00, 371.75it/s]\n"
     ]
    }
   ],
   "source": [
    "experiment = beta_distib_consensus_data.index[-1] +1\n",
    "\n",
    "simulation_func = HK_2D_sim_fast\n",
    "count_consensus = 0\n",
    "CONSENSUS_BORDER = 5\n",
    "for R in R_array:\n",
    "    for beta in beta_params_array:\n",
    "        alpha = beta\n",
    "        init_beta_distrib_consensus_data(beta_distib_consensus_data, experiment, N, alpha, beta, R)\n",
    "        if count_consensus>=CONSENSUS_BORDER: simulation_func=HK_2D_sim\n",
    "        print(f\"N:{N} R:{R} a:{alpha} b:{beta} func:{simulation_func.__name__} count:{count_consensus}\")\n",
    "\n",
    "        for i in trange(experiments):\n",
    "            x0 = np.random.beta(alpha, beta, (N,2))\n",
    "            res_arr_fast, check_fast = simulation_func(x0, R, R * 1e-3, 1000)\n",
    "            if check_fast:\n",
    "                cluster_of_agent, cluster_sizes = caln_n_clusters(res_arr_fast[-1, :, :], R)\n",
    "                experiment = beta_distib_consensus_data[\n",
    "                    ((beta_distib_consensus_data['N'] == N) \n",
    "                     & (beta_distib_consensus_data['alpha'] == alpha) \n",
    "                     & (beta_distib_consensus_data['beta'] == beta) \n",
    "                     & (beta_distib_consensus_data['eps'] == R))].index[0]\n",
    "                beta_distib_consensus_data.at[experiment, \"simulation_count\"] +=1\n",
    "                if len(cluster_sizes)==1:\n",
    "                    # we have consensus\n",
    "                    count_consensus+=1\n",
    "                    update_beta_distrib_consensus_data(beta_distib_consensus_data, experiment, res_arr_fast)\n",
    "            else:\n",
    "                draw_HK_2D_simulation(res_arr_fast, 'plasma')\n",
    "        experiment = beta_distib_consensus_data.index[-1] +1"
   ]
  },
  {
   "cell_type": "code",
   "execution_count": 108,
   "metadata": {},
   "outputs": [
    {
     "data": {
      "text/html": [
       "<div>\n",
       "<style scoped>\n",
       "    .dataframe tbody tr th:only-of-type {\n",
       "        vertical-align: middle;\n",
       "    }\n",
       "\n",
       "    .dataframe tbody tr th {\n",
       "        vertical-align: top;\n",
       "    }\n",
       "\n",
       "    .dataframe thead th {\n",
       "        text-align: right;\n",
       "    }\n",
       "</style>\n",
       "<table border=\"1\" class=\"dataframe\">\n",
       "  <thead>\n",
       "    <tr style=\"text-align: right;\">\n",
       "      <th></th>\n",
       "      <th>N</th>\n",
       "      <th>alpha</th>\n",
       "      <th>beta</th>\n",
       "      <th>eps</th>\n",
       "      <th>consensus_x</th>\n",
       "      <th>consensus_y</th>\n",
       "      <th>consensus_probabity</th>\n",
       "      <th>simulation_time</th>\n",
       "      <th>simulation_count</th>\n",
       "    </tr>\n",
       "  </thead>\n",
       "  <tbody>\n",
       "    <tr>\n",
       "      <th>80</th>\n",
       "      <td>50.0</td>\n",
       "      <td>0.5</td>\n",
       "      <td>0.5</td>\n",
       "      <td>0.15</td>\n",
       "      <td>0.000000</td>\n",
       "      <td>0.000000</td>\n",
       "      <td>0.0</td>\n",
       "      <td>0.0</td>\n",
       "      <td>100.0</td>\n",
       "    </tr>\n",
       "    <tr>\n",
       "      <th>81</th>\n",
       "      <td>50.0</td>\n",
       "      <td>1.0</td>\n",
       "      <td>1.0</td>\n",
       "      <td>0.15</td>\n",
       "      <td>0.000000</td>\n",
       "      <td>0.000000</td>\n",
       "      <td>0.0</td>\n",
       "      <td>0.0</td>\n",
       "      <td>100.0</td>\n",
       "    </tr>\n",
       "    <tr>\n",
       "      <th>82</th>\n",
       "      <td>50.0</td>\n",
       "      <td>1.5</td>\n",
       "      <td>1.5</td>\n",
       "      <td>0.15</td>\n",
       "      <td>0.000000</td>\n",
       "      <td>0.000000</td>\n",
       "      <td>0.0</td>\n",
       "      <td>0.0</td>\n",
       "      <td>100.0</td>\n",
       "    </tr>\n",
       "    <tr>\n",
       "      <th>83</th>\n",
       "      <td>50.0</td>\n",
       "      <td>2.0</td>\n",
       "      <td>2.0</td>\n",
       "      <td>0.15</td>\n",
       "      <td>0.000000</td>\n",
       "      <td>0.000000</td>\n",
       "      <td>0.0</td>\n",
       "      <td>0.0</td>\n",
       "      <td>100.0</td>\n",
       "    </tr>\n",
       "    <tr>\n",
       "      <th>84</th>\n",
       "      <td>50.0</td>\n",
       "      <td>2.5</td>\n",
       "      <td>2.5</td>\n",
       "      <td>0.15</td>\n",
       "      <td>0.000000</td>\n",
       "      <td>0.000000</td>\n",
       "      <td>0.0</td>\n",
       "      <td>0.0</td>\n",
       "      <td>100.0</td>\n",
       "    </tr>\n",
       "    <tr>\n",
       "      <th>...</th>\n",
       "      <td>...</td>\n",
       "      <td>...</td>\n",
       "      <td>...</td>\n",
       "      <td>...</td>\n",
       "      <td>...</td>\n",
       "      <td>...</td>\n",
       "      <td>...</td>\n",
       "      <td>...</td>\n",
       "      <td>...</td>\n",
       "    </tr>\n",
       "    <tr>\n",
       "      <th>255</th>\n",
       "      <td>50.0</td>\n",
       "      <td>3.0</td>\n",
       "      <td>3.0</td>\n",
       "      <td>1.00</td>\n",
       "      <td>50.009902</td>\n",
       "      <td>49.682928</td>\n",
       "      <td>100.0</td>\n",
       "      <td>204.0</td>\n",
       "      <td>100.0</td>\n",
       "    </tr>\n",
       "    <tr>\n",
       "      <th>256</th>\n",
       "      <td>50.0</td>\n",
       "      <td>3.5</td>\n",
       "      <td>3.5</td>\n",
       "      <td>1.00</td>\n",
       "      <td>49.489846</td>\n",
       "      <td>49.967186</td>\n",
       "      <td>100.0</td>\n",
       "      <td>203.0</td>\n",
       "      <td>100.0</td>\n",
       "    </tr>\n",
       "    <tr>\n",
       "      <th>257</th>\n",
       "      <td>50.0</td>\n",
       "      <td>4.0</td>\n",
       "      <td>4.0</td>\n",
       "      <td>1.00</td>\n",
       "      <td>49.694734</td>\n",
       "      <td>50.584541</td>\n",
       "      <td>100.0</td>\n",
       "      <td>200.0</td>\n",
       "      <td>100.0</td>\n",
       "    </tr>\n",
       "    <tr>\n",
       "      <th>258</th>\n",
       "      <td>50.0</td>\n",
       "      <td>4.5</td>\n",
       "      <td>4.5</td>\n",
       "      <td>1.00</td>\n",
       "      <td>49.976322</td>\n",
       "      <td>50.289755</td>\n",
       "      <td>100.0</td>\n",
       "      <td>200.0</td>\n",
       "      <td>100.0</td>\n",
       "    </tr>\n",
       "    <tr>\n",
       "      <th>259</th>\n",
       "      <td>50.0</td>\n",
       "      <td>5.0</td>\n",
       "      <td>5.0</td>\n",
       "      <td>1.00</td>\n",
       "      <td>49.877079</td>\n",
       "      <td>49.922217</td>\n",
       "      <td>100.0</td>\n",
       "      <td>200.0</td>\n",
       "      <td>100.0</td>\n",
       "    </tr>\n",
       "  </tbody>\n",
       "</table>\n",
       "<p>180 rows × 9 columns</p>\n",
       "</div>"
      ],
      "text/plain": [
       "        N  alpha  beta   eps  consensus_x  consensus_y  consensus_probabity  \\\n",
       "80   50.0    0.5   0.5  0.15     0.000000     0.000000                  0.0   \n",
       "81   50.0    1.0   1.0  0.15     0.000000     0.000000                  0.0   \n",
       "82   50.0    1.5   1.5  0.15     0.000000     0.000000                  0.0   \n",
       "83   50.0    2.0   2.0  0.15     0.000000     0.000000                  0.0   \n",
       "84   50.0    2.5   2.5  0.15     0.000000     0.000000                  0.0   \n",
       "..    ...    ...   ...   ...          ...          ...                  ...   \n",
       "255  50.0    3.0   3.0  1.00    50.009902    49.682928                100.0   \n",
       "256  50.0    3.5   3.5  1.00    49.489846    49.967186                100.0   \n",
       "257  50.0    4.0   4.0  1.00    49.694734    50.584541                100.0   \n",
       "258  50.0    4.5   4.5  1.00    49.976322    50.289755                100.0   \n",
       "259  50.0    5.0   5.0  1.00    49.877079    49.922217                100.0   \n",
       "\n",
       "     simulation_time  simulation_count  \n",
       "80               0.0             100.0  \n",
       "81               0.0             100.0  \n",
       "82               0.0             100.0  \n",
       "83               0.0             100.0  \n",
       "84               0.0             100.0  \n",
       "..               ...               ...  \n",
       "255            204.0             100.0  \n",
       "256            203.0             100.0  \n",
       "257            200.0             100.0  \n",
       "258            200.0             100.0  \n",
       "259            200.0             100.0  \n",
       "\n",
       "[180 rows x 9 columns]"
      ]
     },
     "execution_count": 108,
     "metadata": {},
     "output_type": "execute_result"
    }
   ],
   "source": [
    "beta_distib_consensus_data[beta_distib_consensus_data['N'] == 50]\n"
   ]
  },
  {
   "cell_type": "code",
   "execution_count": 118,
   "metadata": {},
   "outputs": [
    {
     "data": {
      "image/png": "[encoded data removed]",
      "text/plain": [
       "<Figure size 640x480 with 1 Axes>"
      ]
     },
     "metadata": {},
     "output_type": "display_data"
    },
    {
     "data": {
      "text/html": [
       "<div>\n",
       "<style scoped>\n",
       "    .dataframe tbody tr th:only-of-type {\n",
       "        vertical-align: middle;\n",
       "    }\n",
       "\n",
       "    .dataframe tbody tr th {\n",
       "        vertical-align: top;\n",
       "    }\n",
       "\n",
       "    .dataframe thead th {\n",
       "        text-align: right;\n",
       "    }\n",
       "</style>\n",
       "<table border=\"1\" class=\"dataframe\">\n",
       "  <thead>\n",
       "    <tr style=\"text-align: right;\">\n",
       "      <th></th>\n",
       "      <th>N</th>\n",
       "      <th>alpha</th>\n",
       "      <th>beta</th>\n",
       "      <th>eps</th>\n",
       "      <th>consensus_x</th>\n",
       "      <th>consensus_y</th>\n",
       "      <th>consensus_probabity</th>\n",
       "      <th>simulation_time</th>\n",
       "      <th>simulation_count</th>\n",
       "    </tr>\n",
       "  </thead>\n",
       "  <tbody>\n",
       "    <tr>\n",
       "      <th>0</th>\n",
       "      <td>2500.0</td>\n",
       "      <td>0.5</td>\n",
       "      <td>0.5</td>\n",
       "      <td>0.15</td>\n",
       "      <td>0.526730</td>\n",
       "      <td>0.522848</td>\n",
       "      <td>1.0</td>\n",
       "      <td>2.0</td>\n",
       "      <td>10.0</td>\n",
       "    </tr>\n",
       "    <tr>\n",
       "      <th>1</th>\n",
       "      <td>2500.0</td>\n",
       "      <td>1.0</td>\n",
       "      <td>1.0</td>\n",
       "      <td>0.15</td>\n",
       "      <td>0.000000</td>\n",
       "      <td>0.000000</td>\n",
       "      <td>0.0</td>\n",
       "      <td>0.0</td>\n",
       "      <td>10.0</td>\n",
       "    </tr>\n",
       "    <tr>\n",
       "      <th>2</th>\n",
       "      <td>2500.0</td>\n",
       "      <td>1.5</td>\n",
       "      <td>1.5</td>\n",
       "      <td>0.15</td>\n",
       "      <td>0.000000</td>\n",
       "      <td>0.000000</td>\n",
       "      <td>0.0</td>\n",
       "      <td>0.0</td>\n",
       "      <td>10.0</td>\n",
       "    </tr>\n",
       "    <tr>\n",
       "      <th>3</th>\n",
       "      <td>2500.0</td>\n",
       "      <td>2.0</td>\n",
       "      <td>2.0</td>\n",
       "      <td>0.15</td>\n",
       "      <td>0.000000</td>\n",
       "      <td>0.000000</td>\n",
       "      <td>0.0</td>\n",
       "      <td>0.0</td>\n",
       "      <td>10.0</td>\n",
       "    </tr>\n",
       "    <tr>\n",
       "      <th>4</th>\n",
       "      <td>2500.0</td>\n",
       "      <td>2.5</td>\n",
       "      <td>2.5</td>\n",
       "      <td>0.15</td>\n",
       "      <td>4.003755</td>\n",
       "      <td>3.964977</td>\n",
       "      <td>8.0</td>\n",
       "      <td>153.0</td>\n",
       "      <td>10.0</td>\n",
       "    </tr>\n",
       "    <tr>\n",
       "      <th>...</th>\n",
       "      <td>...</td>\n",
       "      <td>...</td>\n",
       "      <td>...</td>\n",
       "      <td>...</td>\n",
       "      <td>...</td>\n",
       "      <td>...</td>\n",
       "      <td>...</td>\n",
       "      <td>...</td>\n",
       "      <td>...</td>\n",
       "    </tr>\n",
       "    <tr>\n",
       "      <th>255</th>\n",
       "      <td>50.0</td>\n",
       "      <td>3.0</td>\n",
       "      <td>3.0</td>\n",
       "      <td>1.00</td>\n",
       "      <td>99.779841</td>\n",
       "      <td>99.594450</td>\n",
       "      <td>200.0</td>\n",
       "      <td>410.0</td>\n",
       "      <td>200.0</td>\n",
       "    </tr>\n",
       "    <tr>\n",
       "      <th>256</th>\n",
       "      <td>50.0</td>\n",
       "      <td>3.5</td>\n",
       "      <td>3.5</td>\n",
       "      <td>1.00</td>\n",
       "      <td>99.501094</td>\n",
       "      <td>100.260732</td>\n",
       "      <td>200.0</td>\n",
       "      <td>403.0</td>\n",
       "      <td>200.0</td>\n",
       "    </tr>\n",
       "    <tr>\n",
       "      <th>257</th>\n",
       "      <td>50.0</td>\n",
       "      <td>4.0</td>\n",
       "      <td>4.0</td>\n",
       "      <td>1.00</td>\n",
       "      <td>99.754001</td>\n",
       "      <td>100.191540</td>\n",
       "      <td>200.0</td>\n",
       "      <td>400.0</td>\n",
       "      <td>200.0</td>\n",
       "    </tr>\n",
       "    <tr>\n",
       "      <th>258</th>\n",
       "      <td>50.0</td>\n",
       "      <td>4.5</td>\n",
       "      <td>4.5</td>\n",
       "      <td>1.00</td>\n",
       "      <td>100.258023</td>\n",
       "      <td>99.852555</td>\n",
       "      <td>200.0</td>\n",
       "      <td>400.0</td>\n",
       "      <td>200.0</td>\n",
       "    </tr>\n",
       "    <tr>\n",
       "      <th>259</th>\n",
       "      <td>50.0</td>\n",
       "      <td>5.0</td>\n",
       "      <td>5.0</td>\n",
       "      <td>1.00</td>\n",
       "      <td>99.895564</td>\n",
       "      <td>99.673180</td>\n",
       "      <td>200.0</td>\n",
       "      <td>400.0</td>\n",
       "      <td>200.0</td>\n",
       "    </tr>\n",
       "  </tbody>\n",
       "</table>\n",
       "<p>260 rows × 9 columns</p>\n",
       "</div>"
      ],
      "text/plain": [
       "          N  alpha  beta   eps  consensus_x  consensus_y  consensus_probabity  \\\n",
       "0    2500.0    0.5   0.5  0.15     0.526730     0.522848                  1.0   \n",
       "1    2500.0    1.0   1.0  0.15     0.000000     0.000000                  0.0   \n",
       "2    2500.0    1.5   1.5  0.15     0.000000     0.000000                  0.0   \n",
       "3    2500.0    2.0   2.0  0.15     0.000000     0.000000                  0.0   \n",
       "4    2500.0    2.5   2.5  0.15     4.003755     3.964977                  8.0   \n",
       "..      ...    ...   ...   ...          ...          ...                  ...   \n",
       "255    50.0    3.0   3.0  1.00    99.779841    99.594450                200.0   \n",
       "256    50.0    3.5   3.5  1.00    99.501094   100.260732                200.0   \n",
       "257    50.0    4.0   4.0  1.00    99.754001   100.191540                200.0   \n",
       "258    50.0    4.5   4.5  1.00   100.258023    99.852555                200.0   \n",
       "259    50.0    5.0   5.0  1.00    99.895564    99.673180                200.0   \n",
       "\n",
       "     simulation_time  simulation_count  \n",
       "0                2.0              10.0  \n",
       "1                0.0              10.0  \n",
       "2                0.0              10.0  \n",
       "3                0.0              10.0  \n",
       "4              153.0              10.0  \n",
       "..               ...               ...  \n",
       "255            410.0             200.0  \n",
       "256            403.0             200.0  \n",
       "257            400.0             200.0  \n",
       "258            400.0             200.0  \n",
       "259            400.0             200.0  \n",
       "\n",
       "[260 rows x 9 columns]"
      ]
     },
     "execution_count": 118,
     "metadata": {},
     "output_type": "execute_result"
    }
   ],
   "source": [
    "experiment = 0\n",
    "init_beta_distrib_consensus_data(beta_distib_consensus_data, experiment, N, alpha, beta, R)\n",
    "res_arr_fast, check_fast = HK_2D_sim_fast(x0, R, R * 1e-3, 1000)\n",
    "\n",
    "np.save(f\"2dHKN{N}R{R}_beta_a{alpha}_b{beta}.npy\", res_arr_fast)\n",
    "\n",
    "draw_HK_2D_simulation(res_arr_fast,N=N, R=R,text=f\"beta a:{alpha} b:{beta}\", cmap='plasma')\n",
    "cluster_of_agent, cluster_sizes = caln_n_clusters(res_arr_fast[-1, :, :], R)\n",
    "\n",
    "beta_distib_consensus_data"
   ]
  },
  {
   "cell_type": "code",
   "execution_count": 114,
   "metadata": {},
   "outputs": [],
   "source": [
    "# data = pd.read_csv('beta_distib_consensus_data.csv', sep=\";\", dtype=dtypes)\n",
    "# data\n",
    "data = beta_distib_consensus_data"
   ]
  },
  {
   "cell_type": "code",
   "execution_count": 119,
   "metadata": {},
   "outputs": [
    {
     "data": {
      "text/html": [
       "<div>\n",
       "<style scoped>\n",
       "    .dataframe tbody tr th:only-of-type {\n",
       "        vertical-align: middle;\n",
       "    }\n",
       "\n",
       "    .dataframe tbody tr th {\n",
       "        vertical-align: top;\n",
       "    }\n",
       "\n",
       "    .dataframe thead th {\n",
       "        text-align: right;\n",
       "    }\n",
       "</style>\n",
       "<table border=\"1\" class=\"dataframe\">\n",
       "  <thead>\n",
       "    <tr style=\"text-align: right;\">\n",
       "      <th>beta</th>\n",
       "      <th>0.5</th>\n",
       "      <th>1.0</th>\n",
       "      <th>1.5</th>\n",
       "      <th>2.0</th>\n",
       "      <th>2.5</th>\n",
       "      <th>3.0</th>\n",
       "      <th>3.5</th>\n",
       "      <th>4.0</th>\n",
       "      <th>4.5</th>\n",
       "      <th>5.0</th>\n",
       "    </tr>\n",
       "    <tr>\n",
       "      <th>eps</th>\n",
       "      <th></th>\n",
       "      <th></th>\n",
       "      <th></th>\n",
       "      <th></th>\n",
       "      <th></th>\n",
       "      <th></th>\n",
       "      <th></th>\n",
       "      <th></th>\n",
       "      <th></th>\n",
       "      <th></th>\n",
       "    </tr>\n",
       "  </thead>\n",
       "  <tbody>\n",
       "    <tr>\n",
       "      <th>0.15</th>\n",
       "      <td>0.0</td>\n",
       "      <td>0.0</td>\n",
       "      <td>0.0</td>\n",
       "      <td>0.0</td>\n",
       "      <td>0.0</td>\n",
       "      <td>0.0</td>\n",
       "      <td>1.0</td>\n",
       "      <td>1.0</td>\n",
       "      <td>12.0</td>\n",
       "      <td>14.0</td>\n",
       "    </tr>\n",
       "    <tr>\n",
       "      <th>0.20</th>\n",
       "      <td>0.0</td>\n",
       "      <td>0.0</td>\n",
       "      <td>0.0</td>\n",
       "      <td>5.0</td>\n",
       "      <td>20.0</td>\n",
       "      <td>56.0</td>\n",
       "      <td>79.0</td>\n",
       "      <td>108.0</td>\n",
       "      <td>137.0</td>\n",
       "      <td>140.0</td>\n",
       "    </tr>\n",
       "    <tr>\n",
       "      <th>0.25</th>\n",
       "      <td>0.0</td>\n",
       "      <td>0.0</td>\n",
       "      <td>38.0</td>\n",
       "      <td>113.0</td>\n",
       "      <td>143.0</td>\n",
       "      <td>168.0</td>\n",
       "      <td>176.0</td>\n",
       "      <td>181.0</td>\n",
       "      <td>188.0</td>\n",
       "      <td>191.0</td>\n",
       "    </tr>\n",
       "    <tr>\n",
       "      <th>0.30</th>\n",
       "      <td>0.0</td>\n",
       "      <td>54.0</td>\n",
       "      <td>163.0</td>\n",
       "      <td>187.0</td>\n",
       "      <td>197.0</td>\n",
       "      <td>197.0</td>\n",
       "      <td>197.0</td>\n",
       "      <td>199.0</td>\n",
       "      <td>199.0</td>\n",
       "      <td>200.0</td>\n",
       "    </tr>\n",
       "    <tr>\n",
       "      <th>0.35</th>\n",
       "      <td>3.0</td>\n",
       "      <td>167.0</td>\n",
       "      <td>196.0</td>\n",
       "      <td>199.0</td>\n",
       "      <td>199.0</td>\n",
       "      <td>200.0</td>\n",
       "      <td>200.0</td>\n",
       "      <td>200.0</td>\n",
       "      <td>200.0</td>\n",
       "      <td>200.0</td>\n",
       "    </tr>\n",
       "    <tr>\n",
       "      <th>0.40</th>\n",
       "      <td>55.0</td>\n",
       "      <td>194.0</td>\n",
       "      <td>200.0</td>\n",
       "      <td>200.0</td>\n",
       "      <td>200.0</td>\n",
       "      <td>200.0</td>\n",
       "      <td>200.0</td>\n",
       "      <td>200.0</td>\n",
       "      <td>200.0</td>\n",
       "      <td>200.0</td>\n",
       "    </tr>\n",
       "    <tr>\n",
       "      <th>0.45</th>\n",
       "      <td>149.0</td>\n",
       "      <td>200.0</td>\n",
       "      <td>200.0</td>\n",
       "      <td>200.0</td>\n",
       "      <td>200.0</td>\n",
       "      <td>200.0</td>\n",
       "      <td>200.0</td>\n",
       "      <td>200.0</td>\n",
       "      <td>200.0</td>\n",
       "      <td>200.0</td>\n",
       "    </tr>\n",
       "    <tr>\n",
       "      <th>0.50</th>\n",
       "      <td>189.0</td>\n",
       "      <td>200.0</td>\n",
       "      <td>200.0</td>\n",
       "      <td>200.0</td>\n",
       "      <td>200.0</td>\n",
       "      <td>200.0</td>\n",
       "      <td>200.0</td>\n",
       "      <td>200.0</td>\n",
       "      <td>200.0</td>\n",
       "      <td>200.0</td>\n",
       "    </tr>\n",
       "    <tr>\n",
       "      <th>0.55</th>\n",
       "      <td>200.0</td>\n",
       "      <td>200.0</td>\n",
       "      <td>200.0</td>\n",
       "      <td>200.0</td>\n",
       "      <td>200.0</td>\n",
       "      <td>200.0</td>\n",
       "      <td>200.0</td>\n",
       "      <td>200.0</td>\n",
       "      <td>200.0</td>\n",
       "      <td>200.0</td>\n",
       "    </tr>\n",
       "    <tr>\n",
       "      <th>0.60</th>\n",
       "      <td>200.0</td>\n",
       "      <td>200.0</td>\n",
       "      <td>200.0</td>\n",
       "      <td>200.0</td>\n",
       "      <td>200.0</td>\n",
       "      <td>200.0</td>\n",
       "      <td>200.0</td>\n",
       "      <td>200.0</td>\n",
       "      <td>200.0</td>\n",
       "      <td>200.0</td>\n",
       "    </tr>\n",
       "    <tr>\n",
       "      <th>0.65</th>\n",
       "      <td>200.0</td>\n",
       "      <td>200.0</td>\n",
       "      <td>200.0</td>\n",
       "      <td>200.0</td>\n",
       "      <td>200.0</td>\n",
       "      <td>200.0</td>\n",
       "      <td>200.0</td>\n",
       "      <td>200.0</td>\n",
       "      <td>200.0</td>\n",
       "      <td>200.0</td>\n",
       "    </tr>\n",
       "    <tr>\n",
       "      <th>0.70</th>\n",
       "      <td>200.0</td>\n",
       "      <td>200.0</td>\n",
       "      <td>200.0</td>\n",
       "      <td>200.0</td>\n",
       "      <td>200.0</td>\n",
       "      <td>200.0</td>\n",
       "      <td>200.0</td>\n",
       "      <td>200.0</td>\n",
       "      <td>200.0</td>\n",
       "      <td>200.0</td>\n",
       "    </tr>\n",
       "    <tr>\n",
       "      <th>0.75</th>\n",
       "      <td>200.0</td>\n",
       "      <td>200.0</td>\n",
       "      <td>200.0</td>\n",
       "      <td>200.0</td>\n",
       "      <td>200.0</td>\n",
       "      <td>200.0</td>\n",
       "      <td>200.0</td>\n",
       "      <td>200.0</td>\n",
       "      <td>200.0</td>\n",
       "      <td>200.0</td>\n",
       "    </tr>\n",
       "    <tr>\n",
       "      <th>0.80</th>\n",
       "      <td>200.0</td>\n",
       "      <td>200.0</td>\n",
       "      <td>200.0</td>\n",
       "      <td>200.0</td>\n",
       "      <td>200.0</td>\n",
       "      <td>200.0</td>\n",
       "      <td>200.0</td>\n",
       "      <td>200.0</td>\n",
       "      <td>200.0</td>\n",
       "      <td>200.0</td>\n",
       "    </tr>\n",
       "    <tr>\n",
       "      <th>0.85</th>\n",
       "      <td>200.0</td>\n",
       "      <td>200.0</td>\n",
       "      <td>200.0</td>\n",
       "      <td>200.0</td>\n",
       "      <td>200.0</td>\n",
       "      <td>200.0</td>\n",
       "      <td>200.0</td>\n",
       "      <td>200.0</td>\n",
       "      <td>200.0</td>\n",
       "      <td>200.0</td>\n",
       "    </tr>\n",
       "    <tr>\n",
       "      <th>0.90</th>\n",
       "      <td>200.0</td>\n",
       "      <td>200.0</td>\n",
       "      <td>200.0</td>\n",
       "      <td>200.0</td>\n",
       "      <td>200.0</td>\n",
       "      <td>200.0</td>\n",
       "      <td>200.0</td>\n",
       "      <td>200.0</td>\n",
       "      <td>200.0</td>\n",
       "      <td>200.0</td>\n",
       "    </tr>\n",
       "    <tr>\n",
       "      <th>0.95</th>\n",
       "      <td>200.0</td>\n",
       "      <td>200.0</td>\n",
       "      <td>200.0</td>\n",
       "      <td>200.0</td>\n",
       "      <td>200.0</td>\n",
       "      <td>200.0</td>\n",
       "      <td>200.0</td>\n",
       "      <td>200.0</td>\n",
       "      <td>200.0</td>\n",
       "      <td>200.0</td>\n",
       "    </tr>\n",
       "    <tr>\n",
       "      <th>1.00</th>\n",
       "      <td>200.0</td>\n",
       "      <td>200.0</td>\n",
       "      <td>200.0</td>\n",
       "      <td>200.0</td>\n",
       "      <td>200.0</td>\n",
       "      <td>200.0</td>\n",
       "      <td>200.0</td>\n",
       "      <td>200.0</td>\n",
       "      <td>200.0</td>\n",
       "      <td>200.0</td>\n",
       "    </tr>\n",
       "  </tbody>\n",
       "</table>\n",
       "</div>"
      ],
      "text/plain": [
       "beta    0.5    1.0    1.5    2.0    2.5    3.0    3.5    4.0    4.5    5.0\n",
       "eps                                                                       \n",
       "0.15    0.0    0.0    0.0    0.0    0.0    0.0    1.0    1.0   12.0   14.0\n",
       "0.20    0.0    0.0    0.0    5.0   20.0   56.0   79.0  108.0  137.0  140.0\n",
       "0.25    0.0    0.0   38.0  113.0  143.0  168.0  176.0  181.0  188.0  191.0\n",
       "0.30    0.0   54.0  163.0  187.0  197.0  197.0  197.0  199.0  199.0  200.0\n",
       "0.35    3.0  167.0  196.0  199.0  199.0  200.0  200.0  200.0  200.0  200.0\n",
       "0.40   55.0  194.0  200.0  200.0  200.0  200.0  200.0  200.0  200.0  200.0\n",
       "0.45  149.0  200.0  200.0  200.0  200.0  200.0  200.0  200.0  200.0  200.0\n",
       "0.50  189.0  200.0  200.0  200.0  200.0  200.0  200.0  200.0  200.0  200.0\n",
       "0.55  200.0  200.0  200.0  200.0  200.0  200.0  200.0  200.0  200.0  200.0\n",
       "0.60  200.0  200.0  200.0  200.0  200.0  200.0  200.0  200.0  200.0  200.0\n",
       "0.65  200.0  200.0  200.0  200.0  200.0  200.0  200.0  200.0  200.0  200.0\n",
       "0.70  200.0  200.0  200.0  200.0  200.0  200.0  200.0  200.0  200.0  200.0\n",
       "0.75  200.0  200.0  200.0  200.0  200.0  200.0  200.0  200.0  200.0  200.0\n",
       "0.80  200.0  200.0  200.0  200.0  200.0  200.0  200.0  200.0  200.0  200.0\n",
       "0.85  200.0  200.0  200.0  200.0  200.0  200.0  200.0  200.0  200.0  200.0\n",
       "0.90  200.0  200.0  200.0  200.0  200.0  200.0  200.0  200.0  200.0  200.0\n",
       "0.95  200.0  200.0  200.0  200.0  200.0  200.0  200.0  200.0  200.0  200.0\n",
       "1.00  200.0  200.0  200.0  200.0  200.0  200.0  200.0  200.0  200.0  200.0"
      ]
     },
     "execution_count": 119,
     "metadata": {},
     "output_type": "execute_result"
    }
   ],
   "source": [
    "N50 = data[data['N'] == N]\n",
    "pivot_data = N50.pivot(index='eps', columns='beta', values='consensus_probabity')\n",
    "pivot_data"
   ]
  },
  {
   "cell_type": "code",
   "execution_count": 131,
   "metadata": {},
   "outputs": [],
   "source": [
    "unif_dtypes = {\n",
    "    'N': np.int64,\n",
    "    'eps': np.float64,\n",
    "    'consensus_x': np.float64,\n",
    "    'consensus_y': np.float64,\n",
    "    'consensus_probabity': np.float64,\n",
    "    'simulation_time': np.int64,\n",
    "    'simulation_count': np.int64\n",
    "}\n",
    "unif_data = pd.read_csv('unif_distib_consensus_data.csv', sep=\";\", dtype=unif_dtypes)"
   ]
  },
  {
   "cell_type": "code",
   "execution_count": 137,
   "metadata": {},
   "outputs": [
    {
     "data": {
      "image/png": "[encoded data removed]",
      "text/plain": [
       "<Figure size 1000x800 with 1 Axes>"
      ]
     },
     "metadata": {},
     "output_type": "display_data"
    }
   ],
   "source": [
    "plt.figure(figsize=(10, 8))\n",
    "\n",
    "cmap = mp.cm.get_cmap(\"plasma\")\n",
    "norm=plt.Normalize(vmin=0.15, vmax=5.5)\n",
    "sm = plt.cm.ScalarMappable(cmap=cmap, norm=norm)\n",
    "\n",
    "# Plot lines for each beta value\n",
    "for beta in beta_params_array:\n",
    "    df = data.query('beta == @beta and N == @N')\n",
    "    color=np.array(cmap(norm(beta)))\n",
    "\n",
    "    plt.plot(df['eps'], df['consensus_probabity']/df['simulation_count'], label=f'$a, b$={round(beta,2)}', c=color )\n",
    "\n",
    "plt.plot(unif_data['eps'], unif_data['consensus_probabity']/unif_data['simulation_count'], \"--g\",linewidth=2, label=f'uniform' )\n",
    "\n",
    "\n",
    "# Adding the HK_sample line (you'll need to adjust this based on your actual data)\n",
    "plt.title(f' 2dHK Percentage of consensus N:{N}\\n a,b - parameters beta distribution')\n",
    "plt.xlabel('Eps')\n",
    "plt.ylabel('Percentage')\n",
    "plt.legend()\n",
    "# Add a grid\n",
    "plt.grid(True, linestyle='--', alpha=0.7)\n",
    "\n",
    "plt.tight_layout()\n",
    "plt.show()\n",
    "\n"
   ]
  },
  {
   "cell_type": "code",
   "execution_count": null,
   "metadata": {},
   "outputs": [],
   "source": []
  }
 ],
 "metadata": {
  "kernelspec": {
   "display_name": "base",
   "language": "python",
   "name": "python3"
  },
  "language_info": {
   "codemirror_mode": {
    "name": "ipython",
    "version": 3
   },
   "file_extension": ".py",
   "mimetype": "text/x-python",
   "name": "python",
   "nbconvert_exporter": "python",
   "pygments_lexer": "ipython3",
   "version": "3.9.13"
  }
 },
 "nbformat": 4,
 "nbformat_minor": 2
}
