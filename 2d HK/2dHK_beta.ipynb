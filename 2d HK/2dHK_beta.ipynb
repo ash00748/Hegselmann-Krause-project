{
 "cells": [
  {
   "cell_type": "code",
   "execution_count": 1,
   "metadata": {},
   "outputs": [],
   "source": [
    "import sys\n",
    "sys.path.append(\"../source\")"
   ]
  },
  {
   "cell_type": "code",
   "execution_count": 2,
   "metadata": {},
   "outputs": [],
   "source": [
    "import numpy as np\n",
    "import math\n",
    "import matplotlib.pyplot as plt\n",
    "import pylab\n",
    "from tqdm import trange\n",
    "import scipy\n",
    "import scipy.stats as stats\n",
    "from scipy.stats import bernoulli\n",
    "import matplotlib as mp\n",
    "from numba import njit\n",
    "from project_lib import *\n",
    "import pandas as pd"
   ]
  },
  {
   "cell_type": "markdown",
   "metadata": {},
   "source": [
    "### Инициализация функций для работы с pd.Dataframe для данных"
   ]
  },
  {
   "cell_type": "code",
   "execution_count": 3,
   "metadata": {},
   "outputs": [],
   "source": [
    "def init_beta_distrib_consensus_data(beta_distib_consensus_data, experiment, N, alpha, beta, R):\n",
    "    if not ((beta_distib_consensus_data['N'] == N) \n",
    "            & (beta_distib_consensus_data['alpha'] == alpha) \n",
    "            & (beta_distib_consensus_data['beta'] == beta) \n",
    "            & (round(beta_distib_consensus_data['eps'],2) == round(R,2))\n",
    "            ).any():\n",
    "        beta_distib_consensus_data.at[experiment, \"N\"] = N\n",
    "        beta_distib_consensus_data.at[experiment, \"alpha\"] = alpha\n",
    "        beta_distib_consensus_data.at[experiment, \"beta\"] = beta\n",
    "        beta_distib_consensus_data.at[experiment, \"eps\"] = round(R,2)\n",
    "        beta_distib_consensus_data.at[experiment, \"consensus_x\"] = 0\n",
    "        beta_distib_consensus_data.at[experiment, \"consensus_y\"] = 0\n",
    "        beta_distib_consensus_data.at[experiment, \"consensus_probabity\"] =0\n",
    "        beta_distib_consensus_data.at[experiment, \"simulation_time\"] =0\n",
    "        beta_distib_consensus_data.at[experiment, \"simulation_count\"] = 0\n",
    "\n",
    "def update_beta_distrib_consensus_data(beta_distib_consensus_data, experiment, res_arr_fast):\n",
    "    beta_distib_consensus_data.at[experiment, \"consensus_x\"] += res_arr_fast[-1, 0, 0]\n",
    "    beta_distib_consensus_data.at[experiment, \"consensus_y\"] += res_arr_fast[-1, 0, 1]\n",
    "    beta_distib_consensus_data.at[experiment, \"consensus_probabity\"] +=1\n",
    "    beta_distib_consensus_data.at[experiment, \"simulation_time\"] +=res_arr_fast.shape[0]\n",
    "    \n",
    "\n",
    "dtypes = {\n",
    "    'N': np.int64,\n",
    "    'alpha': np.float64,\n",
    "    'beta': np.float64,\n",
    "    'eps': np.float64,\n",
    "    'consensus_x': np.float64,\n",
    "    'consensus_y': np.float64,\n",
    "    'consensus_probabity': np.float64,\n",
    "    'simulation_time': np.int64,\n",
    "    'simulation_count': np.int64\n",
    "}\n",
    "# beta_distib_consensus_data = pd.DataFrame(columns=[\"N\", \"alpha\", \"beta\", \"eps\", \"consensus_x\", \"consensus_y\",\"consensus_probabity\", \"simulation_time\"], dtype=object)\n",
    "# beta_distib_consensus_data"
   ]
  },
  {
   "cell_type": "markdown",
   "metadata": {},
   "source": [
    "#### Загрузка предыдущих результатов"
   ]
  },
  {
   "cell_type": "code",
   "execution_count": 4,
   "metadata": {},
   "outputs": [
    {
     "data": {
      "text/html": [
       "<div>\n",
       "<style scoped>\n",
       "    .dataframe tbody tr th:only-of-type {\n",
       "        vertical-align: middle;\n",
       "    }\n",
       "\n",
       "    .dataframe tbody tr th {\n",
       "        vertical-align: top;\n",
       "    }\n",
       "\n",
       "    .dataframe thead th {\n",
       "        text-align: right;\n",
       "    }\n",
       "</style>\n",
       "<table border=\"1\" class=\"dataframe\">\n",
       "  <thead>\n",
       "    <tr style=\"text-align: right;\">\n",
       "      <th></th>\n",
       "      <th>N</th>\n",
       "      <th>alpha</th>\n",
       "      <th>beta</th>\n",
       "      <th>eps</th>\n",
       "      <th>consensus_x</th>\n",
       "      <th>consensus_y</th>\n",
       "      <th>consensus_probabity</th>\n",
       "      <th>simulation_time</th>\n",
       "      <th>simulation_count</th>\n",
       "    </tr>\n",
       "  </thead>\n",
       "  <tbody>\n",
       "    <tr>\n",
       "      <th>0</th>\n",
       "      <td>2500</td>\n",
       "      <td>0.50</td>\n",
       "      <td>0.50</td>\n",
       "      <td>0.15</td>\n",
       "      <td>0.000000</td>\n",
       "      <td>0.000000</td>\n",
       "      <td>0.0</td>\n",
       "      <td>0</td>\n",
       "      <td>10</td>\n",
       "    </tr>\n",
       "    <tr>\n",
       "      <th>1</th>\n",
       "      <td>2500</td>\n",
       "      <td>1.00</td>\n",
       "      <td>1.00</td>\n",
       "      <td>0.15</td>\n",
       "      <td>0.000000</td>\n",
       "      <td>0.000000</td>\n",
       "      <td>0.0</td>\n",
       "      <td>0</td>\n",
       "      <td>10</td>\n",
       "    </tr>\n",
       "    <tr>\n",
       "      <th>2</th>\n",
       "      <td>2500</td>\n",
       "      <td>1.50</td>\n",
       "      <td>1.50</td>\n",
       "      <td>0.15</td>\n",
       "      <td>0.000000</td>\n",
       "      <td>0.000000</td>\n",
       "      <td>0.0</td>\n",
       "      <td>0</td>\n",
       "      <td>10</td>\n",
       "    </tr>\n",
       "    <tr>\n",
       "      <th>3</th>\n",
       "      <td>2500</td>\n",
       "      <td>2.00</td>\n",
       "      <td>2.00</td>\n",
       "      <td>0.15</td>\n",
       "      <td>0.000000</td>\n",
       "      <td>0.000000</td>\n",
       "      <td>0.0</td>\n",
       "      <td>0</td>\n",
       "      <td>10</td>\n",
       "    </tr>\n",
       "    <tr>\n",
       "      <th>4</th>\n",
       "      <td>2500</td>\n",
       "      <td>2.50</td>\n",
       "      <td>2.50</td>\n",
       "      <td>0.15</td>\n",
       "      <td>4.003755</td>\n",
       "      <td>3.964977</td>\n",
       "      <td>8.0</td>\n",
       "      <td>153</td>\n",
       "      <td>10</td>\n",
       "    </tr>\n",
       "    <tr>\n",
       "      <th>...</th>\n",
       "      <td>...</td>\n",
       "      <td>...</td>\n",
       "      <td>...</td>\n",
       "      <td>...</td>\n",
       "      <td>...</td>\n",
       "      <td>...</td>\n",
       "      <td>...</td>\n",
       "      <td>...</td>\n",
       "      <td>...</td>\n",
       "    </tr>\n",
       "    <tr>\n",
       "      <th>2307</th>\n",
       "      <td>50</td>\n",
       "      <td>1.81</td>\n",
       "      <td>0.98</td>\n",
       "      <td>1.00</td>\n",
       "      <td>260.092234</td>\n",
       "      <td>260.267818</td>\n",
       "      <td>400.0</td>\n",
       "      <td>1157</td>\n",
       "      <td>400</td>\n",
       "    </tr>\n",
       "    <tr>\n",
       "      <th>2308</th>\n",
       "      <td>50</td>\n",
       "      <td>0.53</td>\n",
       "      <td>1.59</td>\n",
       "      <td>1.00</td>\n",
       "      <td>99.507905</td>\n",
       "      <td>98.847568</td>\n",
       "      <td>400.0</td>\n",
       "      <td>1173</td>\n",
       "      <td>400</td>\n",
       "    </tr>\n",
       "    <tr>\n",
       "      <th>2309</th>\n",
       "      <td>50</td>\n",
       "      <td>1.59</td>\n",
       "      <td>0.53</td>\n",
       "      <td>1.00</td>\n",
       "      <td>302.131253</td>\n",
       "      <td>300.454411</td>\n",
       "      <td>400.0</td>\n",
       "      <td>1161</td>\n",
       "      <td>400</td>\n",
       "    </tr>\n",
       "    <tr>\n",
       "      <th>2310</th>\n",
       "      <td>50</td>\n",
       "      <td>0.17</td>\n",
       "      <td>0.96</td>\n",
       "      <td>1.00</td>\n",
       "      <td>58.391268</td>\n",
       "      <td>57.416195</td>\n",
       "      <td>400.0</td>\n",
       "      <td>1190</td>\n",
       "      <td>400</td>\n",
       "    </tr>\n",
       "    <tr>\n",
       "      <th>2311</th>\n",
       "      <td>50</td>\n",
       "      <td>0.96</td>\n",
       "      <td>0.17</td>\n",
       "      <td>1.00</td>\n",
       "      <td>340.877174</td>\n",
       "      <td>342.206732</td>\n",
       "      <td>400.0</td>\n",
       "      <td>1192</td>\n",
       "      <td>400</td>\n",
       "    </tr>\n",
       "  </tbody>\n",
       "</table>\n",
       "<p>2312 rows × 9 columns</p>\n",
       "</div>"
      ],
      "text/plain": [
       "         N  alpha  beta   eps  consensus_x  consensus_y  consensus_probabity  \\\n",
       "0     2500   0.50  0.50  0.15     0.000000     0.000000                  0.0   \n",
       "1     2500   1.00  1.00  0.15     0.000000     0.000000                  0.0   \n",
       "2     2500   1.50  1.50  0.15     0.000000     0.000000                  0.0   \n",
       "3     2500   2.00  2.00  0.15     0.000000     0.000000                  0.0   \n",
       "4     2500   2.50  2.50  0.15     4.003755     3.964977                  8.0   \n",
       "...    ...    ...   ...   ...          ...          ...                  ...   \n",
       "2307    50   1.81  0.98  1.00   260.092234   260.267818                400.0   \n",
       "2308    50   0.53  1.59  1.00    99.507905    98.847568                400.0   \n",
       "2309    50   1.59  0.53  1.00   302.131253   300.454411                400.0   \n",
       "2310    50   0.17  0.96  1.00    58.391268    57.416195                400.0   \n",
       "2311    50   0.96  0.17  1.00   340.877174   342.206732                400.0   \n",
       "\n",
       "      simulation_time  simulation_count  \n",
       "0                   0                10  \n",
       "1                   0                10  \n",
       "2                   0                10  \n",
       "3                   0                10  \n",
       "4                 153                10  \n",
       "...               ...               ...  \n",
       "2307             1157               400  \n",
       "2308             1173               400  \n",
       "2309             1161               400  \n",
       "2310             1190               400  \n",
       "2311             1192               400  \n",
       "\n",
       "[2312 rows x 9 columns]"
      ]
     },
     "execution_count": 4,
     "metadata": {},
     "output_type": "execute_result"
    }
   ],
   "source": [
    "beta_distib_consensus_data = pd.read_csv('beta_distib_consensus_data.csv', sep=\";\", dtype=dtypes)\n",
    "beta_distib_consensus_data"
   ]
  },
  {
   "cell_type": "code",
   "execution_count": 5,
   "metadata": {},
   "outputs": [],
   "source": [
    "unif_dtypes = {\n",
    "    'N': np.int64,\n",
    "    'eps': np.float64,\n",
    "    'consensus_x': np.float64,\n",
    "    'consensus_y': np.float64,\n",
    "    'consensus_probabity': np.float64,\n",
    "    'simulation_time': np.int64,\n",
    "    'simulation_count': np.int64\n",
    "}\n",
    "unif_data = pd.read_csv('unif_distib_consensus_data.csv', sep=\";\", dtype=unif_dtypes)"
   ]
  },
  {
   "cell_type": "markdown",
   "metadata": {},
   "source": [
    "#### Обьявление констант"
   ]
  },
  {
   "cell_type": "code",
   "execution_count": 6,
   "metadata": {},
   "outputs": [],
   "source": [
    "R = 0.2  # радиус доверия\n",
    "eps = 1e-4  # допустимая точность\n",
    "n = 50  # количество агентов по одной оси\n",
    "N = n"
   ]
  },
  {
   "cell_type": "code",
   "execution_count": 7,
   "metadata": {},
   "outputs": [
    {
     "data": {
      "text/plain": [
       "array([0.5, 1. , 1.5, 2. , 2.5, 3. , 3.5, 4. , 4.5, 5. ])"
      ]
     },
     "execution_count": 7,
     "metadata": {},
     "output_type": "execute_result"
    }
   ],
   "source": [
    "R_array = [round(i,2)for i in np.arange(0.15, 1.01, 0.05)]\n",
    "beta_params_array =  np.arange(0.5, 5.1, 0.5)\n",
    "beta_params_array"
   ]
  },
  {
   "cell_type": "code",
   "execution_count": 8,
   "metadata": {},
   "outputs": [],
   "source": [
    "def beta_distrib_ab2Esigma(alpha, beta):\n",
    "    return alpha/(alpha+beta), alpha*beta/((alpha+beta+1)*(alpha+beta)**2)\n",
    "def beta_distrib_Esigma2ab(E, sigma):\n",
    "    alpha = (E**2 - E**3) / sigma - E\n",
    "    beta = (E - E**2) / sigma - 1 - ((E**2 - E**3) / sigma - E)\n",
    "    return alpha, beta\n"
   ]
  },
  {
   "cell_type": "code",
   "execution_count": 9,
   "metadata": {},
   "outputs": [
    {
     "name": "stdout",
     "output_type": "stream",
     "text": [
      "5.886489212736379e-13\n"
     ]
    }
   ],
   "source": [
    "\n",
    "max_dif = 0.0\n",
    "for a in np.linspace(0.01, 5, 100):\n",
    "    for b in np.linspace(0.01, 5, 100):\n",
    "        a_, b_ = beta_distrib_Esigma2ab(*beta_distrib_ab2Esigma(a, b))\n",
    "        np.testing.assert_allclose([a, b], [a_, b_], rtol=1e-10)\n",
    "        max_dif = max(max_dif, abs(a - a_) + abs(b - b_))\n",
    "\n",
    "print(max_dif)\n"
   ]
  },
  {
   "cell_type": "markdown",
   "metadata": {},
   "source": [
    "### Моделирование"
   ]
  },
  {
   "cell_type": "code",
   "execution_count": 64,
   "metadata": {},
   "outputs": [],
   "source": [
    "experiments = 400"
   ]
  },
  {
   "cell_type": "markdown",
   "metadata": {},
   "source": [
    "#### Фиксированное мат ожидание"
   ]
  },
  {
   "cell_type": "code",
   "execution_count": 14,
   "metadata": {},
   "outputs": [
    {
     "data": {
      "text/plain": [
       "([0.5, 1.0, 1.5, 2.0, 2.5, 3.0, 3.5, 4.0, 4.5, 5.0],\n",
       " [1.5, 3.0, 4.5, 6.0, 7.5, 9.0, 10.5, 12.0, 13.5, 15.0])"
      ]
     },
     "execution_count": 14,
     "metadata": {},
     "output_type": "execute_result"
    }
   ],
   "source": [
    "mu = 0.25\n",
    "alphas = [i for i in np.arange(0.5, 5.1, 0.5)]\n",
    "betas = [round(alphas[i]*(1-mu)/mu, 2) for i in range(len(alphas)) ]\n",
    "alphas, betas\n"
   ]
  },
  {
   "cell_type": "markdown",
   "metadata": {},
   "source": [
    "#### Фиксированная дисперсия"
   ]
  },
  {
   "cell_type": "code",
   "execution_count": 10,
   "metadata": {},
   "outputs": [
    {
     "data": {
      "text/plain": [
       "[0.05, 0.15, 0.25, 0.35]"
      ]
     },
     "execution_count": 10,
     "metadata": {},
     "output_type": "execute_result"
    }
   ],
   "source": [
    "delta = [round(i,2)for i in np.arange(0.05, 0.41, 0.1)]\n",
    "delta"
   ]
  },
  {
   "cell_type": "code",
   "execution_count": 11,
   "metadata": {},
   "outputs": [
    {
     "data": {
      "text/plain": [
       "[0.45, 0.55, 0.35, 0.65, 0.25, 0.75, 0.15, 0.85]"
      ]
     },
     "execution_count": 11,
     "metadata": {},
     "output_type": "execute_result"
    }
   ],
   "source": [
    "mu = []\n",
    "mean=0.5\n",
    "for i in delta:\n",
    "    mu.append(round(mean-i,2))\n",
    "    mu.append(round(mean+i,2))\n",
    "mu"
   ]
  },
  {
   "cell_type": "code",
   "execution_count": 16,
   "metadata": {},
   "outputs": [
    {
     "data": {
      "text/plain": [
       "([1.41, 1.72, 0.98, 1.81, 0.53, 1.59, 0.17, 0.96],\n",
       " [1.72, 1.41, 1.81, 0.98, 1.59, 0.53, 0.96, 0.17])"
      ]
     },
     "execution_count": 16,
     "metadata": {},
     "output_type": "execute_result"
    }
   ],
   "source": [
    "sigma=0.06\n",
    "alphas=[]\n",
    "betas=[]\n",
    "for m in mu:\n",
    "    a, b = beta_distrib_Esigma2ab(m, sigma)\n",
    "    alphas.append(round(a,2))\n",
    "    betas.append(round(b,2))\n",
    "alphas, betas"
   ]
  },
  {
   "cell_type": "markdown",
   "metadata": {},
   "source": [
    "#### Расчет"
   ]
  },
  {
   "cell_type": "code",
   "execution_count": 66,
   "metadata": {},
   "outputs": [
    {
     "name": "stdout",
     "output_type": "stream",
     "text": [
      "N:50 R:0.15 a:1.41 b:1.72 func:HK_2D_sim_fast count:0\n"
     ]
    },
    {
     "name": "stderr",
     "output_type": "stream",
     "text": [
      "100%|██████████| 400/400 [00:01<00:00, 236.72it/s]\n"
     ]
    },
    {
     "name": "stdout",
     "output_type": "stream",
     "text": [
      "N:50 R:0.15 a:1.72 b:1.41 func:HK_2D_sim_fast count:0\n"
     ]
    },
    {
     "name": "stderr",
     "output_type": "stream",
     "text": [
      "100%|██████████| 400/400 [00:01<00:00, 243.04it/s]\n"
     ]
    },
    {
     "name": "stdout",
     "output_type": "stream",
     "text": [
      "N:50 R:0.15 a:0.98 b:1.81 func:HK_2D_sim_fast count:0\n"
     ]
    },
    {
     "name": "stderr",
     "output_type": "stream",
     "text": [
      "100%|██████████| 400/400 [00:01<00:00, 232.16it/s]\n"
     ]
    },
    {
     "name": "stdout",
     "output_type": "stream",
     "text": [
      "N:50 R:0.15 a:1.81 b:0.98 func:HK_2D_sim_fast count:0\n"
     ]
    },
    {
     "name": "stderr",
     "output_type": "stream",
     "text": [
      "100%|██████████| 400/400 [00:01<00:00, 241.01it/s]\n"
     ]
    },
    {
     "name": "stdout",
     "output_type": "stream",
     "text": [
      "N:50 R:0.15 a:0.53 b:1.59 func:HK_2D_sim_fast count:0\n"
     ]
    },
    {
     "name": "stderr",
     "output_type": "stream",
     "text": [
      "100%|██████████| 400/400 [00:01<00:00, 230.99it/s]\n"
     ]
    },
    {
     "name": "stdout",
     "output_type": "stream",
     "text": [
      "N:50 R:0.15 a:1.59 b:0.53 func:HK_2D_sim_fast count:0\n"
     ]
    },
    {
     "name": "stderr",
     "output_type": "stream",
     "text": [
      "100%|██████████| 400/400 [00:01<00:00, 239.12it/s]\n"
     ]
    },
    {
     "name": "stdout",
     "output_type": "stream",
     "text": [
      "N:50 R:0.15 a:0.17 b:0.96 func:HK_2D_sim_fast count:0\n"
     ]
    },
    {
     "name": "stderr",
     "output_type": "stream",
     "text": [
      "100%|██████████| 400/400 [00:01<00:00, 223.97it/s]\n"
     ]
    },
    {
     "name": "stdout",
     "output_type": "stream",
     "text": [
      "N:50 R:0.15 a:0.96 b:0.17 func:HK_2D_sim_fast count:0\n"
     ]
    },
    {
     "name": "stderr",
     "output_type": "stream",
     "text": [
      "100%|██████████| 400/400 [00:01<00:00, 236.19it/s]\n"
     ]
    },
    {
     "name": "stdout",
     "output_type": "stream",
     "text": [
      "N:50 R:0.2 a:1.41 b:1.72 func:HK_2D_sim_fast count:0\n"
     ]
    },
    {
     "name": "stderr",
     "output_type": "stream",
     "text": [
      "100%|██████████| 400/400 [00:02<00:00, 165.91it/s]\n"
     ]
    },
    {
     "name": "stdout",
     "output_type": "stream",
     "text": [
      "N:50 R:0.2 a:1.72 b:1.41 func:HK_2D_sim_fast count:0\n"
     ]
    },
    {
     "name": "stderr",
     "output_type": "stream",
     "text": [
      "100%|██████████| 400/400 [00:02<00:00, 168.37it/s]\n"
     ]
    },
    {
     "name": "stdout",
     "output_type": "stream",
     "text": [
      "N:50 R:0.2 a:0.98 b:1.81 func:HK_2D_sim_fast count:0\n"
     ]
    },
    {
     "name": "stderr",
     "output_type": "stream",
     "text": [
      "100%|██████████| 400/400 [00:02<00:00, 175.41it/s]\n"
     ]
    },
    {
     "name": "stdout",
     "output_type": "stream",
     "text": [
      "N:50 R:0.2 a:1.81 b:0.98 func:HK_2D_sim_fast count:0\n"
     ]
    },
    {
     "name": "stderr",
     "output_type": "stream",
     "text": [
      "100%|██████████| 400/400 [00:02<00:00, 171.47it/s]\n"
     ]
    },
    {
     "name": "stdout",
     "output_type": "stream",
     "text": [
      "N:50 R:0.2 a:0.53 b:1.59 func:HK_2D_sim_fast count:0\n"
     ]
    },
    {
     "name": "stderr",
     "output_type": "stream",
     "text": [
      "100%|██████████| 400/400 [00:02<00:00, 179.22it/s]\n"
     ]
    },
    {
     "name": "stdout",
     "output_type": "stream",
     "text": [
      "N:50 R:0.2 a:1.59 b:0.53 func:HK_2D_sim_fast count:0\n"
     ]
    },
    {
     "name": "stderr",
     "output_type": "stream",
     "text": [
      "100%|██████████| 400/400 [00:02<00:00, 189.87it/s]\n"
     ]
    },
    {
     "name": "stdout",
     "output_type": "stream",
     "text": [
      "N:50 R:0.2 a:0.17 b:0.96 func:HK_2D_sim_fast count:0\n"
     ]
    },
    {
     "name": "stderr",
     "output_type": "stream",
     "text": [
      "100%|██████████| 400/400 [00:02<00:00, 191.33it/s]\n"
     ]
    },
    {
     "name": "stdout",
     "output_type": "stream",
     "text": [
      "N:50 R:0.2 a:0.96 b:0.17 func:HK_2D_sim_fast count:0\n"
     ]
    },
    {
     "name": "stderr",
     "output_type": "stream",
     "text": [
      "100%|██████████| 400/400 [00:02<00:00, 194.37it/s]\n"
     ]
    },
    {
     "name": "stdout",
     "output_type": "stream",
     "text": [
      "N:50 R:0.25 a:1.41 b:1.72 func:HK_2D_sim_fast count:0\n"
     ]
    },
    {
     "name": "stderr",
     "output_type": "stream",
     "text": [
      "100%|██████████| 400/400 [00:03<00:00, 113.11it/s]\n"
     ]
    },
    {
     "name": "stdout",
     "output_type": "stream",
     "text": [
      "N:50 R:0.25 a:1.72 b:1.41 func:HK_2D_sim count:86\n"
     ]
    },
    {
     "name": "stderr",
     "output_type": "stream",
     "text": [
      "100%|██████████| 400/400 [00:03<00:00, 118.24it/s]\n"
     ]
    },
    {
     "name": "stdout",
     "output_type": "stream",
     "text": [
      "N:50 R:0.25 a:0.98 b:1.81 func:HK_2D_sim count:171\n"
     ]
    },
    {
     "name": "stderr",
     "output_type": "stream",
     "text": [
      "100%|██████████| 400/400 [00:03<00:00, 124.19it/s]\n"
     ]
    },
    {
     "name": "stdout",
     "output_type": "stream",
     "text": [
      "N:50 R:0.25 a:1.81 b:0.98 func:HK_2D_sim count:200\n"
     ]
    },
    {
     "name": "stderr",
     "output_type": "stream",
     "text": [
      "100%|██████████| 400/400 [00:03<00:00, 126.95it/s]\n"
     ]
    },
    {
     "name": "stdout",
     "output_type": "stream",
     "text": [
      "N:50 R:0.25 a:0.53 b:1.59 func:HK_2D_sim count:229\n"
     ]
    },
    {
     "name": "stderr",
     "output_type": "stream",
     "text": [
      "100%|██████████| 400/400 [00:02<00:00, 139.77it/s]\n"
     ]
    },
    {
     "name": "stdout",
     "output_type": "stream",
     "text": [
      "N:50 R:0.25 a:1.59 b:0.53 func:HK_2D_sim count:230\n"
     ]
    },
    {
     "name": "stderr",
     "output_type": "stream",
     "text": [
      "100%|██████████| 400/400 [00:02<00:00, 140.24it/s]\n"
     ]
    },
    {
     "name": "stdout",
     "output_type": "stream",
     "text": [
      "N:50 R:0.25 a:0.17 b:0.96 func:HK_2D_sim count:233\n"
     ]
    },
    {
     "name": "stderr",
     "output_type": "stream",
     "text": [
      "100%|██████████| 400/400 [00:02<00:00, 168.28it/s]\n"
     ]
    },
    {
     "name": "stdout",
     "output_type": "stream",
     "text": [
      "N:50 R:0.25 a:0.96 b:0.17 func:HK_2D_sim count:233\n"
     ]
    },
    {
     "name": "stderr",
     "output_type": "stream",
     "text": [
      "100%|██████████| 400/400 [00:02<00:00, 168.99it/s]\n"
     ]
    },
    {
     "name": "stdout",
     "output_type": "stream",
     "text": [
      "N:50 R:0.3 a:1.41 b:1.72 func:HK_2D_sim count:233\n"
     ]
    },
    {
     "name": "stderr",
     "output_type": "stream",
     "text": [
      "100%|██████████| 400/400 [00:02<00:00, 141.82it/s]\n"
     ]
    },
    {
     "name": "stdout",
     "output_type": "stream",
     "text": [
      "N:50 R:0.3 a:1.72 b:1.41 func:HK_2D_sim count:557\n"
     ]
    },
    {
     "name": "stderr",
     "output_type": "stream",
     "text": [
      "100%|██████████| 400/400 [00:02<00:00, 143.46it/s]\n"
     ]
    },
    {
     "name": "stdout",
     "output_type": "stream",
     "text": [
      "N:50 R:0.3 a:0.98 b:1.81 func:HK_2D_sim count:869\n"
     ]
    },
    {
     "name": "stderr",
     "output_type": "stream",
     "text": [
      "100%|██████████| 400/400 [00:02<00:00, 141.55it/s]\n"
     ]
    },
    {
     "name": "stdout",
     "output_type": "stream",
     "text": [
      "N:50 R:0.3 a:1.81 b:0.98 func:HK_2D_sim count:1063\n"
     ]
    },
    {
     "name": "stderr",
     "output_type": "stream",
     "text": [
      "100%|██████████| 400/400 [00:02<00:00, 138.80it/s]\n"
     ]
    },
    {
     "name": "stdout",
     "output_type": "stream",
     "text": [
      "N:50 R:0.3 a:0.53 b:1.59 func:HK_2D_sim count:1254\n"
     ]
    },
    {
     "name": "stderr",
     "output_type": "stream",
     "text": [
      "100%|██████████| 400/400 [00:02<00:00, 144.37it/s]\n"
     ]
    },
    {
     "name": "stdout",
     "output_type": "stream",
     "text": [
      "N:50 R:0.3 a:1.59 b:0.53 func:HK_2D_sim count:1294\n"
     ]
    },
    {
     "name": "stderr",
     "output_type": "stream",
     "text": [
      "100%|██████████| 400/400 [00:02<00:00, 144.70it/s]\n"
     ]
    },
    {
     "name": "stdout",
     "output_type": "stream",
     "text": [
      "N:50 R:0.3 a:0.17 b:0.96 func:HK_2D_sim count:1338\n"
     ]
    },
    {
     "name": "stderr",
     "output_type": "stream",
     "text": [
      "100%|██████████| 400/400 [00:02<00:00, 173.17it/s]\n"
     ]
    },
    {
     "name": "stdout",
     "output_type": "stream",
     "text": [
      "N:50 R:0.3 a:0.96 b:0.17 func:HK_2D_sim count:1339\n"
     ]
    },
    {
     "name": "stderr",
     "output_type": "stream",
     "text": [
      "100%|██████████| 400/400 [00:02<00:00, 173.35it/s]\n"
     ]
    },
    {
     "name": "stdout",
     "output_type": "stream",
     "text": [
      "N:50 R:0.35 a:1.41 b:1.72 func:HK_2D_sim count:1340\n"
     ]
    },
    {
     "name": "stderr",
     "output_type": "stream",
     "text": [
      "100%|██████████| 400/400 [00:02<00:00, 176.23it/s]\n"
     ]
    },
    {
     "name": "stdout",
     "output_type": "stream",
     "text": [
      "N:50 R:0.35 a:1.72 b:1.41 func:HK_2D_sim count:1728\n"
     ]
    },
    {
     "name": "stderr",
     "output_type": "stream",
     "text": [
      "100%|██████████| 400/400 [00:02<00:00, 173.35it/s]\n"
     ]
    },
    {
     "name": "stdout",
     "output_type": "stream",
     "text": [
      "N:50 R:0.35 a:0.98 b:1.81 func:HK_2D_sim count:2116\n"
     ]
    },
    {
     "name": "stderr",
     "output_type": "stream",
     "text": [
      "100%|██████████| 400/400 [00:02<00:00, 167.03it/s]\n"
     ]
    },
    {
     "name": "stdout",
     "output_type": "stream",
     "text": [
      "N:50 R:0.35 a:1.81 b:0.98 func:HK_2D_sim count:2464\n"
     ]
    },
    {
     "name": "stderr",
     "output_type": "stream",
     "text": [
      "100%|██████████| 400/400 [00:02<00:00, 163.05it/s]\n"
     ]
    },
    {
     "name": "stdout",
     "output_type": "stream",
     "text": [
      "N:50 R:0.35 a:0.53 b:1.59 func:HK_2D_sim count:2805\n"
     ]
    },
    {
     "name": "stderr",
     "output_type": "stream",
     "text": [
      "100%|██████████| 400/400 [00:02<00:00, 155.33it/s]\n"
     ]
    },
    {
     "name": "stdout",
     "output_type": "stream",
     "text": [
      "N:50 R:0.35 a:1.59 b:0.53 func:HK_2D_sim count:2982\n"
     ]
    },
    {
     "name": "stderr",
     "output_type": "stream",
     "text": [
      "100%|██████████| 400/400 [00:02<00:00, 153.03it/s]\n"
     ]
    },
    {
     "name": "stdout",
     "output_type": "stream",
     "text": [
      "N:50 R:0.35 a:0.17 b:0.96 func:HK_2D_sim count:3158\n"
     ]
    },
    {
     "name": "stderr",
     "output_type": "stream",
     "text": [
      "100%|██████████| 400/400 [00:02<00:00, 179.20it/s]\n"
     ]
    },
    {
     "name": "stdout",
     "output_type": "stream",
     "text": [
      "N:50 R:0.35 a:0.96 b:0.17 func:HK_2D_sim count:3163\n"
     ]
    },
    {
     "name": "stderr",
     "output_type": "stream",
     "text": [
      "100%|██████████| 400/400 [00:02<00:00, 177.66it/s]\n"
     ]
    },
    {
     "name": "stdout",
     "output_type": "stream",
     "text": [
      "N:50 R:0.4 a:1.41 b:1.72 func:HK_2D_sim count:3171\n"
     ]
    },
    {
     "name": "stderr",
     "output_type": "stream",
     "text": [
      "100%|██████████| 400/400 [00:01<00:00, 204.31it/s]\n"
     ]
    },
    {
     "name": "stdout",
     "output_type": "stream",
     "text": [
      "N:50 R:0.4 a:1.72 b:1.41 func:HK_2D_sim count:3570\n"
     ]
    },
    {
     "name": "stderr",
     "output_type": "stream",
     "text": [
      "100%|██████████| 400/400 [00:01<00:00, 205.83it/s]\n"
     ]
    },
    {
     "name": "stdout",
     "output_type": "stream",
     "text": [
      "N:50 R:0.4 a:0.98 b:1.81 func:HK_2D_sim count:3968\n"
     ]
    },
    {
     "name": "stderr",
     "output_type": "stream",
     "text": [
      "100%|██████████| 400/400 [00:02<00:00, 191.47it/s]\n"
     ]
    },
    {
     "name": "stdout",
     "output_type": "stream",
     "text": [
      "N:50 R:0.4 a:1.81 b:0.98 func:HK_2D_sim count:4350\n"
     ]
    },
    {
     "name": "stderr",
     "output_type": "stream",
     "text": [
      "100%|██████████| 400/400 [00:02<00:00, 194.32it/s]\n"
     ]
    },
    {
     "name": "stdout",
     "output_type": "stream",
     "text": [
      "N:50 R:0.4 a:0.53 b:1.59 func:HK_2D_sim count:4733\n"
     ]
    },
    {
     "name": "stderr",
     "output_type": "stream",
     "text": [
      "100%|██████████| 400/400 [00:02<00:00, 174.38it/s]\n"
     ]
    },
    {
     "name": "stdout",
     "output_type": "stream",
     "text": [
      "N:50 R:0.4 a:1.59 b:0.53 func:HK_2D_sim count:5030\n"
     ]
    },
    {
     "name": "stderr",
     "output_type": "stream",
     "text": [
      "100%|██████████| 400/400 [00:02<00:00, 169.59it/s]\n"
     ]
    },
    {
     "name": "stdout",
     "output_type": "stream",
     "text": [
      "N:50 R:0.4 a:0.17 b:0.96 func:HK_2D_sim count:5334\n"
     ]
    },
    {
     "name": "stderr",
     "output_type": "stream",
     "text": [
      "100%|██████████| 400/400 [00:02<00:00, 174.68it/s]\n"
     ]
    },
    {
     "name": "stdout",
     "output_type": "stream",
     "text": [
      "N:50 R:0.4 a:0.96 b:0.17 func:HK_2D_sim count:5376\n"
     ]
    },
    {
     "name": "stderr",
     "output_type": "stream",
     "text": [
      "100%|██████████| 400/400 [00:02<00:00, 170.49it/s]\n"
     ]
    },
    {
     "name": "stdout",
     "output_type": "stream",
     "text": [
      "N:50 R:0.45 a:1.41 b:1.72 func:HK_2D_sim count:5412\n"
     ]
    },
    {
     "name": "stderr",
     "output_type": "stream",
     "text": [
      "100%|██████████| 400/400 [00:01<00:00, 208.04it/s]\n"
     ]
    },
    {
     "name": "stdout",
     "output_type": "stream",
     "text": [
      "N:50 R:0.45 a:1.72 b:1.41 func:HK_2D_sim count:5812\n"
     ]
    },
    {
     "name": "stderr",
     "output_type": "stream",
     "text": [
      "100%|██████████| 400/400 [00:01<00:00, 208.20it/s]\n"
     ]
    },
    {
     "name": "stdout",
     "output_type": "stream",
     "text": [
      "N:50 R:0.45 a:0.98 b:1.81 func:HK_2D_sim count:6212\n"
     ]
    },
    {
     "name": "stderr",
     "output_type": "stream",
     "text": [
      "100%|██████████| 400/400 [00:01<00:00, 202.66it/s]\n"
     ]
    },
    {
     "name": "stdout",
     "output_type": "stream",
     "text": [
      "N:50 R:0.45 a:1.81 b:0.98 func:HK_2D_sim count:6610\n"
     ]
    },
    {
     "name": "stderr",
     "output_type": "stream",
     "text": [
      "100%|██████████| 400/400 [00:01<00:00, 208.05it/s]\n"
     ]
    },
    {
     "name": "stdout",
     "output_type": "stream",
     "text": [
      "N:50 R:0.45 a:0.53 b:1.59 func:HK_2D_sim count:7004\n"
     ]
    },
    {
     "name": "stderr",
     "output_type": "stream",
     "text": [
      "100%|██████████| 400/400 [00:02<00:00, 192.31it/s]\n"
     ]
    },
    {
     "name": "stdout",
     "output_type": "stream",
     "text": [
      "N:50 R:0.45 a:1.59 b:0.53 func:HK_2D_sim count:7373\n"
     ]
    },
    {
     "name": "stderr",
     "output_type": "stream",
     "text": [
      "100%|██████████| 400/400 [00:02<00:00, 188.94it/s]\n"
     ]
    },
    {
     "name": "stdout",
     "output_type": "stream",
     "text": [
      "N:50 R:0.45 a:0.17 b:0.96 func:HK_2D_sim count:7738\n"
     ]
    },
    {
     "name": "stderr",
     "output_type": "stream",
     "text": [
      "100%|██████████| 400/400 [00:02<00:00, 174.64it/s]\n"
     ]
    },
    {
     "name": "stdout",
     "output_type": "stream",
     "text": [
      "N:50 R:0.45 a:0.96 b:0.17 func:HK_2D_sim count:7871\n"
     ]
    },
    {
     "name": "stderr",
     "output_type": "stream",
     "text": [
      "100%|██████████| 400/400 [00:02<00:00, 174.50it/s]\n"
     ]
    },
    {
     "name": "stdout",
     "output_type": "stream",
     "text": [
      "N:50 R:0.5 a:1.41 b:1.72 func:HK_2D_sim count:7987\n"
     ]
    },
    {
     "name": "stderr",
     "output_type": "stream",
     "text": [
      "100%|██████████| 400/400 [00:01<00:00, 219.99it/s]\n"
     ]
    },
    {
     "name": "stdout",
     "output_type": "stream",
     "text": [
      "N:50 R:0.5 a:1.72 b:1.41 func:HK_2D_sim count:8387\n"
     ]
    },
    {
     "name": "stderr",
     "output_type": "stream",
     "text": [
      "100%|██████████| 400/400 [00:01<00:00, 216.63it/s]\n"
     ]
    },
    {
     "name": "stdout",
     "output_type": "stream",
     "text": [
      "N:50 R:0.5 a:0.98 b:1.81 func:HK_2D_sim count:8787\n"
     ]
    },
    {
     "name": "stderr",
     "output_type": "stream",
     "text": [
      "100%|██████████| 400/400 [00:01<00:00, 213.60it/s]\n"
     ]
    },
    {
     "name": "stdout",
     "output_type": "stream",
     "text": [
      "N:50 R:0.5 a:1.81 b:0.98 func:HK_2D_sim count:9187\n"
     ]
    },
    {
     "name": "stderr",
     "output_type": "stream",
     "text": [
      "100%|██████████| 400/400 [00:01<00:00, 210.79it/s]\n"
     ]
    },
    {
     "name": "stdout",
     "output_type": "stream",
     "text": [
      "N:50 R:0.5 a:0.53 b:1.59 func:HK_2D_sim count:9586\n"
     ]
    },
    {
     "name": "stderr",
     "output_type": "stream",
     "text": [
      "100%|██████████| 400/400 [00:01<00:00, 204.11it/s]\n"
     ]
    },
    {
     "name": "stdout",
     "output_type": "stream",
     "text": [
      "N:50 R:0.5 a:1.59 b:0.53 func:HK_2D_sim count:9979\n"
     ]
    },
    {
     "name": "stderr",
     "output_type": "stream",
     "text": [
      "100%|██████████| 400/400 [00:01<00:00, 207.76it/s]\n"
     ]
    },
    {
     "name": "stdout",
     "output_type": "stream",
     "text": [
      "N:50 R:0.5 a:0.17 b:0.96 func:HK_2D_sim count:10367\n"
     ]
    },
    {
     "name": "stderr",
     "output_type": "stream",
     "text": [
      "100%|██████████| 400/400 [00:02<00:00, 183.84it/s]\n"
     ]
    },
    {
     "name": "stdout",
     "output_type": "stream",
     "text": [
      "N:50 R:0.5 a:0.96 b:0.17 func:HK_2D_sim count:10596\n"
     ]
    },
    {
     "name": "stderr",
     "output_type": "stream",
     "text": [
      "100%|██████████| 400/400 [00:02<00:00, 179.01it/s]\n"
     ]
    },
    {
     "name": "stdout",
     "output_type": "stream",
     "text": [
      "N:50 R:0.55 a:1.41 b:1.72 func:HK_2D_sim count:10820\n"
     ]
    },
    {
     "name": "stderr",
     "output_type": "stream",
     "text": [
      "100%|██████████| 400/400 [00:01<00:00, 249.05it/s]\n"
     ]
    },
    {
     "name": "stdout",
     "output_type": "stream",
     "text": [
      "N:50 R:0.55 a:1.72 b:1.41 func:HK_2D_sim count:11220\n"
     ]
    },
    {
     "name": "stderr",
     "output_type": "stream",
     "text": [
      "100%|██████████| 400/400 [00:01<00:00, 252.31it/s]\n"
     ]
    },
    {
     "name": "stdout",
     "output_type": "stream",
     "text": [
      "N:50 R:0.55 a:0.98 b:1.81 func:HK_2D_sim count:11620\n"
     ]
    },
    {
     "name": "stderr",
     "output_type": "stream",
     "text": [
      "100%|██████████| 400/400 [00:01<00:00, 234.77it/s]\n"
     ]
    },
    {
     "name": "stdout",
     "output_type": "stream",
     "text": [
      "N:50 R:0.55 a:1.81 b:0.98 func:HK_2D_sim count:12020\n"
     ]
    },
    {
     "name": "stderr",
     "output_type": "stream",
     "text": [
      "100%|██████████| 400/400 [00:01<00:00, 234.00it/s]\n"
     ]
    },
    {
     "name": "stdout",
     "output_type": "stream",
     "text": [
      "N:50 R:0.55 a:0.53 b:1.59 func:HK_2D_sim count:12420\n"
     ]
    },
    {
     "name": "stderr",
     "output_type": "stream",
     "text": [
      "100%|██████████| 400/400 [00:01<00:00, 216.37it/s]\n"
     ]
    },
    {
     "name": "stdout",
     "output_type": "stream",
     "text": [
      "N:50 R:0.55 a:1.59 b:0.53 func:HK_2D_sim count:12813\n"
     ]
    },
    {
     "name": "stderr",
     "output_type": "stream",
     "text": [
      "100%|██████████| 400/400 [00:01<00:00, 211.71it/s]\n"
     ]
    },
    {
     "name": "stdout",
     "output_type": "stream",
     "text": [
      "N:50 R:0.55 a:0.17 b:0.96 func:HK_2D_sim count:13208\n"
     ]
    },
    {
     "name": "stderr",
     "output_type": "stream",
     "text": [
      "100%|██████████| 400/400 [00:02<00:00, 189.68it/s]\n"
     ]
    },
    {
     "name": "stdout",
     "output_type": "stream",
     "text": [
      "N:50 R:0.55 a:0.96 b:0.17 func:HK_2D_sim count:13531\n"
     ]
    },
    {
     "name": "stderr",
     "output_type": "stream",
     "text": [
      "100%|██████████| 400/400 [00:02<00:00, 182.78it/s]\n"
     ]
    },
    {
     "name": "stdout",
     "output_type": "stream",
     "text": [
      "N:50 R:0.6 a:1.41 b:1.72 func:HK_2D_sim count:13858\n"
     ]
    },
    {
     "name": "stderr",
     "output_type": "stream",
     "text": [
      "100%|██████████| 400/400 [00:01<00:00, 263.86it/s]\n"
     ]
    },
    {
     "name": "stdout",
     "output_type": "stream",
     "text": [
      "N:50 R:0.6 a:1.72 b:1.41 func:HK_2D_sim count:14258\n"
     ]
    },
    {
     "name": "stderr",
     "output_type": "stream",
     "text": [
      "100%|██████████| 400/400 [00:01<00:00, 259.17it/s]\n"
     ]
    },
    {
     "name": "stdout",
     "output_type": "stream",
     "text": [
      "N:50 R:0.6 a:0.98 b:1.81 func:HK_2D_sim count:14658\n"
     ]
    },
    {
     "name": "stderr",
     "output_type": "stream",
     "text": [
      "100%|██████████| 400/400 [00:01<00:00, 260.29it/s]\n"
     ]
    },
    {
     "name": "stdout",
     "output_type": "stream",
     "text": [
      "N:50 R:0.6 a:1.81 b:0.98 func:HK_2D_sim count:15058\n"
     ]
    },
    {
     "name": "stderr",
     "output_type": "stream",
     "text": [
      "100%|██████████| 400/400 [00:01<00:00, 258.63it/s]\n"
     ]
    },
    {
     "name": "stdout",
     "output_type": "stream",
     "text": [
      "N:50 R:0.6 a:0.53 b:1.59 func:HK_2D_sim count:15458\n"
     ]
    },
    {
     "name": "stderr",
     "output_type": "stream",
     "text": [
      "100%|██████████| 400/400 [00:01<00:00, 238.09it/s]\n"
     ]
    },
    {
     "name": "stdout",
     "output_type": "stream",
     "text": [
      "N:50 R:0.6 a:1.59 b:0.53 func:HK_2D_sim count:15857\n"
     ]
    },
    {
     "name": "stderr",
     "output_type": "stream",
     "text": [
      "100%|██████████| 400/400 [00:01<00:00, 234.69it/s]\n"
     ]
    },
    {
     "name": "stdout",
     "output_type": "stream",
     "text": [
      "N:50 R:0.6 a:0.17 b:0.96 func:HK_2D_sim count:16256\n"
     ]
    },
    {
     "name": "stderr",
     "output_type": "stream",
     "text": [
      "100%|██████████| 400/400 [00:01<00:00, 207.74it/s]\n"
     ]
    },
    {
     "name": "stdout",
     "output_type": "stream",
     "text": [
      "N:50 R:0.6 a:0.96 b:0.17 func:HK_2D_sim count:16602\n"
     ]
    },
    {
     "name": "stderr",
     "output_type": "stream",
     "text": [
      "100%|██████████| 400/400 [00:01<00:00, 208.27it/s]\n"
     ]
    },
    {
     "name": "stdout",
     "output_type": "stream",
     "text": [
      "N:50 R:0.65 a:1.41 b:1.72 func:HK_2D_sim count:16961\n"
     ]
    },
    {
     "name": "stderr",
     "output_type": "stream",
     "text": [
      "100%|██████████| 400/400 [00:01<00:00, 263.12it/s]\n"
     ]
    },
    {
     "name": "stdout",
     "output_type": "stream",
     "text": [
      "N:50 R:0.65 a:1.72 b:1.41 func:HK_2D_sim count:17361\n"
     ]
    },
    {
     "name": "stderr",
     "output_type": "stream",
     "text": [
      "100%|██████████| 400/400 [00:01<00:00, 264.44it/s]\n"
     ]
    },
    {
     "name": "stdout",
     "output_type": "stream",
     "text": [
      "N:50 R:0.65 a:0.98 b:1.81 func:HK_2D_sim count:17761\n"
     ]
    },
    {
     "name": "stderr",
     "output_type": "stream",
     "text": [
      "100%|██████████| 400/400 [00:01<00:00, 267.61it/s]\n"
     ]
    },
    {
     "name": "stdout",
     "output_type": "stream",
     "text": [
      "N:50 R:0.65 a:1.81 b:0.98 func:HK_2D_sim count:18161\n"
     ]
    },
    {
     "name": "stderr",
     "output_type": "stream",
     "text": [
      "100%|██████████| 400/400 [00:01<00:00, 262.37it/s]\n"
     ]
    },
    {
     "name": "stdout",
     "output_type": "stream",
     "text": [
      "N:50 R:0.65 a:0.53 b:1.59 func:HK_2D_sim count:18561\n"
     ]
    },
    {
     "name": "stderr",
     "output_type": "stream",
     "text": [
      "100%|██████████| 400/400 [00:01<00:00, 260.76it/s]\n"
     ]
    },
    {
     "name": "stdout",
     "output_type": "stream",
     "text": [
      "N:50 R:0.65 a:1.59 b:0.53 func:HK_2D_sim count:18961\n"
     ]
    },
    {
     "name": "stderr",
     "output_type": "stream",
     "text": [
      "100%|██████████| 400/400 [00:01<00:00, 259.59it/s]\n"
     ]
    },
    {
     "name": "stdout",
     "output_type": "stream",
     "text": [
      "N:50 R:0.65 a:0.17 b:0.96 func:HK_2D_sim count:19361\n"
     ]
    },
    {
     "name": "stderr",
     "output_type": "stream",
     "text": [
      "100%|██████████| 400/400 [00:01<00:00, 218.40it/s]\n"
     ]
    },
    {
     "name": "stdout",
     "output_type": "stream",
     "text": [
      "N:50 R:0.65 a:0.96 b:0.17 func:HK_2D_sim count:19740\n"
     ]
    },
    {
     "name": "stderr",
     "output_type": "stream",
     "text": [
      "100%|██████████| 400/400 [00:01<00:00, 219.40it/s]\n"
     ]
    },
    {
     "name": "stdout",
     "output_type": "stream",
     "text": [
      "N:50 R:0.7 a:1.41 b:1.72 func:HK_2D_sim count:20123\n"
     ]
    },
    {
     "name": "stderr",
     "output_type": "stream",
     "text": [
      "100%|██████████| 400/400 [00:01<00:00, 265.70it/s]\n"
     ]
    },
    {
     "name": "stdout",
     "output_type": "stream",
     "text": [
      "N:50 R:0.7 a:1.72 b:1.41 func:HK_2D_sim count:20523\n"
     ]
    },
    {
     "name": "stderr",
     "output_type": "stream",
     "text": [
      "100%|██████████| 400/400 [00:01<00:00, 263.47it/s]\n"
     ]
    },
    {
     "name": "stdout",
     "output_type": "stream",
     "text": [
      "N:50 R:0.7 a:0.98 b:1.81 func:HK_2D_sim count:20923\n"
     ]
    },
    {
     "name": "stderr",
     "output_type": "stream",
     "text": [
      "100%|██████████| 400/400 [00:01<00:00, 267.62it/s]\n"
     ]
    },
    {
     "name": "stdout",
     "output_type": "stream",
     "text": [
      "N:50 R:0.7 a:1.81 b:0.98 func:HK_2D_sim count:21323\n"
     ]
    },
    {
     "name": "stderr",
     "output_type": "stream",
     "text": [
      "100%|██████████| 400/400 [00:01<00:00, 265.97it/s]\n"
     ]
    },
    {
     "name": "stdout",
     "output_type": "stream",
     "text": [
      "N:50 R:0.7 a:0.53 b:1.59 func:HK_2D_sim count:21723\n"
     ]
    },
    {
     "name": "stderr",
     "output_type": "stream",
     "text": [
      "100%|██████████| 400/400 [00:01<00:00, 265.02it/s]\n"
     ]
    },
    {
     "name": "stdout",
     "output_type": "stream",
     "text": [
      "N:50 R:0.7 a:1.59 b:0.53 func:HK_2D_sim count:22123\n"
     ]
    },
    {
     "name": "stderr",
     "output_type": "stream",
     "text": [
      "100%|██████████| 400/400 [00:01<00:00, 260.33it/s]\n"
     ]
    },
    {
     "name": "stdout",
     "output_type": "stream",
     "text": [
      "N:50 R:0.7 a:0.17 b:0.96 func:HK_2D_sim count:22523\n"
     ]
    },
    {
     "name": "stderr",
     "output_type": "stream",
     "text": [
      "100%|██████████| 400/400 [00:01<00:00, 229.53it/s]\n"
     ]
    },
    {
     "name": "stdout",
     "output_type": "stream",
     "text": [
      "N:50 R:0.7 a:0.96 b:0.17 func:HK_2D_sim count:22914\n"
     ]
    },
    {
     "name": "stderr",
     "output_type": "stream",
     "text": [
      "100%|██████████| 400/400 [00:01<00:00, 234.53it/s]\n"
     ]
    },
    {
     "name": "stdout",
     "output_type": "stream",
     "text": [
      "N:50 R:0.75 a:1.41 b:1.72 func:HK_2D_sim count:23302\n"
     ]
    },
    {
     "name": "stderr",
     "output_type": "stream",
     "text": [
      "100%|██████████| 400/400 [00:01<00:00, 263.16it/s]\n"
     ]
    },
    {
     "name": "stdout",
     "output_type": "stream",
     "text": [
      "N:50 R:0.75 a:1.72 b:1.41 func:HK_2D_sim count:23702\n"
     ]
    },
    {
     "name": "stderr",
     "output_type": "stream",
     "text": [
      "100%|██████████| 400/400 [00:01<00:00, 266.96it/s]\n"
     ]
    },
    {
     "name": "stdout",
     "output_type": "stream",
     "text": [
      "N:50 R:0.75 a:0.98 b:1.81 func:HK_2D_sim count:24102\n"
     ]
    },
    {
     "name": "stderr",
     "output_type": "stream",
     "text": [
      "100%|██████████| 400/400 [00:01<00:00, 266.94it/s]\n"
     ]
    },
    {
     "name": "stdout",
     "output_type": "stream",
     "text": [
      "N:50 R:0.75 a:1.81 b:0.98 func:HK_2D_sim count:24502\n"
     ]
    },
    {
     "name": "stderr",
     "output_type": "stream",
     "text": [
      "100%|██████████| 400/400 [00:01<00:00, 256.84it/s]\n"
     ]
    },
    {
     "name": "stdout",
     "output_type": "stream",
     "text": [
      "N:50 R:0.75 a:0.53 b:1.59 func:HK_2D_sim count:24902\n"
     ]
    },
    {
     "name": "stderr",
     "output_type": "stream",
     "text": [
      "100%|██████████| 400/400 [00:01<00:00, 263.00it/s]\n"
     ]
    },
    {
     "name": "stdout",
     "output_type": "stream",
     "text": [
      "N:50 R:0.75 a:1.59 b:0.53 func:HK_2D_sim count:25302\n"
     ]
    },
    {
     "name": "stderr",
     "output_type": "stream",
     "text": [
      "100%|██████████| 400/400 [00:01<00:00, 266.85it/s]\n"
     ]
    },
    {
     "name": "stdout",
     "output_type": "stream",
     "text": [
      "N:50 R:0.75 a:0.17 b:0.96 func:HK_2D_sim count:25702\n"
     ]
    },
    {
     "name": "stderr",
     "output_type": "stream",
     "text": [
      "100%|██████████| 400/400 [00:01<00:00, 251.58it/s]\n"
     ]
    },
    {
     "name": "stdout",
     "output_type": "stream",
     "text": [
      "N:50 R:0.75 a:0.96 b:0.17 func:HK_2D_sim count:26100\n"
     ]
    },
    {
     "name": "stderr",
     "output_type": "stream",
     "text": [
      "100%|██████████| 400/400 [00:01<00:00, 254.63it/s]\n"
     ]
    },
    {
     "name": "stdout",
     "output_type": "stream",
     "text": [
      "N:50 R:0.8 a:1.41 b:1.72 func:HK_2D_sim count:26491\n"
     ]
    },
    {
     "name": "stderr",
     "output_type": "stream",
     "text": [
      "100%|██████████| 400/400 [00:01<00:00, 267.35it/s]\n"
     ]
    },
    {
     "name": "stdout",
     "output_type": "stream",
     "text": [
      "N:50 R:0.8 a:1.72 b:1.41 func:HK_2D_sim count:26891\n"
     ]
    },
    {
     "name": "stderr",
     "output_type": "stream",
     "text": [
      "100%|██████████| 400/400 [00:01<00:00, 263.52it/s]\n"
     ]
    },
    {
     "name": "stdout",
     "output_type": "stream",
     "text": [
      "N:50 R:0.8 a:0.98 b:1.81 func:HK_2D_sim count:27291\n"
     ]
    },
    {
     "name": "stderr",
     "output_type": "stream",
     "text": [
      "100%|██████████| 400/400 [00:01<00:00, 266.73it/s]\n"
     ]
    },
    {
     "name": "stdout",
     "output_type": "stream",
     "text": [
      "N:50 R:0.8 a:1.81 b:0.98 func:HK_2D_sim count:27691\n"
     ]
    },
    {
     "name": "stderr",
     "output_type": "stream",
     "text": [
      "100%|██████████| 400/400 [00:01<00:00, 265.20it/s]\n"
     ]
    },
    {
     "name": "stdout",
     "output_type": "stream",
     "text": [
      "N:50 R:0.8 a:0.53 b:1.59 func:HK_2D_sim count:28091\n"
     ]
    },
    {
     "name": "stderr",
     "output_type": "stream",
     "text": [
      "100%|██████████| 400/400 [00:01<00:00, 261.96it/s]\n"
     ]
    },
    {
     "name": "stdout",
     "output_type": "stream",
     "text": [
      "N:50 R:0.8 a:1.59 b:0.53 func:HK_2D_sim count:28491\n"
     ]
    },
    {
     "name": "stderr",
     "output_type": "stream",
     "text": [
      "100%|██████████| 400/400 [00:01<00:00, 266.19it/s]\n"
     ]
    },
    {
     "name": "stdout",
     "output_type": "stream",
     "text": [
      "N:50 R:0.8 a:0.17 b:0.96 func:HK_2D_sim count:28891\n"
     ]
    },
    {
     "name": "stderr",
     "output_type": "stream",
     "text": [
      "100%|██████████| 400/400 [00:01<00:00, 260.73it/s]\n"
     ]
    },
    {
     "name": "stdout",
     "output_type": "stream",
     "text": [
      "N:50 R:0.8 a:0.96 b:0.17 func:HK_2D_sim count:29287\n"
     ]
    },
    {
     "name": "stderr",
     "output_type": "stream",
     "text": [
      "100%|██████████| 400/400 [00:01<00:00, 264.20it/s]\n"
     ]
    },
    {
     "name": "stdout",
     "output_type": "stream",
     "text": [
      "N:50 R:0.85 a:1.41 b:1.72 func:HK_2D_sim count:29685\n"
     ]
    },
    {
     "name": "stderr",
     "output_type": "stream",
     "text": [
      "100%|██████████| 400/400 [00:01<00:00, 263.48it/s]\n"
     ]
    },
    {
     "name": "stdout",
     "output_type": "stream",
     "text": [
      "N:50 R:0.85 a:1.72 b:1.41 func:HK_2D_sim count:30085\n"
     ]
    },
    {
     "name": "stderr",
     "output_type": "stream",
     "text": [
      "100%|██████████| 400/400 [00:01<00:00, 267.65it/s]\n"
     ]
    },
    {
     "name": "stdout",
     "output_type": "stream",
     "text": [
      "N:50 R:0.85 a:0.98 b:1.81 func:HK_2D_sim count:30485\n"
     ]
    },
    {
     "name": "stderr",
     "output_type": "stream",
     "text": [
      "100%|██████████| 400/400 [00:01<00:00, 267.21it/s]\n"
     ]
    },
    {
     "name": "stdout",
     "output_type": "stream",
     "text": [
      "N:50 R:0.85 a:1.81 b:0.98 func:HK_2D_sim count:30885\n"
     ]
    },
    {
     "name": "stderr",
     "output_type": "stream",
     "text": [
      "100%|██████████| 400/400 [00:01<00:00, 264.83it/s]\n"
     ]
    },
    {
     "name": "stdout",
     "output_type": "stream",
     "text": [
      "N:50 R:0.85 a:0.53 b:1.59 func:HK_2D_sim count:31285\n"
     ]
    },
    {
     "name": "stderr",
     "output_type": "stream",
     "text": [
      "100%|██████████| 400/400 [00:01<00:00, 264.61it/s]\n"
     ]
    },
    {
     "name": "stdout",
     "output_type": "stream",
     "text": [
      "N:50 R:0.85 a:1.59 b:0.53 func:HK_2D_sim count:31685\n"
     ]
    },
    {
     "name": "stderr",
     "output_type": "stream",
     "text": [
      "100%|██████████| 400/400 [00:01<00:00, 268.17it/s]\n"
     ]
    },
    {
     "name": "stdout",
     "output_type": "stream",
     "text": [
      "N:50 R:0.85 a:0.17 b:0.96 func:HK_2D_sim count:32085\n"
     ]
    },
    {
     "name": "stderr",
     "output_type": "stream",
     "text": [
      "100%|██████████| 400/400 [00:01<00:00, 261.39it/s]\n"
     ]
    },
    {
     "name": "stdout",
     "output_type": "stream",
     "text": [
      "N:50 R:0.85 a:0.96 b:0.17 func:HK_2D_sim count:32485\n"
     ]
    },
    {
     "name": "stderr",
     "output_type": "stream",
     "text": [
      "100%|██████████| 400/400 [00:01<00:00, 263.37it/s]\n"
     ]
    },
    {
     "name": "stdout",
     "output_type": "stream",
     "text": [
      "N:50 R:0.9 a:1.41 b:1.72 func:HK_2D_sim count:32883\n"
     ]
    },
    {
     "name": "stderr",
     "output_type": "stream",
     "text": [
      "100%|██████████| 400/400 [00:01<00:00, 265.37it/s]\n"
     ]
    },
    {
     "name": "stdout",
     "output_type": "stream",
     "text": [
      "N:50 R:0.9 a:1.72 b:1.41 func:HK_2D_sim count:33283\n"
     ]
    },
    {
     "name": "stderr",
     "output_type": "stream",
     "text": [
      "100%|██████████| 400/400 [00:01<00:00, 267.28it/s]\n"
     ]
    },
    {
     "name": "stdout",
     "output_type": "stream",
     "text": [
      "N:50 R:0.9 a:0.98 b:1.81 func:HK_2D_sim count:33683\n"
     ]
    },
    {
     "name": "stderr",
     "output_type": "stream",
     "text": [
      "100%|██████████| 400/400 [00:01<00:00, 259.67it/s]\n"
     ]
    },
    {
     "name": "stdout",
     "output_type": "stream",
     "text": [
      "N:50 R:0.9 a:1.81 b:0.98 func:HK_2D_sim count:34083\n"
     ]
    },
    {
     "name": "stderr",
     "output_type": "stream",
     "text": [
      "100%|██████████| 400/400 [00:01<00:00, 267.83it/s]\n"
     ]
    },
    {
     "name": "stdout",
     "output_type": "stream",
     "text": [
      "N:50 R:0.9 a:0.53 b:1.59 func:HK_2D_sim count:34483\n"
     ]
    },
    {
     "name": "stderr",
     "output_type": "stream",
     "text": [
      "100%|██████████| 400/400 [00:01<00:00, 267.28it/s]\n"
     ]
    },
    {
     "name": "stdout",
     "output_type": "stream",
     "text": [
      "N:50 R:0.9 a:1.59 b:0.53 func:HK_2D_sim count:34883\n"
     ]
    },
    {
     "name": "stderr",
     "output_type": "stream",
     "text": [
      "100%|██████████| 400/400 [00:01<00:00, 264.96it/s]\n"
     ]
    },
    {
     "name": "stdout",
     "output_type": "stream",
     "text": [
      "N:50 R:0.9 a:0.17 b:0.96 func:HK_2D_sim count:35283\n"
     ]
    },
    {
     "name": "stderr",
     "output_type": "stream",
     "text": [
      "100%|██████████| 400/400 [00:01<00:00, 268.07it/s]\n"
     ]
    },
    {
     "name": "stdout",
     "output_type": "stream",
     "text": [
      "N:50 R:0.9 a:0.96 b:0.17 func:HK_2D_sim count:35683\n"
     ]
    },
    {
     "name": "stderr",
     "output_type": "stream",
     "text": [
      "100%|██████████| 400/400 [00:01<00:00, 267.55it/s]\n"
     ]
    },
    {
     "name": "stdout",
     "output_type": "stream",
     "text": [
      "N:50 R:0.95 a:1.41 b:1.72 func:HK_2D_sim count:36082\n"
     ]
    },
    {
     "name": "stderr",
     "output_type": "stream",
     "text": [
      "100%|██████████| 400/400 [00:01<00:00, 266.26it/s]\n"
     ]
    },
    {
     "name": "stdout",
     "output_type": "stream",
     "text": [
      "N:50 R:0.95 a:1.72 b:1.41 func:HK_2D_sim count:36482\n"
     ]
    },
    {
     "name": "stderr",
     "output_type": "stream",
     "text": [
      "100%|██████████| 400/400 [00:01<00:00, 264.31it/s]\n"
     ]
    },
    {
     "name": "stdout",
     "output_type": "stream",
     "text": [
      "N:50 R:0.95 a:0.98 b:1.81 func:HK_2D_sim count:36882\n"
     ]
    },
    {
     "name": "stderr",
     "output_type": "stream",
     "text": [
      "100%|██████████| 400/400 [00:01<00:00, 268.63it/s]\n"
     ]
    },
    {
     "name": "stdout",
     "output_type": "stream",
     "text": [
      "N:50 R:0.95 a:1.81 b:0.98 func:HK_2D_sim count:37282\n"
     ]
    },
    {
     "name": "stderr",
     "output_type": "stream",
     "text": [
      "100%|██████████| 400/400 [00:01<00:00, 268.30it/s]\n"
     ]
    },
    {
     "name": "stdout",
     "output_type": "stream",
     "text": [
      "N:50 R:0.95 a:0.53 b:1.59 func:HK_2D_sim count:37682\n"
     ]
    },
    {
     "name": "stderr",
     "output_type": "stream",
     "text": [
      "100%|██████████| 400/400 [00:01<00:00, 262.73it/s]\n"
     ]
    },
    {
     "name": "stdout",
     "output_type": "stream",
     "text": [
      "N:50 R:0.95 a:1.59 b:0.53 func:HK_2D_sim count:38082\n"
     ]
    },
    {
     "name": "stderr",
     "output_type": "stream",
     "text": [
      "100%|██████████| 400/400 [00:01<00:00, 263.21it/s]\n"
     ]
    },
    {
     "name": "stdout",
     "output_type": "stream",
     "text": [
      "N:50 R:0.95 a:0.17 b:0.96 func:HK_2D_sim count:38482\n"
     ]
    },
    {
     "name": "stderr",
     "output_type": "stream",
     "text": [
      "100%|██████████| 400/400 [00:01<00:00, 266.94it/s]\n"
     ]
    },
    {
     "name": "stdout",
     "output_type": "stream",
     "text": [
      "N:50 R:0.95 a:0.96 b:0.17 func:HK_2D_sim count:38882\n"
     ]
    },
    {
     "name": "stderr",
     "output_type": "stream",
     "text": [
      "100%|██████████| 400/400 [00:01<00:00, 260.79it/s]\n"
     ]
    },
    {
     "name": "stdout",
     "output_type": "stream",
     "text": [
      "N:50 R:1.0 a:1.41 b:1.72 func:HK_2D_sim count:39282\n"
     ]
    },
    {
     "name": "stderr",
     "output_type": "stream",
     "text": [
      "100%|██████████| 400/400 [00:01<00:00, 276.15it/s]\n"
     ]
    },
    {
     "name": "stdout",
     "output_type": "stream",
     "text": [
      "N:50 R:1.0 a:1.72 b:1.41 func:HK_2D_sim count:39682\n"
     ]
    },
    {
     "name": "stderr",
     "output_type": "stream",
     "text": [
      "100%|██████████| 400/400 [00:01<00:00, 271.28it/s]\n"
     ]
    },
    {
     "name": "stdout",
     "output_type": "stream",
     "text": [
      "N:50 R:1.0 a:0.98 b:1.81 func:HK_2D_sim count:40082\n"
     ]
    },
    {
     "name": "stderr",
     "output_type": "stream",
     "text": [
      "100%|██████████| 400/400 [00:01<00:00, 272.99it/s]\n"
     ]
    },
    {
     "name": "stdout",
     "output_type": "stream",
     "text": [
      "N:50 R:1.0 a:1.81 b:0.98 func:HK_2D_sim count:40482\n"
     ]
    },
    {
     "name": "stderr",
     "output_type": "stream",
     "text": [
      "100%|██████████| 400/400 [00:01<00:00, 270.61it/s]\n"
     ]
    },
    {
     "name": "stdout",
     "output_type": "stream",
     "text": [
      "N:50 R:1.0 a:0.53 b:1.59 func:HK_2D_sim count:40882\n"
     ]
    },
    {
     "name": "stderr",
     "output_type": "stream",
     "text": [
      "100%|██████████| 400/400 [00:01<00:00, 270.87it/s]\n"
     ]
    },
    {
     "name": "stdout",
     "output_type": "stream",
     "text": [
      "N:50 R:1.0 a:1.59 b:0.53 func:HK_2D_sim count:41282\n"
     ]
    },
    {
     "name": "stderr",
     "output_type": "stream",
     "text": [
      "100%|██████████| 400/400 [00:01<00:00, 272.09it/s]\n"
     ]
    },
    {
     "name": "stdout",
     "output_type": "stream",
     "text": [
      "N:50 R:1.0 a:0.17 b:0.96 func:HK_2D_sim count:41682\n"
     ]
    },
    {
     "name": "stderr",
     "output_type": "stream",
     "text": [
      "100%|██████████| 400/400 [00:01<00:00, 259.21it/s]\n"
     ]
    },
    {
     "name": "stdout",
     "output_type": "stream",
     "text": [
      "N:50 R:1.0 a:0.96 b:0.17 func:HK_2D_sim count:42082\n"
     ]
    },
    {
     "name": "stderr",
     "output_type": "stream",
     "text": [
      "100%|██████████| 400/400 [00:01<00:00, 265.44it/s]\n"
     ]
    }
   ],
   "source": [
    "experiment = beta_distib_consensus_data.index[-1] +1\n",
    "\n",
    "simulation_func = HK_2D_sim_fast\n",
    "count_consensus = 0\n",
    "CONSENSUS_BORDER = 5\n",
    "for R in R_array:\n",
    "    for i in range (len(alphas)):\n",
    "        alpha = alphas[i]\n",
    "        beta = betas[i]\n",
    "        init_beta_distrib_consensus_data(beta_distib_consensus_data, experiment, N, alpha, beta, R)\n",
    "        if count_consensus>=CONSENSUS_BORDER: simulation_func=HK_2D_sim\n",
    "        print(f\"N:{N} R:{R} a:{alpha} b:{beta} func:{simulation_func.__name__} count:{count_consensus}\")\n",
    "\n",
    "        for i in trange(experiments):\n",
    "            x0 = np.random.beta(alpha, beta, (N,2))\n",
    "            res_arr_fast, check_fast = simulation_func(x0, R, R * 1e-3, 1000)\n",
    "            if check_fast:\n",
    "                cluster_of_agent, cluster_sizes = caln_n_clusters(res_arr_fast[-1, :, :], R)\n",
    "                experiment = beta_distib_consensus_data[\n",
    "                    ((beta_distib_consensus_data['N'] == N) \n",
    "                    & (beta_distib_consensus_data['alpha'] == alpha) \n",
    "                    & (beta_distib_consensus_data['beta'] == beta) \n",
    "                    & (round(beta_distib_consensus_data['eps'],2) == round(R,2)))].index[0]\n",
    "                beta_distib_consensus_data.at[experiment, \"simulation_count\"] +=1\n",
    "                if len(cluster_sizes)==1:\n",
    "                    # we have consensus\n",
    "                    count_consensus+=1\n",
    "                    update_beta_distrib_consensus_data(beta_distib_consensus_data, experiment, res_arr_fast)\n",
    "            else:\n",
    "                draw_HK_2D_simulation(res_arr_fast, 'plasma')\n",
    "        experiment = beta_distib_consensus_data.index[-1] +1"
   ]
  },
  {
   "cell_type": "code",
   "execution_count": 67,
   "metadata": {},
   "outputs": [
    {
     "data": {
      "text/plain": [
       "(0.96, 0.17, 1.0)"
      ]
     },
     "execution_count": 67,
     "metadata": {},
     "output_type": "execute_result"
    }
   ],
   "source": [
    "alpha, beta, R"
   ]
  },
  {
   "cell_type": "code",
   "execution_count": 35,
   "metadata": {},
   "outputs": [
    {
     "name": "stdout",
     "output_type": "stream",
     "text": [
      "         N  alpha  beta   eps  consensus_x  consensus_y  consensus_probabity  \\\n",
      "2168  50.0   1.41  1.72  0.15     0.000000     0.000000                  0.0   \n",
      "2176  50.0   1.41  1.72  0.20     0.388084     0.382131                  1.0   \n",
      "2184  50.0   1.41  1.72  0.25    20.073501    20.140903                 45.0   \n",
      "2192  50.0   1.41  1.72  0.30    72.355342    71.744929                163.0   \n",
      "2200  50.0   1.41  1.72  0.35    88.913258    87.645985                198.0   \n",
      "2208  50.0   1.41  1.72  0.40    88.569041    88.939986                199.0   \n",
      "2216  50.0   1.41  1.72  0.45    89.457753    89.336584                200.0   \n",
      "2224  50.0   1.41  1.72  0.50    89.512120    90.088731                200.0   \n",
      "2232  50.0   1.41  1.72  0.55    89.827921    89.997088                200.0   \n",
      "2240  50.0   1.41  1.72  0.60    90.542476    89.287765                200.0   \n",
      "2248  50.0   1.41  1.72  0.65    89.841437    90.569352                200.0   \n",
      "2256  50.0   1.41  1.72  0.70    89.988036    88.923122                200.0   \n",
      "2264  50.0   1.41  1.72  0.75    90.181777    90.711696                200.0   \n",
      "2272  50.0   1.41  1.72  0.80    89.769317    89.961158                200.0   \n",
      "2280  50.0   1.41  1.72  0.85    90.442094    89.401047                200.0   \n",
      "2288  50.0   1.41  1.72  0.90    89.265892    90.461857                200.0   \n",
      "2296  50.0   1.41  1.72  0.95    90.405018    90.286622                200.0   \n",
      "2304  50.0   1.41  1.72  1.00    89.919514    89.726021                200.0   \n",
      "\n",
      "      simulation_time  simulation_count  \n",
      "2168              0.0             200.0  \n",
      "2176             11.0             200.0  \n",
      "2184            380.0             200.0  \n",
      "2192           1007.0             200.0  \n",
      "2200           1009.0             200.0  \n",
      "2208            834.0             200.0  \n",
      "2216            798.0             200.0  \n",
      "2224            765.0             200.0  \n",
      "2232            649.0             200.0  \n",
      "2240            600.0             200.0  \n",
      "2248            600.0             200.0  \n",
      "2256            600.0             200.0  \n",
      "2264            600.0             200.0  \n",
      "2272            600.0             200.0  \n",
      "2280            600.0             200.0  \n",
      "2288            600.0             200.0  \n",
      "2296            596.0             200.0  \n",
      "2304            579.0             200.0  \n",
      "         N  alpha  beta   eps  consensus_x  consensus_y  consensus_probabity  \\\n",
      "2169  50.0    1.2   1.8  0.15     0.000000     0.000000                  0.0   \n",
      "2177  50.0    1.2   1.8  0.20     0.000000     0.000000                  0.0   \n",
      "2185  50.0    1.2   1.8  0.25     9.692750     9.231807                 24.0   \n",
      "2193  50.0    1.2   1.8  0.30    53.958665    53.425893                138.0   \n",
      "2201  50.0    1.2   1.8  0.35    68.523834    69.897786                179.0   \n",
      "2209  50.0    1.2   1.8  0.40    77.575424    78.255281                199.0   \n",
      "2217  50.0    1.2   1.8  0.45    79.670276    79.219445                200.0   \n",
      "2225  50.0    1.2   1.8  0.50    78.361335    77.847211                199.0   \n",
      "2233  50.0    1.2   1.8  0.55    78.083251    79.296119                200.0   \n",
      "2241  50.0    1.2   1.8  0.60    78.179500    79.179827                200.0   \n",
      "2249  50.0    1.2   1.8  0.65    79.421337    78.358925                200.0   \n",
      "2257  50.0    1.2   1.8  0.70    79.389310    80.036813                200.0   \n",
      "2265  50.0    1.2   1.8  0.75    79.293884    78.708109                200.0   \n",
      "2273  50.0    1.2   1.8  0.80    79.586469    80.118248                200.0   \n",
      "2281  50.0    1.2   1.8  0.85    80.113398    79.128388                200.0   \n",
      "2289  50.0    1.2   1.8  0.90    79.349495    79.456345                200.0   \n",
      "2297  50.0    1.2   1.8  0.95    80.245469    80.102631                200.0   \n",
      "2305  50.0    1.2   1.8  1.00    79.421028    79.786241                200.0   \n",
      "\n",
      "      simulation_time  simulation_count  \n",
      "2169              0.0             200.0  \n",
      "2177              0.0             200.0  \n",
      "2185            218.0             200.0  \n",
      "2193            909.0             200.0  \n",
      "2201            927.0             200.0  \n",
      "2209            850.0             200.0  \n",
      "2217            800.0             200.0  \n",
      "2225            762.0             200.0  \n",
      "2233            665.0             200.0  \n",
      "2241            604.0             200.0  \n",
      "2249            600.0             200.0  \n",
      "2257            600.0             200.0  \n",
      "2265            600.0             200.0  \n",
      "2273            600.0             200.0  \n",
      "2281            600.0             200.0  \n",
      "2289            600.0             200.0  \n",
      "2297            594.0             200.0  \n",
      "2305            579.0             200.0  \n",
      "         N  alpha  beta   eps  consensus_x  consensus_y  consensus_probabity  \\\n",
      "2170  50.0   0.98  1.81  0.15     0.000000     0.000000                  0.0   \n",
      "2178  50.0   0.98  1.81  0.20     0.000000     0.000000                  0.0   \n",
      "2186  50.0   0.98  1.81  0.25     3.796167     3.707627                 11.0   \n",
      "2194  50.0   0.98  1.81  0.30    31.950152    32.466271                 95.0   \n",
      "2202  50.0   0.98  1.81  0.35    55.739426    55.552778                166.0   \n",
      "2210  50.0   0.98  1.81  0.40    65.659997    65.395189                193.0   \n",
      "2218  50.0   0.98  1.81  0.45    65.705657    66.621783                194.0   \n",
      "2226  50.0   0.98  1.81  0.50    68.096543    68.557555                200.0   \n",
      "2234  50.0   0.98  1.81  0.55    68.161699    68.543441                200.0   \n",
      "2242  50.0   0.98  1.81  0.60    69.939336    69.577822                200.0   \n",
      "2250  50.0   0.98  1.81  0.65    68.379284    68.578649                200.0   \n",
      "2258  50.0   0.98  1.81  0.70    69.520378    70.541977                200.0   \n",
      "2266  50.0   0.98  1.81  0.75    68.855002    69.753675                200.0   \n",
      "2274  50.0   0.98  1.81  0.80    68.989697    69.783106                200.0   \n",
      "2282  50.0   0.98  1.81  0.85    69.478990    69.879568                200.0   \n",
      "2290  50.0   0.98  1.81  0.90    70.293524    70.457662                200.0   \n",
      "2298  50.0   0.98  1.81  0.95    70.236634    70.090890                200.0   \n",
      "2306  50.0   0.98  1.81  1.00    70.198737    70.621909                200.0   \n",
      "\n",
      "      simulation_time  simulation_count  \n",
      "2170              0.0             200.0  \n",
      "2178              0.0             200.0  \n",
      "2186            104.0             200.0  \n",
      "2194            659.0             200.0  \n",
      "2202            884.0             200.0  \n",
      "2210            867.0             200.0  \n",
      "2218            788.0             200.0  \n",
      "2226            779.0             200.0  \n",
      "2234            686.0             200.0  \n",
      "2242            611.0             200.0  \n",
      "2250            600.0             200.0  \n",
      "2258            600.0             200.0  \n",
      "2266            600.0             200.0  \n",
      "2274            600.0             200.0  \n",
      "2282            600.0             200.0  \n",
      "2290            600.0             200.0  \n",
      "2298            594.0             200.0  \n",
      "2306            578.0             200.0  \n",
      "         N  alpha  beta   eps  consensus_x  consensus_y  consensus_probabity  \\\n",
      "2171  50.0   0.75  1.75  0.15     0.000000     0.000000                  0.0   \n",
      "2179  50.0   0.75  1.75  0.20     0.000000     0.000000                  0.0   \n",
      "2187  50.0   0.75  1.75  0.25     1.752806     1.679591                  6.0   \n",
      "2195  50.0   0.75  1.75  0.30    12.708579    12.759526                 45.0   \n",
      "2203  50.0   0.75  1.75  0.35    40.523862    40.863169                146.0   \n",
      "2211  50.0   0.75  1.75  0.40    49.710407    50.669445                176.0   \n",
      "2219  50.0   0.75  1.75  0.45    53.539365    53.819417                188.0   \n",
      "2227  50.0   0.75  1.75  0.50    56.881851    56.302748                198.0   \n",
      "2235  50.0   0.75  1.75  0.55    57.313228    57.461773                199.0   \n",
      "2243  50.0   0.75  1.75  0.60    57.970375    58.043708                200.0   \n",
      "2251  50.0   0.75  1.75  0.65    57.736785    57.685379                200.0   \n",
      "2259  50.0   0.75  1.75  0.70    58.665858    58.043167                200.0   \n",
      "2267  50.0   0.75  1.75  0.75    58.210632    57.770481                200.0   \n",
      "2275  50.0   0.75  1.75  0.80    59.214313    58.270287                200.0   \n",
      "2283  50.0   0.75  1.75  0.85    58.774794    59.483336                200.0   \n",
      "2291  50.0   0.75  1.75  0.90    59.648034    59.219140                200.0   \n",
      "2299  50.0   0.75  1.75  0.95    59.763610    59.610874                200.0   \n",
      "2307  50.0   0.75  1.75  1.00    58.973372    60.176169                200.0   \n",
      "\n",
      "      simulation_time  simulation_count  \n",
      "2171              0.0             200.0  \n",
      "2179              0.0             200.0  \n",
      "2187             46.0             200.0  \n",
      "2195            326.0             200.0  \n",
      "2203            839.0             200.0  \n",
      "2211            836.0             200.0  \n",
      "2219            790.0             200.0  \n",
      "2227            784.0             200.0  \n",
      "2235            714.0             200.0  \n",
      "2243            630.0             200.0  \n",
      "2251            603.0             200.0  \n",
      "2259            600.0             200.0  \n",
      "2267            600.0             200.0  \n",
      "2275            600.0             200.0  \n",
      "2283            600.0             200.0  \n",
      "2291            600.0             200.0  \n",
      "2299            595.0             200.0  \n",
      "2307            582.0             200.0  \n",
      "         N  alpha  beta   eps  consensus_x  consensus_y  consensus_probabity  \\\n",
      "2172  50.0   0.53  1.59  0.15     0.000000     0.000000                  0.0   \n",
      "2180  50.0   0.53  1.59  0.20     0.000000     0.000000                  0.0   \n",
      "2188  50.0   0.53  1.59  0.25     0.195105     0.164485                  1.0   \n",
      "2196  50.0   0.53  1.59  0.30     2.910260     2.789561                 13.0   \n",
      "2204  50.0   0.53  1.59  0.35    22.423970    22.341516                 98.0   \n",
      "2212  50.0   0.53  1.59  0.40    34.109670    33.515537                148.0   \n",
      "2220  50.0   0.53  1.59  0.45    40.391431    40.822424                178.0   \n",
      "2228  50.0   0.53  1.59  0.50    44.974619    45.577345                193.0   \n",
      "2236  50.0   0.53  1.59  0.55    47.400542    46.874732                200.0   \n",
      "2244  50.0   0.53  1.59  0.60    47.011223    46.528047                198.0   \n",
      "2252  50.0   0.53  1.59  0.65    48.221633    47.040653                200.0   \n",
      "2260  50.0   0.53  1.59  0.70    47.772962    48.135592                200.0   \n",
      "2268  50.0   0.53  1.59  0.75    48.326108    47.874603                200.0   \n",
      "2276  50.0   0.53  1.59  0.80    49.076205    49.011877                200.0   \n",
      "2284  50.0   0.53  1.59  0.85    47.843456    49.920032                200.0   \n",
      "2292  50.0   0.53  1.59  0.90    48.886555    50.030986                200.0   \n",
      "2300  50.0   0.53  1.59  0.95    48.728186    50.074592                200.0   \n",
      "2308  50.0   0.53  1.59  1.00    49.767623    48.465619                200.0   \n",
      "\n",
      "      simulation_time  simulation_count  \n",
      "2172              0.0             200.0  \n",
      "2180              0.0             200.0  \n",
      "2188              6.0             200.0  \n",
      "2196             87.0             200.0  \n",
      "2204            598.0             200.0  \n",
      "2212            767.0             200.0  \n",
      "2220            802.0             200.0  \n",
      "2228            792.0             200.0  \n",
      "2236            774.0             200.0  \n",
      "2244            683.0             200.0  \n",
      "2252            613.0             200.0  \n",
      "2260            602.0             200.0  \n",
      "2268            600.0             200.0  \n",
      "2276            600.0             200.0  \n",
      "2284            600.0             200.0  \n",
      "2292            598.0             200.0  \n",
      "2300            597.0             200.0  \n",
      "2308            589.0             200.0  \n",
      "         N  alpha  beta   eps  consensus_x  consensus_y  consensus_probabity  \\\n",
      "2173  50.0   0.33  1.33  0.15     0.000000     0.000000                  0.0   \n",
      "2181  50.0   0.33  1.33  0.20     0.000000     0.000000                  0.0   \n",
      "2189  50.0   0.33  1.33  0.25     0.000000     0.000000                  0.0   \n",
      "2197  50.0   0.33  1.33  0.30     0.500493     0.478531                  3.0   \n",
      "2205  50.0   0.33  1.33  0.35     6.346603     6.245688                 36.0   \n",
      "2213  50.0   0.33  1.33  0.40    16.659402    16.930234                 96.0   \n",
      "2221  50.0   0.33  1.33  0.45    26.741259    26.382357                150.0   \n",
      "2229  50.0   0.33  1.33  0.50    30.998913    30.466858                172.0   \n",
      "2237  50.0   0.33  1.33  0.55    34.879300    33.901490                191.0   \n",
      "2245  50.0   0.33  1.33  0.60    35.552940    36.366252                197.0   \n",
      "2253  50.0   0.33  1.33  0.65    37.003023    36.655627                199.0   \n",
      "2261  50.0   0.33  1.33  0.70    37.846512    37.421108                199.0   \n",
      "2269  50.0   0.33  1.33  0.75    37.537588    38.030518                200.0   \n",
      "2277  50.0   0.33  1.33  0.80    37.408544    38.573564                200.0   \n",
      "2285  50.0   0.33  1.33  0.85    38.402166    38.223950                200.0   \n",
      "2293  50.0   0.33  1.33  0.90    38.495284    39.241739                200.0   \n",
      "2301  50.0   0.33  1.33  0.95    39.071149    38.769125                200.0   \n",
      "2309  50.0   0.33  1.33  1.00    39.326887    39.924063                200.0   \n",
      "\n",
      "      simulation_time  simulation_count  \n",
      "2173              0.0             200.0  \n",
      "2181              0.0             200.0  \n",
      "2189              0.0             200.0  \n",
      "2197             24.0             200.0  \n",
      "2205            223.0             200.0  \n",
      "2213            539.0             200.0  \n",
      "2221            770.0             200.0  \n",
      "2229            742.0             200.0  \n",
      "2237            764.0             200.0  \n",
      "2245            741.0             200.0  \n",
      "2253            668.0             200.0  \n",
      "2261            612.0             200.0  \n",
      "2269            602.0             200.0  \n",
      "2277            602.0             200.0  \n",
      "2285            600.0             200.0  \n",
      "2293            597.0             200.0  \n",
      "2301            593.0             200.0  \n",
      "2309            590.0             200.0  \n",
      "         N  alpha  beta   eps  consensus_x  consensus_y  consensus_probabity  \\\n",
      "2174  50.0   0.17  0.96  0.15     0.000000     0.000000                  0.0   \n",
      "2182  50.0   0.17  0.96  0.20     0.000000     0.000000                  0.0   \n",
      "2190  50.0   0.17  0.96  0.25     0.000000     0.000000                  0.0   \n",
      "2198  50.0   0.17  0.96  0.30     0.000000     0.000000                  0.0   \n",
      "2206  50.0   0.17  0.96  0.35     0.327078     0.389001                  3.0   \n",
      "2214  50.0   0.17  0.96  0.40     2.718155     2.700960                 21.0   \n",
      "2222  50.0   0.17  0.96  0.45     5.774183     5.340958                 45.0   \n",
      "2230  50.0   0.17  0.96  0.50    14.118077    14.320655                111.0   \n",
      "2238  50.0   0.17  0.96  0.55    19.644004    19.011751                149.0   \n",
      "2246  50.0   0.17  0.96  0.60    23.876346    22.724156                179.0   \n",
      "2254  50.0   0.17  0.96  0.65    25.854921    25.687230                193.0   \n",
      "2262  50.0   0.17  0.96  0.70    26.821917    26.448140                199.0   \n",
      "2270  50.0   0.17  0.96  0.75    25.876344    27.684899                198.0   \n",
      "2278  50.0   0.17  0.96  0.80    27.504658    27.777729                200.0   \n",
      "2286  50.0   0.17  0.96  0.85    27.382836    27.446981                199.0   \n",
      "2294  50.0   0.17  0.96  0.90    28.878293    28.156082                200.0   \n",
      "2302  50.0   0.17  0.96  0.95    28.657494    28.992082                200.0   \n",
      "2310  50.0   0.17  0.96  1.00    28.844334    29.579285                200.0   \n",
      "\n",
      "      simulation_time  simulation_count  \n",
      "2174              0.0             200.0  \n",
      "2182              0.0             200.0  \n",
      "2190              0.0             200.0  \n",
      "2198              0.0             200.0  \n",
      "2206             19.0             200.0  \n",
      "2214            124.0             200.0  \n",
      "2222            245.0             200.0  \n",
      "2230            541.0             200.0  \n",
      "2238            673.0             200.0  \n",
      "2246            727.0             200.0  \n",
      "2254            735.0             200.0  \n",
      "2262            698.0             200.0  \n",
      "2270            640.0             200.0  \n",
      "2278            608.0             200.0  \n",
      "2286            597.0             200.0  \n",
      "2294            600.0             200.0  \n",
      "2302            598.0             200.0  \n",
      "2310            598.0             200.0  \n",
      "         N  alpha  beta   eps  consensus_x  consensus_y  consensus_probabity  \\\n",
      "2175  50.0   0.05  0.45  0.15     0.000000     0.000000                  0.0   \n",
      "2183  50.0   0.05  0.45  0.20     0.000000     0.000000                  0.0   \n",
      "2191  50.0   0.05  0.45  0.25     0.000000     0.000000                  0.0   \n",
      "2199  50.0   0.05  0.45  0.30     0.000000     0.000000                  0.0   \n",
      "2207  50.0   0.05  0.45  0.35     0.000000     0.000000                  0.0   \n",
      "2215  50.0   0.05  0.45  0.40     0.074499     0.061007                  2.0   \n",
      "2223  50.0   0.05  0.45  0.45     0.172804     0.116349                  2.0   \n",
      "2231  50.0   0.05  0.45  0.50     0.392198     0.470436                  7.0   \n",
      "2239  50.0   0.05  0.45  0.55     1.658206     1.951911                 25.0   \n",
      "2247  50.0   0.05  0.45  0.60     4.840681     5.527797                 65.0   \n",
      "2255  50.0   0.05  0.45  0.65     8.259582     7.617949                 95.0   \n",
      "2263  50.0   0.05  0.45  0.70    12.274417    12.451277                148.0   \n",
      "2271  50.0   0.05  0.45  0.75    15.163054    15.279054                177.0   \n",
      "2279  50.0   0.05  0.45  0.80    15.941890    16.229779                186.0   \n",
      "2287  50.0   0.05  0.45  0.85    16.284616    17.402124                191.0   \n",
      "2295  50.0   0.05  0.45  0.90    17.995436    17.329107                199.0   \n",
      "2303  50.0   0.05  0.45  0.95    17.158630    16.421470                195.0   \n",
      "2311  50.0   0.05  0.45  1.00    18.810395    17.931557                200.0   \n",
      "\n",
      "      simulation_time  simulation_count  \n",
      "2175              0.0             200.0  \n",
      "2183              0.0             200.0  \n",
      "2191              0.0             200.0  \n",
      "2199              0.0             200.0  \n",
      "2207              0.0             200.0  \n",
      "2215             10.0             200.0  \n",
      "2223             13.0             200.0  \n",
      "2231             32.0             200.0  \n",
      "2239            124.0             200.0  \n",
      "2247            320.0             200.0  \n",
      "2255            429.0             200.0  \n",
      "2263            607.0             200.0  \n",
      "2271            687.0             200.0  \n",
      "2279            687.0             200.0  \n",
      "2287            654.0             200.0  \n",
      "2295            626.0             200.0  \n",
      "2303            595.0             200.0  \n",
      "2311            597.0             200.0  \n"
     ]
    }
   ],
   "source": [
    "for i in range (len(alphas)):\n",
    "    alpha = alphas[i]\n",
    "    beta = betas[i]\n",
    "    df = beta_distib_consensus_data.query('beta==@beta and alpha==@alpha and N == @N')\n",
    "    print(df)\n",
    "# N50 = beta_distib_consensus_data.query('alpha in @alphas and beta in @betas and N == @N')\n",
    "# pivot_data = N50.pivot(index='eps', columns='beta', values='consensus_probabity')\n",
    "# pivot_data\n",
    "# N50"
   ]
  },
  {
   "cell_type": "markdown",
   "metadata": {},
   "source": [
    "#### График"
   ]
  },
  {
   "cell_type": "code",
   "execution_count": 14,
   "metadata": {},
   "outputs": [],
   "source": [
    "alphas.append(1.5)\n",
    "betas.append(1.5)"
   ]
  },
  {
   "cell_type": "code",
   "execution_count": 15,
   "metadata": {},
   "outputs": [
    {
     "data": {
      "text/plain": [
       "([1.41, 1.72, 0.98, 1.81, 0.53, 1.59, 0.17, 0.96, 1.5],\n",
       " [1.72, 1.41, 1.81, 0.98, 1.59, 0.53, 0.96, 0.17, 1.5])"
      ]
     },
     "execution_count": 15,
     "metadata": {},
     "output_type": "execute_result"
    }
   ],
   "source": [
    "alphas, betas"
   ]
  },
  {
   "cell_type": "code",
   "execution_count": 18,
   "metadata": {},
   "outputs": [
    {
     "data": {
      "image/png": "[encoded data removed]",
      "text/plain": [
       "<Figure size 1000x800 with 1 Axes>"
      ]
     },
     "metadata": {},
     "output_type": "display_data"
    }
   ],
   "source": [
    "plt.figure(figsize=(10, 8))\n",
    "\n",
    "cmap = mp.cm.get_cmap(\"plasma\")\n",
    "norm=plt.Normalize(vmin=0, vmax=len(alphas))\n",
    "sm = plt.cm.ScalarMappable(cmap=cmap, norm=norm)\n",
    "\n",
    "# Plot lines for each beta value\n",
    "for i in range (len(alphas)):\n",
    "    alpha = alphas[i]\n",
    "    beta = betas[i]\n",
    "    df = beta_distib_consensus_data.query('beta==@beta and alpha==@alpha and N == @N')\n",
    "    color=np.array(cmap(norm(i)))\n",
    "    E, sigma = beta_distrib_ab2Esigma(alpha, beta)\n",
    "    plt.plot(df['eps'], df['consensus_probabity']/df['simulation_count'], label=f'$a$:{round(alpha,2)}|$b$:{round(beta,2)}|$\\mu$:{E:0.2f}|$\\sigma^2$:{sigma:.2f}', c=color )\n",
    "\n",
    "df = beta_distib_consensus_data.query('beta==1.5 and alpha==1.5 and N == @N')\n",
    "color=\"--c\"\n",
    "alpha=beta = 1.5\n",
    "E, sigma = beta_distrib_ab2Esigma(1.5, 1.5)\n",
    "plt.plot(df['eps'], df['consensus_probabity']/df['simulation_count'], color ,label=f'$a$:{round(alpha,2)}|$b$:{round(beta,2)}|$\\mu$:{E:0.2f}|$\\sigma^2$:{sigma:.2f}' )\n",
    "\n",
    "# plt.plot(unif_data['eps'], unif_data['consensus_probabity']/unif_data['simulation_count'], \"--g\",linewidth=2, label=f'uniform' )\n",
    "\n",
    "\n",
    "# Adding the HK_sample line (you'll need to adjust this based on your actual data)\n",
    "plt.title(f' 2dHK Percentage of consensus N:{N}\\n a,b - parameters beta distribution')\n",
    "plt.xlabel('Eps')\n",
    "plt.ylabel('Percentage')\n",
    "plt.legend()\n",
    "# Add a grid\n",
    "plt.grid(True, linestyle='--', alpha=0.7)\n",
    "\n",
    "plt.tight_layout()\n",
    "plt.show()"
   ]
  },
  {
   "cell_type": "code",
   "execution_count": 57,
   "metadata": {},
   "outputs": [],
   "source": [
    "%matplotlib inline"
   ]
  },
  {
   "cell_type": "code",
   "execution_count": 58,
   "metadata": {},
   "outputs": [
    {
     "data": {
      "image/png": "[encoded data removed]",
      "text/plain": [
       "<Figure size 1000x800 with 1 Axes>"
      ]
     },
     "metadata": {},
     "output_type": "display_data"
    }
   ],
   "source": [
    "\n",
    "\n",
    "ax = plt.figure(figsize=(10, 8)).add_subplot(projection='3d')\n",
    "\n",
    "cmap = mp.cm.get_cmap(\"plasma\")\n",
    "norm=plt.Normalize(vmin=0, vmax=len(alphas))\n",
    "sm = plt.cm.ScalarMappable(cmap=cmap, norm=norm)\n",
    "\n",
    "# Plot lines for each beta value\n",
    "for i in range (len(alphas)):\n",
    "    alpha = alphas[i]\n",
    "    beta = betas[i]\n",
    "    df = beta_distib_consensus_data.query('beta==@beta and alpha==@alpha and N == @N')\n",
    "    color=np.array(cmap(norm(i)))\n",
    "    E, sigma = beta_distrib_ab2Esigma(alpha, beta)\n",
    "    ax.plot3D(xs=df['eps'], ys=df['consensus_x']/df['simulation_count'], zs=df['consensus_y']/df['simulation_count'], label=f'$a$:{round(alpha,2)}|$b$:{round(beta,2)}|$\\mu$:{E:0.2f}|$\\sigma^2$:{sigma:.2f}' )\n",
    "\n",
    "df = beta_distib_consensus_data.query('beta==1.5 and alpha==1.5 and N == @N')\n",
    "color=\"--c\"\n",
    "alpha=beta = 1.5\n",
    "E, sigma = beta_distrib_ab2Esigma(1.5, 1.5)\n",
    "ax.plot3D(xs=df['eps'], ys=df['consensus_x']/df['simulation_count'], zs=df['consensus_y']/df['simulation_count'],label=f'$a$:{round(alpha,2)}|$b$:{round(beta,2)}|$\\mu$:{E:0.2f}|$\\sigma^2$:{sigma:.2f}' )\n",
    "\n",
    "# plt.plot(unif_data['eps'], unif_data['consensus_probabity']/unif_data['simulation_count'], \"--g\",linewidth=2, label=f'uniform' )\n",
    "\n",
    "\n",
    "# Adding the HK_sample line (you'll need to adjust this based on your actual data)\n",
    "plt.title(f' 2dHK Percentage of consensus N:{N}\\n a,b - parameters beta distribution')\n",
    "ax.set_xlabel('Eps')\n",
    "ax.set_ylabel('x')\n",
    "ax.set_zlabel('y')\n",
    "plt.legend()\n",
    "# Add a grid\n",
    "plt.grid(True, linestyle='--', alpha=0.7)\n",
    "ax.view_init(elev=20., azim=-20)\n",
    "\n",
    "\n",
    "plt.tight_layout()\n",
    "plt.show()"
   ]
  },
  {
   "cell_type": "markdown",
   "metadata": {},
   "source": [
    "#### Моделирование для $\\alpha=\\beta, \\mu=0.5$ - фиксированное"
   ]
  },
  {
   "cell_type": "code",
   "execution_count": null,
   "metadata": {},
   "outputs": [],
   "source": [
    "experiment = beta_distib_consensus_data.index[-1] +1\n",
    "\n",
    "simulation_func = HK_2D_sim_fast\n",
    "count_consensus = 0\n",
    "CONSENSUS_BORDER = 5\n",
    "for R in R_array:\n",
    "    for beta in beta_params_array:\n",
    "        alpha = beta\n",
    "        init_beta_distrib_consensus_data(beta_distib_consensus_data, experiment, N, alpha, beta, R)\n",
    "        if count_consensus>=CONSENSUS_BORDER: simulation_func=HK_2D_sim\n",
    "        print(f\"N:{N} R:{R} a:{alpha} b:{beta} func:{simulation_func.__name__} count:{count_consensus}\")\n",
    "\n",
    "        for i in trange(experiments):\n",
    "            x0 = np.random.beta(alpha, beta, (N,2))\n",
    "            res_arr_fast, check_fast = simulation_func(x0, R, R * 1e-3, 1000)\n",
    "            if check_fast:\n",
    "                cluster_of_agent, cluster_sizes = caln_n_clusters(res_arr_fast[-1, :, :], R)\n",
    "                experiment = beta_distib_consensus_data[\n",
    "                    ((beta_distib_consensus_data['N'] == N) \n",
    "                     & (beta_distib_consensus_data['alpha'] == alpha) \n",
    "                     & (beta_distib_consensus_data['beta'] == beta) \n",
    "                     & (beta_distib_consensus_data['eps'] == R))].index[0]\n",
    "                beta_distib_consensus_data.at[experiment, \"simulation_count\"] +=1\n",
    "                if len(cluster_sizes)==1:\n",
    "                    # we have consensus\n",
    "                    count_consensus+=1\n",
    "                    update_beta_distrib_consensus_data(beta_distib_consensus_data, experiment, res_arr_fast)\n",
    "            else:\n",
    "                draw_HK_2D_simulation(res_arr_fast, 'plasma')\n",
    "        experiment = beta_distib_consensus_data.index[-1] +1"
   ]
  },
  {
   "cell_type": "code",
   "execution_count": null,
   "metadata": {},
   "outputs": [],
   "source": [
    "beta_distib_consensus_data[beta_distib_consensus_data['N'] == 50]\n"
   ]
  },
  {
   "cell_type": "markdown",
   "metadata": {},
   "source": [
    "#### Сохранение"
   ]
  },
  {
   "cell_type": "code",
   "execution_count": 73,
   "metadata": {},
   "outputs": [],
   "source": [
    "beta_distib_consensus_data.to_csv('beta_distib_consensus_data.csv',sep=\";\", index=False)"
   ]
  },
  {
   "cell_type": "markdown",
   "metadata": {},
   "source": [
    "#### Загрузка результатов"
   ]
  },
  {
   "cell_type": "code",
   "execution_count": null,
   "metadata": {},
   "outputs": [],
   "source": [
    "data = pd.read_csv('beta_distib_consensus_data.csv', sep=\";\", dtype=dtypes)\n",
    "data\n",
    "# data = beta_distib_consensus_data"
   ]
  },
  {
   "cell_type": "markdown",
   "metadata": {},
   "source": [
    "#### Визуализация"
   ]
  },
  {
   "cell_type": "code",
   "execution_count": null,
   "metadata": {},
   "outputs": [],
   "source": [
    "N50 = data[data['N'] == N]\n",
    "pivot_data = N50.pivot(index='eps', columns='beta', values='consensus_probabity')\n",
    "pivot_data"
   ]
  },
  {
   "cell_type": "code",
   "execution_count": null,
   "metadata": {},
   "outputs": [],
   "source": [
    "plt.figure(figsize=(10, 8))\n",
    "\n",
    "cmap = mp.cm.get_cmap(\"plasma\")\n",
    "norm=plt.Normalize(vmin=0.15, vmax=5.5)\n",
    "sm = plt.cm.ScalarMappable(cmap=cmap, norm=norm)\n",
    "\n",
    "# Plot lines for each beta value\n",
    "for beta in beta_params_array:\n",
    "    df = data.query('beta == @beta and N == @N')\n",
    "    color=np.array(cmap(norm(beta)))\n",
    "    alpha = beta\n",
    "    E, sigma = beta_distrib_ab2Esigma(alpha, beta)\n",
    "    plt.plot(df['eps'], df['consensus_probabity']/df['simulation_count'], label=f'$a$:{round(beta,2)}|$b$:{round(beta,2)}|$\\mu$:{E:0.2f}|$\\sigma^2$:{sigma:.2f}', c=color )\n",
    "\n",
    "plt.plot(unif_data['eps'], unif_data['consensus_probabity']/unif_data['simulation_count'], \"--g\",linewidth=2, label=f'uniform' )\n",
    "\n",
    "\n",
    "# Adding the HK_sample line (you'll need to adjust this based on your actual data)\n",
    "plt.title(f' 2dHK Percentage of consensus N:{N}\\n a,b - parameters beta distribution')\n",
    "plt.xlabel('Eps')\n",
    "plt.ylabel('Percentage')\n",
    "plt.legend()\n",
    "# Add a grid\n",
    "plt.grid(True, linestyle='--', alpha=0.7)\n",
    "\n",
    "plt.tight_layout()\n",
    "plt.show()"
   ]
  }
 ],
 "metadata": {
  "kernelspec": {
   "display_name": "base",
   "language": "python",
   "name": "python3"
  },
  "language_info": {
   "codemirror_mode": {
    "name": "ipython",
    "version": 3
   },
   "file_extension": ".py",
   "mimetype": "text/x-python",
   "name": "python",
   "nbconvert_exporter": "python",
   "pygments_lexer": "ipython3",
   "version": "3.12.7"
  }
 },
 "nbformat": 4,
 "nbformat_minor": 2
}
