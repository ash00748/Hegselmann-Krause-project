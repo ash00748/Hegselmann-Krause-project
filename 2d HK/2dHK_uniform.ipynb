{
 "cells": [
  {
   "cell_type": "code",
   "execution_count": 2,
   "metadata": {},
   "outputs": [],
   "source": [
    "import sys\n",
    "sys.path.append(\"../source\")"
   ]
  },
  {
   "cell_type": "code",
   "execution_count": 3,
   "metadata": {},
   "outputs": [],
   "source": [
    "import numpy as np\n",
    "import math\n",
    "import matplotlib.pyplot as plt\n",
    "import pylab\n",
    "from tqdm import trange\n",
    "import scipy\n",
    "import scipy.stats as stats\n",
    "from scipy.stats import bernoulli\n",
    "import matplotlib as mp\n",
    "from numba import njit\n",
    "from project_lib import *\n",
    "import pandas as pd"
   ]
  },
  {
   "cell_type": "code",
   "execution_count": 12,
   "metadata": {},
   "outputs": [],
   "source": [
    "def init_unif_distrib_consensus_data(unif_distib_consensus_data, experiment, N, alpha, beta, R):\n",
    "    if not ((unif_distib_consensus_data['N'] == N) \n",
    "            & (unif_distib_consensus_data['eps'] == R)\n",
    "            ).any():\n",
    "        unif_distib_consensus_data.at[experiment, \"N\"] = N\n",
    "        unif_distib_consensus_data.at[experiment, \"eps\"] = R\n",
    "        unif_distib_consensus_data.at[experiment, \"consensus_x\"] = 0\n",
    "        unif_distib_consensus_data.at[experiment, \"consensus_y\"] = 0\n",
    "        unif_distib_consensus_data.at[experiment, \"consensus_probabity\"] =0\n",
    "        unif_distib_consensus_data.at[experiment, \"simulation_time\"] =0\n",
    "        unif_distib_consensus_data.at[experiment, \"simulation_count\"] = 0\n",
    "\n",
    "def update_unif_distrib_consensus_data(unif_distib_consensus_data, experiment, res_arr_fast):\n",
    "    unif_distib_consensus_data.at[experiment, \"consensus_x\"] += res_arr_fast[-1, 0, 0]\n",
    "    unif_distib_consensus_data.at[experiment, \"consensus_y\"] += res_arr_fast[-1, 0, 1]\n",
    "    unif_distib_consensus_data.at[experiment, \"consensus_probabity\"] +=1\n",
    "    unif_distib_consensus_data.at[experiment, \"simulation_time\"] +=res_arr_fast.shape[0]\n",
    "    \n",
    "\n",
    "\n",
    "dtypes = {\n",
    "    'N': np.int64,\n",
    "    'eps': np.float64,\n",
    "    'consensus_x': np.float64,\n",
    "    'consensus_y': np.float64,\n",
    "    'consensus_probabity': np.float64,\n",
    "    'simulation_time': np.int64,\n",
    "    'simulation_count': np.int64\n",
    "}"
   ]
  },
  {
   "cell_type": "code",
   "execution_count": 20,
   "metadata": {},
   "outputs": [
    {
     "data": {
      "text/html": [
       "<div>\n",
       "<style scoped>\n",
       "    .dataframe tbody tr th:only-of-type {\n",
       "        vertical-align: middle;\n",
       "    }\n",
       "\n",
       "    .dataframe tbody tr th {\n",
       "        vertical-align: top;\n",
       "    }\n",
       "\n",
       "    .dataframe thead th {\n",
       "        text-align: right;\n",
       "    }\n",
       "</style>\n",
       "<table border=\"1\" class=\"dataframe\">\n",
       "  <thead>\n",
       "    <tr style=\"text-align: right;\">\n",
       "      <th></th>\n",
       "      <th>N</th>\n",
       "      <th>eps</th>\n",
       "      <th>consensus_x</th>\n",
       "      <th>consensus_y</th>\n",
       "      <th>consensus_probabity</th>\n",
       "      <th>simulation_time</th>\n",
       "      <th>simulation_count</th>\n",
       "    </tr>\n",
       "  </thead>\n",
       "  <tbody>\n",
       "  </tbody>\n",
       "</table>\n",
       "</div>"
      ],
      "text/plain": [
       "Empty DataFrame\n",
       "Columns: [N, eps, consensus_x, consensus_y, consensus_probabity, simulation_time, simulation_count]\n",
       "Index: []"
      ]
     },
     "execution_count": 20,
     "metadata": {},
     "output_type": "execute_result"
    }
   ],
   "source": [
    "unif_distib_consensus_data = pd.DataFrame(columns=[\"N\", \"eps\", \"consensus_x\", \"consensus_y\",\"consensus_probabity\", \"simulation_time\", \"simulation_count\"], dtype=object)\n",
    "unif_distib_consensus_data.to_csv('unif_distib_consensus_data.csv',sep=\";\", index=False)\n",
    "unif_distib_consensus_data"
   ]
  },
  {
   "cell_type": "code",
   "execution_count": 15,
   "metadata": {},
   "outputs": [],
   "source": [
    "R = 0.2  # радиус доверия\n",
    "eps = 1e-4  # допустимая точность\n",
    "n = 50  # количество агентов по одной оси\n",
    "N = n"
   ]
  },
  {
   "cell_type": "code",
   "execution_count": 16,
   "metadata": {},
   "outputs": [
    {
     "data": {
      "text/plain": [
       "array([0.5, 1. , 1.5, 2. , 2.5, 3. , 3.5, 4. , 4.5, 5. ])"
      ]
     },
     "execution_count": 16,
     "metadata": {},
     "output_type": "execute_result"
    }
   ],
   "source": [
    "experiments = 200\n",
    "R_array = np.arange(0.15, 1.01, 0.05)\n",
    "beta_params_array =  np.arange(0.5, 5.1, 0.5)\n",
    "beta_params_array"
   ]
  },
  {
   "cell_type": "code",
   "execution_count": 28,
   "metadata": {},
   "outputs": [],
   "source": [
    "unif_distib_consensus_data.to_csv('unif_distib_consensus_data.csv',sep=\";\", index=False)\n"
   ]
  },
  {
   "cell_type": "code",
   "execution_count": 23,
   "metadata": {},
   "outputs": [
    {
     "name": "stdout",
     "output_type": "stream",
     "text": [
      "N:50 R:0.15 a:0.5 b:0.5 func:HK_2D_sim_fast count:0\n"
     ]
    },
    {
     "name": "stderr",
     "output_type": "stream",
     "text": [
      "100%|██████████| 200/200 [00:00<00:00, 282.26it/s]\n"
     ]
    },
    {
     "name": "stdout",
     "output_type": "stream",
     "text": [
      "N:50 R:0.2 a:0.5 b:0.5 func:HK_2D_sim_fast count:0\n"
     ]
    },
    {
     "name": "stderr",
     "output_type": "stream",
     "text": [
      "100%|██████████| 200/200 [00:00<00:00, 239.23it/s]\n"
     ]
    },
    {
     "name": "stdout",
     "output_type": "stream",
     "text": [
      "N:50 R:0.25 a:0.5 b:0.5 func:HK_2D_sim_fast count:0\n"
     ]
    },
    {
     "name": "stderr",
     "output_type": "stream",
     "text": [
      "100%|██████████| 200/200 [00:01<00:00, 185.51it/s]\n"
     ]
    },
    {
     "name": "stdout",
     "output_type": "stream",
     "text": [
      "N:50 R:0.30000000000000004 a:0.5 b:0.5 func:HK_2D_sim_fast count:1\n"
     ]
    },
    {
     "name": "stderr",
     "output_type": "stream",
     "text": [
      "100%|██████████| 200/200 [00:01<00:00, 128.46it/s]\n"
     ]
    },
    {
     "name": "stdout",
     "output_type": "stream",
     "text": [
      "N:50 R:0.3500000000000001 a:0.5 b:0.5 func:HK_2D_sim count:57\n"
     ]
    },
    {
     "name": "stderr",
     "output_type": "stream",
     "text": [
      "100%|██████████| 200/200 [00:01<00:00, 114.69it/s]\n"
     ]
    },
    {
     "name": "stdout",
     "output_type": "stream",
     "text": [
      "N:50 R:0.40000000000000013 a:0.5 b:0.5 func:HK_2D_sim count:212\n"
     ]
    },
    {
     "name": "stderr",
     "output_type": "stream",
     "text": [
      "100%|██████████| 200/200 [00:01<00:00, 180.27it/s]\n"
     ]
    },
    {
     "name": "stdout",
     "output_type": "stream",
     "text": [
      "N:50 R:0.45000000000000007 a:0.5 b:0.5 func:HK_2D_sim count:411\n"
     ]
    },
    {
     "name": "stderr",
     "output_type": "stream",
     "text": [
      "100%|██████████| 200/200 [00:00<00:00, 213.43it/s]\n"
     ]
    },
    {
     "name": "stdout",
     "output_type": "stream",
     "text": [
      "N:50 R:0.5000000000000001 a:0.5 b:0.5 func:HK_2D_sim count:611\n"
     ]
    },
    {
     "name": "stderr",
     "output_type": "stream",
     "text": [
      "100%|██████████| 200/200 [00:00<00:00, 227.09it/s]\n"
     ]
    },
    {
     "name": "stdout",
     "output_type": "stream",
     "text": [
      "N:50 R:0.5500000000000002 a:0.5 b:0.5 func:HK_2D_sim count:811\n"
     ]
    },
    {
     "name": "stderr",
     "output_type": "stream",
     "text": [
      "100%|██████████| 200/200 [00:00<00:00, 230.07it/s]\n"
     ]
    },
    {
     "name": "stdout",
     "output_type": "stream",
     "text": [
      "N:50 R:0.6000000000000002 a:0.5 b:0.5 func:HK_2D_sim count:1011\n"
     ]
    },
    {
     "name": "stderr",
     "output_type": "stream",
     "text": [
      "100%|██████████| 200/200 [00:00<00:00, 239.10it/s]\n"
     ]
    },
    {
     "name": "stdout",
     "output_type": "stream",
     "text": [
      "N:50 R:0.6500000000000002 a:0.5 b:0.5 func:HK_2D_sim count:1211\n"
     ]
    },
    {
     "name": "stderr",
     "output_type": "stream",
     "text": [
      "100%|██████████| 200/200 [00:00<00:00, 288.09it/s]\n"
     ]
    },
    {
     "name": "stdout",
     "output_type": "stream",
     "text": [
      "N:50 R:0.7000000000000002 a:0.5 b:0.5 func:HK_2D_sim count:1411\n"
     ]
    },
    {
     "name": "stderr",
     "output_type": "stream",
     "text": [
      "100%|██████████| 200/200 [00:00<00:00, 291.71it/s]\n"
     ]
    },
    {
     "name": "stdout",
     "output_type": "stream",
     "text": [
      "N:50 R:0.7500000000000002 a:0.5 b:0.5 func:HK_2D_sim count:1611\n"
     ]
    },
    {
     "name": "stderr",
     "output_type": "stream",
     "text": [
      "100%|██████████| 200/200 [00:00<00:00, 288.35it/s]\n"
     ]
    },
    {
     "name": "stdout",
     "output_type": "stream",
     "text": [
      "N:50 R:0.8000000000000003 a:0.5 b:0.5 func:HK_2D_sim count:1811\n"
     ]
    },
    {
     "name": "stderr",
     "output_type": "stream",
     "text": [
      "100%|██████████| 200/200 [00:00<00:00, 284.70it/s]\n"
     ]
    },
    {
     "name": "stdout",
     "output_type": "stream",
     "text": [
      "N:50 R:0.8500000000000002 a:0.5 b:0.5 func:HK_2D_sim count:2011\n"
     ]
    },
    {
     "name": "stderr",
     "output_type": "stream",
     "text": [
      "100%|██████████| 200/200 [00:00<00:00, 282.91it/s]\n"
     ]
    },
    {
     "name": "stdout",
     "output_type": "stream",
     "text": [
      "N:50 R:0.9000000000000002 a:0.5 b:0.5 func:HK_2D_sim count:2211\n"
     ]
    },
    {
     "name": "stderr",
     "output_type": "stream",
     "text": [
      "100%|██████████| 200/200 [00:00<00:00, 289.42it/s]\n"
     ]
    },
    {
     "name": "stdout",
     "output_type": "stream",
     "text": [
      "N:50 R:0.9500000000000003 a:0.5 b:0.5 func:HK_2D_sim count:2411\n"
     ]
    },
    {
     "name": "stderr",
     "output_type": "stream",
     "text": [
      "100%|██████████| 200/200 [00:00<00:00, 293.16it/s]\n"
     ]
    },
    {
     "name": "stdout",
     "output_type": "stream",
     "text": [
      "N:50 R:1.0000000000000002 a:0.5 b:0.5 func:HK_2D_sim count:2611\n"
     ]
    },
    {
     "name": "stderr",
     "output_type": "stream",
     "text": [
      "100%|██████████| 200/200 [00:00<00:00, 289.36it/s]\n"
     ]
    },
    {
     "data": {
      "text/html": [
       "<div>\n",
       "<style scoped>\n",
       "    .dataframe tbody tr th:only-of-type {\n",
       "        vertical-align: middle;\n",
       "    }\n",
       "\n",
       "    .dataframe tbody tr th {\n",
       "        vertical-align: top;\n",
       "    }\n",
       "\n",
       "    .dataframe thead th {\n",
       "        text-align: right;\n",
       "    }\n",
       "</style>\n",
       "<table border=\"1\" class=\"dataframe\">\n",
       "  <thead>\n",
       "    <tr style=\"text-align: right;\">\n",
       "      <th></th>\n",
       "      <th>N</th>\n",
       "      <th>eps</th>\n",
       "      <th>consensus_x</th>\n",
       "      <th>consensus_y</th>\n",
       "      <th>consensus_probabity</th>\n",
       "      <th>simulation_time</th>\n",
       "      <th>simulation_count</th>\n",
       "    </tr>\n",
       "  </thead>\n",
       "  <tbody>\n",
       "    <tr>\n",
       "      <th>0</th>\n",
       "      <td>50</td>\n",
       "      <td>0.15</td>\n",
       "      <td>0</td>\n",
       "      <td>0</td>\n",
       "      <td>0</td>\n",
       "      <td>0</td>\n",
       "      <td>200</td>\n",
       "    </tr>\n",
       "    <tr>\n",
       "      <th>1</th>\n",
       "      <td>50</td>\n",
       "      <td>0.2</td>\n",
       "      <td>0</td>\n",
       "      <td>0</td>\n",
       "      <td>0</td>\n",
       "      <td>0</td>\n",
       "      <td>200</td>\n",
       "    </tr>\n",
       "    <tr>\n",
       "      <th>2</th>\n",
       "      <td>50</td>\n",
       "      <td>0.25</td>\n",
       "      <td>0.522432</td>\n",
       "      <td>0.459108</td>\n",
       "      <td>1</td>\n",
       "      <td>10</td>\n",
       "      <td>200</td>\n",
       "    </tr>\n",
       "    <tr>\n",
       "      <th>3</th>\n",
       "      <td>50</td>\n",
       "      <td>0.3</td>\n",
       "      <td>28.444537</td>\n",
       "      <td>28.194056</td>\n",
       "      <td>56</td>\n",
       "      <td>514</td>\n",
       "      <td>200</td>\n",
       "    </tr>\n",
       "    <tr>\n",
       "      <th>4</th>\n",
       "      <td>50</td>\n",
       "      <td>0.35</td>\n",
       "      <td>77.673857</td>\n",
       "      <td>78.457409</td>\n",
       "      <td>155</td>\n",
       "      <td>1053</td>\n",
       "      <td>200</td>\n",
       "    </tr>\n",
       "    <tr>\n",
       "      <th>5</th>\n",
       "      <td>50</td>\n",
       "      <td>0.4</td>\n",
       "      <td>100.175477</td>\n",
       "      <td>98.959998</td>\n",
       "      <td>199</td>\n",
       "      <td>1045</td>\n",
       "      <td>200</td>\n",
       "    </tr>\n",
       "    <tr>\n",
       "      <th>6</th>\n",
       "      <td>50</td>\n",
       "      <td>0.45</td>\n",
       "      <td>99.545035</td>\n",
       "      <td>100.092801</td>\n",
       "      <td>200</td>\n",
       "      <td>871</td>\n",
       "      <td>200</td>\n",
       "    </tr>\n",
       "    <tr>\n",
       "      <th>7</th>\n",
       "      <td>50</td>\n",
       "      <td>0.5</td>\n",
       "      <td>100.553961</td>\n",
       "      <td>100.384974</td>\n",
       "      <td>200</td>\n",
       "      <td>803</td>\n",
       "      <td>200</td>\n",
       "    </tr>\n",
       "    <tr>\n",
       "      <th>8</th>\n",
       "      <td>50</td>\n",
       "      <td>0.55</td>\n",
       "      <td>99.837694</td>\n",
       "      <td>99.178135</td>\n",
       "      <td>200</td>\n",
       "      <td>795</td>\n",
       "      <td>200</td>\n",
       "    </tr>\n",
       "    <tr>\n",
       "      <th>9</th>\n",
       "      <td>50</td>\n",
       "      <td>0.6</td>\n",
       "      <td>99.623504</td>\n",
       "      <td>98.789098</td>\n",
       "      <td>200</td>\n",
       "      <td>724</td>\n",
       "      <td>200</td>\n",
       "    </tr>\n",
       "    <tr>\n",
       "      <th>10</th>\n",
       "      <td>50</td>\n",
       "      <td>0.65</td>\n",
       "      <td>100.297921</td>\n",
       "      <td>100.01202</td>\n",
       "      <td>200</td>\n",
       "      <td>609</td>\n",
       "      <td>200</td>\n",
       "    </tr>\n",
       "    <tr>\n",
       "      <th>11</th>\n",
       "      <td>50</td>\n",
       "      <td>0.7</td>\n",
       "      <td>101.343413</td>\n",
       "      <td>100.275264</td>\n",
       "      <td>200</td>\n",
       "      <td>600</td>\n",
       "      <td>200</td>\n",
       "    </tr>\n",
       "    <tr>\n",
       "      <th>12</th>\n",
       "      <td>50</td>\n",
       "      <td>0.75</td>\n",
       "      <td>100.144214</td>\n",
       "      <td>99.683307</td>\n",
       "      <td>200</td>\n",
       "      <td>600</td>\n",
       "      <td>200</td>\n",
       "    </tr>\n",
       "    <tr>\n",
       "      <th>13</th>\n",
       "      <td>50</td>\n",
       "      <td>0.8</td>\n",
       "      <td>99.327828</td>\n",
       "      <td>99.931477</td>\n",
       "      <td>200</td>\n",
       "      <td>600</td>\n",
       "      <td>200</td>\n",
       "    </tr>\n",
       "    <tr>\n",
       "      <th>14</th>\n",
       "      <td>50</td>\n",
       "      <td>0.85</td>\n",
       "      <td>99.737287</td>\n",
       "      <td>99.917876</td>\n",
       "      <td>200</td>\n",
       "      <td>600</td>\n",
       "      <td>200</td>\n",
       "    </tr>\n",
       "    <tr>\n",
       "      <th>15</th>\n",
       "      <td>50</td>\n",
       "      <td>0.9</td>\n",
       "      <td>99.590705</td>\n",
       "      <td>100.425984</td>\n",
       "      <td>200</td>\n",
       "      <td>600</td>\n",
       "      <td>200</td>\n",
       "    </tr>\n",
       "    <tr>\n",
       "      <th>16</th>\n",
       "      <td>50</td>\n",
       "      <td>0.95</td>\n",
       "      <td>100.000044</td>\n",
       "      <td>99.083123</td>\n",
       "      <td>200</td>\n",
       "      <td>600</td>\n",
       "      <td>200</td>\n",
       "    </tr>\n",
       "    <tr>\n",
       "      <th>17</th>\n",
       "      <td>50</td>\n",
       "      <td>1.0</td>\n",
       "      <td>99.686278</td>\n",
       "      <td>100.91638</td>\n",
       "      <td>200</td>\n",
       "      <td>600</td>\n",
       "      <td>200</td>\n",
       "    </tr>\n",
       "  </tbody>\n",
       "</table>\n",
       "</div>"
      ],
      "text/plain": [
       "     N   eps consensus_x consensus_y consensus_probabity simulation_time  \\\n",
       "0   50  0.15           0           0                   0               0   \n",
       "1   50   0.2           0           0                   0               0   \n",
       "2   50  0.25    0.522432    0.459108                   1              10   \n",
       "3   50   0.3   28.444537   28.194056                  56             514   \n",
       "4   50  0.35   77.673857   78.457409                 155            1053   \n",
       "5   50   0.4  100.175477   98.959998                 199            1045   \n",
       "6   50  0.45   99.545035  100.092801                 200             871   \n",
       "7   50   0.5  100.553961  100.384974                 200             803   \n",
       "8   50  0.55   99.837694   99.178135                 200             795   \n",
       "9   50   0.6   99.623504   98.789098                 200             724   \n",
       "10  50  0.65  100.297921   100.01202                 200             609   \n",
       "11  50   0.7  101.343413  100.275264                 200             600   \n",
       "12  50  0.75  100.144214   99.683307                 200             600   \n",
       "13  50   0.8   99.327828   99.931477                 200             600   \n",
       "14  50  0.85   99.737287   99.917876                 200             600   \n",
       "15  50   0.9   99.590705  100.425984                 200             600   \n",
       "16  50  0.95  100.000044   99.083123                 200             600   \n",
       "17  50   1.0   99.686278   100.91638                 200             600   \n",
       "\n",
       "   simulation_count  \n",
       "0               200  \n",
       "1               200  \n",
       "2               200  \n",
       "3               200  \n",
       "4               200  \n",
       "5               200  \n",
       "6               200  \n",
       "7               200  \n",
       "8               200  \n",
       "9               200  \n",
       "10              200  \n",
       "11              200  \n",
       "12              200  \n",
       "13              200  \n",
       "14              200  \n",
       "15              200  \n",
       "16              200  \n",
       "17              200  "
      ]
     },
     "execution_count": 23,
     "metadata": {},
     "output_type": "execute_result"
    }
   ],
   "source": [
    "experiment = 0\n",
    "\n",
    "simulation_func = HK_2D_sim_fast\n",
    "count_consensus = 0\n",
    "CONSENSUS_BORDER = 5\n",
    "for R in R_array:\n",
    "    init_unif_distrib_consensus_data(unif_distib_consensus_data, experiment, N, alpha, beta, R)\n",
    "    if count_consensus>=CONSENSUS_BORDER: simulation_func=HK_2D_sim\n",
    "    print(f\"N:{N} R:{R} a:{alpha} b:{beta} func:{simulation_func.__name__} count:{count_consensus}\")\n",
    "\n",
    "    for i in trange(experiments):\n",
    "        x0 = np.random.uniform(0,1,(N,2))\n",
    "        res_arr_fast, check_fast = simulation_func(x0, R, R * 1e-3, 1000)\n",
    "        if check_fast:\n",
    "            cluster_of_agent, cluster_sizes = caln_n_clusters(res_arr_fast[-1, :, :], R)\n",
    "            experiment = unif_distib_consensus_data[\n",
    "                ((unif_distib_consensus_data['N'] == N) \n",
    "                    & (unif_distib_consensus_data['eps'] == R))].index[0]\n",
    "            unif_distib_consensus_data.at[experiment, \"simulation_count\"] +=1\n",
    "            if len(cluster_sizes)==1:\n",
    "                # we have consensus\n",
    "                count_consensus+=1\n",
    "                update_unif_distrib_consensus_data(unif_distib_consensus_data, experiment, res_arr_fast)\n",
    "        else:\n",
    "            draw_HK_2D_simulation(res_arr_fast, 'plasma')\n",
    "    experiment = unif_distib_consensus_data.index[-1] +1\n",
    "unif_distib_consensus_data"
   ]
  },
  {
   "cell_type": "code",
   "execution_count": 24,
   "metadata": {},
   "outputs": [
    {
     "data": {
      "image/png": "[encoded data removed]",
      "text/plain": [
       "<Figure size 640x480 with 1 Axes>"
      ]
     },
     "metadata": {},
     "output_type": "display_data"
    }
   ],
   "source": [
    "experiment = 0\n",
    "res_arr_fast, check_fast = HK_2D_sim_fast(x0, R, R * 1e-3, 1000)\n",
    "\n",
    "np.save(f\"2dHKN{N}R{R}_beta_a{alpha}_b{beta}.npy\", res_arr_fast)\n",
    "\n",
    "draw_HK_2D_simulation(res_arr_fast,N=N, R=R,cmap='plasma')\n",
    "cluster_of_agent, cluster_sizes = caln_n_clusters(res_arr_fast[-1, :, :], R)"
   ]
  },
  {
   "cell_type": "code",
   "execution_count": 27,
   "metadata": {},
   "outputs": [
    {
     "name": "stderr",
     "output_type": "stream",
     "text": [
      "c:\\Users\\anast\\anaconda3\\lib\\site-packages\\pandas\\core\\algorithms.py:798: FutureWarning: In a future version, the Index constructor will not infer numeric dtypes when passed object-dtype sequences (matching Series behavior)\n",
      "  uniques = Index(uniques)\n"
     ]
    },
    {
     "data": {
      "text/html": [
       "<div>\n",
       "<style scoped>\n",
       "    .dataframe tbody tr th:only-of-type {\n",
       "        vertical-align: middle;\n",
       "    }\n",
       "\n",
       "    .dataframe tbody tr th {\n",
       "        vertical-align: top;\n",
       "    }\n",
       "\n",
       "    .dataframe thead th {\n",
       "        text-align: right;\n",
       "    }\n",
       "</style>\n",
       "<table border=\"1\" class=\"dataframe\">\n",
       "  <thead>\n",
       "    <tr style=\"text-align: right;\">\n",
       "      <th>N</th>\n",
       "      <th>50</th>\n",
       "    </tr>\n",
       "    <tr>\n",
       "      <th>eps</th>\n",
       "      <th></th>\n",
       "    </tr>\n",
       "  </thead>\n",
       "  <tbody>\n",
       "    <tr>\n",
       "      <th>0.15</th>\n",
       "      <td>0</td>\n",
       "    </tr>\n",
       "    <tr>\n",
       "      <th>0.20</th>\n",
       "      <td>0</td>\n",
       "    </tr>\n",
       "    <tr>\n",
       "      <th>0.25</th>\n",
       "      <td>1</td>\n",
       "    </tr>\n",
       "    <tr>\n",
       "      <th>0.30</th>\n",
       "      <td>56</td>\n",
       "    </tr>\n",
       "    <tr>\n",
       "      <th>0.35</th>\n",
       "      <td>155</td>\n",
       "    </tr>\n",
       "    <tr>\n",
       "      <th>0.40</th>\n",
       "      <td>199</td>\n",
       "    </tr>\n",
       "    <tr>\n",
       "      <th>0.45</th>\n",
       "      <td>200</td>\n",
       "    </tr>\n",
       "    <tr>\n",
       "      <th>0.50</th>\n",
       "      <td>200</td>\n",
       "    </tr>\n",
       "    <tr>\n",
       "      <th>0.55</th>\n",
       "      <td>200</td>\n",
       "    </tr>\n",
       "    <tr>\n",
       "      <th>0.60</th>\n",
       "      <td>200</td>\n",
       "    </tr>\n",
       "    <tr>\n",
       "      <th>0.65</th>\n",
       "      <td>200</td>\n",
       "    </tr>\n",
       "    <tr>\n",
       "      <th>0.70</th>\n",
       "      <td>200</td>\n",
       "    </tr>\n",
       "    <tr>\n",
       "      <th>0.75</th>\n",
       "      <td>200</td>\n",
       "    </tr>\n",
       "    <tr>\n",
       "      <th>0.80</th>\n",
       "      <td>200</td>\n",
       "    </tr>\n",
       "    <tr>\n",
       "      <th>0.85</th>\n",
       "      <td>200</td>\n",
       "    </tr>\n",
       "    <tr>\n",
       "      <th>0.90</th>\n",
       "      <td>200</td>\n",
       "    </tr>\n",
       "    <tr>\n",
       "      <th>0.95</th>\n",
       "      <td>200</td>\n",
       "    </tr>\n",
       "    <tr>\n",
       "      <th>1.00</th>\n",
       "      <td>200</td>\n",
       "    </tr>\n",
       "  </tbody>\n",
       "</table>\n",
       "</div>"
      ],
      "text/plain": [
       "N      50\n",
       "eps      \n",
       "0.15    0\n",
       "0.20    0\n",
       "0.25    1\n",
       "0.30   56\n",
       "0.35  155\n",
       "0.40  199\n",
       "0.45  200\n",
       "0.50  200\n",
       "0.55  200\n",
       "0.60  200\n",
       "0.65  200\n",
       "0.70  200\n",
       "0.75  200\n",
       "0.80  200\n",
       "0.85  200\n",
       "0.90  200\n",
       "0.95  200\n",
       "1.00  200"
      ]
     },
     "execution_count": 27,
     "metadata": {},
     "output_type": "execute_result"
    }
   ],
   "source": [
    "data = unif_distib_consensus_data\n",
    "N50 = data[data['N'] == N]\n",
    "pivot_data = N50.pivot(index='eps', columns='consensus_probabi', values='consensus_probabity')\n",
    "pivot_data"
   ]
  },
  {
   "cell_type": "code",
   "execution_count": 29,
   "metadata": {},
   "outputs": [
    {
     "name": "stderr",
     "output_type": "stream",
     "text": [
      "No artists with labels found to put in legend.  Note that artists whose label start with an underscore are ignored when legend() is called with no argument.\n"
     ]
    },
    {
     "data": {
      "image/png": "[encoded data removed]",
      "text/plain": [
       "<Figure size 1000x800 with 1 Axes>"
      ]
     },
     "metadata": {},
     "output_type": "display_data"
    }
   ],
   "source": [
    "plt.figure(figsize=(10, 8))\n",
    "\n",
    "cmap = mp.cm.get_cmap(\"plasma\")\n",
    "norm=plt.Normalize(vmin=0.15, vmax=5.5)\n",
    "sm = plt.cm.ScalarMappable(cmap=cmap, norm=norm)\n",
    "\n",
    "# Plot lines for each beta value\n",
    "df = data.query('N == @N')\n",
    "plt.plot(df['eps'], df['consensus_probabity']/df['simulation_count'],  )\n",
    "\n",
    "# Adding the HK_sample line (you'll need to adjust this based on your actual data)\n",
    "plt.title(f' 2dHK Percentage of consensus N:{N}\\n a,b - parameters beta distribution')\n",
    "plt.xlabel('Eps')\n",
    "plt.ylabel('Percentage')\n",
    "plt.legend()\n",
    "# Add a grid\n",
    "plt.grid(True, linestyle='--', alpha=0.7)\n",
    "\n",
    "plt.tight_layout()\n",
    "plt.show()"
   ]
  },
  {
   "cell_type": "code",
   "execution_count": null,
   "metadata": {},
   "outputs": [],
   "source": []
  }
 ],
 "metadata": {
  "kernelspec": {
   "display_name": "base",
   "language": "python",
   "name": "python3"
  },
  "language_info": {
   "codemirror_mode": {
    "name": "ipython",
    "version": 3
   },
   "file_extension": ".py",
   "mimetype": "text/x-python",
   "name": "python",
   "nbconvert_exporter": "python",
   "pygments_lexer": "ipython3",
   "version": "3.9.13"
  }
 },
 "nbformat": 4,
 "nbformat_minor": 2
}
