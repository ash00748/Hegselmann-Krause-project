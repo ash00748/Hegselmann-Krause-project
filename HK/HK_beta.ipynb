{
 "cells": [
  {
   "cell_type": "code",
   "execution_count": 2,
   "id": "c9871801",
   "metadata": {},
   "outputs": [],
   "source": [
    "import numpy as np\n",
    "import matplotlib.pyplot as plt\n",
    "from tqdm import trange\n",
    "import pandas as pd\n",
    "import matplotlib as mp"
   ]
  },
  {
   "cell_type": "code",
   "execution_count": 2,
   "id": "7f54b11f",
   "metadata": {},
   "outputs": [],
   "source": [
    "def Hen_Kr_classic(x0, eps, eps2):\n",
    "    '''\n",
    "    Функция, которая итерационно вычисляет эволюцию модели HK\n",
    "    \n",
    "    Parameters\n",
    "    ----------\n",
    "    x0: ndarray, shape (n,)\n",
    "        Начальный профиль мнений, состоящий из n агентов\n",
    "    eps: float\n",
    "        Радиус доверия\n",
    "    eps2: float\n",
    "        Допустимая точность. С её помощью определяется момент остановки эволюции модели\n",
    "        \n",
    "    Returns\n",
    "    -------\n",
    "    X: list, shape (t, n)\n",
    "        Итоговая матрица эволюции модели, хранящая в себе данные о \"мнениях\" агентов \n",
    "        в каждый момент времени\n",
    "    t: float\n",
    "        Общее время эволюции модели\n",
    "    '''\n",
    "    \n",
    "    X = [np.array(x0)]  # формируем список, в котором будут храниться данные о 'мнениях' агентов\n",
    "    t = 0  # переменная для подсчёта времени (количества итераций)\n",
    "    \n",
    "    # цикл для итерационного вычисления эволюции модели\n",
    "    while True:  \n",
    "        X.append(np.zeros(len(x0)))  # на каждой итерации добавляем в список вектор из нулей\n",
    "        t += 1\n",
    "        \n",
    "        # цикл для вычисления мнений агентов на следующей итерации\n",
    "        for j in range(len(x0)):  \n",
    "            X[t][j] = new_op_classic(X[t - 1], j, eps)\n",
    "            \n",
    "            \n",
    "#         print(order_parameter(X[t], eps, -1))\n",
    "        # Условие остановки эволюции; проверяем, что профиль мнений на текущей \n",
    "        # и предыдущей итерации отличается меньше, чем на заданную допустимую точность\n",
    "        if compare(X[t], X[t - 1], eps2):  \n",
    "            break\n",
    "    return X, t\n",
    "\n",
    "\n",
    "def new_op_classic(x, i, eps):\n",
    "    '''\n",
    "    Функция, которая вычисляет мнение агента на следующей итерации в модели HK \n",
    "    \n",
    "    Parameters\n",
    "    ----------\n",
    "    x: ndarray, shape (n,)\n",
    "        Профиль мнений на предыдущей итерации, состоящий из n агентов\n",
    "    i: int\n",
    "        Индекс агента, для которого считаем новое значение\n",
    "    eps: float\n",
    "        Радиус доверия\n",
    "        \n",
    "    Returns\n",
    "    -------\n",
    "    new_value: float\n",
    "        Новое \"мнение\" агента\n",
    "    '''\n",
    "    \n",
    "    count = 1\n",
    "    summ = x[i]\n",
    "    \n",
    "    # проходим по всему профилю мнений\n",
    "    for k in range(len(x)):  \n",
    "        if (abs(x[i] - x[k]) <= eps) and (i != k):  # ищем \"соседей\" данного агента\n",
    "            summ += x[k]  # суммируем значения всех \"соседей\" данного агента\n",
    "            count += 1  # сичтаем количество \"соседей\"\n",
    "    new_value = summ/count  # новое \"мнение\" агента\n",
    "    return new_value\n",
    "\n",
    "\n",
    "def compare(x, y, eps2):\n",
    "    '''\n",
    "    Функция, которая сравнивает текущую и предыдущую итерацию\n",
    "    \n",
    "    Parameters\n",
    "    ----------\n",
    "    x: ndarray, shape (n,)\n",
    "        Профиль мнений на текущей итерации, состоящий из n агентов\n",
    "    y: ndarray, shape (n,)\n",
    "        Профиль мнений на предыдущей итерации, состоящий из n агентов\n",
    "    eps2: float\n",
    "        Допустимая точность\n",
    "        \n",
    "    Returns\n",
    "    -------\n",
    "    result: bool\n",
    "        True, если произошла \"заморозка\" модели\n",
    "        False, если \"заморозки\" не произошло\n",
    "    '''\n",
    "    \n",
    "    result = 1\n",
    "    for k in range(len(x)):\n",
    "        if abs(x[k] - y[k]) >= eps2:\n",
    "            result = 0\n",
    "    result = bool(result)\n",
    "    return result\n",
    "\n",
    "\n",
    "def order_parameter(x, eps, target_ind=-1):\n",
    "    summary = 0\n",
    "    n = len(x)\n",
    "    for i in range(n):\n",
    "        if i == target_ind:\n",
    "            continue\n",
    "        for j in range(n):\n",
    "            if j != target_ind:\n",
    "                if abs(x[i]-x[j]) < eps:\n",
    "                    summary += 1\n",
    "                else:\n",
    "                    continue\n",
    "    if target_ind == -1:\n",
    "        return summary/(n**2)\n",
    "    else:\n",
    "        return summary/((n-1)**2)\n",
    "\n",
    "def new_op(x, i, eps):\n",
    "    count = 1\n",
    "    summ = x[i]\n",
    "    for k in range(len(x)):\n",
    "        if (abs(x[i] - x[k]) < eps) and (i != k):\n",
    "            # print(i, j, x[i], x[j])\n",
    "            summ += x[k]\n",
    "            count += 1\n",
    "    # print(summ, count)\n",
    "    return summ/count, count\n",
    "\n",
    "def is_consensus(x, fix):\n",
    "    for i in range(1, fix):\n",
    "        if x[i-1] != x[i]:\n",
    "            return False\n",
    "    if x[fix - 1] != x[fix + 1]:\n",
    "        return False\n",
    "    for i in range(fix + 2, len(x)):\n",
    "        if x[i-1] != x[i]:\n",
    "            return False\n",
    "    return True\n",
    "\n",
    "\n",
    "def Hen_Kr_classic_statistics(x0, eps, eps2):\n",
    "    X = [np.array(x0)]\n",
    "    t = 0\n",
    "    consensus_value = 0\n",
    "    consensus_time = 0\n",
    "    consensus_flag = True\n",
    "    while True:\n",
    "        X.append(np.zeros(len(x0)))\n",
    "        t += 1\n",
    "        for j in range(len(x0)):\n",
    "            X[t][j], _ = new_op(X[t - 1], j, eps)\n",
    "        if consensus_flag and abs(X[t][0] - X[t][-1]) < eps2:\n",
    "            consensus_flag = False\n",
    "            consensus_time = t\n",
    "            consensus_value = X[t][0]\n",
    "        if compare(X[t], X[t - 1], eps2):\n",
    "            break\n",
    "    return X, t, consensus_value, consensus_time"
   ]
  },
  {
   "cell_type": "code",
   "execution_count": 3,
   "id": "d1c8b6d6",
   "metadata": {},
   "outputs": [],
   "source": [
    "eps = 0.2  # радиус доверия\n",
    "eps2 = 1e-4  # допустимая точность\n",
    "n = 50  # количество агентов"
   ]
  },
  {
   "cell_type": "code",
   "execution_count": 291,
   "id": "50aa8a8b",
   "metadata": {},
   "outputs": [
    {
     "data": {
      "text/plain": [
       "(array([4.69725519e-04, 1.08811226e-03, 5.26027974e-03, 7.53052840e-03,\n",
       "        7.73047090e-03, 2.77466049e-02, 4.45194496e-02, 4.89158465e-02,\n",
       "        5.17797880e-02, 5.86614369e-02, 6.98683367e-02, 7.09710936e-02,\n",
       "        7.21174828e-02, 1.63826600e-01, 1.66691847e-01, 1.79583448e-01,\n",
       "        2.03095688e-01, 2.15185408e-01, 3.03160090e-01, 3.37011875e-01,\n",
       "        3.42808639e-01, 3.97000234e-01, 4.25267164e-01, 4.67198466e-01,\n",
       "        4.90733629e-01, 5.09292349e-01, 5.38068106e-01, 5.48355749e-01,\n",
       "        6.02090782e-01, 6.07189710e-01, 6.12522725e-01, 6.89213736e-01,\n",
       "        7.06559794e-01, 7.16244221e-01, 7.35696900e-01, 7.83942111e-01,\n",
       "        8.14912438e-01, 8.54523144e-01, 9.16532343e-01, 9.40743816e-01,\n",
       "        9.41132417e-01, 9.44344759e-01, 9.58022206e-01, 9.64604358e-01,\n",
       "        9.74048600e-01, 9.80572178e-01, 9.81164021e-01, 9.83909527e-01,\n",
       "        9.91002937e-01, 9.97270930e-01]),\n",
       " 0.48900364202989643)"
      ]
     },
     "execution_count": 291,
     "metadata": {},
     "output_type": "execute_result"
    }
   ],
   "source": [
    "x0 = np.random.beta(.5, .5, n)\n",
    "x0.sort()  # упорядочиваем мнения агентов\n",
    "x0, x0.mean()"
   ]
  },
  {
   "cell_type": "code",
   "execution_count": 5,
   "id": "aee2e38c",
   "metadata": {},
   "outputs": [
    {
     "data": {
      "text/plain": [
       "6"
      ]
     },
     "execution_count": 5,
     "metadata": {},
     "output_type": "execute_result"
    }
   ],
   "source": [
    "X, t = Hen_Kr_classic(x0, eps, eps2)\n",
    "t"
   ]
  },
  {
   "cell_type": "code",
   "execution_count": 292,
   "id": "69291375",
   "metadata": {},
   "outputs": [
    {
     "data": {
      "image/png": "[encoded data removed]",
      "text/plain": [
       "<Figure size 648x432 with 1 Axes>"
      ]
     },
     "metadata": {},
     "output_type": "display_data"
    }
   ],
   "source": [
    "eps = 0.2\n",
    "x0 = np.random.beta(.5, .5, n)\n",
    "x0.sort()  # упорядочиваем мнения агентов\n",
    "\n",
    "X, t = Hen_Kr_classic(x0, eps, eps2)\n",
    "\n",
    "t_list = np.linspace(0, t, t + 1)\n",
    "plt.figure(facecolor='white', figsize=(9, 6))\n",
    "plt.plot(t_list, X)\n",
    "\n",
    "# plt.title('Classic HK model \\n Agents: n=50, eps=0.2')\n",
    "plt.xlabel('t', fontsize=12)\n",
    "plt.ylabel('Value', fontsize=12)\n",
    "plt.show()"
   ]
  },
  {
   "cell_type": "code",
   "execution_count": 306,
   "id": "b5942007",
   "metadata": {},
   "outputs": [
    {
     "name": "stderr",
     "output_type": "stream",
     "text": [
      "100%|██████████| 10000/10000 [01:28<00:00, 112.96it/s]\n",
      "  0%|          | 9/10000 [00:00<02:03, 80.87it/s]"
     ]
    },
    {
     "name": "stdout",
     "output_type": "stream",
     "text": [
      "Result for eps = 0.15, alpha, beta = 1.0\n",
      "Average evolution time: 6.582\n",
      "Average consensus time: 13.75\n",
      "Average consensus value in consensus time: 0.5030043146311767\n",
      "Percentage of consensus: 0.0004\n",
      "\n",
      "\n"
     ]
    },
    {
     "name": "stderr",
     "output_type": "stream",
     "text": [
      "100%|██████████| 10000/10000 [01:34<00:00, 105.91it/s]\n",
      "  0%|          | 12/10000 [00:00<01:23, 119.38it/s]"
     ]
    },
    {
     "name": "stdout",
     "output_type": "stream",
     "text": [
      "Result for eps = 0.15, alpha, beta = 1.5\n",
      "Average evolution time: 6.7622\n",
      "Average consensus time: 9.9\n",
      "Average consensus value in consensus time: 0.4951054277429149\n",
      "Percentage of consensus: 0.015\n",
      "\n",
      "\n"
     ]
    },
    {
     "name": "stderr",
     "output_type": "stream",
     "text": [
      "100%|██████████| 10000/10000 [01:48<00:00, 92.58it/s]\n",
      "  0%|          | 11/10000 [00:00<01:33, 106.39it/s]"
     ]
    },
    {
     "name": "stdout",
     "output_type": "stream",
     "text": [
      "Result for eps = 0.15, alpha, beta = 2.0\n",
      "Average evolution time: 6.8222\n",
      "Average consensus time: 9.031076581576027\n",
      "Average consensus value in consensus time: 0.5004579324206022\n",
      "Percentage of consensus: 0.0901\n",
      "\n",
      "\n"
     ]
    },
    {
     "name": "stderr",
     "output_type": "stream",
     "text": [
      "100%|██████████| 10000/10000 [01:37<00:00, 102.49it/s]\n",
      "  0%|          | 11/10000 [00:00<01:32, 107.77it/s]"
     ]
    },
    {
     "name": "stdout",
     "output_type": "stream",
     "text": [
      "Result for eps = 0.15, alpha, beta = 2.5\n",
      "Average evolution time: 6.8381\n",
      "Average consensus time: 7.942048517520216\n",
      "Average consensus value in consensus time: 0.4999686402288214\n",
      "Percentage of consensus: 0.2226\n",
      "\n",
      "\n"
     ]
    },
    {
     "name": "stderr",
     "output_type": "stream",
     "text": [
      "100%|██████████| 10000/10000 [01:37<00:00, 102.07it/s]\n",
      "  0%|          | 9/10000 [00:00<02:00, 83.19it/s]"
     ]
    },
    {
     "name": "stdout",
     "output_type": "stream",
     "text": [
      "Result for eps = 0.15, alpha, beta = 3.0\n",
      "Average evolution time: 6.8001\n",
      "Average consensus time: 7.1583290355853535\n",
      "Average consensus value in consensus time: 0.5007929068753385\n",
      "Percentage of consensus: 0.3878\n",
      "\n",
      "\n"
     ]
    },
    {
     "name": "stderr",
     "output_type": "stream",
     "text": [
      "100%|██████████| 10000/10000 [01:37<00:00, 102.34it/s]\n",
      "  0%|          | 11/10000 [00:00<01:38, 101.33it/s]"
     ]
    },
    {
     "name": "stdout",
     "output_type": "stream",
     "text": [
      "Result for eps = 0.15, alpha, beta = 3.5\n",
      "Average evolution time: 6.6113\n",
      "Average consensus time: 6.429072126913853\n",
      "Average consensus value in consensus time: 0.49951839571398365\n",
      "Percentage of consensus: 0.5421\n",
      "\n",
      "\n"
     ]
    },
    {
     "name": "stderr",
     "output_type": "stream",
     "text": [
      "100%|██████████| 10000/10000 [01:36<00:00, 103.10it/s]\n",
      "  0%|          | 11/10000 [00:00<01:31, 109.47it/s]"
     ]
    },
    {
     "name": "stdout",
     "output_type": "stream",
     "text": [
      "Result for eps = 0.15, alpha, beta = 4.0\n",
      "Average evolution time: 6.3659\n",
      "Average consensus time: 5.939561282405277\n",
      "Average consensus value in consensus time: 0.5004966882568871\n",
      "Percentage of consensus: 0.6519\n",
      "\n",
      "\n"
     ]
    },
    {
     "name": "stderr",
     "output_type": "stream",
     "text": [
      "100%|██████████| 10000/10000 [01:33<00:00, 106.54it/s]\n",
      "  0%|          | 12/10000 [00:00<01:27, 113.74it/s]"
     ]
    },
    {
     "name": "stdout",
     "output_type": "stream",
     "text": [
      "Result for eps = 0.15, alpha, beta = 4.5\n",
      "Average evolution time: 6.0353\n",
      "Average consensus time: 5.471123793993749\n",
      "Average consensus value in consensus time: 0.5007039439952827\n",
      "Percentage of consensus: 0.7359\n",
      "\n",
      "\n"
     ]
    },
    {
     "name": "stderr",
     "output_type": "stream",
     "text": [
      "100%|██████████| 10000/10000 [01:31<00:00, 109.19it/s]\n",
      "  0%|          | 12/10000 [00:00<01:30, 110.50it/s]"
     ]
    },
    {
     "name": "stdout",
     "output_type": "stream",
     "text": [
      "Result for eps = 0.15, alpha, beta = 5.0\n",
      "Average evolution time: 5.7531\n",
      "Average consensus time: 5.1125\n",
      "Average consensus value in consensus time: 0.49978626155768374\n",
      "Percentage of consensus: 0.784\n",
      "\n",
      "\n"
     ]
    },
    {
     "name": "stderr",
     "output_type": "stream",
     "text": [
      "100%|██████████| 10000/10000 [01:27<00:00, 114.48it/s]\n",
      "  0%|          | 11/10000 [00:00<01:31, 108.77it/s]"
     ]
    },
    {
     "name": "stdout",
     "output_type": "stream",
     "text": [
      "Result for eps = 0.2, alpha, beta = 1.0\n",
      "Average evolution time: 6.2763\n",
      "Average consensus time: 9.01659125188537\n",
      "Average consensus value in consensus time: 0.5014348990870302\n",
      "Percentage of consensus: 0.0663\n",
      "\n",
      "\n"
     ]
    },
    {
     "name": "stderr",
     "output_type": "stream",
     "text": [
      "100%|██████████| 10000/10000 [01:36<00:00, 103.45it/s]\n",
      "  0%|          | 11/10000 [00:00<01:42, 97.07it/s]"
     ]
    },
    {
     "name": "stdout",
     "output_type": "stream",
     "text": [
      "Result for eps = 0.2, alpha, beta = 1.5\n",
      "Average evolution time: 6.6018\n",
      "Average consensus time: 7.390709677419355\n",
      "Average consensus value in consensus time: 0.5005648274840863\n",
      "Percentage of consensus: 0.3875\n",
      "\n",
      "\n"
     ]
    },
    {
     "name": "stderr",
     "output_type": "stream",
     "text": [
      "100%|██████████| 10000/10000 [01:38<00:00, 101.35it/s]\n",
      "  0%|          | 12/10000 [00:00<01:27, 114.54it/s]"
     ]
    },
    {
     "name": "stdout",
     "output_type": "stream",
     "text": [
      "Result for eps = 0.2, alpha, beta = 2.0\n",
      "Average evolution time: 6.4863\n",
      "Average consensus time: 6.162659918459159\n",
      "Average consensus value in consensus time: 0.49992430382666614\n",
      "Percentage of consensus: 0.7113\n",
      "\n",
      "\n"
     ]
    },
    {
     "name": "stderr",
     "output_type": "stream",
     "text": [
      "100%|██████████| 10000/10000 [01:31<00:00, 109.56it/s]\n",
      "  0%|          | 11/10000 [00:00<01:37, 102.51it/s]"
     ]
    },
    {
     "name": "stdout",
     "output_type": "stream",
     "text": [
      "Result for eps = 0.2, alpha, beta = 2.5\n",
      "Average evolution time: 5.9024\n",
      "Average consensus time: 5.2637236962488565\n",
      "Average consensus value in consensus time: 0.5011749425499007\n",
      "Percentage of consensus: 0.8744\n",
      "\n",
      "\n"
     ]
    },
    {
     "name": "stderr",
     "output_type": "stream",
     "text": [
      "100%|██████████| 10000/10000 [01:27<00:00, 114.55it/s]\n",
      "  0%|          | 13/10000 [00:00<01:22, 121.08it/s]"
     ]
    },
    {
     "name": "stdout",
     "output_type": "stream",
     "text": [
      "Result for eps = 0.2, alpha, beta = 3.0\n",
      "Average evolution time: 5.3926\n",
      "Average consensus time: 4.7121649044109795\n",
      "Average consensus value in consensus time: 0.5003632635012373\n",
      "Percentage of consensus: 0.9363\n",
      "\n",
      "\n"
     ]
    },
    {
     "name": "stderr",
     "output_type": "stream",
     "text": [
      "100%|██████████| 10000/10000 [01:20<00:00, 123.53it/s]\n",
      "  0%|          | 13/10000 [00:00<01:19, 126.17it/s]"
     ]
    },
    {
     "name": "stdout",
     "output_type": "stream",
     "text": [
      "Result for eps = 0.2, alpha, beta = 3.5\n",
      "Average evolution time: 5.0455\n",
      "Average consensus time: 4.36459099023417\n",
      "Average consensus value in consensus time: 0.49956157728581446\n",
      "Percentage of consensus: 0.9523\n",
      "\n",
      "\n"
     ]
    },
    {
     "name": "stderr",
     "output_type": "stream",
     "text": [
      "100%|██████████| 10000/10000 [01:18<00:00, 128.11it/s]\n",
      "  0%|          | 14/10000 [00:00<01:16, 131.39it/s]"
     ]
    },
    {
     "name": "stdout",
     "output_type": "stream",
     "text": [
      "Result for eps = 0.2, alpha, beta = 4.0\n",
      "Average evolution time: 4.7827\n",
      "Average consensus time: 4.100664865987949\n",
      "Average consensus value in consensus time: 0.5001833740765218\n",
      "Percentage of consensus: 0.9626\n",
      "\n",
      "\n"
     ]
    },
    {
     "name": "stderr",
     "output_type": "stream",
     "text": [
      "100%|██████████| 10000/10000 [01:17<00:00, 128.89it/s]\n",
      "  0%|          | 15/10000 [00:00<01:09, 143.91it/s]"
     ]
    },
    {
     "name": "stdout",
     "output_type": "stream",
     "text": [
      "Result for eps = 0.2, alpha, beta = 4.5\n",
      "Average evolution time: 4.5488\n",
      "Average consensus time: 3.8744817578772803\n",
      "Average consensus value in consensus time: 0.5000275917470846\n",
      "Percentage of consensus: 0.9648\n",
      "\n",
      "\n"
     ]
    },
    {
     "name": "stderr",
     "output_type": "stream",
     "text": [
      "100%|██████████| 10000/10000 [01:11<00:00, 140.41it/s]\n",
      "  0%|          | 11/10000 [00:00<01:35, 104.43it/s]"
     ]
    },
    {
     "name": "stdout",
     "output_type": "stream",
     "text": [
      "Result for eps = 0.2, alpha, beta = 5.0\n",
      "Average evolution time: 4.3552\n",
      "Average consensus time: 3.692173017507724\n",
      "Average consensus value in consensus time: 0.49967279872827264\n",
      "Percentage of consensus: 0.971\n",
      "\n",
      "\n"
     ]
    },
    {
     "name": "stderr",
     "output_type": "stream",
     "text": [
      "100%|██████████| 10000/10000 [01:35<00:00, 104.66it/s]\n",
      "  0%|          | 12/10000 [00:00<01:29, 111.66it/s]"
     ]
    },
    {
     "name": "stdout",
     "output_type": "stream",
     "text": [
      "Result for eps = 0.25, alpha, beta = 1.0\n",
      "Average evolution time: 6.4967\n",
      "Average consensus time: 7.25174978127734\n",
      "Average consensus value in consensus time: 0.499742201095074\n",
      "Percentage of consensus: 0.4572\n",
      "\n",
      "\n"
     ]
    },
    {
     "name": "stderr",
     "output_type": "stream",
     "text": [
      "100%|██████████| 10000/10000 [01:31<00:00, 109.29it/s]\n",
      "  0%|          | 12/10000 [00:00<01:24, 118.37it/s]"
     ]
    },
    {
     "name": "stdout",
     "output_type": "stream",
     "text": [
      "Result for eps = 0.25, alpha, beta = 1.5\n",
      "Average evolution time: 5.9248\n",
      "Average consensus time: 5.314011299435029\n",
      "Average consensus value in consensus time: 0.499698649925946\n",
      "Percentage of consensus: 0.885\n",
      "\n",
      "\n"
     ]
    },
    {
     "name": "stderr",
     "output_type": "stream",
     "text": [
      "100%|██████████| 10000/10000 [01:21<00:00, 122.08it/s]\n",
      "  0%|          | 14/10000 [00:00<01:12, 136.92it/s]"
     ]
    },
    {
     "name": "stdout",
     "output_type": "stream",
     "text": [
      "Result for eps = 0.25, alpha, beta = 2.0\n",
      "Average evolution time: 5.1191\n",
      "Average consensus time: 4.434702068539672\n",
      "Average consensus value in consensus time: 0.5003026810287888\n",
      "Percentage of consensus: 0.9717\n",
      "\n",
      "\n"
     ]
    },
    {
     "name": "stderr",
     "output_type": "stream",
     "text": [
      "100%|██████████| 10000/10000 [01:14<00:00, 133.74it/s]\n",
      "  0%|          | 15/10000 [00:00<01:10, 141.47it/s]"
     ]
    },
    {
     "name": "stdout",
     "output_type": "stream",
     "text": [
      "Result for eps = 0.25, alpha, beta = 2.5\n",
      "Average evolution time: 4.6201\n",
      "Average consensus time: 3.9432515337423313\n",
      "Average consensus value in consensus time: 0.4998751517527538\n",
      "Percentage of consensus: 0.978\n",
      "\n",
      "\n"
     ]
    },
    {
     "name": "stderr",
     "output_type": "stream",
     "text": [
      "100%|██████████| 10000/10000 [01:09<00:00, 144.22it/s]\n",
      "  0%|          | 15/10000 [00:00<01:09, 144.58it/s]"
     ]
    },
    {
     "name": "stdout",
     "output_type": "stream",
     "text": [
      "Result for eps = 0.25, alpha, beta = 3.0\n",
      "Average evolution time: 4.253\n",
      "Average consensus time: 3.604207086694578\n",
      "Average consensus value in consensus time: 0.49983371310223107\n",
      "Percentage of consensus: 0.9793\n",
      "\n",
      "\n"
     ]
    },
    {
     "name": "stderr",
     "output_type": "stream",
     "text": [
      "100%|██████████| 10000/10000 [01:07<00:00, 148.80it/s]\n",
      "  0%|          | 15/10000 [00:00<01:09, 144.31it/s]"
     ]
    },
    {
     "name": "stdout",
     "output_type": "stream",
     "text": [
      "Result for eps = 0.25, alpha, beta = 3.5\n",
      "Average evolution time: 4.0711\n",
      "Average consensus time: 3.425147868651846\n",
      "Average consensus value in consensus time: 0.5000349385676818\n",
      "Percentage of consensus: 0.9806\n",
      "\n",
      "\n"
     ]
    },
    {
     "name": "stderr",
     "output_type": "stream",
     "text": [
      "100%|██████████| 10000/10000 [01:05<00:00, 152.21it/s]\n",
      "  0%|          | 15/10000 [00:00<01:07, 148.15it/s]"
     ]
    },
    {
     "name": "stdout",
     "output_type": "stream",
     "text": [
      "Result for eps = 0.25, alpha, beta = 4.0\n",
      "Average evolution time: 4.0072\n",
      "Average consensus time: 3.3508002854521357\n",
      "Average consensus value in consensus time: 0.4998736317135784\n",
      "Percentage of consensus: 0.9809\n",
      "\n",
      "\n"
     ]
    },
    {
     "name": "stderr",
     "output_type": "stream",
     "text": [
      "100%|██████████| 10000/10000 [01:05<00:00, 153.09it/s]\n",
      "  0%|          | 16/10000 [00:00<01:02, 159.28it/s]"
     ]
    },
    {
     "name": "stdout",
     "output_type": "stream",
     "text": [
      "Result for eps = 0.25, alpha, beta = 4.5\n",
      "Average evolution time: 3.9707\n",
      "Average consensus time: 3.293505963910694\n",
      "Average consensus value in consensus time: 0.4999663884845771\n",
      "Percentage of consensus: 0.9809\n",
      "\n",
      "\n"
     ]
    },
    {
     "name": "stderr",
     "output_type": "stream",
     "text": [
      "100%|██████████| 10000/10000 [01:04<00:00, 154.35it/s]\n",
      "  0%|          | 10/10000 [00:00<01:41, 98.36it/s]"
     ]
    },
    {
     "name": "stdout",
     "output_type": "stream",
     "text": [
      "Result for eps = 0.25, alpha, beta = 5.0\n",
      "Average evolution time: 3.9119\n",
      "Average consensus time: 3.2288152814468605\n",
      "Average consensus value in consensus time: 0.5000225383583111\n",
      "Percentage of consensus: 0.9842\n",
      "\n",
      "\n"
     ]
    },
    {
     "name": "stderr",
     "output_type": "stream",
     "text": [
      "100%|██████████| 10000/10000 [01:31<00:00, 109.62it/s]\n",
      "  0%|          | 14/10000 [00:00<01:12, 138.62it/s]"
     ]
    },
    {
     "name": "stdout",
     "output_type": "stream",
     "text": [
      "Result for eps = 0.30000000000000004, alpha, beta = 1.0\n",
      "Average evolution time: 5.9735\n",
      "Average consensus time: 5.397300669161846\n",
      "Average consensus value in consensus time: 0.5005322571274949\n",
      "Percentage of consensus: 0.8817\n",
      "\n",
      "\n"
     ]
    },
    {
     "name": "stderr",
     "output_type": "stream",
     "text": [
      "100%|██████████| 10000/10000 [01:14<00:00, 133.53it/s]\n",
      "  0%|          | 15/10000 [00:00<01:08, 145.20it/s]"
     ]
    },
    {
     "name": "stdout",
     "output_type": "stream",
     "text": [
      "Result for eps = 0.30000000000000004, alpha, beta = 1.5\n",
      "Average evolution time: 4.6964\n",
      "Average consensus time: 4.026442062276672\n",
      "Average consensus value in consensus time: 0.4995654975460994\n",
      "Percentage of consensus: 0.9795\n",
      "\n",
      "\n"
     ]
    },
    {
     "name": "stderr",
     "output_type": "stream",
     "text": [
      "100%|██████████| 10000/10000 [01:07<00:00, 149.25it/s]\n",
      "  0%|          | 16/10000 [00:00<01:06, 150.78it/s]"
     ]
    },
    {
     "name": "stdout",
     "output_type": "stream",
     "text": [
      "Result for eps = 0.30000000000000004, alpha, beta = 2.0\n",
      "Average evolution time: 4.134\n",
      "Average consensus time: 3.4893291126314714\n",
      "Average consensus value in consensus time: 0.5002551762229606\n",
      "Percentage of consensus: 0.9793\n",
      "\n",
      "\n"
     ]
    },
    {
     "name": "stderr",
     "output_type": "stream",
     "text": [
      "100%|██████████| 10000/10000 [01:05<00:00, 152.22it/s]\n",
      "  0%|          | 31/10000 [00:00<01:06, 150.60it/s]"
     ]
    },
    {
     "name": "stdout",
     "output_type": "stream",
     "text": [
      "Result for eps = 0.30000000000000004, alpha, beta = 2.5\n",
      "Average evolution time: 4.0058\n",
      "Average consensus time: 3.3591728634002243\n",
      "Average consensus value in consensus time: 0.49977451066307027\n",
      "Percentage of consensus: 0.9817\n",
      "\n",
      "\n"
     ]
    },
    {
     "name": "stderr",
     "output_type": "stream",
     "text": [
      "100%|██████████| 10000/10000 [01:05<00:00, 152.73it/s]\n",
      "  0%|          | 16/10000 [00:00<01:03, 156.74it/s]"
     ]
    },
    {
     "name": "stdout",
     "output_type": "stream",
     "text": [
      "Result for eps = 0.30000000000000004, alpha, beta = 3.0\n",
      "Average evolution time: 3.9638\n",
      "Average consensus time: 3.2877536453553584\n",
      "Average consensus value in consensus time: 0.4999405034225789\n",
      "Percentage of consensus: 0.9807\n",
      "\n",
      "\n"
     ]
    },
    {
     "name": "stderr",
     "output_type": "stream",
     "text": [
      "100%|██████████| 10000/10000 [01:04<00:00, 155.98it/s]\n",
      "  0%|          | 32/10000 [00:00<01:03, 156.04it/s]"
     ]
    },
    {
     "name": "stdout",
     "output_type": "stream",
     "text": [
      "Result for eps = 0.30000000000000004, alpha, beta = 3.5\n",
      "Average evolution time: 3.8635\n",
      "Average consensus time: 3.1813080297928784\n",
      "Average consensus value in consensus time: 0.4997716299074746\n",
      "Percentage of consensus: 0.9801\n",
      "\n",
      "\n"
     ]
    },
    {
     "name": "stderr",
     "output_type": "stream",
     "text": [
      "100%|██████████| 10000/10000 [01:01<00:00, 162.51it/s]\n",
      "  0%|          | 17/10000 [00:00<01:00, 165.23it/s]"
     ]
    },
    {
     "name": "stdout",
     "output_type": "stream",
     "text": [
      "Result for eps = 0.30000000000000004, alpha, beta = 4.0\n",
      "Average evolution time: 3.693\n",
      "Average consensus time: 3.013263952657892\n",
      "Average consensus value in consensus time: 0.5004183898537561\n",
      "Percentage of consensus: 0.9801\n",
      "\n",
      "\n"
     ]
    },
    {
     "name": "stderr",
     "output_type": "stream",
     "text": [
      "100%|██████████| 10000/10000 [00:58<00:00, 171.82it/s]\n",
      "  0%|          | 18/10000 [00:00<00:55, 179.67it/s]"
     ]
    },
    {
     "name": "stdout",
     "output_type": "stream",
     "text": [
      "Result for eps = 0.30000000000000004, alpha, beta = 4.5\n",
      "Average evolution time: 3.4882\n",
      "Average consensus time: 2.830733149790966\n",
      "Average consensus value in consensus time: 0.5004339103910626\n",
      "Percentage of consensus: 0.9807\n",
      "\n",
      "\n"
     ]
    },
    {
     "name": "stderr",
     "output_type": "stream",
     "text": [
      "100%|██████████| 10000/10000 [00:55<00:00, 180.85it/s]\n",
      "  0%|          | 13/10000 [00:00<01:17, 129.26it/s]"
     ]
    },
    {
     "name": "stdout",
     "output_type": "stream",
     "text": [
      "Result for eps = 0.30000000000000004, alpha, beta = 5.0\n",
      "Average evolution time: 3.3058\n",
      "Average consensus time: 2.667041734860884\n",
      "Average consensus value in consensus time: 0.5001665339616428\n",
      "Percentage of consensus: 0.9776\n",
      "\n",
      "\n"
     ]
    },
    {
     "name": "stderr",
     "output_type": "stream",
     "text": [
      "100%|██████████| 10000/10000 [01:15<00:00, 132.16it/s]\n",
      "  0%|          | 15/10000 [00:00<01:08, 145.76it/s]"
     ]
    },
    {
     "name": "stdout",
     "output_type": "stream",
     "text": [
      "Result for eps = 0.3500000000000001, alpha, beta = 1.0\n",
      "Average evolution time: 4.7064\n",
      "Average consensus time: 4.0331971399387125\n",
      "Average consensus value in consensus time: 0.4999092015645397\n",
      "Percentage of consensus: 0.979\n",
      "\n",
      "\n"
     ]
    },
    {
     "name": "stderr",
     "output_type": "stream",
     "text": [
      "100%|██████████| 10000/10000 [01:07<00:00, 148.42it/s]\n",
      "  0%|          | 30/10000 [00:00<01:08, 146.45it/s]"
     ]
    },
    {
     "name": "stdout",
     "output_type": "stream",
     "text": [
      "Result for eps = 0.3500000000000001, alpha, beta = 1.5\n",
      "Average evolution time: 4.0404\n",
      "Average consensus time: 3.398143425481995\n",
      "Average consensus value in consensus time: 0.5009353478868025\n",
      "Percentage of consensus: 0.9803\n",
      "\n",
      "\n"
     ]
    },
    {
     "name": "stderr",
     "output_type": "stream",
     "text": [
      "100%|██████████| 10000/10000 [01:07<00:00, 149.16it/s]\n",
      "  0%|          | 16/10000 [00:00<01:04, 154.71it/s]"
     ]
    },
    {
     "name": "stdout",
     "output_type": "stream",
     "text": [
      "Result for eps = 0.3500000000000001, alpha, beta = 2.0\n",
      "Average evolution time: 3.9692\n",
      "Average consensus time: 3.2785998571282784\n",
      "Average consensus value in consensus time: 0.49995467930656146\n",
      "Percentage of consensus: 0.9799\n",
      "\n",
      "\n"
     ]
    },
    {
     "name": "stderr",
     "output_type": "stream",
     "text": [
      "100%|██████████| 10000/10000 [01:04<00:00, 153.86it/s]\n",
      "  0%|          | 18/10000 [00:00<00:58, 171.03it/s]"
     ]
    },
    {
     "name": "stdout",
     "output_type": "stream",
     "text": [
      "Result for eps = 0.3500000000000001, alpha, beta = 2.5\n",
      "Average evolution time: 3.8112\n",
      "Average consensus time: 3.127912893049761\n",
      "Average consensus value in consensus time: 0.4998302810416968\n",
      "Percentage of consensus: 0.9827\n",
      "\n",
      "\n"
     ]
    },
    {
     "name": "stderr",
     "output_type": "stream",
     "text": [
      "100%|██████████| 10000/10000 [00:59<00:00, 167.04it/s]\n",
      "  0%|          | 19/10000 [00:00<00:53, 187.19it/s]"
     ]
    },
    {
     "name": "stdout",
     "output_type": "stream",
     "text": [
      "Result for eps = 0.3500000000000001, alpha, beta = 3.0\n",
      "Average evolution time: 3.5081\n",
      "Average consensus time: 2.851220259368937\n",
      "Average consensus value in consensus time: 0.49962252869424506\n",
      "Percentage of consensus: 0.9793\n",
      "\n",
      "\n"
     ]
    },
    {
     "name": "stderr",
     "output_type": "stream",
     "text": [
      "100%|██████████| 10000/10000 [00:55<00:00, 180.23it/s]\n",
      "  0%|          | 38/10000 [00:00<00:53, 186.86it/s]"
     ]
    },
    {
     "name": "stdout",
     "output_type": "stream",
     "text": [
      "Result for eps = 0.3500000000000001, alpha, beta = 3.5\n",
      "Average evolution time: 3.2433\n",
      "Average consensus time: 2.6153609831029185\n",
      "Average consensus value in consensus time: 0.49954972445251966\n",
      "Percentage of consensus: 0.9765\n",
      "\n",
      "\n"
     ]
    },
    {
     "name": "stderr",
     "output_type": "stream",
     "text": [
      "100%|██████████| 10000/10000 [00:52<00:00, 188.80it/s]\n",
      "  0%|          | 20/10000 [00:00<00:51, 195.02it/s]"
     ]
    },
    {
     "name": "stdout",
     "output_type": "stream",
     "text": [
      "Result for eps = 0.3500000000000001, alpha, beta = 4.0\n",
      "Average evolution time: 3.0859\n",
      "Average consensus time: 2.4664144770473366\n",
      "Average consensus value in consensus time: 0.5000091731436537\n",
      "Percentage of consensus: 0.9781\n",
      "\n",
      "\n"
     ]
    },
    {
     "name": "stderr",
     "output_type": "stream",
     "text": [
      "100%|██████████| 10000/10000 [00:52<00:00, 192.22it/s]\n",
      "  0%|          | 19/10000 [00:00<00:53, 188.01it/s]"
     ]
    },
    {
     "name": "stdout",
     "output_type": "stream",
     "text": [
      "Result for eps = 0.3500000000000001, alpha, beta = 4.5\n",
      "Average evolution time: 3.0249\n",
      "Average consensus time: 2.411336613366134\n",
      "Average consensus value in consensus time: 0.500304435051245\n",
      "Percentage of consensus: 0.9756\n",
      "\n",
      "\n"
     ]
    },
    {
     "name": "stderr",
     "output_type": "stream",
     "text": [
      "100%|██████████| 10000/10000 [00:51<00:00, 192.85it/s]\n",
      "  0%|          | 15/10000 [00:00<01:10, 141.51it/s]"
     ]
    },
    {
     "name": "stdout",
     "output_type": "stream",
     "text": [
      "Result for eps = 0.3500000000000001, alpha, beta = 5.0\n",
      "Average evolution time: 3.0072\n",
      "Average consensus time: 2.388399262143882\n",
      "Average consensus value in consensus time: 0.49997314164307505\n",
      "Percentage of consensus: 0.9758\n",
      "\n",
      "\n"
     ]
    },
    {
     "name": "stderr",
     "output_type": "stream",
     "text": [
      "100%|██████████| 10000/10000 [01:07<00:00, 147.92it/s]\n",
      "  0%|          | 15/10000 [00:00<01:09, 143.43it/s]"
     ]
    },
    {
     "name": "stdout",
     "output_type": "stream",
     "text": [
      "Result for eps = 0.40000000000000013, alpha, beta = 1.0\n",
      "Average evolution time: 4.076\n",
      "Average consensus time: 3.4262764760053206\n",
      "Average consensus value in consensus time: 0.5001839714386596\n",
      "Percentage of consensus: 0.9773\n",
      "\n",
      "\n"
     ]
    },
    {
     "name": "stderr",
     "output_type": "stream",
     "text": [
      "100%|██████████| 10000/10000 [01:09<00:00, 144.06it/s]\n",
      "  0%|          | 15/10000 [00:00<01:07, 148.69it/s]"
     ]
    },
    {
     "name": "stdout",
     "output_type": "stream",
     "text": [
      "Result for eps = 0.40000000000000013, alpha, beta = 1.5\n",
      "Average evolution time: 3.9404\n",
      "Average consensus time: 3.2608030982470444\n",
      "Average consensus value in consensus time: 0.49955419394220013\n",
      "Percentage of consensus: 0.9812\n",
      "\n",
      "\n"
     ]
    },
    {
     "name": "stderr",
     "output_type": "stream",
     "text": [
      "100%|██████████| 10000/10000 [01:00<00:00, 164.03it/s]\n",
      "  0%|          | 18/10000 [00:00<00:57, 173.53it/s]"
     ]
    },
    {
     "name": "stdout",
     "output_type": "stream",
     "text": [
      "Result for eps = 0.40000000000000013, alpha, beta = 2.0\n",
      "Average evolution time: 3.5551\n",
      "Average consensus time: 2.8881061766207248\n",
      "Average consensus value in consensus time: 0.5000922938113185\n",
      "Percentage of consensus: 0.9795\n",
      "\n",
      "\n"
     ]
    },
    {
     "name": "stderr",
     "output_type": "stream",
     "text": [
      "100%|██████████| 10000/10000 [00:54<00:00, 183.53it/s]\n",
      "  0%|          | 17/10000 [00:00<00:58, 169.42it/s]"
     ]
    },
    {
     "name": "stdout",
     "output_type": "stream",
     "text": [
      "Result for eps = 0.40000000000000013, alpha, beta = 2.5\n",
      "Average evolution time: 3.1573\n",
      "Average consensus time: 2.5432643018248924\n",
      "Average consensus value in consensus time: 0.5003740406409096\n",
      "Percentage of consensus: 0.9754\n",
      "\n",
      "\n"
     ]
    },
    {
     "name": "stderr",
     "output_type": "stream",
     "text": [
      "100%|██████████| 10000/10000 [00:52<00:00, 190.28it/s]\n",
      "  0%|          | 19/10000 [00:00<00:53, 185.68it/s]"
     ]
    },
    {
     "name": "stdout",
     "output_type": "stream",
     "text": [
      "Result for eps = 0.40000000000000013, alpha, beta = 3.0\n",
      "Average evolution time: 3.0247\n",
      "Average consensus time: 2.41689651649811\n",
      "Average consensus value in consensus time: 0.4996702057245623\n",
      "Percentage of consensus: 0.9789\n",
      "\n",
      "\n"
     ]
    },
    {
     "name": "stderr",
     "output_type": "stream",
     "text": [
      "100%|██████████| 10000/10000 [00:52<00:00, 191.77it/s]\n",
      "  0%|          | 19/10000 [00:00<00:53, 187.68it/s]"
     ]
    },
    {
     "name": "stdout",
     "output_type": "stream",
     "text": [
      "Result for eps = 0.40000000000000013, alpha, beta = 3.5\n",
      "Average evolution time: 3.0019\n",
      "Average consensus time: 2.386033176326029\n",
      "Average consensus value in consensus time: 0.4999520999666626\n",
      "Percentage of consensus: 0.9766\n",
      "\n",
      "\n"
     ]
    },
    {
     "name": "stderr",
     "output_type": "stream",
     "text": [
      "100%|██████████| 10000/10000 [00:51<00:00, 194.86it/s]\n",
      "  0%|          | 19/10000 [00:00<00:52, 188.34it/s]"
     ]
    },
    {
     "name": "stdout",
     "output_type": "stream",
     "text": [
      "Result for eps = 0.40000000000000013, alpha, beta = 4.0\n",
      "Average evolution time: 3.0001\n",
      "Average consensus time: 2.3892589935430975\n",
      "Average consensus value in consensus time: 0.5000318696996459\n",
      "Percentage of consensus: 0.9757\n",
      "\n",
      "\n"
     ]
    },
    {
     "name": "stderr",
     "output_type": "stream",
     "text": [
      "100%|██████████| 10000/10000 [00:51<00:00, 193.69it/s]\n",
      "  0%|          | 20/10000 [00:00<00:51, 195.50it/s]"
     ]
    },
    {
     "name": "stdout",
     "output_type": "stream",
     "text": [
      "Result for eps = 0.40000000000000013, alpha, beta = 4.5\n",
      "Average evolution time: 3.0\n",
      "Average consensus time: 2.3794688457609805\n",
      "Average consensus value in consensus time: 0.5004145133741187\n",
      "Percentage of consensus: 0.979\n",
      "\n",
      "\n"
     ]
    },
    {
     "name": "stderr",
     "output_type": "stream",
     "text": [
      "100%|██████████| 10000/10000 [00:52<00:00, 189.95it/s]\n",
      "  0%|          | 15/10000 [00:00<01:09, 142.95it/s]"
     ]
    },
    {
     "name": "stdout",
     "output_type": "stream",
     "text": [
      "Result for eps = 0.40000000000000013, alpha, beta = 5.0\n",
      "Average evolution time: 3.0\n",
      "Average consensus time: 2.3580259527945233\n",
      "Average consensus value in consensus time: 0.4999904487630997\n",
      "Percentage of consensus: 0.9787\n",
      "\n",
      "\n"
     ]
    },
    {
     "name": "stderr",
     "output_type": "stream",
     "text": [
      "100%|██████████| 10000/10000 [01:06<00:00, 149.79it/s]\n",
      "  0%|          | 17/10000 [00:00<00:59, 166.54it/s]"
     ]
    },
    {
     "name": "stdout",
     "output_type": "stream",
     "text": [
      "Result for eps = 0.45000000000000007, alpha, beta = 1.0\n",
      "Average evolution time: 3.9545\n",
      "Average consensus time: 3.273153814769482\n",
      "Average consensus value in consensus time: 0.49992605577370297\n",
      "Percentage of consensus: 0.9804\n",
      "\n",
      "\n"
     ]
    },
    {
     "name": "stderr",
     "output_type": "stream",
     "text": [
      "100%|██████████| 10000/10000 [01:00<00:00, 165.47it/s]\n",
      "  0%|          | 20/10000 [00:00<00:51, 193.18it/s]"
     ]
    },
    {
     "name": "stdout",
     "output_type": "stream",
     "text": [
      "Result for eps = 0.45000000000000007, alpha, beta = 1.5\n",
      "Average evolution time: 3.3634\n",
      "Average consensus time: 2.7370839289360833\n",
      "Average consensus value in consensus time: 0.49987015110810673\n",
      "Percentage of consensus: 0.9794\n",
      "\n",
      "\n"
     ]
    },
    {
     "name": "stderr",
     "output_type": "stream",
     "text": [
      "100%|██████████| 10000/10000 [00:50<00:00, 197.65it/s]\n",
      "  0%|          | 20/10000 [00:00<00:50, 195.73it/s]"
     ]
    },
    {
     "name": "stdout",
     "output_type": "stream",
     "text": [
      "Result for eps = 0.45000000000000007, alpha, beta = 2.0\n",
      "Average evolution time: 3.0264\n",
      "Average consensus time: 2.4254903974530144\n",
      "Average consensus value in consensus time: 0.5006014208253974\n",
      "Percentage of consensus: 0.9737\n",
      "\n",
      "\n"
     ]
    },
    {
     "name": "stderr",
     "output_type": "stream",
     "text": [
      "100%|██████████| 10000/10000 [00:50<00:00, 198.70it/s]\n",
      "  0%|          | 20/10000 [00:00<00:50, 195.93it/s]"
     ]
    },
    {
     "name": "stdout",
     "output_type": "stream",
     "text": [
      "Result for eps = 0.45000000000000007, alpha, beta = 2.5\n",
      "Average evolution time: 3.0007\n",
      "Average consensus time: 2.3837854500616524\n",
      "Average consensus value in consensus time: 0.49994754632615057\n",
      "Percentage of consensus: 0.9732\n",
      "\n",
      "\n"
     ]
    },
    {
     "name": "stderr",
     "output_type": "stream",
     "text": [
      "100%|██████████| 10000/10000 [00:50<00:00, 198.10it/s]\n",
      "  0%|          | 40/10000 [00:00<00:50, 197.46it/s]"
     ]
    },
    {
     "name": "stdout",
     "output_type": "stream",
     "text": [
      "Result for eps = 0.45000000000000007, alpha, beta = 3.0\n",
      "Average evolution time: 3.0\n",
      "Average consensus time: 2.3823048630976706\n",
      "Average consensus value in consensus time: 0.4999715853864839\n",
      "Percentage of consensus: 0.9788\n",
      "\n",
      "\n"
     ]
    },
    {
     "name": "stderr",
     "output_type": "stream",
     "text": [
      "100%|██████████| 10000/10000 [00:50<00:00, 198.78it/s]\n",
      "  0%|          | 20/10000 [00:00<00:50, 195.78it/s]"
     ]
    },
    {
     "name": "stdout",
     "output_type": "stream",
     "text": [
      "Result for eps = 0.45000000000000007, alpha, beta = 3.5\n",
      "Average evolution time: 3.0\n",
      "Average consensus time: 2.3705744311804917\n",
      "Average consensus value in consensus time: 0.49997237856983057\n",
      "Percentage of consensus: 0.9801\n",
      "\n",
      "\n"
     ]
    },
    {
     "name": "stderr",
     "output_type": "stream",
     "text": [
      "100%|██████████| 10000/10000 [00:50<00:00, 197.84it/s]\n",
      "  0%|          | 20/10000 [00:00<00:51, 194.47it/s]"
     ]
    },
    {
     "name": "stdout",
     "output_type": "stream",
     "text": [
      "Result for eps = 0.45000000000000007, alpha, beta = 4.0\n",
      "Average evolution time: 2.9997\n",
      "Average consensus time: 2.347444659798021\n",
      "Average consensus value in consensus time: 0.5000764955688459\n",
      "Percentage of consensus: 0.9803\n",
      "\n",
      "\n"
     ]
    },
    {
     "name": "stderr",
     "output_type": "stream",
     "text": [
      "100%|██████████| 10000/10000 [00:51<00:00, 195.45it/s]\n",
      "  0%|          | 20/10000 [00:00<00:51, 193.37it/s]"
     ]
    },
    {
     "name": "stdout",
     "output_type": "stream",
     "text": [
      "Result for eps = 0.45000000000000007, alpha, beta = 4.5\n",
      "Average evolution time: 2.9997\n",
      "Average consensus time: 2.338158833724131\n",
      "Average consensus value in consensus time: 0.5001651427429361\n",
      "Percentage of consensus: 0.9809\n",
      "\n",
      "\n"
     ]
    },
    {
     "name": "stderr",
     "output_type": "stream",
     "text": [
      "100%|██████████| 10000/10000 [00:51<00:00, 194.00it/s]"
     ]
    },
    {
     "name": "stdout",
     "output_type": "stream",
     "text": [
      "Result for eps = 0.45000000000000007, alpha, beta = 5.0\n",
      "Average evolution time: 2.9986\n",
      "Average consensus time: 2.3264910130718954\n",
      "Average consensus value in consensus time: 0.4999972431515284\n",
      "Percentage of consensus: 0.9792\n",
      "\n",
      "\n"
     ]
    },
    {
     "name": "stderr",
     "output_type": "stream",
     "text": [
      "\n"
     ]
    }
   ],
   "source": [
    "n = 50\n",
    "count_experiments = 10000\n",
    "for eps in np.arange(0.1, 0.5, 0.05):\n",
    "    for param in np.arange(1.0, 5.1, 0.5):\n",
    "        cons_value_data = np.asarray([])\n",
    "        cons_time_data = np.asarray([])\n",
    "        evolution_time = np.asarray([])\n",
    "\n",
    "        # x0_massiv = np.assarray([])\n",
    "        count_consensus = 0\n",
    "\n",
    "        for i in trange(count_experiments):\n",
    "            x0 = np.random.beta(param, param, n)\n",
    "            x0.sort()\n",
    "\n",
    "            X, t, cons_value, cons_time = Hen_Kr_classic_statistics(x0, eps, eps2)\n",
    "            evolution_time = np.append(evolution_time, t)\n",
    "\n",
    "            if cons_value > 0:\n",
    "                count_consensus += 1\n",
    "                cons_value_data = np.append(cons_value_data, cons_value)\n",
    "                cons_time_data = np.append(cons_time_data, cons_time)\n",
    "        #     if cons_value_c != 0:\n",
    "        #         print(cons_value)\n",
    "        #         t_list = np.linspace(0, t, t + 1)\n",
    "        #         fig = plt.figure(facecolor='white', figsize=(9, 9))\n",
    "        #         plt.plot(t_list, X, linewidth=2)\n",
    "        #         plt.show()\n",
    "        #         t_list = np.linspace(0, t_c, t_c + 1)\n",
    "        #         fig = plt.figure(facecolor='white', figsize=(9, 9))\n",
    "        #         plt.plot(t_list, X_c, linewidth=2)\n",
    "        #         plt.show()\n",
    "        print(f'Result for eps = {eps}, alpha, beta = {param}')\n",
    "        print('Average evolution time:', np.mean(evolution_time))\n",
    "        # print('Average evolution time in classic:', np.mean(evolution_time_c))\n",
    "\n",
    "        print('Average consensus time:', np.mean(cons_time_data))\n",
    "        # print('Average consensus time in classic:', np.mean(cons_time_data_c))\n",
    "\n",
    "        print('Average consensus value in consensus time:', np.mean(cons_value_data))\n",
    "        # print('Average consensus value in consensus time in classic:', np.mean(cons_value_data_c))\n",
    "\n",
    "        print('Percentage of consensus:', count_consensus / count_experiments)\n",
    "        # print('Percentage of consensus in classic:', count_consensus_c / count_experiments)\n",
    "        print('\\n')"
   ]
  },
  {
   "cell_type": "code",
   "execution_count": 345,
   "id": "4ecc4760",
   "metadata": {},
   "outputs": [
    {
     "name": "stderr",
     "output_type": "stream",
     "text": [
      "100%|██████████| 10000/10000 [00:48<00:00, 207.96it/s]\n",
      "  0%|          | 36/10000 [00:00<00:57, 174.48it/s]"
     ]
    },
    {
     "name": "stdout",
     "output_type": "stream",
     "text": [
      "\n",
      "\n"
     ]
    },
    {
     "name": "stderr",
     "output_type": "stream",
     "text": [
      "100%|██████████| 10000/10000 [00:53<00:00, 187.39it/s]\n",
      "  0%|          | 30/10000 [00:00<01:06, 148.88it/s]"
     ]
    },
    {
     "name": "stdout",
     "output_type": "stream",
     "text": [
      "\n",
      "\n"
     ]
    },
    {
     "name": "stderr",
     "output_type": "stream",
     "text": [
      "100%|██████████| 10000/10000 [00:56<00:00, 176.20it/s]\n",
      "  0%|          | 34/10000 [00:00<00:59, 167.22it/s]"
     ]
    },
    {
     "name": "stdout",
     "output_type": "stream",
     "text": [
      "\n",
      "\n"
     ]
    },
    {
     "name": "stderr",
     "output_type": "stream",
     "text": [
      "100%|██████████| 10000/10000 [00:59<00:00, 169.06it/s]\n",
      "  0%|          | 34/10000 [00:00<00:59, 167.15it/s]"
     ]
    },
    {
     "name": "stdout",
     "output_type": "stream",
     "text": [
      "\n",
      "\n"
     ]
    },
    {
     "name": "stderr",
     "output_type": "stream",
     "text": [
      "100%|██████████| 10000/10000 [01:00<00:00, 165.18it/s]\n",
      "  0%|          | 15/10000 [00:00<01:07, 147.10it/s]"
     ]
    },
    {
     "name": "stdout",
     "output_type": "stream",
     "text": [
      "\n",
      "\n"
     ]
    },
    {
     "name": "stderr",
     "output_type": "stream",
     "text": [
      "100%|██████████| 10000/10000 [01:00<00:00, 165.31it/s]\n",
      "  0%|          | 17/10000 [00:00<01:01, 161.55it/s]"
     ]
    },
    {
     "name": "stdout",
     "output_type": "stream",
     "text": [
      "\n",
      "\n"
     ]
    },
    {
     "name": "stderr",
     "output_type": "stream",
     "text": [
      "100%|██████████| 10000/10000 [01:00<00:00, 164.67it/s]\n",
      "  0%|          | 36/10000 [00:00<00:57, 173.49it/s]"
     ]
    },
    {
     "name": "stdout",
     "output_type": "stream",
     "text": [
      "\n",
      "\n"
     ]
    },
    {
     "name": "stderr",
     "output_type": "stream",
     "text": [
      "100%|██████████| 10000/10000 [00:59<00:00, 167.06it/s]\n",
      "  0%|          | 36/10000 [00:00<00:56, 176.09it/s]"
     ]
    },
    {
     "name": "stdout",
     "output_type": "stream",
     "text": [
      "\n",
      "\n"
     ]
    },
    {
     "name": "stderr",
     "output_type": "stream",
     "text": [
      "100%|██████████| 10000/10000 [00:58<00:00, 171.93it/s]\n",
      "  0%|          | 36/10000 [00:00<00:58, 170.29it/s]"
     ]
    },
    {
     "name": "stdout",
     "output_type": "stream",
     "text": [
      "\n",
      "\n"
     ]
    },
    {
     "name": "stderr",
     "output_type": "stream",
     "text": [
      "100%|██████████| 10000/10000 [00:55<00:00, 180.03it/s]\n",
      "  0%|          | 40/10000 [00:00<00:50, 197.89it/s]"
     ]
    },
    {
     "name": "stdout",
     "output_type": "stream",
     "text": [
      "\n",
      "\n"
     ]
    },
    {
     "name": "stderr",
     "output_type": "stream",
     "text": [
      "100%|██████████| 10000/10000 [00:49<00:00, 203.18it/s]\n",
      "  0%|          | 38/10000 [00:00<00:53, 186.41it/s]"
     ]
    },
    {
     "name": "stdout",
     "output_type": "stream",
     "text": [
      "\n",
      "\n"
     ]
    },
    {
     "name": "stderr",
     "output_type": "stream",
     "text": [
      "100%|██████████| 10000/10000 [00:52<00:00, 191.38it/s]\n",
      "  0%|          | 39/10000 [00:00<00:53, 187.28it/s]"
     ]
    },
    {
     "name": "stdout",
     "output_type": "stream",
     "text": [
      "\n",
      "\n"
     ]
    },
    {
     "name": "stderr",
     "output_type": "stream",
     "text": [
      "100%|██████████| 10000/10000 [00:58<00:00, 171.36it/s]\n",
      "  0%|          | 16/10000 [00:00<01:03, 157.20it/s]"
     ]
    },
    {
     "name": "stdout",
     "output_type": "stream",
     "text": [
      "\n",
      "\n"
     ]
    },
    {
     "name": "stderr",
     "output_type": "stream",
     "text": [
      "100%|██████████| 10000/10000 [01:00<00:00, 166.27it/s]\n",
      "  0%|          | 39/10000 [00:00<00:51, 192.89it/s]"
     ]
    },
    {
     "name": "stdout",
     "output_type": "stream",
     "text": [
      "\n",
      "\n"
     ]
    },
    {
     "name": "stderr",
     "output_type": "stream",
     "text": [
      "100%|██████████| 10000/10000 [00:56<00:00, 177.75it/s]\n",
      "  0%|          | 38/10000 [00:00<00:52, 189.26it/s]"
     ]
    },
    {
     "name": "stdout",
     "output_type": "stream",
     "text": [
      "\n",
      "\n"
     ]
    },
    {
     "name": "stderr",
     "output_type": "stream",
     "text": [
      "100%|██████████| 10000/10000 [00:52<00:00, 189.73it/s]\n",
      "  0%|          | 42/10000 [00:00<00:49, 201.17it/s]"
     ]
    },
    {
     "name": "stdout",
     "output_type": "stream",
     "text": [
      "\n",
      "\n"
     ]
    },
    {
     "name": "stderr",
     "output_type": "stream",
     "text": [
      "100%|██████████| 10000/10000 [00:49<00:00, 200.36it/s]\n",
      "  0%|          | 22/10000 [00:00<00:46, 214.04it/s]"
     ]
    },
    {
     "name": "stdout",
     "output_type": "stream",
     "text": [
      "\n",
      "\n"
     ]
    },
    {
     "name": "stderr",
     "output_type": "stream",
     "text": [
      "100%|██████████| 10000/10000 [00:47<00:00, 209.93it/s]\n",
      "  0%|          | 46/10000 [00:00<00:44, 224.58it/s]"
     ]
    },
    {
     "name": "stdout",
     "output_type": "stream",
     "text": [
      "\n",
      "\n"
     ]
    },
    {
     "name": "stderr",
     "output_type": "stream",
     "text": [
      "100%|██████████| 10000/10000 [00:45<00:00, 218.61it/s]\n",
      "  0%|          | 48/10000 [00:00<00:43, 228.04it/s]"
     ]
    },
    {
     "name": "stdout",
     "output_type": "stream",
     "text": [
      "\n",
      "\n"
     ]
    },
    {
     "name": "stderr",
     "output_type": "stream",
     "text": [
      "100%|██████████| 10000/10000 [00:43<00:00, 227.39it/s]\n",
      "  0%|          | 46/10000 [00:00<00:49, 201.50it/s]"
     ]
    },
    {
     "name": "stdout",
     "output_type": "stream",
     "text": [
      "\n",
      "\n"
     ]
    },
    {
     "name": "stderr",
     "output_type": "stream",
     "text": [
      "100%|██████████| 10000/10000 [00:47<00:00, 208.89it/s]\n",
      "  0%|          | 17/10000 [00:00<01:02, 160.55it/s]"
     ]
    },
    {
     "name": "stdout",
     "output_type": "stream",
     "text": [
      "\n",
      "\n"
     ]
    },
    {
     "name": "stderr",
     "output_type": "stream",
     "text": [
      "100%|██████████| 10000/10000 [01:01<00:00, 162.25it/s]\n",
      "  0%|          | 17/10000 [00:00<01:01, 163.31it/s]"
     ]
    },
    {
     "name": "stdout",
     "output_type": "stream",
     "text": [
      "\n",
      "\n"
     ]
    },
    {
     "name": "stderr",
     "output_type": "stream",
     "text": [
      "100%|██████████| 10000/10000 [00:58<00:00, 171.41it/s]\n",
      "  0%|          | 40/10000 [00:00<00:50, 197.29it/s]"
     ]
    },
    {
     "name": "stdout",
     "output_type": "stream",
     "text": [
      "\n",
      "\n"
     ]
    },
    {
     "name": "stderr",
     "output_type": "stream",
     "text": [
      "100%|██████████| 10000/10000 [00:51<00:00, 195.80it/s]\n",
      "  0%|          | 45/10000 [00:00<00:45, 220.25it/s]"
     ]
    },
    {
     "name": "stdout",
     "output_type": "stream",
     "text": [
      "\n",
      "\n"
     ]
    },
    {
     "name": "stderr",
     "output_type": "stream",
     "text": [
      "100%|██████████| 10000/10000 [00:47<00:00, 212.67it/s]\n",
      "  0%|          | 46/10000 [00:00<00:44, 224.38it/s]"
     ]
    },
    {
     "name": "stdout",
     "output_type": "stream",
     "text": [
      "\n",
      "\n"
     ]
    },
    {
     "name": "stderr",
     "output_type": "stream",
     "text": [
      "100%|██████████| 10000/10000 [00:43<00:00, 230.04it/s]\n",
      "  0%|          | 48/10000 [00:00<00:42, 234.47it/s]"
     ]
    },
    {
     "name": "stdout",
     "output_type": "stream",
     "text": [
      "\n",
      "\n"
     ]
    },
    {
     "name": "stderr",
     "output_type": "stream",
     "text": [
      "100%|██████████| 10000/10000 [00:41<00:00, 238.34it/s]\n",
      "  0%|          | 25/10000 [00:00<00:40, 248.81it/s]"
     ]
    },
    {
     "name": "stdout",
     "output_type": "stream",
     "text": [
      "\n",
      "\n"
     ]
    },
    {
     "name": "stderr",
     "output_type": "stream",
     "text": [
      "100%|██████████| 10000/10000 [00:41<00:00, 240.61it/s]\n",
      "  0%|          | 50/10000 [00:00<00:40, 243.40it/s]"
     ]
    },
    {
     "name": "stdout",
     "output_type": "stream",
     "text": [
      "\n",
      "\n"
     ]
    },
    {
     "name": "stderr",
     "output_type": "stream",
     "text": [
      "100%|██████████| 10000/10000 [00:41<00:00, 241.95it/s]\n",
      "  0%|          | 50/10000 [00:00<00:40, 245.48it/s]"
     ]
    },
    {
     "name": "stdout",
     "output_type": "stream",
     "text": [
      "\n",
      "\n"
     ]
    },
    {
     "name": "stderr",
     "output_type": "stream",
     "text": [
      "100%|██████████| 10000/10000 [00:40<00:00, 244.47it/s]\n",
      "  0%|          | 48/10000 [00:00<00:42, 234.08it/s]"
     ]
    },
    {
     "name": "stdout",
     "output_type": "stream",
     "text": [
      "\n",
      "\n"
     ]
    },
    {
     "name": "stderr",
     "output_type": "stream",
     "text": [
      "100%|██████████| 10000/10000 [00:48<00:00, 206.61it/s]\n",
      "  0%|          | 39/10000 [00:00<00:53, 185.87it/s]"
     ]
    },
    {
     "name": "stdout",
     "output_type": "stream",
     "text": [
      "\n",
      "\n"
     ]
    },
    {
     "name": "stderr",
     "output_type": "stream",
     "text": [
      "100%|██████████| 10000/10000 [00:56<00:00, 175.56it/s]\n",
      "  0%|          | 46/10000 [00:00<00:46, 213.89it/s]"
     ]
    },
    {
     "name": "stdout",
     "output_type": "stream",
     "text": [
      "\n",
      "\n"
     ]
    },
    {
     "name": "stderr",
     "output_type": "stream",
     "text": [
      "100%|██████████| 10000/10000 [00:47<00:00, 212.63it/s]\n",
      "  0%|          | 50/10000 [00:00<00:41, 238.90it/s]"
     ]
    },
    {
     "name": "stdout",
     "output_type": "stream",
     "text": [
      "\n",
      "\n"
     ]
    },
    {
     "name": "stderr",
     "output_type": "stream",
     "text": [
      "100%|██████████| 10000/10000 [00:42<00:00, 236.97it/s]\n",
      "  0%|          | 50/10000 [00:00<00:40, 242.92it/s]"
     ]
    },
    {
     "name": "stdout",
     "output_type": "stream",
     "text": [
      "\n",
      "\n"
     ]
    },
    {
     "name": "stderr",
     "output_type": "stream",
     "text": [
      "100%|██████████| 10000/10000 [00:40<00:00, 243.91it/s]\n",
      "  0%|          | 50/10000 [00:00<00:40, 248.46it/s]"
     ]
    },
    {
     "name": "stdout",
     "output_type": "stream",
     "text": [
      "\n",
      "\n"
     ]
    },
    {
     "name": "stderr",
     "output_type": "stream",
     "text": [
      "100%|██████████| 10000/10000 [00:41<00:00, 242.57it/s]\n",
      "  1%|          | 51/10000 [00:00<00:39, 249.80it/s]"
     ]
    },
    {
     "name": "stdout",
     "output_type": "stream",
     "text": [
      "\n",
      "\n"
     ]
    },
    {
     "name": "stderr",
     "output_type": "stream",
     "text": [
      "100%|██████████| 10000/10000 [00:40<00:00, 248.72it/s]\n",
      "  1%|          | 52/10000 [00:00<00:38, 258.75it/s]"
     ]
    },
    {
     "name": "stdout",
     "output_type": "stream",
     "text": [
      "\n",
      "\n"
     ]
    },
    {
     "name": "stderr",
     "output_type": "stream",
     "text": [
      "100%|██████████| 10000/10000 [00:38<00:00, 258.64it/s]\n",
      "  1%|          | 56/10000 [00:00<00:37, 267.34it/s]"
     ]
    },
    {
     "name": "stdout",
     "output_type": "stream",
     "text": [
      "\n",
      "\n"
     ]
    },
    {
     "name": "stderr",
     "output_type": "stream",
     "text": [
      "100%|██████████| 10000/10000 [00:36<00:00, 273.43it/s]\n",
      "  1%|          | 58/10000 [00:00<00:35, 283.93it/s]"
     ]
    },
    {
     "name": "stdout",
     "output_type": "stream",
     "text": [
      "\n",
      "\n"
     ]
    },
    {
     "name": "stderr",
     "output_type": "stream",
     "text": [
      "100%|██████████| 10000/10000 [00:34<00:00, 287.02it/s]\n",
      "  0%|          | 20/10000 [00:00<00:55, 179.60it/s]"
     ]
    },
    {
     "name": "stdout",
     "output_type": "stream",
     "text": [
      "\n",
      "\n"
     ]
    },
    {
     "name": "stderr",
     "output_type": "stream",
     "text": [
      "100%|██████████| 10000/10000 [01:01<00:00, 162.41it/s]\n",
      "  0%|          | 46/10000 [00:00<00:45, 218.82it/s]"
     ]
    },
    {
     "name": "stdout",
     "output_type": "stream",
     "text": [
      "\n",
      "\n"
     ]
    },
    {
     "name": "stderr",
     "output_type": "stream",
     "text": [
      "100%|██████████| 10000/10000 [00:46<00:00, 212.96it/s]\n",
      "  0%|          | 50/10000 [00:00<00:41, 241.31it/s]"
     ]
    },
    {
     "name": "stdout",
     "output_type": "stream",
     "text": [
      "\n",
      "\n"
     ]
    },
    {
     "name": "stderr",
     "output_type": "stream",
     "text": [
      "100%|██████████| 10000/10000 [00:41<00:00, 241.63it/s]\n",
      "  0%|          | 50/10000 [00:00<00:40, 244.46it/s]"
     ]
    },
    {
     "name": "stdout",
     "output_type": "stream",
     "text": [
      "\n",
      "\n"
     ]
    },
    {
     "name": "stderr",
     "output_type": "stream",
     "text": [
      "100%|██████████| 10000/10000 [00:41<00:00, 242.32it/s]\n",
      "  1%|          | 52/10000 [00:00<00:39, 251.53it/s]"
     ]
    },
    {
     "name": "stdout",
     "output_type": "stream",
     "text": [
      "\n",
      "\n"
     ]
    },
    {
     "name": "stderr",
     "output_type": "stream",
     "text": [
      "100%|██████████| 10000/10000 [00:39<00:00, 250.66it/s]\n",
      "  1%|          | 54/10000 [00:00<00:37, 264.96it/s]"
     ]
    },
    {
     "name": "stdout",
     "output_type": "stream",
     "text": [
      "\n",
      "\n"
     ]
    },
    {
     "name": "stderr",
     "output_type": "stream",
     "text": [
      "100%|██████████| 10000/10000 [00:36<00:00, 271.33it/s]\n",
      "  0%|          | 29/10000 [00:00<00:35, 278.48it/s]"
     ]
    },
    {
     "name": "stdout",
     "output_type": "stream",
     "text": [
      "\n",
      "\n"
     ]
    },
    {
     "name": "stderr",
     "output_type": "stream",
     "text": [
      "100%|██████████| 10000/10000 [00:33<00:00, 294.12it/s]\n",
      "  1%|          | 64/10000 [00:00<00:31, 312.52it/s]"
     ]
    },
    {
     "name": "stdout",
     "output_type": "stream",
     "text": [
      "\n",
      "\n"
     ]
    },
    {
     "name": "stderr",
     "output_type": "stream",
     "text": [
      "100%|██████████| 10000/10000 [00:32<00:00, 307.61it/s]\n",
      "  0%|          | 33/10000 [00:00<00:31, 320.87it/s]"
     ]
    },
    {
     "name": "stdout",
     "output_type": "stream",
     "text": [
      "\n",
      "\n"
     ]
    },
    {
     "name": "stderr",
     "output_type": "stream",
     "text": [
      "100%|██████████| 10000/10000 [00:31<00:00, 313.13it/s]\n",
      "  1%|          | 64/10000 [00:00<00:31, 318.47it/s]"
     ]
    },
    {
     "name": "stdout",
     "output_type": "stream",
     "text": [
      "\n",
      "\n"
     ]
    },
    {
     "name": "stderr",
     "output_type": "stream",
     "text": [
      "100%|██████████| 10000/10000 [00:31<00:00, 314.12it/s]\n",
      "  0%|          | 19/10000 [00:00<00:54, 181.50it/s]"
     ]
    },
    {
     "name": "stdout",
     "output_type": "stream",
     "text": [
      "\n",
      "\n"
     ]
    },
    {
     "name": "stderr",
     "output_type": "stream",
     "text": [
      "100%|██████████| 10000/10000 [00:59<00:00, 167.34it/s]\n",
      "  0%|          | 48/10000 [00:00<00:41, 238.46it/s]"
     ]
    },
    {
     "name": "stdout",
     "output_type": "stream",
     "text": [
      "\n",
      "\n"
     ]
    },
    {
     "name": "stderr",
     "output_type": "stream",
     "text": [
      "100%|██████████| 10000/10000 [00:40<00:00, 244.64it/s]\n",
      "  0%|          | 26/10000 [00:00<00:39, 253.18it/s]"
     ]
    },
    {
     "name": "stdout",
     "output_type": "stream",
     "text": [
      "\n",
      "\n"
     ]
    },
    {
     "name": "stderr",
     "output_type": "stream",
     "text": [
      "100%|██████████| 10000/10000 [00:41<00:00, 243.86it/s]\n",
      "  1%|          | 55/10000 [00:00<00:36, 270.20it/s]"
     ]
    },
    {
     "name": "stdout",
     "output_type": "stream",
     "text": [
      "\n",
      "\n"
     ]
    },
    {
     "name": "stderr",
     "output_type": "stream",
     "text": [
      "100%|██████████| 10000/10000 [00:37<00:00, 268.45it/s]\n",
      "  0%|          | 31/10000 [00:00<00:32, 309.60it/s]"
     ]
    },
    {
     "name": "stdout",
     "output_type": "stream",
     "text": [
      "\n",
      "\n"
     ]
    },
    {
     "name": "stderr",
     "output_type": "stream",
     "text": [
      "100%|██████████| 10000/10000 [00:33<00:00, 301.94it/s]\n",
      "  1%|          | 64/10000 [00:00<00:31, 314.91it/s]"
     ]
    },
    {
     "name": "stdout",
     "output_type": "stream",
     "text": [
      "\n",
      "\n"
     ]
    },
    {
     "name": "stderr",
     "output_type": "stream",
     "text": [
      "100%|██████████| 10000/10000 [00:31<00:00, 313.55it/s]\n",
      "  1%|          | 66/10000 [00:00<00:31, 319.81it/s]"
     ]
    },
    {
     "name": "stdout",
     "output_type": "stream",
     "text": [
      "\n",
      "\n"
     ]
    },
    {
     "name": "stderr",
     "output_type": "stream",
     "text": [
      "100%|██████████| 10000/10000 [00:31<00:00, 315.33it/s]\n",
      "  1%|          | 64/10000 [00:00<00:31, 313.88it/s]"
     ]
    },
    {
     "name": "stdout",
     "output_type": "stream",
     "text": [
      "\n",
      "\n"
     ]
    },
    {
     "name": "stderr",
     "output_type": "stream",
     "text": [
      "100%|██████████| 10000/10000 [00:32<00:00, 305.22it/s]\n",
      "  1%|          | 63/10000 [00:00<00:32, 310.20it/s]"
     ]
    },
    {
     "name": "stdout",
     "output_type": "stream",
     "text": [
      "\n",
      "\n"
     ]
    },
    {
     "name": "stderr",
     "output_type": "stream",
     "text": [
      "100%|██████████| 10000/10000 [00:31<00:00, 316.75it/s]\n",
      "  1%|          | 64/10000 [00:00<00:31, 314.65it/s]"
     ]
    },
    {
     "name": "stdout",
     "output_type": "stream",
     "text": [
      "\n",
      "\n"
     ]
    },
    {
     "name": "stderr",
     "output_type": "stream",
     "text": [
      "100%|██████████| 10000/10000 [00:31<00:00, 313.05it/s]\n",
      "  0%|          | 44/10000 [00:00<00:47, 209.34it/s]"
     ]
    },
    {
     "name": "stdout",
     "output_type": "stream",
     "text": [
      "\n",
      "\n"
     ]
    },
    {
     "name": "stderr",
     "output_type": "stream",
     "text": [
      "100%|██████████| 10000/10000 [00:47<00:00, 208.49it/s]\n",
      "  0%|          | 25/10000 [00:00<00:41, 242.52it/s]"
     ]
    },
    {
     "name": "stdout",
     "output_type": "stream",
     "text": [
      "\n",
      "\n"
     ]
    },
    {
     "name": "stderr",
     "output_type": "stream",
     "text": [
      "100%|██████████| 10000/10000 [00:40<00:00, 247.80it/s]\n",
      "  1%|          | 58/10000 [00:00<00:34, 285.50it/s]"
     ]
    },
    {
     "name": "stdout",
     "output_type": "stream",
     "text": [
      "\n",
      "\n"
     ]
    },
    {
     "name": "stderr",
     "output_type": "stream",
     "text": [
      "100%|██████████| 10000/10000 [00:34<00:00, 286.71it/s]\n",
      "  1%|          | 65/10000 [00:00<00:30, 320.50it/s]"
     ]
    },
    {
     "name": "stdout",
     "output_type": "stream",
     "text": [
      "\n",
      "\n"
     ]
    },
    {
     "name": "stderr",
     "output_type": "stream",
     "text": [
      "100%|██████████| 10000/10000 [00:31<00:00, 314.22it/s]\n",
      "  0%|          | 33/10000 [00:00<00:31, 320.49it/s]"
     ]
    },
    {
     "name": "stdout",
     "output_type": "stream",
     "text": [
      "\n",
      "\n"
     ]
    },
    {
     "name": "stderr",
     "output_type": "stream",
     "text": [
      "100%|██████████| 10000/10000 [00:31<00:00, 315.38it/s]\n",
      "  1%|          | 65/10000 [00:00<00:30, 320.79it/s]"
     ]
    },
    {
     "name": "stdout",
     "output_type": "stream",
     "text": [
      "\n",
      "\n"
     ]
    },
    {
     "name": "stderr",
     "output_type": "stream",
     "text": [
      "100%|██████████| 10000/10000 [00:32<00:00, 311.58it/s]\n",
      "  1%|          | 63/10000 [00:00<00:32, 309.02it/s]"
     ]
    },
    {
     "name": "stdout",
     "output_type": "stream",
     "text": [
      "\n",
      "\n"
     ]
    },
    {
     "name": "stderr",
     "output_type": "stream",
     "text": [
      "100%|██████████| 10000/10000 [00:31<00:00, 319.14it/s]\n",
      "  1%|          | 66/10000 [00:00<00:30, 321.45it/s]"
     ]
    },
    {
     "name": "stdout",
     "output_type": "stream",
     "text": [
      "\n",
      "\n"
     ]
    },
    {
     "name": "stderr",
     "output_type": "stream",
     "text": [
      "100%|██████████| 10000/10000 [00:31<00:00, 316.90it/s]\n",
      "  1%|          | 66/10000 [00:00<00:31, 313.45it/s]"
     ]
    },
    {
     "name": "stdout",
     "output_type": "stream",
     "text": [
      "\n",
      "\n"
     ]
    },
    {
     "name": "stderr",
     "output_type": "stream",
     "text": [
      "100%|██████████| 10000/10000 [00:31<00:00, 314.45it/s]\n",
      "  0%|          | 33/10000 [00:00<00:30, 324.73it/s]"
     ]
    },
    {
     "name": "stdout",
     "output_type": "stream",
     "text": [
      "\n",
      "\n"
     ]
    },
    {
     "name": "stderr",
     "output_type": "stream",
     "text": [
      "100%|██████████| 10000/10000 [00:31<00:00, 313.10it/s]\n",
      "  0%|          | 50/10000 [00:00<00:40, 247.37it/s]"
     ]
    },
    {
     "name": "stdout",
     "output_type": "stream",
     "text": [
      "\n",
      "\n"
     ]
    },
    {
     "name": "stderr",
     "output_type": "stream",
     "text": [
      "100%|██████████| 10000/10000 [00:41<00:00, 241.51it/s]\n",
      "  1%|          | 60/10000 [00:00<00:33, 293.93it/s]"
     ]
    },
    {
     "name": "stdout",
     "output_type": "stream",
     "text": [
      "\n",
      "\n"
     ]
    },
    {
     "name": "stderr",
     "output_type": "stream",
     "text": [
      "100%|██████████| 10000/10000 [00:35<00:00, 284.55it/s]\n",
      "  1%|          | 66/10000 [00:00<00:31, 317.96it/s]"
     ]
    },
    {
     "name": "stdout",
     "output_type": "stream",
     "text": [
      "\n",
      "\n"
     ]
    },
    {
     "name": "stderr",
     "output_type": "stream",
     "text": [
      "100%|██████████| 10000/10000 [00:31<00:00, 316.22it/s]\n",
      "  1%|          | 63/10000 [00:00<00:31, 313.88it/s]"
     ]
    },
    {
     "name": "stdout",
     "output_type": "stream",
     "text": [
      "\n",
      "\n"
     ]
    },
    {
     "name": "stderr",
     "output_type": "stream",
     "text": [
      "100%|██████████| 10000/10000 [00:31<00:00, 315.27it/s]\n",
      "  1%|          | 64/10000 [00:00<00:31, 314.78it/s]"
     ]
    },
    {
     "name": "stdout",
     "output_type": "stream",
     "text": [
      "\n",
      "\n"
     ]
    },
    {
     "name": "stderr",
     "output_type": "stream",
     "text": [
      "100%|██████████| 10000/10000 [00:31<00:00, 314.00it/s]\n",
      "  0%|          | 31/10000 [00:00<00:32, 308.54it/s]"
     ]
    },
    {
     "name": "stdout",
     "output_type": "stream",
     "text": [
      "\n",
      "\n"
     ]
    },
    {
     "name": "stderr",
     "output_type": "stream",
     "text": [
      "100%|██████████| 10000/10000 [00:31<00:00, 312.75it/s]\n",
      "  1%|          | 64/10000 [00:00<00:31, 313.28it/s]"
     ]
    },
    {
     "name": "stdout",
     "output_type": "stream",
     "text": [
      "\n",
      "\n"
     ]
    },
    {
     "name": "stderr",
     "output_type": "stream",
     "text": [
      "100%|██████████| 10000/10000 [00:31<00:00, 312.59it/s]\n",
      "  1%|          | 66/10000 [00:00<00:31, 311.69it/s]"
     ]
    },
    {
     "name": "stdout",
     "output_type": "stream",
     "text": [
      "\n",
      "\n"
     ]
    },
    {
     "name": "stderr",
     "output_type": "stream",
     "text": [
      "100%|██████████| 10000/10000 [00:32<00:00, 312.36it/s]\n",
      "  1%|          | 64/10000 [00:00<00:31, 316.75it/s]"
     ]
    },
    {
     "name": "stdout",
     "output_type": "stream",
     "text": [
      "\n",
      "\n"
     ]
    },
    {
     "name": "stderr",
     "output_type": "stream",
     "text": [
      "100%|██████████| 10000/10000 [00:32<00:00, 312.39it/s]\n",
      "  0%|          | 33/10000 [00:00<00:30, 324.00it/s]"
     ]
    },
    {
     "name": "stdout",
     "output_type": "stream",
     "text": [
      "\n",
      "\n"
     ]
    },
    {
     "name": "stderr",
     "output_type": "stream",
     "text": [
      "100%|██████████| 10000/10000 [00:31<00:00, 314.09it/s]"
     ]
    },
    {
     "name": "stdout",
     "output_type": "stream",
     "text": [
      "\n",
      "\n"
     ]
    },
    {
     "name": "stderr",
     "output_type": "stream",
     "text": [
      "\n"
     ]
    }
   ],
   "source": [
    "n = 50\n",
    "count_experiments = 10000\n",
    "for eps in np.arange(0.15, 0.51, 0.05):\n",
    "    for param in np.arange(0.5, 5.1, 0.5):\n",
    "        cons_value_data = np.asarray([])\n",
    "        cons_time_data = np.asarray([])\n",
    "        evolution_time = np.asarray([])\n",
    "\n",
    "        # x0_massiv = np.assarray([])\n",
    "        count_consensus = 0\n",
    "\n",
    "        for i in trange(count_experiments):\n",
    "            x0 = np.random.beta(param, param, n)\n",
    "            x0.sort()\n",
    "\n",
    "            X, t, cons_value, cons_time = Hen_Kr_classic_statistics(x0, eps, eps2)\n",
    "#             if cons_value == 0:\n",
    "#                 print(cons_value)\n",
    "            evolution_time = np.append(evolution_time, t)\n",
    "\n",
    "            if cons_value > 0:\n",
    "                count_consensus += 1\n",
    "                cons_value_data = np.append(cons_value_data, cons_value)\n",
    "                cons_time_data = np.append(cons_time_data, cons_time)\n",
    "#             if cons_value_c != 0:\n",
    "#                 print(cons_value)\n",
    "#                 t_list = np.linspace(0, t, t + 1)\n",
    "#                 fig = plt.figure(facecolor='white', figsize=(9, 9))\n",
    "#                 plt.plot(t_list, X, linewidth=2)\n",
    "#                 plt.show()\n",
    "#                 t_list = np.linspace(0, t_c, t_c + 1)\n",
    "#                 fig = plt.figure(facecolor='white', figsize=(9, 9))\n",
    "#                 plt.plot(t_list, X_c, linewidth=2)\n",
    "#                 plt.show()\n",
    "#         print(f'Result for eps = {eps}, alpha, beta = {param}')\n",
    "#         print('Average evolution time:', np.mean(evolution_time))\n",
    "#         # print('Average evolution time in classic:', np.mean(evolution_time_c))\n",
    "\n",
    "#         print('Average consensus time:', np.mean(cons_time_data))\n",
    "#         # print('Average consensus time in classic:', np.mean(cons_time_data_c))\n",
    "\n",
    "#         print('Average consensus value in consensus time:', np.mean(cons_value_data))\n",
    "#         # print('Average consensus value in consensus time in classic:', np.mean(cons_value_data_c))\n",
    "\n",
    "#         print('Percentage of consensus:', count_consensus / count_experiments)\n",
    "        # print('Percentage of consensus in classic:', count_consensus_c / count_experiments)\n",
    "        np.save(f'Beta_results/Eps_{round(eps,2)}_param_{round(param,2)}_data', [eps, param, count_consensus / count_experiments])\n",
    "        print('\\n')"
   ]
  },
  {
   "cell_type": "code",
   "execution_count": 41,
   "id": "83a00b27",
   "metadata": {},
   "outputs": [
    {
     "data": {
      "image/png": "[encoded data removed]",
      "text/plain": [
       "<Figure size 576x432 with 1 Axes>"
      ]
     },
     "metadata": {
      "needs_background": "light"
     },
     "output_type": "display_data"
    }
   ],
   "source": [
    "data = []\n",
    "params = np.arange(0.5, 5.1, 0.5)\n",
    "epss = np.arange(0.15, 0.51, 0.05)\n",
    "plt.figure(figsize=(8,6))\n",
    "for param in params:\n",
    "    data = []\n",
    "    for eps in epss:\n",
    "        data.append(np.load(f'Beta_results/Eps_{round(eps,2)}_param_{round(param,2)}_data.npy')[2]*100)\n",
    "    plt.plot(epss, data, label=f'$a, b$={round(param,2)}')\n",
    "HK_sample = [0.1, 8.4, 54.1, 87.2, 97.6, 98.2, 100, 100]\n",
    "plt.plot(epss, HK_sample, '--', c='r', linewidth=2, label='HK_uniform')\n",
    "plt.title('Percentage of consensus \\n a,b - parameters beta distribution')\n",
    "plt.xlabel('Eps')\n",
    "plt.ylabel('Percentage')\n",
    "plt.legend()\n",
    "plt.show()"
   ]
  },
  {
   "cell_type": "code",
   "execution_count": 17,
   "id": "d3628112",
   "metadata": {},
   "outputs": [
    {
     "data": {
      "text/plain": [
       "array([0.5, 1. , 1.5, 2. , 2.5, 3. , 3.5, 4. , 4.5, 5. ])"
      ]
     },
     "execution_count": 17,
     "metadata": {},
     "output_type": "execute_result"
    }
   ],
   "source": [
    "np.arange(0.5, 5.1, 0.5)"
   ]
  },
  {
   "cell_type": "code",
   "execution_count": 11,
   "id": "f53517e1",
   "metadata": {
    "collapsed": true
   },
   "outputs": [
    {
     "data": {
      "text/plain": [
       "[array([0.15, 0.5 , 0.  ]),\n",
       " array([1.5e-01, 1.0e+00, 5.0e-04]),\n",
       " array([0.15  , 1.5   , 0.0145]),\n",
       " array([0.15  , 2.    , 0.0884]),\n",
       " array([0.15  , 2.5   , 0.2283]),\n",
       " array([0.15  , 3.    , 0.4004]),\n",
       " array([0.15  , 3.5   , 0.5501]),\n",
       " array([0.15  , 4.    , 0.6596]),\n",
       " array([0.15 , 4.5  , 0.745]),\n",
       " array([0.15  , 5.    , 0.7998]),\n",
       " array([2.e-01, 5.e-01, 1.e-04]),\n",
       " array([0.2   , 1.    , 0.0659]),\n",
       " array([0.2   , 1.5   , 0.3892]),\n",
       " array([0.2   , 2.    , 0.7178]),\n",
       " array([0.2   , 2.5   , 0.8888]),\n",
       " array([0.2 , 3.  , 0.95]),\n",
       " array([0.2   , 3.5   , 0.9721]),\n",
       " array([0.2   , 4.    , 0.9782]),\n",
       " array([0.2   , 4.5   , 0.9833]),\n",
       " array([0.2   , 5.    , 0.9858]),\n",
       " array([0.25  , 0.5   , 0.0154]),\n",
       " array([0.25  , 1.    , 0.4664]),\n",
       " array([0.25  , 1.5   , 0.8996]),\n",
       " array([0.25  , 2.    , 0.9884]),\n",
       " array([0.25 , 2.5  , 0.998]),\n",
       " array([0.25  , 3.    , 0.9988]),\n",
       " array([0.25  , 3.5   , 0.9993]),\n",
       " array([0.25  , 4.    , 0.9995]),\n",
       " array([0.25  , 4.5   , 0.9996]),\n",
       " array([0.25  , 5.    , 0.9996]),\n",
       " array([0.3   , 0.5   , 0.1312]),\n",
       " array([0.3  , 1.   , 0.888]),\n",
       " array([0.3   , 1.5   , 0.9969]),\n",
       " array([0.3   , 2.    , 0.9999]),\n",
       " array([0.3   , 2.5   , 0.9999]),\n",
       " array([0.3   , 3.    , 0.9999]),\n",
       " array([0.3, 3.5, 1. ]),\n",
       " array([0.3, 4. , 1. ]),\n",
       " array([0.3, 4.5, 1. ]),\n",
       " array([0.3, 5. , 1. ]),\n",
       " array([0.35  , 0.5   , 0.5132]),\n",
       " array([0.35  , 1.    , 0.9936]),\n",
       " array([0.35  , 1.5   , 0.9999]),\n",
       " array([0.35, 2.  , 1.  ]),\n",
       " array([0.35, 2.5 , 1.  ]),\n",
       " array([0.35, 3.  , 1.  ]),\n",
       " array([0.35, 3.5 , 1.  ]),\n",
       " array([0.35, 4.  , 1.  ]),\n",
       " array([0.35, 4.5 , 1.  ]),\n",
       " array([0.35, 5.  , 1.  ]),\n",
       " array([0.4   , 0.5   , 0.8821]),\n",
       " array([0.4   , 1.    , 0.9997]),\n",
       " array([0.4, 1.5, 1. ]),\n",
       " array([0.4, 2. , 1. ]),\n",
       " array([0.4, 2.5, 1. ]),\n",
       " array([0.4, 3. , 1. ]),\n",
       " array([0.4, 3.5, 1. ]),\n",
       " array([0.4, 4. , 1. ]),\n",
       " array([0.4, 4.5, 1. ]),\n",
       " array([0.4, 5. , 1. ]),\n",
       " array([0.45  , 0.5   , 0.9799]),\n",
       " array([0.45, 1.  , 1.  ]),\n",
       " array([0.45, 1.5 , 1.  ]),\n",
       " array([0.45, 2.  , 1.  ]),\n",
       " array([0.45, 2.5 , 1.  ]),\n",
       " array([0.45, 3.  , 1.  ]),\n",
       " array([0.45, 3.5 , 1.  ]),\n",
       " array([0.45, 4.  , 1.  ]),\n",
       " array([0.45, 4.5 , 1.  ]),\n",
       " array([0.45, 5.  , 1.  ]),\n",
       " array([0.5   , 0.5   , 0.9996]),\n",
       " array([0.5, 1. , 1. ]),\n",
       " array([0.5, 1.5, 1. ]),\n",
       " array([0.5, 2. , 1. ]),\n",
       " array([0.5, 2.5, 1. ]),\n",
       " array([0.5, 3. , 1. ]),\n",
       " array([0.5, 3.5, 1. ]),\n",
       " array([0.5, 4. , 1. ]),\n",
       " array([0.5, 4.5, 1. ]),\n",
       " array([0.5, 5. , 1. ])]"
      ]
     },
     "execution_count": 11,
     "metadata": {},
     "output_type": "execute_result"
    }
   ],
   "source": [
    "data"
   ]
  },
  {
   "cell_type": "code",
   "execution_count": 45,
   "id": "8f27991c",
   "metadata": {},
   "outputs": [
    {
     "name": "stdout",
     "output_type": "stream",
     "text": [
      "a,b       Var\n",
      "0.5      0.125\n",
      "1.0      0.0833\n",
      "1.5      0.0625\n",
      "2.0      0.05\n",
      "2.5      0.0417\n",
      "3.0      0.0357\n",
      "3.5      0.0312\n",
      "4.0      0.0278\n",
      "4.5      0.025\n",
      "5.0      0.0227\n"
     ]
    }
   ],
   "source": [
    "print('a,b       Var')\n",
    "for i in np.arange(0.5, 5.1, 0.5):\n",
    "    print(i, '    ', round(i*i/((i+i)**2 * (i+i+1)), 4))"
   ]
  },
  {
   "cell_type": "markdown",
   "id": "6a77e56c",
   "metadata": {},
   "source": [
    "## Фикс среднее и разная дисперсия"
   ]
  },
  {
   "cell_type": "markdown",
   "id": "f8fe90ef",
   "metadata": {},
   "source": [
    "Среднее 0.5"
   ]
  },
  {
   "cell_type": "code",
   "execution_count": 155,
   "id": "f62c0453",
   "metadata": {},
   "outputs": [
    {
     "name": "stderr",
     "output_type": "stream",
     "text": [
      "  0%|          | 0/10 [00:00<?, ?it/s]/Users/amideamon/opt/anaconda3/lib/python3.8/site-packages/numpy/core/fromnumeric.py:3464: RuntimeWarning: Mean of empty slice.\n",
      "  return _methods._mean(a, axis=axis, dtype=dtype,\n",
      "/Users/amideamon/opt/anaconda3/lib/python3.8/site-packages/numpy/core/_methods.py:192: RuntimeWarning: invalid value encountered in scalar divide\n",
      "  ret = ret.dtype.type(ret / rcount)\n",
      "100%|██████████| 10/10 [00:49<00:00,  4.98s/it]\n",
      "100%|██████████| 10/10 [00:41<00:00,  4.17s/it]\n",
      "100%|██████████| 10/10 [00:37<00:00,  3.73s/it]\n",
      "100%|██████████| 10/10 [00:33<00:00,  3.37s/it]\n",
      "100%|██████████| 10/10 [00:31<00:00,  3.14s/it]\n",
      "100%|██████████| 10/10 [00:29<00:00,  2.98s/it]\n",
      "100%|██████████| 10/10 [00:30<00:00,  3.06s/it]\n",
      "100%|██████████| 10/10 [00:26<00:00,  2.69s/it]\n",
      "100%|██████████| 10/10 [00:26<00:00,  2.67s/it]\n",
      "100%|██████████| 10/10 [00:25<00:00,  2.51s/it]\n",
      "100%|██████████| 10/10 [00:24<00:00,  2.41s/it]\n",
      "100%|██████████| 10/10 [00:22<00:00,  2.28s/it]\n",
      "100%|██████████| 10/10 [00:22<00:00,  2.25s/it]\n",
      "100%|██████████| 10/10 [00:21<00:00,  2.10s/it]\n",
      "100%|██████████| 10/10 [00:19<00:00,  1.99s/it]\n",
      "100%|██████████| 10/10 [00:19<00:00,  1.94s/it]\n",
      "100%|██████████| 10/10 [00:19<00:00,  1.92s/it]\n",
      "100%|██████████| 10/10 [00:17<00:00,  1.75s/it]\n"
     ]
    }
   ],
   "source": [
    "mu = 0.5\n",
    "alphas = [i for i in np.arange(0.5, 5.1, 0.5)]\n",
    "betas = [alphas[i]*(1-mu)/mu for i in range(len(alphas)) ]\n",
    "sigma = [(alphas[i]*betas[i])/((alphas[i]+betas[i])*(alphas[i]+betas[i])*(alphas[i]+betas[i]+1)) for i in range(len(alphas))]\n",
    "\n",
    "n = 50\n",
    "count_experiments = 500\n",
    "res = np.asarray([['n', 'eps', 'alpha', 'beta', 'mu', 'sigma' ,'percentage_cons', 'average_cons']])\n",
    "for eps in np.arange(0.15, 1.01, 0.05):\n",
    "    for i in trange(len(alphas)):\n",
    "        cons_value_data = np.asarray([])\n",
    "#         cons_time_data = np.asarray([])\n",
    "#         evolution_time = np.asarray([])\n",
    "        count_consensus = 0\n",
    "\n",
    "        for _ in range(count_experiments):\n",
    "            x0 = np.random.beta(alphas[i], betas[i], n)\n",
    "            x0.sort()\n",
    "\n",
    "            X, _, cons_value, _ = Hen_Kr_classic_statistics(x0, eps, eps2)\n",
    "#             if cons_value == 0:\n",
    "#                 print(cons_value)\n",
    "#             evolution_time = np.append(evolution_time, t)\n",
    "\n",
    "            if cons_value > 0:\n",
    "                count_consensus += 1\n",
    "                cons_value_data = np.append(cons_value_data, cons_value)\n",
    "#                 cons_time_data = np.append(cons_time_data, cons_time)\n",
    "        res = np.append(res, np.asarray([[n, eps, round(alphas[i],3), round(betas[i],3), mu, round(sigma[i],3), count_consensus / count_experiments, round(np.mean(cons_value_data),3)]]), 0)\n",
    "            \n",
    "#             if cons_value_c != 0:\n",
    "#                 print(cons_value)\n",
    "#                 t_list = np.linspace(0, t, t + 1)\n",
    "#                 fig = plt.figure(facecolor='white', figsize=(9, 9))\n",
    "#                 plt.plot(t_list, X, linewidth=2)\n",
    "#                 plt.show()\n",
    "#                 t_list = np.linspace(0, t_c, t_c + 1)\n",
    "#                 fig = plt.figure(facecolor='white', figsize=(9, 9))\n",
    "#                 plt.plot(t_list, X_c, linewidth=2)\n",
    "#                 plt.show()\n",
    "#         print(f'Result for eps = {eps}, alpha, beta = {param}')\n",
    "#         print('Average evolution time:', np.mean(evolution_time))\n",
    "#         # print('Average evolution time in classic:', np.mean(evolution_time_c))\n",
    "\n",
    "#         print('Average consensus time:', np.mean(cons_time_data))\n",
    "#         # print('Average consensus time in classic:', np.mean(cons_time_data_c))\n",
    "\n",
    "#         print('Average consensus value in consensus time:', np.mean(cons_value_data))\n",
    "#         # print('Average consensus value in consensus time in classic:', np.mean(cons_value_data_c))\n",
    "\n",
    "#         print('Percentage of consensus:', count_consensus / count_experiments)\n",
    "        # print('Percentage of consensus in classic:', count_consensus_c / count_experiments)\n",
    "\n",
    "\n",
    "np.savetxt(f'Beta_mu_{mu}_sigma_dif.csv', res, fmt='%s', delimiter=',')\n",
    "# np.save(f'Beta_results/Eps_{round(eps,2)}_param_{round(param,2)}_data', [eps, param, count_consensus / count_experiments])\n",
    "# print('\\n')"
   ]
  },
  {
   "cell_type": "code",
   "execution_count": 288,
   "id": "eee5650f",
   "metadata": {},
   "outputs": [
    {
     "data": {
      "image/png": "[encoded data removed]",
      "text/plain": [
       "<Figure size 720x576 with 1 Axes>"
      ]
     },
     "metadata": {
      "needs_background": "light"
     },
     "output_type": "display_data"
    }
   ],
   "source": [
    "mu = 0.5\n",
    "alphas = [i for i in np.arange(0.5, 5.1, 0.5)]\n",
    "betas = [alphas[i]*(1-mu)/mu for i in range(len(alphas)) ]\n",
    "sigma = [(alphas[i]*betas[i])/((alphas[i]+betas[i])*(alphas[i]+betas[i])*(alphas[i]+betas[i]+1)) for i in range(len(alphas))]\n",
    "\n",
    "df = pd.read_csv(f'Beta_mu_{mu}_sigma_dif.csv')\n",
    "df = df.fillna(0)\n",
    "\n",
    "epss = np.arange(0.15, 1.01, 0.05)\n",
    "\n",
    "cmap = mp.cm.get_cmap('viridis')\n",
    "norm =plt.Normalize(vmin=0, vmax=len(alphas))\n",
    "sm = plt.cm.ScalarMappable(cmap=cmap, norm=norm)\n",
    "\n",
    "plt.figure(figsize=(10,8))\n",
    "for i in range(len(alphas)):\n",
    "    if cmap:   \n",
    "        color=np.array(cmap(norm(i)))*0.9\n",
    "    else:\n",
    "        color = np.random.random(3)*0.7\n",
    "        \n",
    "    plt.plot(epss, list(df.loc[abs(df['alpha']-alphas[i]) < 1e-4]['percentage_cons']), \n",
    "             label=f'a:{alphas[i]:.1f}|b:{betas[i]:.1f}|$\\mu$:{mu}|$\\sigma^2$:{sigma[i]:.2f}', color=color)\n",
    "\n",
    "HK_sample = np.asarray([0.1, 8.4, 54.1, 87.2, 97.6, 99.2, 100, 100, 100, 100, 100, 100, 100, 100, 100, 100, 100, 100])/100 \n",
    "plt.plot(epss, HK_sample, '--', c='r', linewidth=2, label='HK_uniform')\n",
    "plt.grid()\n",
    "plt.legend()\n",
    "plt.title(f'HK Percentage of consensus N:50\\n a, b - parameters beta distribution')\n",
    "plt.xlabel('Eps')\n",
    "plt.ylabel('Percentage')\n",
    "plt.savefig('Fix_mu_sigma_dif.png')\n",
    "plt.show()"
   ]
  },
  {
   "cell_type": "markdown",
   "id": "bce777e5",
   "metadata": {},
   "source": [
    "Среднее 0.75 "
   ]
  },
  {
   "cell_type": "code",
   "execution_count": 57,
   "id": "2c0f7a7d",
   "metadata": {},
   "outputs": [],
   "source": [
    "mu = 0.75\n",
    "alphas = [i for i in np.arange(0.5, 5.1, 0.5)]\n",
    "betas = [alphas[i]*(1-mu)/mu for i in range(len(alphas)) ]\n",
    "sigma = [(alphas[i]*betas[i])/((alphas[i]+betas[i])*(alphas[i]+betas[i])*(alphas[i]+betas[i]+1)) for i in range(len(alphas))]\n",
    "# alphas, betas, sigma"
   ]
  },
  {
   "cell_type": "code",
   "execution_count": 129,
   "id": "cf8f86b8",
   "metadata": {},
   "outputs": [
    {
     "name": "stderr",
     "output_type": "stream",
     "text": [
      "/Users/amideamon/opt/anaconda3/lib/python3.8/site-packages/numpy/core/fromnumeric.py:3464: RuntimeWarning: Mean of empty slice.\n",
      "  return _methods._mean(a, axis=axis, dtype=dtype,\n",
      "/Users/amideamon/opt/anaconda3/lib/python3.8/site-packages/numpy/core/_methods.py:192: RuntimeWarning: invalid value encountered in scalar divide\n",
      "  ret = ret.dtype.type(ret / rcount)\n"
     ]
    }
   ],
   "source": [
    "n = 50\n",
    "count_experiments = 200\n",
    "res = np.asarray([['n', 'eps', 'alpha', 'beta', 'mu', 'sigma' ,'percentage_cons', 'average_cons']])\n",
    "for eps in np.arange(0.15, 1.01, 0.05):\n",
    "    for i in range(len(alphas)):\n",
    "        cons_value_data = np.asarray([])\n",
    "#         cons_time_data = np.asarray([])\n",
    "#         evolution_time = np.asarray([])\n",
    "        count_consensus = 0\n",
    "\n",
    "        for _ in range(count_experiments):\n",
    "            x0 = np.random.beta(alphas[i], betas[i], n)\n",
    "            x0.sort()\n",
    "\n",
    "            X, _, cons_value, _ = Hen_Kr_classic_statistics(x0, eps, eps2)\n",
    "#             if cons_value == 0:\n",
    "#                 print(cons_value)\n",
    "#             evolution_time = np.append(evolution_time, t)\n",
    "\n",
    "            if cons_value > 0:\n",
    "                count_consensus += 1\n",
    "                cons_value_data = np.append(cons_value_data, cons_value)\n",
    "#                 cons_time_data = np.append(cons_time_data, cons_time)\n",
    "        res = np.append(res, np.asarray([[n, eps, round(alphas[i],3), round(beta[i],3), mu, round(sigma[i],3), count_consensus / count_experiments, round(np.mean(cons_value_data),3)]]), 0)\n",
    "            \n",
    "#             if cons_value_c != 0:\n",
    "#                 print(cons_value)\n",
    "#                 t_list = np.linspace(0, t, t + 1)\n",
    "#                 fig = plt.figure(facecolor='white', figsize=(9, 9))\n",
    "#                 plt.plot(t_list, X, linewidth=2)\n",
    "#                 plt.show()\n",
    "#                 t_list = np.linspace(0, t_c, t_c + 1)\n",
    "#                 fig = plt.figure(facecolor='white', figsize=(9, 9))\n",
    "#                 plt.plot(t_list, X_c, linewidth=2)\n",
    "#                 plt.show()\n",
    "#         print(f'Result for eps = {eps}, alpha, beta = {param}')\n",
    "#         print('Average evolution time:', np.mean(evolution_time))\n",
    "#         # print('Average evolution time in classic:', np.mean(evolution_time_c))\n",
    "\n",
    "#         print('Average consensus time:', np.mean(cons_time_data))\n",
    "#         # print('Average consensus time in classic:', np.mean(cons_time_data_c))\n",
    "\n",
    "#         print('Average consensus value in consensus time:', np.mean(cons_value_data))\n",
    "#         # print('Average consensus value in consensus time in classic:', np.mean(cons_value_data_c))\n",
    "\n",
    "#         print('Percentage of consensus:', count_consensus / count_experiments)\n",
    "        # print('Percentage of consensus in classic:', count_consensus_c / count_experiments)\n",
    "\n",
    "\n",
    "np.savetxt(f'Beta_mu_{mu}_sigma_dif1.csv', res, fmt='%s', delimiter=',')\n",
    "# np.save(f'Beta_results/Eps_{round(eps,2)}_param_{round(param,2)}_data', [eps, param, count_consensus / count_experiments])\n",
    "# print('\\n')"
   ]
  },
  {
   "cell_type": "code",
   "execution_count": 76,
   "id": "b521d560",
   "metadata": {
    "scrolled": false
   },
   "outputs": [
    {
     "data": {
      "text/plain": [
       "array([['n', 'eps', 'alpha', 'beta', 'mu', 'sigma', 'percentage_cons',\n",
       "        'average_cons'],\n",
       "       ['50.0', '0.2', '0.5', '0.167', '0.75', '0.113', '0.0', 'nan'],\n",
       "       ['50.0', '0.2', '1.0', '0.333', '0.75', '0.08', '0.0', 'nan'],\n",
       "       ['50.0', '0.2', '1.5', '0.5', '0.75', '0.062', '0.03', '0.77'],\n",
       "       ['50.0', '0.2', '2.0', '0.667', '0.75', '0.051', '0.125', '0.762'],\n",
       "       ['50.0', '0.2', '2.5', '0.833', '0.75', '0.043', '0.29', '0.773'],\n",
       "       ['50.0', '0.2', '3.0', '1.0', '0.75', '0.038', '0.445', '0.762'],\n",
       "       ['50.0', '0.2', '3.5', '1.167', '0.75', '0.033', '0.54', '0.764'],\n",
       "       ['50.0', '0.2', '4.0', '1.333', '0.75', '0.03', '0.635', '0.763'],\n",
       "       ['50.0', '0.2', '4.5', '1.5', '0.75', '0.027', '0.715', '0.761'],\n",
       "       ['50.0', '0.2', '5.0', '1.667', '0.75', '0.024', '0.81', '0.761']],\n",
       "      dtype='<U32')"
      ]
     },
     "execution_count": 76,
     "metadata": {},
     "output_type": "execute_result"
    }
   ],
   "source": [
    "res"
   ]
  },
  {
   "cell_type": "code",
   "execution_count": 77,
   "id": "aec06152",
   "metadata": {},
   "outputs": [],
   "source": [
    "np.savetxt(f'Beta_mu_{mu}_sigma_dif.csv', res, fmt='%s', delimiter=',')"
   ]
  },
  {
   "cell_type": "code",
   "execution_count": 49,
   "id": "6438b3b5",
   "metadata": {
    "scrolled": true
   },
   "outputs": [
    {
     "data": {
      "text/plain": [
       "(1, 7)"
      ]
     },
     "execution_count": 49,
     "metadata": {},
     "output_type": "execute_result"
    }
   ],
   "source": [
    "a = np.asarray([['n', 'eps', 'alpha', 'beta', 'mu', 'sigma' ,'percentage_consensus']])\n",
    "a.shape"
   ]
  },
  {
   "cell_type": "code",
   "execution_count": 53,
   "id": "f818f046",
   "metadata": {},
   "outputs": [],
   "source": [
    "a = np.append(a, np.asarray([[50, 0.5, 0.5, 0.5, 0.5,0,0]]), 0)"
   ]
  },
  {
   "cell_type": "code",
   "execution_count": 54,
   "id": "be7535ec",
   "metadata": {},
   "outputs": [
    {
     "data": {
      "text/plain": [
       "array([['n', 'eps', 'alpha', 'beta', 'mu', 'sigma',\n",
       "        'percentage_consensus'],\n",
       "       ['50.0', '0.5', '0.5', '0.5', '0.5', '0.0', '0.0'],\n",
       "       ['50.0', '0.5', '0.5', '0.5', '0.5', '0.0', '0.0'],\n",
       "       ['50.0', '0.5', '0.5', '0.5', '0.5', '0.0', '0.0']], dtype='<U32')"
      ]
     },
     "execution_count": 54,
     "metadata": {},
     "output_type": "execute_result"
    }
   ],
   "source": [
    "a"
   ]
  },
  {
   "cell_type": "code",
   "execution_count": 130,
   "id": "2215461c",
   "metadata": {},
   "outputs": [],
   "source": [
    "df = pd.read_csv('Beta_mu_0.75_sigma_dif1.csv')\n",
    "df = df.fillna(0)"
   ]
  },
  {
   "cell_type": "code",
   "execution_count": 144,
   "id": "68360900",
   "metadata": {
    "scrolled": false
   },
   "outputs": [
    {
     "data": {
      "image/png": "[encoded data removed]",
      "text/plain": [
       "<Figure size 720x576 with 1 Axes>"
      ]
     },
     "metadata": {
      "needs_background": "light"
     },
     "output_type": "display_data"
    }
   ],
   "source": [
    "mu = 0.75\n",
    "alphas = [i for i in np.arange(0.5, 5.1, 0.5)]\n",
    "betas = [alphas[i]*(1-mu)/mu for i in range(len(alphas)) ]\n",
    "sigma = [(alphas[i]*betas[i])/((alphas[i]+betas[i])*(alphas[i]+betas[i])*(alphas[i]+betas[i]+1)) for i in range(len(alphas))]\n",
    "epss = np.arange(0.15, 1.01, 0.05)\n",
    "\n",
    "cmap = mp.cm.get_cmap('viridis')\n",
    "norm =plt.Normalize(vmin=0, vmax=len(alphas))\n",
    "sm = plt.cm.ScalarMappable(cmap=cmap, norm=norm)\n",
    "\n",
    "plt.figure(figsize=(10,8))\n",
    "for i in range(len(alphas)):\n",
    "    if cmap:   \n",
    "        color=np.array(cmap(norm(i)))*0.9\n",
    "    else:\n",
    "        color = np.random.random(3)*0.7\n",
    "        \n",
    "    plt.plot(epss, list(df.loc[abs(df['alpha']-alphas[i]) < 1e-4]['percentage_cons']), \n",
    "             label=f'a:{alphas[i]}|b:{betas[i]:.2f}|$\\mu$:{mu}|$\\sigma$:{sigma[i]:.2f}', color=color)\n",
    "\n",
    "plt.grid()\n",
    "plt.legend()\n",
    "plt.title(f'HK Percentage of consensus N:50\\n a, b - parameters beta distribution')\n",
    "plt.xlabel('Eps')\n",
    "plt.ylabel('Percentage')\n",
    "plt.show()"
   ]
  },
  {
   "cell_type": "markdown",
   "id": "2f186790",
   "metadata": {},
   "source": [
    "Среднее 0.25"
   ]
  },
  {
   "cell_type": "code",
   "execution_count": 146,
   "id": "f369a4e2",
   "metadata": {},
   "outputs": [
    {
     "name": "stderr",
     "output_type": "stream",
     "text": [
      "100%|██████████| 10/10 [00:09<00:00,  1.05it/s]\n",
      "100%|██████████| 10/10 [00:08<00:00,  1.17it/s]\n",
      "100%|██████████| 10/10 [00:07<00:00,  1.35it/s]\n",
      "100%|██████████| 10/10 [00:06<00:00,  1.45it/s]\n",
      "100%|██████████| 10/10 [00:06<00:00,  1.54it/s]\n",
      "100%|██████████| 10/10 [00:06<00:00,  1.64it/s]\n",
      "100%|██████████| 10/10 [00:05<00:00,  1.74it/s]\n",
      "100%|██████████| 10/10 [00:05<00:00,  1.78it/s]\n",
      "100%|██████████| 10/10 [00:05<00:00,  1.89it/s]\n",
      "100%|██████████| 10/10 [00:05<00:00,  1.96it/s]\n",
      "100%|██████████| 10/10 [00:04<00:00,  2.03it/s]\n",
      "100%|██████████| 10/10 [00:04<00:00,  2.09it/s]\n",
      "100%|██████████| 10/10 [00:04<00:00,  2.12it/s]\n",
      "100%|██████████| 10/10 [00:04<00:00,  2.17it/s]\n",
      "100%|██████████| 10/10 [00:04<00:00,  2.29it/s]\n",
      "100%|██████████| 10/10 [00:04<00:00,  2.31it/s]\n",
      "100%|██████████| 10/10 [00:04<00:00,  2.37it/s]\n",
      "100%|██████████| 10/10 [00:04<00:00,  2.40it/s]\n"
     ]
    }
   ],
   "source": [
    "mu = 0.25\n",
    "alphas = [i for i in np.arange(0.5, 5.1, 0.5)]\n",
    "betas = [alphas[i]*(1-mu)/mu for i in range(len(alphas)) ]\n",
    "sigma = [(alphas[i]*betas[i])/((alphas[i]+betas[i])*(alphas[i]+betas[i])*(alphas[i]+betas[i]+1)) for i in range(len(alphas))]\n",
    "\n",
    "n = 50\n",
    "count_experiments = 200\n",
    "res = np.asarray([['n', 'eps', 'alpha', 'beta', 'mu', 'sigma' ,'percentage_cons', 'average_cons']])\n",
    "for eps in np.arange(0.15, 1.01, 0.05):\n",
    "    for i in trange(len(alphas)):\n",
    "        cons_value_data = np.asarray([])\n",
    "#         cons_time_data = np.asarray([])\n",
    "#         evolution_time = np.asarray([])\n",
    "        count_consensus = 0\n",
    "\n",
    "        for _ in range(count_experiments):\n",
    "            x0 = np.random.beta(alphas[i], betas[i], n)\n",
    "            x0.sort()\n",
    "\n",
    "            X, _, cons_value, _ = Hen_Kr_classic_statistics(x0, eps, eps2)\n",
    "#             if cons_value == 0:\n",
    "#                 print(cons_value)\n",
    "#             evolution_time = np.append(evolution_time, t)\n",
    "\n",
    "            if cons_value > 0:\n",
    "                count_consensus += 1\n",
    "                cons_value_data = np.append(cons_value_data, cons_value)\n",
    "#                 cons_time_data = np.append(cons_time_data, cons_time)\n",
    "        res = np.append(res, np.asarray([[n, eps, round(alphas[i],3), round(beta[i],3), mu, round(sigma[i],3), count_consensus / count_experiments, round(np.mean(cons_value_data),3)]]), 0)\n",
    "            \n",
    "#             if cons_value_c != 0:\n",
    "#                 print(cons_value)\n",
    "#                 t_list = np.linspace(0, t, t + 1)\n",
    "#                 fig = plt.figure(facecolor='white', figsize=(9, 9))\n",
    "#                 plt.plot(t_list, X, linewidth=2)\n",
    "#                 plt.show()\n",
    "#                 t_list = np.linspace(0, t_c, t_c + 1)\n",
    "#                 fig = plt.figure(facecolor='white', figsize=(9, 9))\n",
    "#                 plt.plot(t_list, X_c, linewidth=2)\n",
    "#                 plt.show()\n",
    "#         print(f'Result for eps = {eps}, alpha, beta = {param}')\n",
    "#         print('Average evolution time:', np.mean(evolution_time))\n",
    "#         # print('Average evolution time in classic:', np.mean(evolution_time_c))\n",
    "\n",
    "#         print('Average consensus time:', np.mean(cons_time_data))\n",
    "#         # print('Average consensus time in classic:', np.mean(cons_time_data_c))\n",
    "\n",
    "#         print('Average consensus value in consensus time:', np.mean(cons_value_data))\n",
    "#         # print('Average consensus value in consensus time in classic:', np.mean(cons_value_data_c))\n",
    "\n",
    "#         print('Percentage of consensus:', count_consensus / count_experiments)\n",
    "        # print('Percentage of consensus in classic:', count_consensus_c / count_experiments)\n",
    "\n",
    "\n",
    "np.savetxt(f'Beta_mu_{mu}_sigma_dif.csv', res, fmt='%s', delimiter=',')\n",
    "# np.save(f'Beta_results/Eps_{round(eps,2)}_param_{round(param,2)}_data', [eps, param, count_consensus / count_experiments])\n",
    "# print('\\n')"
   ]
  },
  {
   "cell_type": "code",
   "execution_count": 147,
   "id": "13aba363",
   "metadata": {},
   "outputs": [
    {
     "data": {
      "image/png": "[encoded data removed]",
      "text/plain": [
       "<Figure size 720x576 with 1 Axes>"
      ]
     },
     "metadata": {
      "needs_background": "light"
     },
     "output_type": "display_data"
    }
   ],
   "source": [
    "df = pd.read_csv(f'Beta_mu_{mu}_sigma_dif.csv')\n",
    "df = df.fillna(0)\n",
    "\n",
    "epss = np.arange(0.15, 1.01, 0.05)\n",
    "\n",
    "cmap = mp.cm.get_cmap('viridis')\n",
    "norm =plt.Normalize(vmin=0, vmax=len(alphas))\n",
    "sm = plt.cm.ScalarMappable(cmap=cmap, norm=norm)\n",
    "\n",
    "plt.figure(figsize=(10,8))\n",
    "for i in range(len(alphas)):\n",
    "    if cmap:   \n",
    "        color=np.array(cmap(norm(i)))*0.9\n",
    "    else:\n",
    "        color = np.random.random(3)*0.7\n",
    "        \n",
    "    plt.plot(epss, list(df.loc[abs(df['alpha']-alphas[i]) < 1e-4]['percentage_cons']), \n",
    "             label=f'a:{alphas[i]}|b:{betas[i]:.2f}|$\\mu$:{mu}|$\\sigma$:{sigma[i]:.2f}', color=color)\n",
    "\n",
    "plt.grid()\n",
    "plt.legend()\n",
    "plt.title(f'HK Percentage of consensus N:50\\n a, b - parameters beta distribution')\n",
    "plt.xlabel('Eps')\n",
    "plt.ylabel('Percentage')\n",
    "plt.show()"
   ]
  },
  {
   "cell_type": "markdown",
   "id": "fbb4d2e5",
   "metadata": {},
   "source": [
    "Среднее 0.25, другие параметры а,в"
   ]
  },
  {
   "cell_type": "code",
   "execution_count": 150,
   "id": "9a16fbd7",
   "metadata": {},
   "outputs": [
    {
     "name": "stderr",
     "output_type": "stream",
     "text": [
      "100%|██████████| 20/20 [00:19<00:00,  1.03it/s]\n",
      "100%|██████████| 20/20 [00:19<00:00,  1.01it/s]\n",
      "100%|██████████| 20/20 [00:18<00:00,  1.07it/s]\n",
      "100%|██████████| 20/20 [00:17<00:00,  1.12it/s]\n",
      "100%|██████████| 20/20 [00:16<00:00,  1.19it/s]\n",
      "100%|██████████| 20/20 [00:15<00:00,  1.26it/s]\n",
      "100%|██████████| 20/20 [00:14<00:00,  1.36it/s]\n",
      "100%|██████████| 20/20 [00:13<00:00,  1.44it/s]\n",
      "100%|██████████| 20/20 [00:13<00:00,  1.45it/s]\n",
      "100%|██████████| 20/20 [00:12<00:00,  1.54it/s]\n",
      "100%|██████████| 20/20 [00:12<00:00,  1.58it/s]\n",
      "100%|██████████| 20/20 [00:12<00:00,  1.64it/s]\n",
      "100%|██████████| 20/20 [00:12<00:00,  1.63it/s]\n",
      "100%|██████████| 20/20 [00:11<00:00,  1.70it/s]\n",
      "100%|██████████| 20/20 [00:11<00:00,  1.76it/s]\n",
      "100%|██████████| 20/20 [00:10<00:00,  1.91it/s]\n",
      "100%|██████████| 20/20 [00:09<00:00,  2.05it/s]\n",
      "100%|██████████| 20/20 [00:08<00:00,  2.35it/s]\n"
     ]
    }
   ],
   "source": [
    "mu = 0.25\n",
    "alphas = [i for i in np.arange(0.05, 1.01, 0.05)]\n",
    "betas = [alphas[i]*(1-mu)/mu for i in range(len(alphas)) ]\n",
    "sigma = [(alphas[i]*betas[i])/((alphas[i]+betas[i])*(alphas[i]+betas[i])*(alphas[i]+betas[i]+1)) for i in range(len(alphas))]\n",
    "\n",
    "n = 50\n",
    "count_experiments = 200\n",
    "res = np.asarray([['n', 'eps', 'alpha', 'beta', 'mu', 'sigma' ,'percentage_cons', 'average_cons']])\n",
    "for eps in np.arange(0.15, 1.01, 0.05):\n",
    "    for i in trange(len(alphas)):\n",
    "        cons_value_data = np.asarray([])\n",
    "#         cons_time_data = np.asarray([])\n",
    "#         evolution_time = np.asarray([])\n",
    "        count_consensus = 0\n",
    "\n",
    "        for _ in range(count_experiments):\n",
    "            x0 = np.random.beta(alphas[i], betas[i], n)\n",
    "            x0.sort()\n",
    "\n",
    "            X, _, cons_value, _ = Hen_Kr_classic_statistics(x0, eps, eps2)\n",
    "#             if cons_value == 0:\n",
    "#                 print(cons_value)\n",
    "#             evolution_time = np.append(evolution_time, t)\n",
    "\n",
    "            if cons_value > 0:\n",
    "                count_consensus += 1\n",
    "                cons_value_data = np.append(cons_value_data, cons_value)\n",
    "#                 cons_time_data = np.append(cons_time_data, cons_time)\n",
    "        res = np.append(res, np.asarray([[n, eps, round(alphas[i],3), round(betas[i],3), mu, round(sigma[i],3), count_consensus / count_experiments, round(np.mean(cons_value_data),3)]]), 0)\n",
    "            \n",
    "#             if cons_value_c != 0:\n",
    "#                 print(cons_value)\n",
    "#                 t_list = np.linspace(0, t, t + 1)\n",
    "#                 fig = plt.figure(facecolor='white', figsize=(9, 9))\n",
    "#                 plt.plot(t_list, X, linewidth=2)\n",
    "#                 plt.show()\n",
    "#                 t_list = np.linspace(0, t_c, t_c + 1)\n",
    "#                 fig = plt.figure(facecolor='white', figsize=(9, 9))\n",
    "#                 plt.plot(t_list, X_c, linewidth=2)\n",
    "#                 plt.show()\n",
    "#         print(f'Result for eps = {eps}, alpha, beta = {param}')\n",
    "#         print('Average evolution time:', np.mean(evolution_time))\n",
    "#         # print('Average evolution time in classic:', np.mean(evolution_time_c))\n",
    "\n",
    "#         print('Average consensus time:', np.mean(cons_time_data))\n",
    "#         # print('Average consensus time in classic:', np.mean(cons_time_data_c))\n",
    "\n",
    "#         print('Average consensus value in consensus time:', np.mean(cons_value_data))\n",
    "#         # print('Average consensus value in consensus time in classic:', np.mean(cons_value_data_c))\n",
    "\n",
    "#         print('Percentage of consensus:', count_consensus / count_experiments)\n",
    "        # print('Percentage of consensus in classic:', count_consensus_c / count_experiments)\n",
    "\n",
    "\n",
    "np.savetxt(f'Beta_mu_{mu}_sigma_dif2.csv', res, fmt='%s', delimiter=',')\n",
    "# np.save(f'Beta_results/Eps_{round(eps,2)}_param_{round(param,2)}_data', [eps, param, count_consensus / count_experiments])\n",
    "# print('\\n')"
   ]
  },
  {
   "cell_type": "code",
   "execution_count": 152,
   "id": "09c5134d",
   "metadata": {
    "scrolled": false
   },
   "outputs": [
    {
     "data": {
      "image/png": "[encoded data removed]",
      "text/plain": [
       "<Figure size 720x576 with 1 Axes>"
      ]
     },
     "metadata": {
      "needs_background": "light"
     },
     "output_type": "display_data"
    }
   ],
   "source": [
    "df = pd.read_csv(f'Beta_mu_{mu}_sigma_dif2.csv')\n",
    "df = df.fillna(0)\n",
    "\n",
    "epss = np.arange(0.15, 1.01, 0.05)\n",
    "\n",
    "cmap = mp.cm.get_cmap('viridis')\n",
    "norm =plt.Normalize(vmin=0, vmax=len(alphas))\n",
    "sm = plt.cm.ScalarMappable(cmap=cmap, norm=norm)\n",
    "\n",
    "plt.figure(figsize=(10,8))\n",
    "for i in range(len(alphas)):\n",
    "    if cmap:   \n",
    "        color=np.array(cmap(norm(i)))*0.9\n",
    "    else:\n",
    "        color = np.random.random(3)*0.7\n",
    "        \n",
    "    plt.plot(epss, list(df.loc[abs(df['alpha']-alphas[i]) < 1e-4]['percentage_cons']), \n",
    "             label=f'a:{alphas[i]:.2f}|b:{betas[i]:.2f}|$\\mu$:{mu}|$\\sigma$:{sigma[i]:.2f}', color=color)\n",
    "\n",
    "plt.grid()\n",
    "plt.legend()\n",
    "plt.title(f'HK Percentage of consensus N:50\\n a, b - parameters beta distribution')\n",
    "plt.xlabel('Eps')\n",
    "plt.ylabel('Percentage')\n",
    "plt.show()"
   ]
  },
  {
   "cell_type": "markdown",
   "id": "dfd33841",
   "metadata": {},
   "source": [
    "Разные средние и одинаковые дисперсии"
   ]
  },
  {
   "cell_type": "code",
   "execution_count": 228,
   "id": "e5acd3f7",
   "metadata": {},
   "outputs": [],
   "source": [
    "df_50 = pd.read_csv(f'Beta_mu_{0.5}_sigma_dif.csv')\n",
    "df_50 = df_50.fillna(0)\n",
    "df_25 = pd.read_csv(f'Beta_mu_{0.25}_sigma_dif2.csv')\n",
    "df_25 = df_25.fillna(0)\n",
    "df_75 = pd.read_csv(f'Beta_mu_{0.75}_sigma_dif1.csv')\n",
    "df_75 = df_75.fillna(0)\n",
    "df_60 = pd.read_csv(f'Beta_mu_{0.6}_sigma_dif.csv')\n",
    "df_60 = df_60.fillna(0)\n",
    "df_40 = pd.read_csv(f'Beta_mu_{0.4}_sigma_dif.csv')\n",
    "df_40 = df_40.fillna(0)"
   ]
  },
  {
   "cell_type": "code",
   "execution_count": 229,
   "id": "dc1e3d07",
   "metadata": {},
   "outputs": [
    {
     "data": {
      "text/html": [
       "<div>\n",
       "<style scoped>\n",
       "    .dataframe tbody tr th:only-of-type {\n",
       "        vertical-align: middle;\n",
       "    }\n",
       "\n",
       "    .dataframe tbody tr th {\n",
       "        vertical-align: top;\n",
       "    }\n",
       "\n",
       "    .dataframe thead th {\n",
       "        text-align: right;\n",
       "    }\n",
       "</style>\n",
       "<table border=\"1\" class=\"dataframe\">\n",
       "  <thead>\n",
       "    <tr style=\"text-align: right;\">\n",
       "      <th></th>\n",
       "      <th>n</th>\n",
       "      <th>eps</th>\n",
       "      <th>alpha</th>\n",
       "      <th>beta</th>\n",
       "      <th>mu</th>\n",
       "      <th>sigma</th>\n",
       "      <th>percentage_cons</th>\n",
       "      <th>average_cons</th>\n",
       "    </tr>\n",
       "  </thead>\n",
       "  <tbody>\n",
       "    <tr>\n",
       "      <th>9</th>\n",
       "      <td>50.0</td>\n",
       "      <td>0.15</td>\n",
       "      <td>0.5</td>\n",
       "      <td>1.5</td>\n",
       "      <td>0.25</td>\n",
       "      <td>0.062</td>\n",
       "      <td>0.000</td>\n",
       "      <td>0.000</td>\n",
       "    </tr>\n",
       "    <tr>\n",
       "      <th>29</th>\n",
       "      <td>50.0</td>\n",
       "      <td>0.20</td>\n",
       "      <td>0.5</td>\n",
       "      <td>1.5</td>\n",
       "      <td>0.25</td>\n",
       "      <td>0.062</td>\n",
       "      <td>0.020</td>\n",
       "      <td>0.200</td>\n",
       "    </tr>\n",
       "    <tr>\n",
       "      <th>49</th>\n",
       "      <td>50.0</td>\n",
       "      <td>0.25</td>\n",
       "      <td>0.5</td>\n",
       "      <td>1.5</td>\n",
       "      <td>0.25</td>\n",
       "      <td>0.062</td>\n",
       "      <td>0.260</td>\n",
       "      <td>0.231</td>\n",
       "    </tr>\n",
       "    <tr>\n",
       "      <th>69</th>\n",
       "      <td>50.0</td>\n",
       "      <td>0.30</td>\n",
       "      <td>0.5</td>\n",
       "      <td>1.5</td>\n",
       "      <td>0.25</td>\n",
       "      <td>0.062</td>\n",
       "      <td>0.595</td>\n",
       "      <td>0.225</td>\n",
       "    </tr>\n",
       "    <tr>\n",
       "      <th>89</th>\n",
       "      <td>50.0</td>\n",
       "      <td>0.35</td>\n",
       "      <td>0.5</td>\n",
       "      <td>1.5</td>\n",
       "      <td>0.25</td>\n",
       "      <td>0.062</td>\n",
       "      <td>0.865</td>\n",
       "      <td>0.232</td>\n",
       "    </tr>\n",
       "    <tr>\n",
       "      <th>109</th>\n",
       "      <td>50.0</td>\n",
       "      <td>0.40</td>\n",
       "      <td>0.5</td>\n",
       "      <td>1.5</td>\n",
       "      <td>0.25</td>\n",
       "      <td>0.062</td>\n",
       "      <td>0.990</td>\n",
       "      <td>0.232</td>\n",
       "    </tr>\n",
       "    <tr>\n",
       "      <th>129</th>\n",
       "      <td>50.0</td>\n",
       "      <td>0.45</td>\n",
       "      <td>0.5</td>\n",
       "      <td>1.5</td>\n",
       "      <td>0.25</td>\n",
       "      <td>0.062</td>\n",
       "      <td>0.995</td>\n",
       "      <td>0.231</td>\n",
       "    </tr>\n",
       "    <tr>\n",
       "      <th>149</th>\n",
       "      <td>50.0</td>\n",
       "      <td>0.50</td>\n",
       "      <td>0.5</td>\n",
       "      <td>1.5</td>\n",
       "      <td>0.25</td>\n",
       "      <td>0.062</td>\n",
       "      <td>1.000</td>\n",
       "      <td>0.228</td>\n",
       "    </tr>\n",
       "    <tr>\n",
       "      <th>169</th>\n",
       "      <td>50.0</td>\n",
       "      <td>0.55</td>\n",
       "      <td>0.5</td>\n",
       "      <td>1.5</td>\n",
       "      <td>0.25</td>\n",
       "      <td>0.062</td>\n",
       "      <td>1.000</td>\n",
       "      <td>0.243</td>\n",
       "    </tr>\n",
       "    <tr>\n",
       "      <th>189</th>\n",
       "      <td>50.0</td>\n",
       "      <td>0.60</td>\n",
       "      <td>0.5</td>\n",
       "      <td>1.5</td>\n",
       "      <td>0.25</td>\n",
       "      <td>0.062</td>\n",
       "      <td>1.000</td>\n",
       "      <td>0.242</td>\n",
       "    </tr>\n",
       "    <tr>\n",
       "      <th>209</th>\n",
       "      <td>50.0</td>\n",
       "      <td>0.65</td>\n",
       "      <td>0.5</td>\n",
       "      <td>1.5</td>\n",
       "      <td>0.25</td>\n",
       "      <td>0.062</td>\n",
       "      <td>1.000</td>\n",
       "      <td>0.243</td>\n",
       "    </tr>\n",
       "    <tr>\n",
       "      <th>229</th>\n",
       "      <td>50.0</td>\n",
       "      <td>0.70</td>\n",
       "      <td>0.5</td>\n",
       "      <td>1.5</td>\n",
       "      <td>0.25</td>\n",
       "      <td>0.062</td>\n",
       "      <td>1.000</td>\n",
       "      <td>0.240</td>\n",
       "    </tr>\n",
       "    <tr>\n",
       "      <th>249</th>\n",
       "      <td>50.0</td>\n",
       "      <td>0.75</td>\n",
       "      <td>0.5</td>\n",
       "      <td>1.5</td>\n",
       "      <td>0.25</td>\n",
       "      <td>0.062</td>\n",
       "      <td>1.000</td>\n",
       "      <td>0.249</td>\n",
       "    </tr>\n",
       "    <tr>\n",
       "      <th>269</th>\n",
       "      <td>50.0</td>\n",
       "      <td>0.80</td>\n",
       "      <td>0.5</td>\n",
       "      <td>1.5</td>\n",
       "      <td>0.25</td>\n",
       "      <td>0.062</td>\n",
       "      <td>1.000</td>\n",
       "      <td>0.248</td>\n",
       "    </tr>\n",
       "    <tr>\n",
       "      <th>289</th>\n",
       "      <td>50.0</td>\n",
       "      <td>0.85</td>\n",
       "      <td>0.5</td>\n",
       "      <td>1.5</td>\n",
       "      <td>0.25</td>\n",
       "      <td>0.062</td>\n",
       "      <td>1.000</td>\n",
       "      <td>0.249</td>\n",
       "    </tr>\n",
       "    <tr>\n",
       "      <th>309</th>\n",
       "      <td>50.0</td>\n",
       "      <td>0.90</td>\n",
       "      <td>0.5</td>\n",
       "      <td>1.5</td>\n",
       "      <td>0.25</td>\n",
       "      <td>0.062</td>\n",
       "      <td>1.000</td>\n",
       "      <td>0.246</td>\n",
       "    </tr>\n",
       "    <tr>\n",
       "      <th>329</th>\n",
       "      <td>50.0</td>\n",
       "      <td>0.95</td>\n",
       "      <td>0.5</td>\n",
       "      <td>1.5</td>\n",
       "      <td>0.25</td>\n",
       "      <td>0.062</td>\n",
       "      <td>1.000</td>\n",
       "      <td>0.250</td>\n",
       "    </tr>\n",
       "    <tr>\n",
       "      <th>349</th>\n",
       "      <td>50.0</td>\n",
       "      <td>1.00</td>\n",
       "      <td>0.5</td>\n",
       "      <td>1.5</td>\n",
       "      <td>0.25</td>\n",
       "      <td>0.062</td>\n",
       "      <td>1.000</td>\n",
       "      <td>0.250</td>\n",
       "    </tr>\n",
       "  </tbody>\n",
       "</table>\n",
       "</div>"
      ],
      "text/plain": [
       "        n   eps  alpha  beta    mu  sigma  percentage_cons  average_cons\n",
       "9    50.0  0.15    0.5   1.5  0.25  0.062            0.000         0.000\n",
       "29   50.0  0.20    0.5   1.5  0.25  0.062            0.020         0.200\n",
       "49   50.0  0.25    0.5   1.5  0.25  0.062            0.260         0.231\n",
       "69   50.0  0.30    0.5   1.5  0.25  0.062            0.595         0.225\n",
       "89   50.0  0.35    0.5   1.5  0.25  0.062            0.865         0.232\n",
       "109  50.0  0.40    0.5   1.5  0.25  0.062            0.990         0.232\n",
       "129  50.0  0.45    0.5   1.5  0.25  0.062            0.995         0.231\n",
       "149  50.0  0.50    0.5   1.5  0.25  0.062            1.000         0.228\n",
       "169  50.0  0.55    0.5   1.5  0.25  0.062            1.000         0.243\n",
       "189  50.0  0.60    0.5   1.5  0.25  0.062            1.000         0.242\n",
       "209  50.0  0.65    0.5   1.5  0.25  0.062            1.000         0.243\n",
       "229  50.0  0.70    0.5   1.5  0.25  0.062            1.000         0.240\n",
       "249  50.0  0.75    0.5   1.5  0.25  0.062            1.000         0.249\n",
       "269  50.0  0.80    0.5   1.5  0.25  0.062            1.000         0.248\n",
       "289  50.0  0.85    0.5   1.5  0.25  0.062            1.000         0.249\n",
       "309  50.0  0.90    0.5   1.5  0.25  0.062            1.000         0.246\n",
       "329  50.0  0.95    0.5   1.5  0.25  0.062            1.000         0.250\n",
       "349  50.0  1.00    0.5   1.5  0.25  0.062            1.000         0.250"
      ]
     },
     "execution_count": 229,
     "metadata": {},
     "output_type": "execute_result"
    }
   ],
   "source": [
    "df_25.loc[abs(df_25['sigma'] - 0.062) < 1e-4]"
   ]
  },
  {
   "cell_type": "code",
   "execution_count": 232,
   "id": "af76861a",
   "metadata": {},
   "outputs": [
    {
     "data": {
      "image/png": "[encoded data removed]",
      "text/plain": [
       "<Figure size 720x576 with 1 Axes>"
      ]
     },
     "metadata": {
      "needs_background": "light"
     },
     "output_type": "display_data"
    }
   ],
   "source": [
    "epss = np.arange(0.15, 1.01, 0.05)\n",
    "buf50 = df_50.loc[abs(df_50['sigma'] - 0.062) < 1e-4]\n",
    "buf25 = df_25.loc[abs(df_25['sigma'] - 0.062) < 1e-4]\n",
    "buf75 = df_75.loc[abs(df_75['sigma'] - 0.062) < 1e-4]\n",
    "\n",
    "buf40 = df_40.loc[abs(df_40['sigma'] - 0.069) < 1e-4]\n",
    "buf60 = df_60.loc[abs(df_60['sigma'] - 0.069) < 1e-4]\n",
    "\n",
    "plt.figure(figsize=(10,8))\n",
    "\n",
    "\n",
    "plt.plot(epss, list(buf50['percentage_cons']), \n",
    "        label=f\"a:{list(buf50['alpha'])[0]}|b:{list(buf50['beta'])[0]}|$\\mu$:{list(buf50['mu'])[0]}|$\\sigma$:{list(buf50['sigma'])[0]:.2f}\")\n",
    "plt.plot(epss, list(buf25['percentage_cons']), \n",
    "        label=f\"a:{list(buf25['alpha'])[0]}|b:{list(buf25['beta'])[0]}|$\\mu$:{list(buf25['mu'])[0]}|$\\sigma$:{list(buf25['sigma'])[0]:.2f}\")\n",
    "plt.plot(epss, list(buf75['percentage_cons']), \n",
    "        label=f\"a:{list(buf75['alpha'])[0]}|b:{list(buf75['beta'])[0]}|$\\mu$:{list(buf75['mu'])[0]}|$\\sigma$:{list(buf75['sigma'])[0]:.2f}\")\n",
    "# plt.plot(epss, list(buf50['percentage_cons']), \n",
    "#         label=f\"a:{list(buf50['alpha'])[0]}|b:{list(buf50['beta'])[0]}|$\\mu$:{list(buf50['mu'])[0]}|$\\sigma$:{list(buf50['sigma'])[0]}\")\n",
    "plt.plot(epss, list(buf40['percentage_cons']), \n",
    "        label=f\"a:{list(buf40['alpha'])[0]}|b:{list(buf40['beta'])[0]}|$\\mu$:{list(buf40['mu'])[0]}|$\\sigma$:{list(buf40['sigma'])[0]-0.006:.2f}\")\n",
    "plt.plot(epss, list(buf60['percentage_cons']), \n",
    "        label=f\"a:{list(buf60['alpha'])[0]}|b:{list(buf60['beta'])[0]}|$\\mu$:{list(buf60['mu'])[0]}|$\\sigma$:{list(buf60['sigma'])[0]-0.006:.2f}\")\n",
    "\n",
    "plt.title('')\n",
    "plt.grid()\n",
    "plt.legend()\n",
    "plt.xlabel('Eps')\n",
    "plt.ylabel('Percentage')\n",
    "plt.show()"
   ]
  },
  {
   "cell_type": "markdown",
   "id": "64fedeba",
   "metadata": {},
   "source": [
    "Средние 0.4 и 0.6"
   ]
  },
  {
   "cell_type": "code",
   "execution_count": 205,
   "id": "66a2607c",
   "metadata": {},
   "outputs": [
    {
     "name": "stderr",
     "output_type": "stream",
     "text": [
      "  0%|          | 0/10 [00:00<?, ?it/s]/Users/amideamon/opt/anaconda3/lib/python3.8/site-packages/numpy/core/fromnumeric.py:3464: RuntimeWarning: Mean of empty slice.\n",
      "  return _methods._mean(a, axis=axis, dtype=dtype,\n",
      "/Users/amideamon/opt/anaconda3/lib/python3.8/site-packages/numpy/core/_methods.py:192: RuntimeWarning: invalid value encountered in scalar divide\n",
      "  ret = ret.dtype.type(ret / rcount)\n",
      "100%|██████████| 10/10 [00:30<00:00,  3.08s/it]\n",
      "100%|██████████| 10/10 [00:25<00:00,  2.54s/it]\n",
      "100%|██████████| 10/10 [00:24<00:00,  2.41s/it]\n",
      "100%|██████████| 10/10 [00:19<00:00,  1.99s/it]\n",
      "100%|██████████| 10/10 [00:18<00:00,  1.83s/it]\n",
      "100%|██████████| 10/10 [00:17<00:00,  1.71s/it]\n",
      "100%|██████████| 10/10 [00:16<00:00,  1.63s/it]\n",
      "100%|██████████| 10/10 [00:20<00:00,  2.02s/it]\n",
      "100%|██████████| 10/10 [00:16<00:00,  1.61s/it]\n",
      "100%|██████████| 10/10 [00:16<00:00,  1.65s/it]\n",
      "100%|██████████| 10/10 [00:14<00:00,  1.43s/it]\n",
      "100%|██████████| 10/10 [00:13<00:00,  1.31s/it]\n",
      "100%|██████████| 10/10 [00:12<00:00,  1.26s/it]\n",
      "100%|██████████| 10/10 [00:12<00:00,  1.21s/it]\n",
      "100%|██████████| 10/10 [00:11<00:00,  1.19s/it]\n",
      "100%|██████████| 10/10 [00:11<00:00,  1.14s/it]\n",
      "100%|██████████| 10/10 [00:11<00:00,  1.11s/it]\n",
      "100%|██████████| 10/10 [00:10<00:00,  1.05s/it]\n"
     ]
    }
   ],
   "source": [
    "mu = 0.4\n",
    "alphas = [i for i in np.arange(0.5, 5.1, 0.5)]\n",
    "betas = [alphas[i]*(1-mu)/mu for i in range(len(alphas)) ]\n",
    "sigma = [(alphas[i]*betas[i])/((alphas[i]+betas[i])*(alphas[i]+betas[i])*(alphas[i]+betas[i]+1)) for i in range(len(alphas))]\n",
    "\n",
    "n = 50\n",
    "count_experiments = 300\n",
    "res = np.asarray([['n', 'eps', 'alpha', 'beta', 'mu', 'sigma' ,'percentage_cons', 'average_cons']])\n",
    "for eps in np.arange(0.15, 1.01, 0.05):\n",
    "    for i in trange(len(alphas)):\n",
    "        cons_value_data = np.asarray([])\n",
    "#         cons_time_data = np.asarray([])\n",
    "#         evolution_time = np.asarray([])\n",
    "        count_consensus = 0\n",
    "\n",
    "        for _ in range(count_experiments):\n",
    "            x0 = np.random.beta(alphas[i], betas[i], n)\n",
    "            x0.sort()\n",
    "\n",
    "            X, _, cons_value, _ = Hen_Kr_classic_statistics(x0, eps, eps2)\n",
    "#             if cons_value == 0:\n",
    "#                 print(cons_value)\n",
    "#             evolution_time = np.append(evolution_time, t)\n",
    "\n",
    "            if cons_value > 0:\n",
    "                count_consensus += 1\n",
    "                cons_value_data = np.append(cons_value_data, cons_value)\n",
    "#                 cons_time_data = np.append(cons_time_data, cons_time)\n",
    "        res = np.append(res, np.asarray([[n, eps, round(alphas[i],3), round(beta[i],3), mu, round(sigma[i],3), count_consensus / count_experiments, round(np.mean(cons_value_data),3)]]), 0)\n",
    "            \n",
    "#             if cons_value_c != 0:\n",
    "#                 print(cons_value)\n",
    "#                 t_list = np.linspace(0, t, t + 1)\n",
    "#                 fig = plt.figure(facecolor='white', figsize=(9, 9))\n",
    "#                 plt.plot(t_list, X, linewidth=2)\n",
    "#                 plt.show()\n",
    "#                 t_list = np.linspace(0, t_c, t_c + 1)\n",
    "#                 fig = plt.figure(facecolor='white', figsize=(9, 9))\n",
    "#                 plt.plot(t_list, X_c, linewidth=2)\n",
    "#                 plt.show()\n",
    "#         print(f'Result for eps = {eps}, alpha, beta = {param}')\n",
    "#         print('Average evolution time:', np.mean(evolution_time))\n",
    "#         # print('Average evolution time in classic:', np.mean(evolution_time_c))\n",
    "\n",
    "#         print('Average consensus time:', np.mean(cons_time_data))\n",
    "#         # print('Average consensus time in classic:', np.mean(cons_time_data_c))\n",
    "\n",
    "#         print('Average consensus value in consensus time:', np.mean(cons_value_data))\n",
    "#         # print('Average consensus value in consensus time in classic:', np.mean(cons_value_data_c))\n",
    "\n",
    "#         print('Percentage of consensus:', count_consensus / count_experiments)\n",
    "        # print('Percentage of consensus in classic:', count_consensus_c / count_experiments)\n",
    "\n",
    "\n",
    "np.savetxt(f'Beta_mu_{mu}_sigma_dif.csv', res, fmt='%s', delimiter=',')\n",
    "# np.save(f'Beta_results/Eps_{round(eps,2)}_param_{round(param,2)}_data', [eps, param, count_consensus / count_experiments])\n",
    "# print('\\n')"
   ]
  },
  {
   "cell_type": "code",
   "execution_count": 206,
   "id": "5fe5fda0",
   "metadata": {},
   "outputs": [
    {
     "name": "stderr",
     "output_type": "stream",
     "text": [
      "100%|██████████| 10/10 [00:21<00:00,  2.18s/it]\n",
      "100%|██████████| 10/10 [00:17<00:00,  1.80s/it]\n",
      "100%|██████████| 10/10 [00:19<00:00,  1.97s/it]\n",
      "100%|██████████| 10/10 [00:13<00:00,  1.40s/it]\n",
      "100%|██████████| 10/10 [00:12<00:00,  1.28s/it]\n",
      "100%|██████████| 10/10 [00:12<00:00,  1.25s/it]\n",
      "100%|██████████| 10/10 [00:11<00:00,  1.13s/it]\n",
      "100%|██████████| 10/10 [00:10<00:00,  1.05s/it]\n",
      "100%|██████████| 10/10 [00:11<00:00,  1.10s/it]\n",
      "100%|██████████| 10/10 [00:10<00:00,  1.00s/it]\n",
      "100%|██████████| 10/10 [00:09<00:00,  1.03it/s]\n",
      "100%|██████████| 10/10 [00:09<00:00,  1.07it/s]\n",
      "100%|██████████| 10/10 [00:08<00:00,  1.13it/s]\n",
      "100%|██████████| 10/10 [00:08<00:00,  1.17it/s]\n",
      "100%|██████████| 10/10 [00:08<00:00,  1.23it/s]\n",
      "100%|██████████| 10/10 [00:07<00:00,  1.29it/s]\n",
      "100%|██████████| 10/10 [00:07<00:00,  1.35it/s]\n",
      "100%|██████████| 10/10 [00:06<00:00,  1.48it/s]\n"
     ]
    }
   ],
   "source": [
    "mu = 0.6\n",
    "alphas = [i for i in np.arange(0.5, 5.1, 0.5)]\n",
    "betas = [alphas[i]*(1-mu)/mu for i in range(len(alphas)) ]\n",
    "sigma = [(alphas[i]*betas[i])/((alphas[i]+betas[i])*(alphas[i]+betas[i])*(alphas[i]+betas[i]+1)) for i in range(len(alphas))]\n",
    "\n",
    "n = 50\n",
    "count_experiments = 200\n",
    "res = np.asarray([['n', 'eps', 'alpha', 'beta', 'mu', 'sigma' ,'percentage_cons', 'average_cons']])\n",
    "for eps in np.arange(0.15, 1.01, 0.05):\n",
    "    for i in trange(len(alphas)):\n",
    "        cons_value_data = np.asarray([])\n",
    "#         cons_time_data = np.asarray([])\n",
    "#         evolution_time = np.asarray([])\n",
    "        count_consensus = 0\n",
    "\n",
    "        for _ in range(count_experiments):\n",
    "            x0 = np.random.beta(alphas[i], betas[i], n)\n",
    "            x0.sort()\n",
    "\n",
    "            X, _, cons_value, _ = Hen_Kr_classic_statistics(x0, eps, eps2)\n",
    "#             if cons_value == 0:\n",
    "#                 print(cons_value)\n",
    "#             evolution_time = np.append(evolution_time, t)\n",
    "\n",
    "            if cons_value > 0:\n",
    "                count_consensus += 1\n",
    "                cons_value_data = np.append(cons_value_data, cons_value)\n",
    "#                 cons_time_data = np.append(cons_time_data, cons_time)\n",
    "        res = np.append(res, np.asarray([[n, eps, round(alphas[i],3), round(beta[i],3), mu, round(sigma[i],3), count_consensus / count_experiments, round(np.mean(cons_value_data),3)]]), 0)\n",
    "            \n",
    "#             if cons_value_c != 0:\n",
    "#                 print(cons_value)\n",
    "#                 t_list = np.linspace(0, t, t + 1)\n",
    "#                 fig = plt.figure(facecolor='white', figsize=(9, 9))\n",
    "#                 plt.plot(t_list, X, linewidth=2)\n",
    "#                 plt.show()\n",
    "#                 t_list = np.linspace(0, t_c, t_c + 1)\n",
    "#                 fig = plt.figure(facecolor='white', figsize=(9, 9))\n",
    "#                 plt.plot(t_list, X_c, linewidth=2)\n",
    "#                 plt.show()\n",
    "#         print(f'Result for eps = {eps}, alpha, beta = {param}')\n",
    "#         print('Average evolution time:', np.mean(evolution_time))\n",
    "#         # print('Average evolution time in classic:', np.mean(evolution_time_c))\n",
    "\n",
    "#         print('Average consensus time:', np.mean(cons_time_data))\n",
    "#         # print('Average consensus time in classic:', np.mean(cons_time_data_c))\n",
    "\n",
    "#         print('Average consensus value in consensus time:', np.mean(cons_value_data))\n",
    "#         # print('Average consensus value in consensus time in classic:', np.mean(cons_value_data_c))\n",
    "\n",
    "#         print('Percentage of consensus:', count_consensus / count_experiments)\n",
    "        # print('Percentage of consensus in classic:', count_consensus_c / count_experiments)\n",
    "\n",
    "\n",
    "np.savetxt(f'Beta_mu_{mu}_sigma_dif.csv', res, fmt='%s', delimiter=',')\n",
    "# np.save(f'Beta_results/Eps_{round(eps,2)}_param_{round(param,2)}_data', [eps, param, count_consensus / count_experiments])\n",
    "# print('\\n')"
   ]
  },
  {
   "cell_type": "code",
   "execution_count": 221,
   "id": "c86ae0df",
   "metadata": {},
   "outputs": [
    {
     "name": "stdout",
     "output_type": "stream",
     "text": [
      "[['50.0' '0.15' '0.046' '0.167' '0.4' '0.062' '0.0' 'nan']\n",
      " ['50.0' '0.2' '0.046' '0.167' '0.4' '0.062' '0.0' 'nan']\n",
      " ['50.0' '0.25' '0.046' '0.167' '0.4' '0.062' '0.0' 'nan']\n",
      " ['50.0' '0.30000000000000004' '0.046' '0.167' '0.4' '0.062' '0.0' 'nan']\n",
      " ['50.0' '0.3500000000000001' '0.046' '0.167' '0.4' '0.062' '0.0' 'nan']\n",
      " ['50.0' '0.40000000000000013' '0.046' '0.167' '0.4' '0.062' '0.0' 'nan']\n",
      " ['50.0' '0.45000000000000007' '0.046' '0.167' '0.4' '0.062' '0.0' 'nan']\n",
      " ['50.0' '0.5000000000000001' '0.046' '0.167' '0.4' '0.062' '0.01'\n",
      "  '0.144']\n",
      " ['50.0' '0.5500000000000002' '0.046' '0.167' '0.4' '0.062'\n",
      "  '0.056666666666666664' '0.24']\n",
      " ['50.0' '0.6000000000000002' '0.046' '0.167' '0.4' '0.062'\n",
      "  '0.29333333333333333' '0.249']\n",
      " ['50.0' '0.6500000000000002' '0.046' '0.167' '0.4' '0.062'\n",
      "  '0.6733333333333333' '0.23']\n",
      " ['50.0' '0.7000000000000002' '0.046' '0.167' '0.4' '0.062'\n",
      "  '0.8933333333333333' '0.222']\n",
      " ['50.0' '0.7500000000000002' '0.046' '0.167' '0.4' '0.062'\n",
      "  '0.9766666666666667' '0.224']\n",
      " ['50.0' '0.8000000000000003' '0.046' '0.167' '0.4' '0.062'\n",
      "  '0.9933333333333333' '0.229']\n",
      " ['50.0' '0.8500000000000002' '0.046' '0.167' '0.4' '0.062' '1.0' '0.228']\n",
      " ['50.0' '0.9000000000000002' '0.046' '0.167' '0.4' '0.062' '1.0' '0.234']\n",
      " ['50.0' '0.9500000000000003' '0.046' '0.167' '0.4' '0.062' '1.0' '0.235']\n",
      " ['50.0' '1.0000000000000002' '0.046' '0.167' '0.4' '0.062' '1.0' '0.256']]\n"
     ]
    }
   ],
   "source": [
    "mu = 0.4\n",
    "sigma = [0.062]\n",
    "alphas = [(-sigma[0] * mu)/(mu+sigma[0]-1)]\n",
    "betas = [sigma[0]*(alpha[0]+mu)/mu]\n",
    "\n",
    "n = 50\n",
    "count_experiments = 300\n",
    "res = np.asarray([['n', 'eps', 'alpha', 'beta', 'mu', 'sigma' ,'percentage_cons', 'average_cons']])\n",
    "for eps in np.arange(0.15, 1.01, 0.05):\n",
    "    for i in range(len(alphas)):\n",
    "        cons_value_data = np.asarray([])\n",
    "#         cons_time_data = np.asarray([])\n",
    "#         evolution_time = np.asarray([])\n",
    "        count_consensus = 0\n",
    "\n",
    "        for _ in range(count_experiments):\n",
    "            x0 = np.random.beta(alphas[i], betas[i], n)\n",
    "            x0.sort()\n",
    "\n",
    "            X, _, cons_value, _ = Hen_Kr_classic_statistics(x0, eps, eps2)\n",
    "#             if cons_value == 0:\n",
    "#                 print(cons_value)\n",
    "#             evolution_time = np.append(evolution_time, t)\n",
    "\n",
    "            if cons_value > 0:\n",
    "                count_consensus += 1\n",
    "                cons_value_data = np.append(cons_value_data, cons_value)\n",
    "#                 cons_time_data = np.append(cons_time_data, cons_time)\n",
    "        res = np.append(res, np.asarray([[n, eps, round(alphas[i],3), round(beta[i],3), mu, round(sigma[i],3), count_consensus / count_experiments, round(np.mean(cons_value_data),3)]]), 0)\n",
    "            \n",
    "#             if cons_value_c != 0:\n",
    "#                 print(cons_value)\n",
    "#                 t_list = np.linspace(0, t, t + 1)\n",
    "#                 fig = plt.figure(facecolor='white', figsize=(9, 9))\n",
    "#                 plt.plot(t_list, X, linewidth=2)\n",
    "#                 plt.show()\n",
    "#                 t_list = np.linspace(0, t_c, t_c + 1)\n",
    "#                 fig = plt.figure(facecolor='white', figsize=(9, 9))\n",
    "#                 plt.plot(t_list, X_c, linewidth=2)\n",
    "#                 plt.show()\n",
    "#         print(f'Result for eps = {eps}, alpha, beta = {param}')\n",
    "#         print('Average evolution time:', np.mean(evolution_time))\n",
    "#         # print('Average evolution time in classic:', np.mean(evolution_time_c))\n",
    "\n",
    "#         print('Average consensus time:', np.mean(cons_time_data))\n",
    "#         # print('Average consensus time in classic:', np.mean(cons_time_data_c))\n",
    "\n",
    "#         print('Average consensus value in consensus time:', np.mean(cons_value_data))\n",
    "#         # print('Average consensus value in consensus time in classic:', np.mean(cons_value_data_c))\n",
    "\n",
    "#         print('Percentage of consensus:', count_consensus / count_experiments)\n",
    "        # print('Percentage of consensus in classic:', count_consensus_c / count_experiments)\n",
    "res_m_04_s_0062 = res[1:]\n",
    "print(res_m_04_s_0062)\n",
    "# df = pd.read_csv(f'Beta_mu_{mu}_sigma_dif.csv')\n",
    "# df = df.append(res[-1], ignore_index=True)\n",
    "# np.savetxt(f'Beta_mu_{mu}_sigma_dif1.csv', df, fmt='%s', delimiter=',')\n",
    "# np.save(f'Beta_results/Eps_{round(eps,2)}_param_{round(param,2)}_data', [eps, param, count_consensus / count_experiments])\n",
    "# print('\\n')"
   ]
  },
  {
   "cell_type": "code",
   "execution_count": 222,
   "id": "e85a55c9",
   "metadata": {},
   "outputs": [
    {
     "name": "stdout",
     "output_type": "stream",
     "text": [
      "[['50.0' '0.15' '0.11' '0.167' '0.6' '0.062' '0.0' 'nan']\n",
      " ['50.0' '0.2' '0.11' '0.167' '0.6' '0.062' '0.0' 'nan']\n",
      " ['50.0' '0.25' '0.11' '0.167' '0.6' '0.062' '0.0' 'nan']\n",
      " ['50.0' '0.30000000000000004' '0.11' '0.167' '0.6' '0.062' '0.0' 'nan']\n",
      " ['50.0' '0.3500000000000001' '0.11' '0.167' '0.6' '0.062' '0.0' 'nan']\n",
      " ['50.0' '0.40000000000000013' '0.11' '0.167' '0.6' '0.062' '0.0' 'nan']\n",
      " ['50.0' '0.45000000000000007' '0.11' '0.167' '0.6' '0.062'\n",
      "  '0.03333333333333333' '0.477']\n",
      " ['50.0' '0.5000000000000001' '0.11' '0.167' '0.6' '0.062' '0.02' '0.436']\n",
      " ['50.0' '0.5500000000000002' '0.11' '0.167' '0.6' '0.062' '0.56' '0.494']\n",
      " ['50.0' '0.6000000000000002' '0.11' '0.167' '0.6' '0.062' '0.91' '0.491']\n",
      " ['50.0' '0.6500000000000002' '0.11' '0.167' '0.6' '0.062'\n",
      "  '0.9733333333333334' '0.491']\n",
      " ['50.0' '0.7000000000000002' '0.11' '0.167' '0.6' '0.062'\n",
      "  '0.9966666666666667' '0.484']\n",
      " ['50.0' '0.7500000000000002' '0.11' '0.167' '0.6' '0.062' '1.0' '0.49']\n",
      " ['50.0' '0.8000000000000003' '0.11' '0.167' '0.6' '0.062' '1.0' '0.494']\n",
      " ['50.0' '0.8500000000000002' '0.11' '0.167' '0.6' '0.062' '1.0' '0.494']\n",
      " ['50.0' '0.9000000000000002' '0.11' '0.167' '0.6' '0.062' '1.0' '0.495']\n",
      " ['50.0' '0.9500000000000003' '0.11' '0.167' '0.6' '0.062' '1.0' '0.501']\n",
      " ['50.0' '1.0000000000000002' '0.11' '0.167' '0.6' '0.062' '1.0' '0.493']]\n"
     ]
    }
   ],
   "source": [
    "mu = 0.6\n",
    "sigma = [0.062]\n",
    "alphas = [(-sigma[0] * mu)/(mu+sigma[0]-1)]\n",
    "betas = [sigma[0]*(alpha[0]+mu)/mu]\n",
    "\n",
    "n = 50\n",
    "count_experiments = 300\n",
    "res = np.asarray([['n', 'eps', 'alpha', 'beta', 'mu', 'sigma' ,'percentage_cons', 'average_cons']])\n",
    "for eps in np.arange(0.15, 1.01, 0.05):\n",
    "    for i in range(len(alphas)):\n",
    "        cons_value_data = np.asarray([])\n",
    "#         cons_time_data = np.asarray([])\n",
    "#         evolution_time = np.asarray([])\n",
    "        count_consensus = 0\n",
    "\n",
    "        for _ in range(count_experiments):\n",
    "            x0 = np.random.beta(alphas[i], betas[i], n)\n",
    "            x0.sort()\n",
    "\n",
    "            X, _, cons_value, _ = Hen_Kr_classic_statistics(x0, eps, eps2)\n",
    "#             if cons_value == 0:\n",
    "#                 print(cons_value)\n",
    "#             evolution_time = np.append(evolution_time, t)\n",
    "\n",
    "            if cons_value > 0:\n",
    "                count_consensus += 1\n",
    "                cons_value_data = np.append(cons_value_data, cons_value)\n",
    "#                 cons_time_data = np.append(cons_time_data, cons_time)\n",
    "        res = np.append(res, np.asarray([[n, eps, round(alphas[i],3), round(beta[i],3), mu, round(sigma[i],3), count_consensus / count_experiments, round(np.mean(cons_value_data),3)]]), 0)\n",
    "            \n",
    "#             if cons_value_c != 0:\n",
    "#                 print(cons_value)\n",
    "#                 t_list = np.linspace(0, t, t + 1)\n",
    "#                 fig = plt.figure(facecolor='white', figsize=(9, 9))\n",
    "#                 plt.plot(t_list, X, linewidth=2)\n",
    "#                 plt.show()\n",
    "#                 t_list = np.linspace(0, t_c, t_c + 1)\n",
    "#                 fig = plt.figure(facecolor='white', figsize=(9, 9))\n",
    "#                 plt.plot(t_list, X_c, linewidth=2)\n",
    "#                 plt.show()\n",
    "#         print(f'Result for eps = {eps}, alpha, beta = {param}')\n",
    "#         print('Average evolution time:', np.mean(evolution_time))\n",
    "#         # print('Average evolution time in classic:', np.mean(evolution_time_c))\n",
    "\n",
    "#         print('Average consensus time:', np.mean(cons_time_data))\n",
    "#         # print('Average consensus time in classic:', np.mean(cons_time_data_c))\n",
    "\n",
    "#         print('Average consensus value in consensus time:', np.mean(cons_value_data))\n",
    "#         # print('Average consensus value in consensus time in classic:', np.mean(cons_value_data_c))\n",
    "\n",
    "#         print('Percentage of consensus:', count_consensus / count_experiments)\n",
    "        # print('Percentage of consensus in classic:', count_consensus_c / count_experiments)\n",
    "res_m_06_s_0062 = res[1:]\n",
    "print(res_m_06_s_0062)\n",
    "# df = pd.read_csv(f'Beta_mu_{mu}_sigma_dif.csv')\n",
    "# df = df.append(res[-1], ignore_index=True)\n",
    "# np.savetxt(f'Beta_mu_{mu}_sigma_dif1.csv', df, fmt='%s', delimiter=',')\n",
    "# np.save(f'Beta_results/Eps_{round(eps,2)}_param_{round(param,2)}_data', [eps, param, count_consensus / count_experiments])\n",
    "# print('\\n')"
   ]
  },
  {
   "cell_type": "code",
   "execution_count": 223,
   "id": "a0e78698",
   "metadata": {},
   "outputs": [
    {
     "name": "stdout",
     "output_type": "stream",
     "text": [
      "0.046096654275092935\n",
      "[0.13949999999999999]\n"
     ]
    }
   ],
   "source": [
    "mu = 0.4\n",
    "sigma = [0.062]\n",
    "print((-sigma[0] * mu)/(mu+sigma[0]-1))\n",
    "print([sigma[0]*(alpha[0]+mu)/mu])"
   ]
  },
  {
   "cell_type": "code",
   "execution_count": 224,
   "id": "61122d68",
   "metadata": {},
   "outputs": [
    {
     "name": "stdout",
     "output_type": "stream",
     "text": [
      "[0.04609] [0.06913499999999999] [0.21520321011455087]\n"
     ]
    }
   ],
   "source": [
    "mu = 0.4\n",
    "alphas = [i for i in np.arange(0.04609, 0.14609, 0.5)]\n",
    "betas = [alphas[i]*(1-mu)/mu for i in range(len(alphas)) ]\n",
    "sigma = [(alphas[i]*betas[i])/((alphas[i]+betas[i])*(alphas[i]+betas[i])*(alphas[i]+betas[i]+1)) for i in range(len(alphas))]\n",
    "print(alphas, betas, sigma)"
   ]
  },
  {
   "cell_type": "code",
   "execution_count": 233,
   "id": "64ea21f9",
   "metadata": {},
   "outputs": [],
   "source": [
    "def beta_distrib_ab2Esigma(alpha, beta):\n",
    "    return alpha/(alpha+beta), alpha*beta/((alpha+beta+1)*(alpha+beta)**2)\n",
    "def beta_distrib_Esigma2ab(E, sigma):\n",
    "    alpha = (E**2 - E**3) / sigma - E\n",
    "    beta = (E - E**2) / sigma - 1 - ((E**2 - E**3) / sigma - E)\n",
    "    return alpha, beta"
   ]
  },
  {
   "cell_type": "code",
   "execution_count": 247,
   "id": "3f67e74d",
   "metadata": {},
   "outputs": [
    {
     "data": {
      "text/plain": [
       "(0.53125, 1.59375)"
      ]
     },
     "execution_count": 247,
     "metadata": {},
     "output_type": "execute_result"
    }
   ],
   "source": [
    "beta_distrib_Esigma2ab(0.25, 0.06)"
   ]
  },
  {
   "cell_type": "code",
   "execution_count": 235,
   "id": "704429f6",
   "metadata": {},
   "outputs": [],
   "source": [
    "mus = [0.15, 0.25, 0.35, 0.45, 0.5, 0.55, 0.65, 0.75, 0.85]\n",
    "fix_sig = 0.06"
   ]
  },
  {
   "cell_type": "code",
   "execution_count": 263,
   "id": "a200fa62",
   "metadata": {},
   "outputs": [
    {
     "name": "stderr",
     "output_type": "stream",
     "text": [
      "/Users/amideamon/opt/anaconda3/lib/python3.8/site-packages/numpy/core/fromnumeric.py:3464: RuntimeWarning: Mean of empty slice.\n",
      "  return _methods._mean(a, axis=axis, dtype=dtype,\n",
      "/Users/amideamon/opt/anaconda3/lib/python3.8/site-packages/numpy/core/_methods.py:192: RuntimeWarning: invalid value encountered in scalar divide\n",
      "  ret = ret.dtype.type(ret / rcount)\n"
     ]
    }
   ],
   "source": [
    "mus = [0.15, 0.25, 0.35, 0.45, 0.5, 0.55, 0.65, 0.75, 0.85]\n",
    "fix_sig = 0.06\n",
    "\n",
    "n = 50\n",
    "count_experiments = 500\n",
    "res = np.asarray([['n', 'eps', 'alpha', 'beta', 'mu', 'sigma' ,'percentage_cons', 'average_cons']])\n",
    "for eps in np.arange(0.15, 1.01, 0.05):\n",
    "    for i in range(len(mus)):\n",
    "        alpha, beta = beta_distrib_Esigma2ab(mus[i], fix_sig)\n",
    "        cons_value_data = np.asarray([])\n",
    "#         cons_time_data = np.asarray([])\n",
    "#         evolution_time = np.asarray([])\n",
    "        count_consensus = 0\n",
    "\n",
    "        for _ in range(count_experiments):\n",
    "            x0 = np.random.beta(alpha, beta, n)\n",
    "            x0.sort()\n",
    "\n",
    "            X, _, cons_value, _ = Hen_Kr_classic_statistics(x0, eps, eps2)\n",
    "#             if cons_value == 0:\n",
    "#                 print(cons_value)\n",
    "#             evolution_time = np.append(evolution_time, t)\n",
    "\n",
    "            if cons_value > 0:\n",
    "                count_consensus += 1\n",
    "                cons_value_data = np.append(cons_value_data, cons_value)\n",
    "#                 cons_time_data = np.append(cons_time_data, cons_time)\n",
    "        res = np.append(res, np.asarray([[n, eps, round(alpha,2), round(beta,2), mus[i], round(fix_sig,2), count_consensus / count_experiments, round(np.mean(cons_value_data),3)]]), 0)\n",
    "            \n",
    "#             if cons_value_c != 0:\n",
    "#                 print(cons_value)\n",
    "#                 t_list = np.linspace(0, t, t + 1)\n",
    "#                 fig = plt.figure(facecolor='white', figsize=(9, 9))\n",
    "#                 plt.plot(t_list, X, linewidth=2)\n",
    "#                 plt.show()\n",
    "#                 t_list = np.linspace(0, t_c, t_c + 1)\n",
    "#                 fig = plt.figure(facecolor='white', figsize=(9, 9))\n",
    "#                 plt.plot(t_list, X_c, linewidth=2)\n",
    "#                 plt.show()\n",
    "#         print(f'Result for eps = {eps}, alpha, beta = {param}')\n",
    "#         print('Average evolution time:', np.mean(evolution_time))\n",
    "#         # print('Average evolution time in classic:', np.mean(evolution_time_c))\n",
    "\n",
    "#         print('Average consensus time:', np.mean(cons_time_data))\n",
    "#         # print('Average consensus time in classic:', np.mean(cons_time_data_c))\n",
    "\n",
    "#         print('Average consensus value in consensus time:', np.mean(cons_value_data))\n",
    "#         # print('Average consensus value in consensus time in classic:', np.mean(cons_value_data_c))\n",
    "\n",
    "#         print('Percentage of consensus:', count_consensus / count_experiments)\n",
    "        # print('Percentage of consensus in classic:', count_consensus_c / count_experiments)\n",
    "# df = pd.read_csv(f'Beta_mu_{mu}_sigma_dif.csv')\n",
    "# df = df.append(res[-1], ignore_index=True)\n",
    "np.savetxt(f'Beta_mu_dif_sigma_{fix_sig}.csv', res, fmt='%s', delimiter=',')\n",
    "# np.save(f'Beta_results/Eps_{round(eps,2)}_param_{round(param,2)}_data', [eps, param, count_consensus / count_experiments])\n",
    "# print('\\n')"
   ]
  },
  {
   "cell_type": "code",
   "execution_count": 261,
   "id": "cdf6c05c",
   "metadata": {},
   "outputs": [
    {
     "data": {
      "text/html": [
       "<div>\n",
       "<style scoped>\n",
       "    .dataframe tbody tr th:only-of-type {\n",
       "        vertical-align: middle;\n",
       "    }\n",
       "\n",
       "    .dataframe tbody tr th {\n",
       "        vertical-align: top;\n",
       "    }\n",
       "\n",
       "    .dataframe thead th {\n",
       "        text-align: right;\n",
       "    }\n",
       "</style>\n",
       "<table border=\"1\" class=\"dataframe\">\n",
       "  <thead>\n",
       "    <tr style=\"text-align: right;\">\n",
       "      <th></th>\n",
       "      <th>n</th>\n",
       "      <th>eps</th>\n",
       "      <th>alpha</th>\n",
       "      <th>beta</th>\n",
       "      <th>mu</th>\n",
       "      <th>sigma</th>\n",
       "      <th>percentage_cons</th>\n",
       "      <th>average_cons</th>\n",
       "    </tr>\n",
       "  </thead>\n",
       "  <tbody>\n",
       "    <tr>\n",
       "      <th>4</th>\n",
       "      <td>50.0</td>\n",
       "      <td>0.15</td>\n",
       "      <td>1.58</td>\n",
       "      <td>1.58</td>\n",
       "      <td>0.5</td>\n",
       "      <td>0.06</td>\n",
       "      <td>0.020000</td>\n",
       "      <td>0.492</td>\n",
       "    </tr>\n",
       "    <tr>\n",
       "      <th>13</th>\n",
       "      <td>50.0</td>\n",
       "      <td>0.20</td>\n",
       "      <td>1.58</td>\n",
       "      <td>1.58</td>\n",
       "      <td>0.5</td>\n",
       "      <td>0.06</td>\n",
       "      <td>0.486667</td>\n",
       "      <td>0.496</td>\n",
       "    </tr>\n",
       "    <tr>\n",
       "      <th>22</th>\n",
       "      <td>50.0</td>\n",
       "      <td>0.25</td>\n",
       "      <td>1.58</td>\n",
       "      <td>1.58</td>\n",
       "      <td>0.5</td>\n",
       "      <td>0.06</td>\n",
       "      <td>0.923333</td>\n",
       "      <td>0.504</td>\n",
       "    </tr>\n",
       "    <tr>\n",
       "      <th>31</th>\n",
       "      <td>50.0</td>\n",
       "      <td>0.30</td>\n",
       "      <td>1.58</td>\n",
       "      <td>1.58</td>\n",
       "      <td>0.5</td>\n",
       "      <td>0.06</td>\n",
       "      <td>1.000000</td>\n",
       "      <td>0.502</td>\n",
       "    </tr>\n",
       "    <tr>\n",
       "      <th>40</th>\n",
       "      <td>50.0</td>\n",
       "      <td>0.35</td>\n",
       "      <td>1.58</td>\n",
       "      <td>1.58</td>\n",
       "      <td>0.5</td>\n",
       "      <td>0.06</td>\n",
       "      <td>1.000000</td>\n",
       "      <td>0.502</td>\n",
       "    </tr>\n",
       "    <tr>\n",
       "      <th>49</th>\n",
       "      <td>50.0</td>\n",
       "      <td>0.40</td>\n",
       "      <td>1.58</td>\n",
       "      <td>1.58</td>\n",
       "      <td>0.5</td>\n",
       "      <td>0.06</td>\n",
       "      <td>1.000000</td>\n",
       "      <td>0.501</td>\n",
       "    </tr>\n",
       "    <tr>\n",
       "      <th>58</th>\n",
       "      <td>50.0</td>\n",
       "      <td>0.45</td>\n",
       "      <td>1.58</td>\n",
       "      <td>1.58</td>\n",
       "      <td>0.5</td>\n",
       "      <td>0.06</td>\n",
       "      <td>1.000000</td>\n",
       "      <td>0.501</td>\n",
       "    </tr>\n",
       "    <tr>\n",
       "      <th>67</th>\n",
       "      <td>50.0</td>\n",
       "      <td>0.50</td>\n",
       "      <td>1.58</td>\n",
       "      <td>1.58</td>\n",
       "      <td>0.5</td>\n",
       "      <td>0.06</td>\n",
       "      <td>1.000000</td>\n",
       "      <td>0.500</td>\n",
       "    </tr>\n",
       "    <tr>\n",
       "      <th>76</th>\n",
       "      <td>50.0</td>\n",
       "      <td>0.55</td>\n",
       "      <td>1.58</td>\n",
       "      <td>1.58</td>\n",
       "      <td>0.5</td>\n",
       "      <td>0.06</td>\n",
       "      <td>1.000000</td>\n",
       "      <td>0.503</td>\n",
       "    </tr>\n",
       "    <tr>\n",
       "      <th>85</th>\n",
       "      <td>50.0</td>\n",
       "      <td>0.60</td>\n",
       "      <td>1.58</td>\n",
       "      <td>1.58</td>\n",
       "      <td>0.5</td>\n",
       "      <td>0.06</td>\n",
       "      <td>1.000000</td>\n",
       "      <td>0.501</td>\n",
       "    </tr>\n",
       "    <tr>\n",
       "      <th>94</th>\n",
       "      <td>50.0</td>\n",
       "      <td>0.65</td>\n",
       "      <td>1.58</td>\n",
       "      <td>1.58</td>\n",
       "      <td>0.5</td>\n",
       "      <td>0.06</td>\n",
       "      <td>1.000000</td>\n",
       "      <td>0.503</td>\n",
       "    </tr>\n",
       "    <tr>\n",
       "      <th>103</th>\n",
       "      <td>50.0</td>\n",
       "      <td>0.70</td>\n",
       "      <td>1.58</td>\n",
       "      <td>1.58</td>\n",
       "      <td>0.5</td>\n",
       "      <td>0.06</td>\n",
       "      <td>1.000000</td>\n",
       "      <td>0.502</td>\n",
       "    </tr>\n",
       "    <tr>\n",
       "      <th>112</th>\n",
       "      <td>50.0</td>\n",
       "      <td>0.75</td>\n",
       "      <td>1.58</td>\n",
       "      <td>1.58</td>\n",
       "      <td>0.5</td>\n",
       "      <td>0.06</td>\n",
       "      <td>1.000000</td>\n",
       "      <td>0.500</td>\n",
       "    </tr>\n",
       "    <tr>\n",
       "      <th>121</th>\n",
       "      <td>50.0</td>\n",
       "      <td>0.80</td>\n",
       "      <td>1.58</td>\n",
       "      <td>1.58</td>\n",
       "      <td>0.5</td>\n",
       "      <td>0.06</td>\n",
       "      <td>1.000000</td>\n",
       "      <td>0.499</td>\n",
       "    </tr>\n",
       "    <tr>\n",
       "      <th>130</th>\n",
       "      <td>50.0</td>\n",
       "      <td>0.85</td>\n",
       "      <td>1.58</td>\n",
       "      <td>1.58</td>\n",
       "      <td>0.5</td>\n",
       "      <td>0.06</td>\n",
       "      <td>1.000000</td>\n",
       "      <td>0.498</td>\n",
       "    </tr>\n",
       "    <tr>\n",
       "      <th>139</th>\n",
       "      <td>50.0</td>\n",
       "      <td>0.90</td>\n",
       "      <td>1.58</td>\n",
       "      <td>1.58</td>\n",
       "      <td>0.5</td>\n",
       "      <td>0.06</td>\n",
       "      <td>1.000000</td>\n",
       "      <td>0.500</td>\n",
       "    </tr>\n",
       "    <tr>\n",
       "      <th>148</th>\n",
       "      <td>50.0</td>\n",
       "      <td>0.95</td>\n",
       "      <td>1.58</td>\n",
       "      <td>1.58</td>\n",
       "      <td>0.5</td>\n",
       "      <td>0.06</td>\n",
       "      <td>1.000000</td>\n",
       "      <td>0.501</td>\n",
       "    </tr>\n",
       "    <tr>\n",
       "      <th>157</th>\n",
       "      <td>50.0</td>\n",
       "      <td>1.00</td>\n",
       "      <td>1.58</td>\n",
       "      <td>1.58</td>\n",
       "      <td>0.5</td>\n",
       "      <td>0.06</td>\n",
       "      <td>1.000000</td>\n",
       "      <td>0.500</td>\n",
       "    </tr>\n",
       "  </tbody>\n",
       "</table>\n",
       "</div>"
      ],
      "text/plain": [
       "        n   eps  alpha  beta   mu  sigma  percentage_cons  average_cons\n",
       "4    50.0  0.15   1.58  1.58  0.5   0.06         0.020000         0.492\n",
       "13   50.0  0.20   1.58  1.58  0.5   0.06         0.486667         0.496\n",
       "22   50.0  0.25   1.58  1.58  0.5   0.06         0.923333         0.504\n",
       "31   50.0  0.30   1.58  1.58  0.5   0.06         1.000000         0.502\n",
       "40   50.0  0.35   1.58  1.58  0.5   0.06         1.000000         0.502\n",
       "49   50.0  0.40   1.58  1.58  0.5   0.06         1.000000         0.501\n",
       "58   50.0  0.45   1.58  1.58  0.5   0.06         1.000000         0.501\n",
       "67   50.0  0.50   1.58  1.58  0.5   0.06         1.000000         0.500\n",
       "76   50.0  0.55   1.58  1.58  0.5   0.06         1.000000         0.503\n",
       "85   50.0  0.60   1.58  1.58  0.5   0.06         1.000000         0.501\n",
       "94   50.0  0.65   1.58  1.58  0.5   0.06         1.000000         0.503\n",
       "103  50.0  0.70   1.58  1.58  0.5   0.06         1.000000         0.502\n",
       "112  50.0  0.75   1.58  1.58  0.5   0.06         1.000000         0.500\n",
       "121  50.0  0.80   1.58  1.58  0.5   0.06         1.000000         0.499\n",
       "130  50.0  0.85   1.58  1.58  0.5   0.06         1.000000         0.498\n",
       "139  50.0  0.90   1.58  1.58  0.5   0.06         1.000000         0.500\n",
       "148  50.0  0.95   1.58  1.58  0.5   0.06         1.000000         0.501\n",
       "157  50.0  1.00   1.58  1.58  0.5   0.06         1.000000         0.500"
      ]
     },
     "execution_count": 261,
     "metadata": {},
     "output_type": "execute_result"
    }
   ],
   "source": [
    "df_sig_006.loc[df_sig_006['mu']==0.5]"
   ]
  },
  {
   "cell_type": "code",
   "execution_count": 19,
   "id": "6a3e97c7",
   "metadata": {},
   "outputs": [
    {
     "data": {
      "image/png": "[encoded data removed]",
      "text/plain": [
       "<Figure size 720x576 with 1 Axes>"
      ]
     },
     "metadata": {
      "needs_background": "light"
     },
     "output_type": "display_data"
    }
   ],
   "source": [
    "df_sig_006 = pd.read_csv(f'Beta_mu_dif_sigma_0.06.csv')\n",
    "df_sig_006 = df_sig_006.fillna(0)\n",
    "\n",
    "epss = np.arange(0.15, 1.01, 0.05)\n",
    "mus = [0.15, 0.25, 0.35, 0.45, 0.5, 0.55, 0.65, 0.75, 0.85]\n",
    "\n",
    "cmap = mp.cm.get_cmap('viridis')\n",
    "norm =plt.Normalize(vmin=0, vmax=len(mus))\n",
    "sm = plt.cm.ScalarMappable(cmap=cmap, norm=norm)\n",
    "\n",
    "\n",
    "plt.figure(figsize=(10,8))\n",
    "for i in range(len(mus)):\n",
    "#     if cmap:   \n",
    "    color=np.array(cmap(norm(i)))*0.9\n",
    "    \n",
    "    buf = df_sig_006.loc[df_sig_006['mu']==mus[i]]\n",
    "    if abs(mus[i] - 0.5) >= 1e-4:\n",
    "        plt.plot(epss, list(buf['percentage_cons']),\n",
    "                label = f\"a:{list(buf['alpha'])[0]:.2f}|b:{list(buf['beta'])[0]}|$\\mu$:{mus[i]:.2f}|$\\sigma^2$:{list(buf['sigma'])[0]:.2f}\",\n",
    "                color=color)\n",
    "    else:\n",
    "        plt.plot(epss, list(buf['percentage_cons']), '--',\n",
    "                label = f\"a:{list(buf['alpha'])[0]:.2f}|b:{list(buf['beta'])[0]}|$\\mu$:{mus[i]:.2f}|$\\sigma^2$:{list(buf['sigma'])[0]:.2f}\",\n",
    "                color='m')\n",
    "        \n",
    "\n",
    "# HK_sample = np.asarray([0.1, 8.4, 54.1, 87.2, 97.6, 99.2, 100, 100, 100, 100, 100, 100, 100, 100, 100, 100, 100, 100])/100 \n",
    "# plt.plot(epss, HK_sample, '--', c='r', linewidth=2, label='uniform')\n",
    "\n",
    "plt.title(f'HK Percentage of consensus N:50\\n a, b - parameters beta distribution')\n",
    "plt.grid()\n",
    "plt.legend()\n",
    "plt.xlabel('Eps')\n",
    "plt.ylabel('Percentage')\n",
    "plt.savefig('Fix_sigma_mu_dif.png')\n",
    "plt.show()"
   ]
  }
 ],
 "metadata": {
  "kernelspec": {
   "display_name": "Python 3",
   "language": "python",
   "name": "python3"
  },
  "language_info": {
   "codemirror_mode": {
    "name": "ipython",
    "version": 3
   },
   "file_extension": ".py",
   "mimetype": "text/x-python",
   "name": "python",
   "nbconvert_exporter": "python",
   "pygments_lexer": "ipython3",
   "version": "3.8.8"
  }
 },
 "nbformat": 4,
 "nbformat_minor": 5
}
